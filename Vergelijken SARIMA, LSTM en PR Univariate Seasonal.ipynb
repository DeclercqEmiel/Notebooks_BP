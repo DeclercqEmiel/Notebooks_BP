{
 "cells": [
  {
   "cell_type": "code",
   "execution_count": 2,
   "metadata": {},
   "outputs": [],
   "source": [
    "# Voorspellen voor 1 jaar\n",
    "# Of voorspellen op 3 jaar apart omdat voorspellen van 1 jaar misschien de algemene trend minder volgt\n",
    "# SARIMA proberen anders gwn ARIMA"
   ]
  },
  {
   "cell_type": "code",
   "execution_count": 3,
   "metadata": {},
   "outputs": [],
   "source": [
    "import pandas as pd\n",
    "import numpy as np\n",
    "# matplotlib is the Python library for drawing diagrams\n",
    "import matplotlib.pylab as plt\n",
    "%matplotlib inline\n",
    "# set the size of the diagrams\n",
    "from matplotlib.pylab import rcParams\n",
    "rcParams['figure.figsize'] = 15,5\n",
    "import timeit\n",
    "import warnings\n",
    "from sklearn.model_selection import TimeSeriesSplit"
   ]
  },
  {
   "cell_type": "markdown",
   "metadata": {},
   "source": [
    "## Dataprep"
   ]
  },
  {
   "cell_type": "code",
   "execution_count": 4,
   "metadata": {},
   "outputs": [],
   "source": [
    "ts = pd.read_csv('./data/dataframe_monthly.csv', index_col=0, usecols=[0,1,3]).reset_index()"
   ]
  },
  {
   "cell_type": "code",
   "execution_count": 5,
   "metadata": {},
   "outputs": [
    {
     "data": {
      "text/html": [
       "<div>\n",
       "<style scoped>\n",
       "    .dataframe tbody tr th:only-of-type {\n",
       "        vertical-align: middle;\n",
       "    }\n",
       "\n",
       "    .dataframe tbody tr th {\n",
       "        vertical-align: top;\n",
       "    }\n",
       "\n",
       "    .dataframe thead th {\n",
       "        text-align: right;\n",
       "    }\n",
       "</style>\n",
       "<table border=\"1\" class=\"dataframe\">\n",
       "  <thead>\n",
       "    <tr style=\"text-align: right;\">\n",
       "      <th></th>\n",
       "      <th>Year</th>\n",
       "      <th>Month</th>\n",
       "      <th>ice_extent</th>\n",
       "    </tr>\n",
       "  </thead>\n",
       "  <tbody>\n",
       "    <tr>\n",
       "      <th>0</th>\n",
       "      <td>1979</td>\n",
       "      <td>1</td>\n",
       "      <td>15.414000</td>\n",
       "    </tr>\n",
       "    <tr>\n",
       "      <th>1</th>\n",
       "      <td>1979</td>\n",
       "      <td>2</td>\n",
       "      <td>16.175286</td>\n",
       "    </tr>\n",
       "    <tr>\n",
       "      <th>2</th>\n",
       "      <td>1979</td>\n",
       "      <td>3</td>\n",
       "      <td>16.341938</td>\n",
       "    </tr>\n",
       "    <tr>\n",
       "      <th>3</th>\n",
       "      <td>1979</td>\n",
       "      <td>4</td>\n",
       "      <td>15.446800</td>\n",
       "    </tr>\n",
       "    <tr>\n",
       "      <th>4</th>\n",
       "      <td>1979</td>\n",
       "      <td>5</td>\n",
       "      <td>13.856867</td>\n",
       "    </tr>\n",
       "    <tr>\n",
       "      <th>...</th>\n",
       "      <td>...</td>\n",
       "      <td>...</td>\n",
       "      <td>...</td>\n",
       "    </tr>\n",
       "    <tr>\n",
       "      <th>475</th>\n",
       "      <td>2018</td>\n",
       "      <td>8</td>\n",
       "      <td>5.614806</td>\n",
       "    </tr>\n",
       "    <tr>\n",
       "      <th>476</th>\n",
       "      <td>2018</td>\n",
       "      <td>9</td>\n",
       "      <td>4.785233</td>\n",
       "    </tr>\n",
       "    <tr>\n",
       "      <th>477</th>\n",
       "      <td>2018</td>\n",
       "      <td>10</td>\n",
       "      <td>6.134097</td>\n",
       "    </tr>\n",
       "    <tr>\n",
       "      <th>478</th>\n",
       "      <td>2018</td>\n",
       "      <td>11</td>\n",
       "      <td>9.823133</td>\n",
       "    </tr>\n",
       "    <tr>\n",
       "      <th>479</th>\n",
       "      <td>2018</td>\n",
       "      <td>12</td>\n",
       "      <td>11.861484</td>\n",
       "    </tr>\n",
       "  </tbody>\n",
       "</table>\n",
       "<p>480 rows × 3 columns</p>\n",
       "</div>"
      ],
      "text/plain": [
       "     Year  Month  ice_extent\n",
       "0    1979      1   15.414000\n",
       "1    1979      2   16.175286\n",
       "2    1979      3   16.341938\n",
       "3    1979      4   15.446800\n",
       "4    1979      5   13.856867\n",
       "..    ...    ...         ...\n",
       "475  2018      8    5.614806\n",
       "476  2018      9    4.785233\n",
       "477  2018     10    6.134097\n",
       "478  2018     11    9.823133\n",
       "479  2018     12   11.861484\n",
       "\n",
       "[480 rows x 3 columns]"
      ]
     },
     "execution_count": 5,
     "metadata": {},
     "output_type": "execute_result"
    }
   ],
   "source": [
    "ts"
   ]
  },
  {
   "cell_type": "code",
   "execution_count": 6,
   "metadata": {},
   "outputs": [],
   "source": [
    "ts['date'] = pd.to_datetime(ts['Month'].astype(str) + ts['Year'].astype(str), format='%m%Y', errors='ignore')"
   ]
  },
  {
   "cell_type": "code",
   "execution_count": 7,
   "metadata": {},
   "outputs": [
    {
     "data": {
      "text/html": [
       "<div>\n",
       "<style scoped>\n",
       "    .dataframe tbody tr th:only-of-type {\n",
       "        vertical-align: middle;\n",
       "    }\n",
       "\n",
       "    .dataframe tbody tr th {\n",
       "        vertical-align: top;\n",
       "    }\n",
       "\n",
       "    .dataframe thead th {\n",
       "        text-align: right;\n",
       "    }\n",
       "</style>\n",
       "<table border=\"1\" class=\"dataframe\">\n",
       "  <thead>\n",
       "    <tr style=\"text-align: right;\">\n",
       "      <th></th>\n",
       "      <th>Year</th>\n",
       "      <th>Month</th>\n",
       "      <th>ice_extent</th>\n",
       "      <th>date</th>\n",
       "    </tr>\n",
       "  </thead>\n",
       "  <tbody>\n",
       "    <tr>\n",
       "      <th>0</th>\n",
       "      <td>1979</td>\n",
       "      <td>1</td>\n",
       "      <td>15.414000</td>\n",
       "      <td>1979-01-01</td>\n",
       "    </tr>\n",
       "    <tr>\n",
       "      <th>1</th>\n",
       "      <td>1979</td>\n",
       "      <td>2</td>\n",
       "      <td>16.175286</td>\n",
       "      <td>1979-02-01</td>\n",
       "    </tr>\n",
       "    <tr>\n",
       "      <th>2</th>\n",
       "      <td>1979</td>\n",
       "      <td>3</td>\n",
       "      <td>16.341938</td>\n",
       "      <td>1979-03-01</td>\n",
       "    </tr>\n",
       "    <tr>\n",
       "      <th>3</th>\n",
       "      <td>1979</td>\n",
       "      <td>4</td>\n",
       "      <td>15.446800</td>\n",
       "      <td>1979-04-01</td>\n",
       "    </tr>\n",
       "    <tr>\n",
       "      <th>4</th>\n",
       "      <td>1979</td>\n",
       "      <td>5</td>\n",
       "      <td>13.856867</td>\n",
       "      <td>1979-05-01</td>\n",
       "    </tr>\n",
       "    <tr>\n",
       "      <th>...</th>\n",
       "      <td>...</td>\n",
       "      <td>...</td>\n",
       "      <td>...</td>\n",
       "      <td>...</td>\n",
       "    </tr>\n",
       "    <tr>\n",
       "      <th>475</th>\n",
       "      <td>2018</td>\n",
       "      <td>8</td>\n",
       "      <td>5.614806</td>\n",
       "      <td>2018-08-01</td>\n",
       "    </tr>\n",
       "    <tr>\n",
       "      <th>476</th>\n",
       "      <td>2018</td>\n",
       "      <td>9</td>\n",
       "      <td>4.785233</td>\n",
       "      <td>2018-09-01</td>\n",
       "    </tr>\n",
       "    <tr>\n",
       "      <th>477</th>\n",
       "      <td>2018</td>\n",
       "      <td>10</td>\n",
       "      <td>6.134097</td>\n",
       "      <td>2018-10-01</td>\n",
       "    </tr>\n",
       "    <tr>\n",
       "      <th>478</th>\n",
       "      <td>2018</td>\n",
       "      <td>11</td>\n",
       "      <td>9.823133</td>\n",
       "      <td>2018-11-01</td>\n",
       "    </tr>\n",
       "    <tr>\n",
       "      <th>479</th>\n",
       "      <td>2018</td>\n",
       "      <td>12</td>\n",
       "      <td>11.861484</td>\n",
       "      <td>2018-12-01</td>\n",
       "    </tr>\n",
       "  </tbody>\n",
       "</table>\n",
       "<p>480 rows × 4 columns</p>\n",
       "</div>"
      ],
      "text/plain": [
       "     Year  Month  ice_extent       date\n",
       "0    1979      1   15.414000 1979-01-01\n",
       "1    1979      2   16.175286 1979-02-01\n",
       "2    1979      3   16.341938 1979-03-01\n",
       "3    1979      4   15.446800 1979-04-01\n",
       "4    1979      5   13.856867 1979-05-01\n",
       "..    ...    ...         ...        ...\n",
       "475  2018      8    5.614806 2018-08-01\n",
       "476  2018      9    4.785233 2018-09-01\n",
       "477  2018     10    6.134097 2018-10-01\n",
       "478  2018     11    9.823133 2018-11-01\n",
       "479  2018     12   11.861484 2018-12-01\n",
       "\n",
       "[480 rows x 4 columns]"
      ]
     },
     "execution_count": 7,
     "metadata": {},
     "output_type": "execute_result"
    }
   ],
   "source": [
    "ts"
   ]
  },
  {
   "cell_type": "code",
   "execution_count": 8,
   "metadata": {},
   "outputs": [],
   "source": [
    "ts = ts[['date','ice_extent']]"
   ]
  },
  {
   "cell_type": "code",
   "execution_count": 9,
   "metadata": {},
   "outputs": [
    {
     "data": {
      "text/plain": [
       "[<matplotlib.lines.Line2D at 0x19487d8a988>]"
      ]
     },
     "execution_count": 9,
     "metadata": {},
     "output_type": "execute_result"
    },
    {
     "data": {
      "image/png": "[encoded data removed]",
      "text/plain": [
       "<Figure size 432x288 with 1 Axes>"
      ]
     },
     "metadata": {
      "needs_background": "light"
     },
     "output_type": "display_data"
    }
   ],
   "source": [
    "plt.plot(ts[['ice_extent']])"
   ]
  },
  {
   "cell_type": "code",
   "execution_count": 10,
   "metadata": {},
   "outputs": [],
   "source": [
    "def test_stationarity(timeseries):\n",
    "    \n",
    "    #Determing rolling statistics\n",
    "    rolmean = timeseries.rolling(36).mean()\n",
    "    rolstd = timeseries.rolling(24).std()\n",
    "\n",
    "    #Plot rolling statistics:\n",
    "    orig = plt.plot(timeseries, color='blue',label='Original')\n",
    "    mean = plt.plot(rolmean, color='red', label='Rolling Mean')\n",
    "    std = plt.plot(rolstd, color='black', label = 'Rolling Std')\n",
    "    plt.legend(loc='best')\n",
    "    plt.title('Rolling Mean & Standard Deviation')\n",
    "    plt.show(block=False)"
   ]
  },
  {
   "cell_type": "markdown",
   "metadata": {},
   "source": [
    "### Differentiatie"
   ]
  },
  {
   "cell_type": "code",
   "execution_count": 11,
   "metadata": {},
   "outputs": [],
   "source": [
    "ts = ts.set_index('date')"
   ]
  },
  {
   "cell_type": "code",
   "execution_count": 12,
   "metadata": {},
   "outputs": [
    {
     "data": {
      "image/png": "[encoded data removed]",
      "text/plain": [
       "<Figure size 432x288 with 1 Axes>"
      ]
     },
     "metadata": {
      "needs_background": "light"
     },
     "output_type": "display_data"
    }
   ],
   "source": [
    "moving_avg = ts.rolling(12).mean()\n",
    "ts_moving_avg_diff = ts - moving_avg\n",
    "ts_moving_avg_diff\n",
    "\n",
    "ts_moving_avg_diff.dropna(inplace=True)\n",
    "\n",
    "test_stationarity(ts_moving_avg_diff)"
   ]
  },
  {
   "cell_type": "markdown",
   "metadata": {},
   "source": [
    "# General functions"
   ]
  },
  {
   "cell_type": "code",
   "execution_count": 13,
   "metadata": {},
   "outputs": [],
   "source": [
    "def full_graph(predicted, title):\n",
    "    predictionsArray = np.asarray(predicted)\n",
    "    zerosArray = np.zeros(ts.values.size-len(predictionsArray.flatten()))\n",
    "    cleanPrediction = pd.Series(np.concatenate((zerosArray,predictionsArray))).replace(0,np.NaN)\n",
    "\n",
    "    # plot\n",
    "    plt.title(title)\n",
    "    plt.plot(ts.values,marker='o', color='blue',label='Actual values')\n",
    "    plt.plot(cleanPrediction,marker='o', color='red',label='Last 24 month prediction')\n",
    "    plt.ylim([0,20])\n",
    "    plt.legend()\n",
    "\n",
    "    plt.show()"
   ]
  },
  {
   "cell_type": "markdown",
   "metadata": {},
   "source": [
    "### Cross validation setup"
   ]
  },
  {
   "cell_type": "code",
   "execution_count": 18,
   "metadata": {},
   "outputs": [
    {
     "name": "stdout",
     "output_type": "stream",
     "text": [
      "TRAIN: 301\n",
      "TEST: 24\n",
      "\n",
      "TRAIN: 325\n",
      "TEST: 24\n",
      "\n",
      "TRAIN: 349\n",
      "TEST: 24\n",
      "\n",
      "TRAIN: 373\n",
      "TEST: 24\n",
      "\n",
      "TRAIN: 397\n",
      "TEST: 24\n",
      "\n",
      "TRAIN: 421\n",
      "TEST: 24\n",
      "\n",
      "TRAIN: 445\n",
      "TEST: 24\n",
      "\n"
     ]
    }
   ],
   "source": [
    "tscv = TimeSeriesSplit(n_splits = 18)\n",
    "dataset = ts_moving_avg_diff\n",
    "\n",
    "for train_index, test_index in tscv.split(dataset):\n",
    "    if train_index.size > 300:\n",
    "\n",
    "        # initialize cross validation train and test sets\n",
    "        cv_train, cv_test = dataset.iloc[train_index], dataset.iloc[test_index]\n",
    "\n",
    "        print(\"TRAIN:\", train_index.size) # visiualize cross_validation structure for reference\n",
    "        print(\"TEST:\", test_index.size)\n",
    "        print()"
   ]
  },
  {
   "cell_type": "code",
   "execution_count": 20,
   "metadata": {},
   "outputs": [],
   "source": [
    "# values for testing without cross validation\n",
    "test_size = 24\n",
    "data = ts_moving_avg_diff[:-24]\n",
    "data_train = data[:-test_size]\n",
    "data_test = data[-test_size:]"
   ]
  },
  {
   "cell_type": "markdown",
   "metadata": {},
   "source": [
    "###### test"
   ]
  },
  {
   "cell_type": "code",
   "execution_count": 21,
   "metadata": {},
   "outputs": [
    {
     "name": "stdout",
     "output_type": "stream",
     "text": [
      "0.2617174856934403\n"
     ]
    },
    {
     "data": {
      "image/png": "[encoded data removed]",
      "text/plain": [
       "<Figure size 432x288 with 1 Axes>"
      ]
     },
     "metadata": {
      "needs_background": "light"
     },
     "output_type": "display_data"
    },
    {
     "name": "stdout",
     "output_type": "stream",
     "text": [
      "Wall time: 5.27 s\n"
     ]
    }
   ],
   "source": [
    "%%time\n",
    "# singular test\n",
    "\n",
    "import itertools\n",
    "import warnings\n",
    "import sys\n",
    "from statsmodels.tsa.statespace.sarimax import SARIMAX\n",
    "from sklearn.metrics import mean_absolute_error\n",
    "\n",
    "\n",
    "\n",
    "warnings.filterwarnings(\"ignore\") # specify to ignore warning messages\n",
    "\n",
    "# define model\n",
    "model = SARIMAX(data_train, order=(2, 0, 1), seasonal_order=(12, 0, 1, 2))\n",
    "# model = ARIMA(data_train, order=(7, 0, 8))\n",
    "\n",
    "# fit model\n",
    "model_fit = model.fit()\n",
    "\n",
    "# one step forecast\n",
    "# yhat = model_fit.forecast(steps=data_test.size)\n",
    "yhat = model_fit.predict(start=len(data_train), end=len(data_train)+test_size-1, dynamic=False)\n",
    "\n",
    "mae = mean_absolute_error(yhat, data_test)\n",
    "\n",
    "# plot\n",
    "print(mae)\n",
    "plt.plot(data_test, color='blue')\n",
    "plt.plot(yhat, color='red')\n",
    "plt.show()"
   ]
  },
  {
   "cell_type": "markdown",
   "metadata": {},
   "source": [
    "### ARIMA"
   ]
  },
  {
   "cell_type": "code",
   "execution_count": 30,
   "metadata": {},
   "outputs": [
    {
     "name": "stdout",
     "output_type": "stream",
     "text": [
      "(0, 0, 0)\n",
      "MAE: 2.983346444765119\n",
      "(0, 0, 1)\n",
      "MAE: 2.9234140845387033\n",
      "(0, 0, 2)\n",
      "The computed initial MA coefficients are not invertible\n",
      "You should induce invertibility, choose a different model order, or you can\n",
      "pass your own start_params.\n",
      "(0, 0, 3)\n",
      "The computed initial MA coefficients are not invertible\n",
      "You should induce invertibility, choose a different model order, or you can\n",
      "pass your own start_params.\n",
      "(0, 1, 0)\n",
      "MAE: 2.9802081900977315\n",
      "(0, 1, 1)\n",
      "MAE: 2.93208474821296\n",
      "(0, 1, 2)\n",
      "The computed initial MA coefficients are not invertible\n",
      "You should induce invertibility, choose a different model order, or you can\n",
      "pass your own start_params.\n",
      "(0, 1, 3)\n",
      "The computed initial MA coefficients are not invertible\n",
      "You should induce invertibility, choose a different model order, or you can\n",
      "pass your own start_params.\n",
      "(0, 2, 0)\n",
      "MAE: 2.98003189002267\n",
      "(0, 2, 1)\n",
      "MAE: 2.9841704524855075\n",
      "(0, 2, 2)\n",
      "MAE: 3.0009219792749957\n",
      "(0, 2, 3)\n",
      "MAE: 2.9955057030404286\n",
      "(1, 0, 0)\n",
      "MAE: 2.843324048495449\n",
      "(1, 0, 1)\n",
      "MAE: 2.7281947894519987\n",
      "(1, 0, 2)\n",
      "MAE: 2.690045538232193\n",
      "(1, 0, 3)\n",
      "MAE: 2.7531682791547376\n",
      "(1, 1, 0)\n",
      "MAE: 2.7692497134239846\n",
      "(1, 1, 1)\n",
      "MAE: 3.0101538384751687\n",
      "(1, 1, 2)\n",
      "The computed initial MA coefficients are not invertible\n",
      "You should induce invertibility, choose a different model order, or you can\n",
      "pass your own start_params.\n",
      "(1, 1, 3)\n",
      "The computed initial MA coefficients are not invertible\n",
      "You should induce invertibility, choose a different model order, or you can\n",
      "pass your own start_params.\n",
      "(1, 2, 0)\n",
      "MAE: 2.9952196300437435\n",
      "(1, 2, 1)\n",
      "The computed initial MA coefficients are not invertible\n",
      "You should induce invertibility, choose a different model order, or you can\n",
      "pass your own start_params.\n",
      "(1, 2, 2)\n",
      "The computed initial MA coefficients are not invertible\n",
      "You should induce invertibility, choose a different model order, or you can\n",
      "pass your own start_params.\n",
      "(1, 2, 3)\n",
      "The computed initial MA coefficients are not invertible\n",
      "You should induce invertibility, choose a different model order, or you can\n",
      "pass your own start_params.\n",
      "(2, 0, 0)\n",
      "MAE: 1.6892692551992605\n",
      "(2, 0, 1)\n",
      "MAE: 0.8550237327612731\n",
      "(2, 0, 2)\n",
      "MAE: 0.8856898882005338\n",
      "(2, 0, 3)\n",
      "SVD did not converge\n",
      "(2, 1, 0)\n",
      "MAE: 3.113630855476781\n",
      "(2, 1, 1)\n",
      "The computed initial MA coefficients are not invertible\n",
      "You should induce invertibility, choose a different model order, or you can\n",
      "pass your own start_params.\n",
      "(2, 1, 2)\n",
      "MAE: 3.2348292590818484\n",
      "(2, 1, 3)\n",
      "MAE: 3.1801581878980483\n",
      "(2, 2, 0)\n",
      "MAE: 2.999865540886772\n",
      "(2, 2, 1)\n",
      "The computed initial MA coefficients are not invertible\n",
      "You should induce invertibility, choose a different model order, or you can\n",
      "pass your own start_params.\n",
      "(2, 2, 2)\n",
      "The computed initial MA coefficients are not invertible\n",
      "You should induce invertibility, choose a different model order, or you can\n",
      "pass your own start_params.\n",
      "(2, 2, 3)\n",
      "The computed initial MA coefficients are not invertible\n",
      "You should induce invertibility, choose a different model order, or you can\n",
      "pass your own start_params.\n",
      "(3, 0, 0)\n",
      "MAE: 1.6487598854938557\n",
      "(3, 0, 1)\n",
      "The computed initial MA coefficients are not invertible\n",
      "You should induce invertibility, choose a different model order, or you can\n",
      "pass your own start_params.\n",
      "(3, 0, 2)\n",
      "MAE: 0.8835385378952926\n",
      "(3, 0, 3)\n",
      "SVD did not converge\n",
      "(3, 1, 0)\n",
      "MAE: 3.255421817458605\n",
      "(3, 1, 1)\n",
      "The computed initial MA coefficients are not invertible\n",
      "You should induce invertibility, choose a different model order, or you can\n",
      "pass your own start_params.\n",
      "(3, 1, 2)\n",
      "SVD did not converge\n",
      "(3, 1, 3)\n",
      "SVD did not converge\n",
      "(3, 2, 0)\n",
      "MAE: 3.0170864533878317\n",
      "(3, 2, 1)\n",
      "The computed initial MA coefficients are not invertible\n",
      "You should induce invertibility, choose a different model order, or you can\n",
      "pass your own start_params.\n",
      "(3, 2, 2)\n",
      "The computed initial MA coefficients are not invertible\n",
      "You should induce invertibility, choose a different model order, or you can\n",
      "pass your own start_params.\n",
      "(3, 2, 3)\n",
      "The computed initial MA coefficients are not invertible\n",
      "You should induce invertibility, choose a different model order, or you can\n",
      "pass your own start_params.\n",
      "Best MAE = 0.8550237327612731\n",
      "0.8550237327612731\n",
      "(2, 0, 1)\n"
     ]
    },
    {
     "data": {
      "image/png": "[encoded data removed]",
      "text/plain": [
       "<Figure size 432x288 with 1 Axes>"
      ]
     },
     "metadata": {
      "needs_background": "light"
     },
     "output_type": "display_data"
    },
    {
     "name": "stdout",
     "output_type": "stream",
     "text": [
      "Wall time: 1min 3s\n"
     ]
    }
   ],
   "source": [
    "%%time\n",
    "# ARIMA\n",
    "from statsmodels.tsa.arima_model import ARIMA\n",
    "import itertools\n",
    "import warnings\n",
    "import sys\n",
    "\n",
    "\n",
    "# Define the p, d and q parameters to take any value between 0 and 2\n",
    "p = q = range(0, 10)\n",
    "d = range(0,3)\n",
    "\n",
    "# Generate all different combinations of p, q and q triplets\n",
    "pdq = list(itertools.product(p, d, q))\n",
    "best_pdq = pdq\n",
    "best_mae = np.inf\n",
    "warnings.filterwarnings(\"ignore\") # specify to ignore warning messages\n",
    "for param in pdq:\n",
    "    print(param)\n",
    "    try:   # some parametercombinations might lead to crash, so catch exceptions and continue\n",
    "        maes = []\n",
    "        for train_index, test_index in tscv.split(dataset):\n",
    "            if train_index.size > 300:\n",
    "                # initialize cross validation train and test sets\n",
    "                cv_train, cv_test = dataset.iloc[train_index], dataset.iloc[test_index]\n",
    "\n",
    "                # build model\n",
    "                model = ARIMA(cv_train, order=(param))\n",
    "                model_fit = model.fit()\n",
    "\n",
    "                # make predictions\n",
    "                predictions =  model_fit.predict(start=len(cv_train), end=len(cv_train)+cv_test.size-1, dynamic=False)\n",
    "                prediction_values = predictions.values\n",
    "                true_values = cv_test.values\n",
    "                # error calc\n",
    "                #     print(true_values)\n",
    "                #     print(predictions.values)\n",
    "                maes.append(mean_absolute_error(true_values, prediction_values))\n",
    "\n",
    "        \n",
    "        mean_mae = np.mean(maes)\n",
    "        print('MAE: ' + str(mae))    \n",
    "\n",
    "        if mean_mae < best_mean_mae:\n",
    "            best_mean_mae = mean_mae\n",
    "            best_maes = maes\n",
    "            best_pdq = param\n",
    "            best_predictions = yhat\n",
    "    except Exception as e:\n",
    "        print(e)\n",
    "        continue\n",
    "   \n",
    "# plot\n",
    "print()\n",
    "print('Best MAE = ' + str(best_mean_mae))\n",
    "print(best_pdq)\n",
    "plt.plot(data_test,color='blue')\n",
    "plt.plot(pd.DataFrame(best_predictions).set_index(keys=data_test.index), color='red')\n",
    "plt.show()\n",
    "\n"
   ]
  },
  {
   "cell_type": "code",
   "execution_count": 22,
   "metadata": {},
   "outputs": [
    {
     "name": "stdout",
     "output_type": "stream",
     "text": [
      "------------------\n",
      "IIIIIII\n",
      "Mean MAE: 0.301 x 1 000 000 km²\n",
      "MAE of last prediction: 0.200 x 1 000 000 km²\n",
      "Execution time: 53.989 seconds\n"
     ]
    },
    {
     "data": {
      "image/png": "[encoded data removed]",
      "text/plain": [
       "<Figure size 432x288 with 1 Axes>"
      ]
     },
     "metadata": {
      "needs_background": "light"
     },
     "output_type": "display_data"
    }
   ],
   "source": [
    "from statsmodels.tsa.arima_model import ARIMA\n",
    "from sklearn.metrics import mean_absolute_error\n",
    "\n",
    "\n",
    "start_time = timeit.default_timer()\n",
    "\n",
    "warnings.filterwarnings(\"ignore\") # specify to ignore warning messages\n",
    "\n",
    "print(\"-------\")\n",
    "\n",
    "maes = []\n",
    "\n",
    "for train_index, test_index in tscv.split(dataset):\n",
    "    if train_index.size > 300:\n",
    "        # initialize cross validation train and test sets\n",
    "        cv_train, cv_test = dataset.iloc[train_index], dataset.iloc[test_index]\n",
    "\n",
    "        # build model\n",
    "        model = ARIMA(cv_train, order=(7, 0, 8))\n",
    "        model_fit = model.fit()\n",
    "\n",
    "        # make predictions\n",
    "        predictions =  model_fit.predict(start=len(cv_train), end=len(cv_train)+cv_test.size-1, dynamic=False)\n",
    "        prediction_values = predictions.values\n",
    "        true_values = cv_test.values\n",
    "\n",
    "        # error calc\n",
    "    #     print(true_values)\n",
    "    #     print(predictions.values)\n",
    "        maes.append(mean_absolute_error(true_values, prediction_values))\n",
    "\n",
    "        print(\"I\",end=\"\")\n",
    "    \n",
    "    \n",
    "# last actual prediction \n",
    "last_prediction_ARIMA = prediction_values + moving_avg.dropna().iloc[test_index].values.flatten()\n",
    "\n",
    "time_ARIMA = timeit.default_timer() - start_time\n",
    "mae_mean = np.mean(maes)\n",
    "MAE_ARIMA = mae_mean\n",
    "last_MAE_ARIMA = maes[-1]\n",
    "\n",
    "print()\n",
    "print('Mean MAE: %.3f x 1 000 000 km\\u00b2' % MAE_ARIMA)\n",
    "print('MAE of last prediction: %.3f x 1 000 000 km\\u00b2' % last_MAE_ARIMA)\n",
    "print('Execution time: %.3f seconds' % time_ARIMA)\n",
    "full_graph(last_prediction_ARIMA, 'Last prediction ARIMA')"
   ]
  },
  {
   "cell_type": "markdown",
   "metadata": {},
   "source": [
    "### SARIMAX"
   ]
  },
  {
   "cell_type": "markdown",
   "metadata": {},
   "source": [
    "#### Determine hyperparameters"
   ]
  },
  {
   "cell_type": "code",
   "execution_count": 31,
   "metadata": {},
   "outputs": [
    {
     "name": "stdout",
     "output_type": "stream",
     "text": [
      "(0, 0, 0, 0, 0, 0)\n",
      "MAE: 0.36189486842284513\n",
      "(0, 0, 0, 0, 0, 1)\n",
      "MAE: 0.36189486842284513\n",
      "(0, 0, 0, 0, 1, 0)\n",
      "MAE: 0.3507670728662035\n",
      "(0, 0, 0, 0, 1, 1)\n",
      "MAE: 0.3507670728662035\n",
      "(0, 0, 0, 1, 0, 0)\n",
      "Invalid value for design matrix. Requires a 2- or 3-dimensional array, got 1 dimensions\n",
      "(0, 0, 0, 1, 0, 1)\n",
      "MAE: 0.3840278058417148\n",
      "(0, 0, 0, 1, 1, 0)\n",
      "Invalid value for design matrix. Requires a 2- or 3-dimensional array, got 1 dimensions\n",
      "(0, 0, 0, 1, 1, 1)\n",
      "MAE: 0.38573030218620386\n",
      "(0, 0, 1, 0, 0, 0)\n",
      "LU decomposition error.\n",
      "(0, 0, 1, 0, 0, 1)\n",
      "LU decomposition error.\n",
      "(0, 0, 1, 0, 1, 0)\n",
      "MAE: 0.350363888760885\n",
      "(0, 0, 1, 0, 1, 1)\n",
      "MAE: 0.350363888760885\n",
      "(0, 0, 1, 1, 0, 0)\n",
      "Invalid value for design matrix. Requires a 2- or 3-dimensional array, got 1 dimensions\n",
      "(0, 0, 1, 1, 0, 1)\n",
      "MAE: 0.3825533688392464\n",
      "(0, 0, 1, 1, 1, 0)\n",
      "Invalid value for design matrix. Requires a 2- or 3-dimensional array, got 1 dimensions\n",
      "(0, 0, 1, 1, 1, 1)\n",
      "MAE: 0.38527493477346403\n",
      "(0, 1, 0, 0, 0, 0)\n",
      "MAE: 0.3840278058417148\n",
      "(0, 1, 0, 0, 0, 1)\n",
      "MAE: 0.3840278058417148\n",
      "(0, 1, 0, 0, 1, 0)\n",
      "MAE: 0.38573030218620386\n",
      "(0, 1, 0, 0, 1, 1)\n",
      "MAE: 0.38573030218620386\n",
      "(0, 1, 0, 1, 0, 0)\n",
      "Invalid value for design matrix. Requires a 2- or 3-dimensional array, got 1 dimensions\n",
      "(0, 1, 0, 1, 0, 1)\n",
      "MAE: 0.49406655591463206\n",
      "(0, 1, 0, 1, 1, 0)\n",
      "Invalid value for design matrix. Requires a 2- or 3-dimensional array, got 1 dimensions\n",
      "(0, 1, 0, 1, 1, 1)\n",
      "MAE: 0.39962436691636416\n",
      "(0, 1, 1, 0, 0, 0)\n",
      "MAE: 0.3825533688392464\n",
      "(0, 1, 1, 0, 0, 1)\n",
      "MAE: 0.3825533688392464\n",
      "(0, 1, 1, 0, 1, 0)\n",
      "MAE: 0.38527493477346403\n",
      "(0, 1, 1, 0, 1, 1)\n",
      "MAE: 0.38527493477346403\n",
      "(0, 1, 1, 1, 0, 0)\n",
      "Invalid value for design matrix. Requires a 2- or 3-dimensional array, got 1 dimensions\n",
      "(0, 1, 1, 1, 0, 1)\n",
      "MAE: 0.47434005336467333\n",
      "(0, 1, 1, 1, 1, 0)\n",
      "Invalid value for design matrix. Requires a 2- or 3-dimensional array, got 1 dimensions\n",
      "(0, 1, 1, 1, 1, 1)\n",
      "MAE: 0.454610871097445\n",
      "(1, 0, 0, 0, 0, 0)\n",
      "MAE: 0.34338429801229037\n",
      "(1, 0, 0, 0, 0, 1)\n",
      "MAE: 0.34338429801229037\n",
      "(1, 0, 0, 0, 1, 0)\n",
      "MAE: 0.3421517937672368\n",
      "(1, 0, 0, 0, 1, 1)\n",
      "MAE: 0.3421517937672368\n",
      "(1, 0, 0, 1, 0, 0)\n",
      "Invalid value for design matrix. Requires a 2- or 3-dimensional array, got 1 dimensions\n",
      "(1, 0, 0, 1, 0, 1)\n",
      "MAE: 0.3846881515365636\n",
      "(1, 0, 0, 1, 1, 0)\n",
      "Invalid value for design matrix. Requires a 2- or 3-dimensional array, got 1 dimensions\n",
      "(1, 0, 0, 1, 1, 1)\n",
      "MAE: 0.38656044400066997\n",
      "(1, 0, 1, 0, 0, 0)\n",
      "MAE: 0.3434857601860019\n",
      "(1, 0, 1, 0, 0, 1)\n",
      "MAE: 0.3434857601860019\n",
      "(1, 0, 1, 0, 1, 0)\n",
      "MAE: 0.34524748178828085\n",
      "(1, 0, 1, 0, 1, 1)\n",
      "MAE: 0.34524748178828085\n",
      "(1, 0, 1, 1, 0, 0)\n",
      "Invalid value for design matrix. Requires a 2- or 3-dimensional array, got 1 dimensions\n",
      "(1, 0, 1, 1, 0, 1)\n",
      "MAE: 0.3889688080573698\n",
      "(1, 0, 1, 1, 1, 0)\n",
      "Invalid value for design matrix. Requires a 2- or 3-dimensional array, got 1 dimensions\n",
      "(1, 0, 1, 1, 1, 1)\n",
      "MAE: 0.38634564937144983\n",
      "(1, 1, 0, 0, 0, 0)\n",
      "MAE: 0.3846881515365636\n",
      "(1, 1, 0, 0, 0, 1)\n",
      "MAE: 0.3846881515365636\n",
      "(1, 1, 0, 0, 1, 0)\n",
      "MAE: 0.38656044400066997\n",
      "(1, 1, 0, 0, 1, 1)\n",
      "MAE: 0.38656044400066997\n",
      "(1, 1, 0, 1, 0, 0)\n",
      "Invalid value for design matrix. Requires a 2- or 3-dimensional array, got 1 dimensions\n",
      "(1, 1, 0, 1, 0, 1)\n",
      "MAE: 0.5084016358676176\n",
      "(1, 1, 0, 1, 1, 0)\n",
      "Invalid value for design matrix. Requires a 2- or 3-dimensional array, got 1 dimensions\n",
      "(1, 1, 0, 1, 1, 1)\n",
      "MAE: 0.42600495614046713\n",
      "(1, 1, 1, 0, 0, 0)\n",
      "MAE: 0.3889688080573698\n",
      "(1, 1, 1, 0, 0, 1)\n",
      "MAE: 0.3889688080573698\n",
      "(1, 1, 1, 0, 1, 0)\n",
      "MAE: 0.38634564937144983\n",
      "(1, 1, 1, 0, 1, 1)\n",
      "MAE: 0.38634564937144983\n",
      "(1, 1, 1, 1, 0, 0)\n",
      "Invalid value for design matrix. Requires a 2- or 3-dimensional array, got 1 dimensions\n",
      "(1, 1, 1, 1, 0, 1)\n",
      "MAE: 0.49947303388686587\n",
      "(1, 1, 1, 1, 1, 0)\n",
      "Invalid value for design matrix. Requires a 2- or 3-dimensional array, got 1 dimensions\n",
      "(1, 1, 1, 1, 1, 1)\n",
      "MAE: 0.4262536709199252\n",
      "Best MAE = 0.3421517937672368\n",
      "0.3421517937672368\n",
      "(1, 0, 0, 0, 1, 0)\n"
     ]
    },
    {
     "data": {
      "image/png": "[encoded data removed]",
      "text/plain": [
       "<Figure size 432x288 with 1 Axes>"
      ]
     },
     "metadata": {
      "needs_background": "light"
     },
     "output_type": "display_data"
    },
    {
     "name": "stdout",
     "output_type": "stream",
     "text": [
      "Wall time: 11min 8s\n"
     ]
    }
   ],
   "source": [
    "%%time\n",
    "# SARIMAX\n",
    "\n",
    "import itertools\n",
    "import warnings\n",
    "import sys\n",
    "\n",
    "\n",
    "# Define the p, d and q parameters to take any value between 0 and 2\n",
    "p = q = P = D = Q = range(0, 2)\n",
    "d = D = range(0, 2)\n",
    "\n",
    "# Generate all different combinations of p, q and q triplets\n",
    "pdqPDQ = list(itertools.product(p, d, q , P, D, Q))\n",
    "best_pdqPDQ = pdqPDQ\n",
    "best_mae = np.inf\n",
    "warnings.filterwarnings(\"ignore\") # specify to ignore warning messages\n",
    "for param in pdqPDQ:\n",
    "    print(param)\n",
    "    try:   # some parametercombinations might lead to crash, so catch exceptions and continue\n",
    "        maes = []\n",
    "        for train_index, test_index in tscv.split(dataset):\n",
    "            if train_index.size > 300:\n",
    "                # initialize cross validation train and test sets\n",
    "                cv_train, cv_test = dataset.iloc[train_index], dataset.iloc[test_index]\n",
    "\n",
    "                # build model\n",
    "                model = SARIMAX(cv_train, \n",
    "                order=param[:3], \n",
    "                seasonal_order=(12,)+param[3:])\n",
    "                model_fit = model.fit()\n",
    "\n",
    "                # make predictions\n",
    "                predictions =  model_fit.predict(start=len(cv_train), end=len(cv_train)+cv_test.size-1, dynamic=False)\n",
    "                prediction_values = predictions.values\n",
    "                true_values = cv_test.values\n",
    "                # error calc\n",
    "                #     print(true_values)\n",
    "                #     print(predictions.values)\n",
    "                maes.append(mean_absolute_error(true_values, prediction_values))\n",
    "\n",
    "        \n",
    "        mean_mae = np.mean(maes)\n",
    "        print('MAE: ' + str(mae))    \n",
    "\n",
    "        if mean_mae < best_mean_mae:\n",
    "            best_mean_mae = mean_mae\n",
    "            best_maes = maes\n",
    "            best_pdq = param\n",
    "            best_predictions = yhat\n",
    "    except Exception as e:\n",
    "        print(e)\n",
    "        continue\n",
    "   \n",
    "# plot\n",
    "print()\n",
    "print('Best MAE = ' + str(best_mean_mae))\n",
    "print(best_pdqPDQ)\n",
    "plt.plot(data_test,color='blue')\n",
    "plt.plot(predictions_df, color='red')\n",
    "plt.show()\n",
    "\n",
    "# best range(0,2): (1, 0, 0, 0, 1, 0) = 11min = 0..342\n",
    "# best range(0,4): () =  = 0."
   ]
  },
  {
   "cell_type": "code",
   "execution_count": 86,
   "metadata": {},
   "outputs": [
    {
     "name": "stdout",
     "output_type": "stream",
     "text": [
      "------------------\n",
      "IIIIIII\n",
      "Mean MAE: 0.329 x 1 000 000 km²\n",
      "MAE of last prediction: 0.153 x 1 000 000 km²\n",
      "Execution time: 32.421 seconds\n"
     ]
    },
    {
     "data": {
      "image/png": "[encoded data removed]",
      "text/plain": [
       "<Figure size 432x288 with 1 Axes>"
      ]
     },
     "metadata": {
      "needs_background": "light"
     },
     "output_type": "display_data"
    }
   ],
   "source": [
    "from statsmodels.tsa.arima_model import ARIMA\n",
    "from sklearn.metrics import mean_absolute_error\n",
    "\n",
    "\n",
    "start_time = timeit.default_timer()\n",
    "\n",
    "pdq = (9,1,6)\n",
    "\n",
    "warnings.filterwarnings(\"ignore\") # specify to ignore warning messages\n",
    "\n",
    "print(\"-------\")\n",
    "\n",
    "maes = []\n",
    "\n",
    "for train_index, test_index in tscv.split(dataset):\n",
    "    if train_index.size > 300:\n",
    "\n",
    "        # initialize cross validation train and test sets\n",
    "        cv_train, cv_test = dataset.iloc[train_index], dataset.iloc[test_index]\n",
    "\n",
    "        # build model\n",
    "        model = SARIMAX(cv_train, order=(2, 0, 1), seasonal_order=(12, 0, 1, 2))\n",
    "        model_fit = model.fit()\n",
    "\n",
    "        # make predictions\n",
    "        predictions =  model_fit.predict(start=len(cv_train), end=len(cv_train)+cv_test.size-1, dynamic=False)\n",
    "        prediction_values = predictions.values\n",
    "        true_values = cv_test.values\n",
    "\n",
    "        # error calc\n",
    "    #     print(true_values)\n",
    "    #     print(predictions.values)\n",
    "        maes.append(mean_absolute_error(true_values, prediction_values))\n",
    "        print(\"I\",end=\"\")\n",
    "\n",
    "    \n",
    "# last actual prediction \n",
    "last_prediction_ARIMA = prediction_values + moving_avg.dropna().iloc[test_index].values.flatten()\n",
    "\n",
    "time_ARIMA = timeit.default_timer() - start_time\n",
    "mae_mean = np.mean(maes)\n",
    "MAE_ARIMA = mae_mean\n",
    "last_MAE_ARIMA = maes[-1]\n",
    "\n",
    "print()\n",
    "print('Mean MAE: %.3f x 1 000 000 km\\u00b2' % MAE_ARIMA)\n",
    "print('MAE of last prediction: %.3f x 1 000 000 km\\u00b2' % last_MAE_ARIMA)\n",
    "print('Execution time: %.3f seconds' % time_ARIMA)\n",
    "full_graph(last_prediction_ARIMA, 'Last prediction ARIMA')"
   ]
  },
  {
   "cell_type": "code",
   "execution_count": null,
   "metadata": {},
   "outputs": [],
   "source": [
    "# better mean but worse during testing\n",
    "# model = SARIMAX(cv_train, order=(2, 0, 1), seasonal_order=(12, 0, 1, 2))\n",
    "# Mean MAE: 0.329 x 1 000 000 km²\n",
    "# MAE of last prediction: 0.153 x 1 000 000 km²\n",
    "# Execution time: 32.421 seconds"
   ]
  },
  {
   "cell_type": "markdown",
   "metadata": {},
   "source": [
    "### LSTM"
   ]
  },
  {
   "cell_type": "code",
   "execution_count": 17,
   "metadata": {},
   "outputs": [],
   "source": [
    "import numpy as np\n",
    "\n",
    "# univariate multi-step encoder-decoder convlstm\n",
    "from math import sqrt\n",
    "from numpy import split\n",
    "from numpy import array\n",
    "from pandas import read_csv\n",
    "from sklearn.metrics import mean_squared_error\n",
    "from matplotlib import pyplot\n",
    "from keras.models import Sequential\n",
    "from keras.layers import Dense\n",
    "from keras.layers import Flatten\n",
    "from keras.layers import LSTM\n",
    "from keras.layers import RepeatVector\n",
    "from keras.layers import TimeDistributed\n",
    "from keras.layers import ConvLSTM2D\n",
    "\n",
    "def calc_rmspe(y_true, y_pred):\n",
    "    return np.sqrt(np.mean(np.square(((y_true - y_pred) / y_true)), axis=0)) * 100\n",
    "\n",
    "def monitor(name, variable):\n",
    "    print(name)\n",
    "    print(type(variable))\n",
    "    print(variable)\n",
    "    print()\n",
    "\n",
    "# split a univariate dataset into train/test sets\n",
    "def split_dataset(data):\n",
    "    n_test_entries = 24\n",
    "    # split into standard years\n",
    "    train, test = data[:-n_test_entries], data[-n_test_entries:]\n",
    "    # restructure into windows of yearly data\n",
    "    train = array(split(train, len(train)/12))\n",
    "    test = array(split(test, len(test)/12))\n",
    "    return train, test\n",
    "\n",
    "# evaluate one or more weekly forecasts against expected values\n",
    "# MABEY?\n",
    "# def evaluate_forecasts(actual, predicted):\n",
    "#     monitor(\"Actual\", actual)\n",
    "#     monitor(\"Predicted\",predicted)\n",
    "#     print()\n",
    "    \n",
    "    \n",
    "#     scores = list()\n",
    "#     # calculate an RMSE score for each day\n",
    "#     for i in range(actual.shape[1]):\n",
    "#         # calculate rmspe\n",
    "#         rmspe = calc_rmspe(actual[:, i], predicted[:, i])\n",
    "#         # store\n",
    "#         scores.append(rmspe)\n",
    "        \n",
    "# #     # calculate overall RMSE\n",
    "# #     s = 0\n",
    "# #     for row in range(actual.shape[0]):\n",
    "# #         for col in range(actual.shape[1]):\n",
    "# #             s += (actual[row, col] - predicted[row, col])**2\n",
    "#     score = calc_rmspe(actual.flatten(),predicted.flatten())\n",
    "#     return score, scores\n",
    "\n",
    "# summarize scores\n",
    "def summarize_scores(name, score, scores):\n",
    "    s_scores = ', '.join(['%.1f' % s for s in scores])\n",
    "    print('%s: [%.3f] %s' % (name, score, s_scores))\n",
    "\n",
    "# convert history into inputs and outputs\n",
    "def to_supervised(train, n_input, n_out=12):\n",
    "    # flatten data\n",
    "    print(train.shape)\n",
    "    data = train.reshape((train.shape[0]*train.shape[1]))\n",
    "    X, y = list(), list()\n",
    "    in_start = 0\n",
    "    # step over the entire history one time step at a time\n",
    "    for _ in range(len(data)):\n",
    "        # define the end of the input sequence\n",
    "        in_end = in_start + n_input\n",
    "        out_end = in_end + n_out\n",
    "        # ensure we have enough data for this instance\n",
    "        if out_end <= len(data):\n",
    "            x_input = data[in_start:in_end]\n",
    "            x_input = x_input.reshape((len(x_input), 1))\n",
    "            X.append(x_input)\n",
    "            y.append(data[in_end:out_end])\n",
    "        # move along one time step\n",
    "        in_start += 1\n",
    "    return array(X), array(y)\n",
    "\n",
    "# train the model\n",
    "def build_model(train, n_steps, n_length, n_input):\n",
    "    # prepare data\n",
    "    train_x, train_y = to_supervised(train, n_input)\n",
    "    # define parameters\n",
    "    verbose, epochs, batch_size = 0, 20, 16\n",
    "    n_timesteps, n_features, n_outputs = train_x.shape[1], train_x.shape[2], train_y.shape[1]\n",
    "    # reshape into subsequences [samples, time steps, rows, cols, channels]\n",
    "    train_x = train_x.reshape((train_x.shape[0], n_steps, 1, n_length, n_features))\n",
    "    # reshape output into [samples, timesteps, features]\n",
    "    train_y = train_y.reshape((train_y.shape[0], train_y.shape[1], 1))\n",
    "\n",
    "    # define model\n",
    "    model = Sequential()\n",
    "    model.add(ConvLSTM2D(filters=64, kernel_size=(1,3), activation='relu', input_shape=(n_steps, 1, n_length, n_features)))\n",
    "    model.add(Flatten())\n",
    "    model.add(RepeatVector(n_outputs))\n",
    "    model.add(LSTM(200, activation='relu', return_sequences=True))\n",
    "    model.add(TimeDistributed(Dense(100, activation='relu')))\n",
    "    model.add(TimeDistributed(Dense(1)))\n",
    "    model.compile(loss='mse', optimizer='adam')\n",
    "    # fit network\n",
    "    history = model.fit(train_x, train_y, epochs=epochs, batch_size=batch_size, verbose=verbose)\n",
    "    # plot history\n",
    "    pyplot.title('Error per epoch')\n",
    "    pyplot.plot(history.history['loss'], label='train')\n",
    "    pyplot.legend()\n",
    "    pyplot.show()\n",
    "    return model\n",
    "\n",
    "# make a forecast\n",
    "def forecast(model, history, n_steps, n_length, n_input):\n",
    "    # flatten data\n",
    "    data = array(history)\n",
    "    data = data.reshape((data.shape[0]*data.shape[1]))\n",
    "    # retrieve last observations for input data\n",
    "    input_x = data[-n_input:]\n",
    "    # reshape into [samples, time steps, rows, cols, channels]\n",
    "    input_x = input_x.reshape((1, n_steps, 1, n_length, 1))\n",
    "    # forecast the next week\n",
    "    yhat = model.predict(input_x, verbose=0)\n",
    "    # we only want the vector forecast\n",
    "    yhat = yhat[0]\n",
    "    return yhat\n",
    "\n",
    "# evaluate a single model\n",
    "def evaluate_model(train, test, n_steps, n_length, n_input):\n",
    "    # fit model\n",
    "    model = build_model(train, n_steps, n_length, n_input)\n",
    "    # history is a list of weekly data\n",
    "    history = [x for x in train]\n",
    "    # walk-forward validation over each week\n",
    "    predictions = list()\n",
    "    for i in range(len(test)):\n",
    "        # predict the week\n",
    "        yhat_sequence = forecast(model, history, n_steps, n_length, n_input)\n",
    "        # store the predictions\n",
    "        predictions.append(yhat_sequence)\n",
    "        # get real observation and add to history for predicting the next week\n",
    "        history.append(test[i, :])\n",
    "    # evaluate predictions days for each week\n",
    "    predictions = array(predictions)\n",
    "    score = calc_rmspe(test[:, :].flatten(), predictions.flatten()) #evaluate_forecasts(test[:, :, 0], predictions)\n",
    "    X = range(0,24)\n",
    "    pyplot.title('Comparing actual results with predictions')\n",
    "    pyplot.plot(X, test[:, :].flatten(), marker='o', label='Actual')\n",
    "    pyplot.plot(X, predictions.flatten(), marker='o', label='Predictions')\n",
    "    pyplot.legend()\n",
    "    pyplot.show()\n",
    "    return score, r2_score(test[:, :].flatten(), predictions.flatten()), predictions"
   ]
  },
  {
   "cell_type": "code",
   "execution_count": 18,
   "metadata": {},
   "outputs": [],
   "source": [
    "# load the new file\n",
    "dataset = ts\n",
    "data = dataset.values"
   ]
  },
  {
   "cell_type": "code",
   "execution_count": 19,
   "metadata": {},
   "outputs": [],
   "source": [
    "# split into train and test\n",
    "train, test = split_dataset(data)"
   ]
  },
  {
   "cell_type": "code",
   "execution_count": 20,
   "metadata": {},
   "outputs": [
    {
     "data": {
      "text/plain": [
       "array([[[-2.54982079],\n",
       "        [-1.33710317],\n",
       "        [ 2.93207885],\n",
       "        [10.22981481],\n",
       "        [12.79677419],\n",
       "        [16.03481481],\n",
       "        [19.2765233 ],\n",
       "        [16.84408602],\n",
       "        [15.1287037 ],\n",
       "        [10.12885305],\n",
       "        [ 5.26611111],\n",
       "        [ 1.41021505]],\n",
       "\n",
       "       [[ 3.30716846],\n",
       "        [ 2.88154762],\n",
       "        [ 6.38817204],\n",
       "        [ 8.02537037],\n",
       "        [14.45089606],\n",
       "        [17.66518519],\n",
       "        [19.25376344],\n",
       "        [19.94086022],\n",
       "        [11.71111111],\n",
       "        [ 8.42508961],\n",
       "        [ 2.69962963],\n",
       "        [-1.43924731]],\n",
       "\n",
       "       [[-0.36792115],\n",
       "        [ 1.38122605],\n",
       "        [ 5.17903226],\n",
       "        [ 9.27462963],\n",
       "        [13.4844086 ],\n",
       "        [18.05740741],\n",
       "        [18.39928315],\n",
       "        [19.14964158],\n",
       "        [13.76740741],\n",
       "        [10.04498208],\n",
       "        [ 5.29055556],\n",
       "        [ 2.33530466]],\n",
       "\n",
       "       [[-2.11362007],\n",
       "        [ 0.43650794],\n",
       "        [ 4.30107527],\n",
       "        [10.83333333],\n",
       "        [13.79928315],\n",
       "        [15.60722222],\n",
       "        [19.15770609],\n",
       "        [19.98207885],\n",
       "        [16.51851852],\n",
       "        [ 9.83870968],\n",
       "        [ 6.16666667],\n",
       "        [ 1.73835125]],\n",
       "\n",
       "       [[-1.71971326],\n",
       "        [ 0.07222222],\n",
       "        [ 4.42544803],\n",
       "        [ 9.23703704],\n",
       "        [14.36792115],\n",
       "        [17.33388889],\n",
       "        [19.7702509 ],\n",
       "        [18.21362007],\n",
       "        [13.21981481],\n",
       "        [ 6.91684588],\n",
       "        [ 6.89148148],\n",
       "        [-0.57670251]],\n",
       "\n",
       "       [[-0.78494624],\n",
       "        [-1.47718254],\n",
       "        [ 3.4327957 ],\n",
       "        [10.39314815],\n",
       "        [13.23799283],\n",
       "        [17.83611111],\n",
       "        [18.11917563],\n",
       "        [18.73924731],\n",
       "        [16.17666667],\n",
       "        [ 7.84229391],\n",
       "        [ 0.52537037],\n",
       "        [ 2.15967742]],\n",
       "\n",
       "       [[ 0.17544803],\n",
       "        [-6.4559387 ],\n",
       "        [ 4.10394265],\n",
       "        [10.08833333],\n",
       "        [14.13942652],\n",
       "        [17.95722222],\n",
       "        [21.04677419],\n",
       "        [18.63512545],\n",
       "        [16.64333333],\n",
       "        [10.0344086 ],\n",
       "        [ 6.50296296],\n",
       "        [-0.84480287]],\n",
       "\n",
       "       [[ 0.42849462],\n",
       "        [ 2.27083333],\n",
       "        [ 2.94175627],\n",
       "        [ 9.65462963],\n",
       "        [14.94677419],\n",
       "        [16.69907407],\n",
       "        [17.90878136],\n",
       "        [19.18548387],\n",
       "        [12.57166667],\n",
       "        [10.23154122],\n",
       "        [ 6.53537037],\n",
       "        [ 0.27222222]],\n",
       "\n",
       "       [[ 1.68458781],\n",
       "        [ 3.1531746 ],\n",
       "        [ 6.49193548],\n",
       "        [10.74962963],\n",
       "        [13.03709677],\n",
       "        [16.13888889],\n",
       "        [18.44426523],\n",
       "        [17.46308244],\n",
       "        [14.91796296],\n",
       "        [10.9546595 ],\n",
       "        [ 6.09537037],\n",
       "        [ 2.59516129]]])"
      ]
     },
     "execution_count": 20,
     "metadata": {},
     "output_type": "execute_result"
    }
   ],
   "source": [
    "train"
   ]
  },
  {
   "cell_type": "code",
   "execution_count": 21,
   "metadata": {},
   "outputs": [],
   "source": [
    "# define the number of subsequences and the length of subsequences\n",
    "n_steps, n_length = 2, 12"
   ]
  },
  {
   "cell_type": "code",
   "execution_count": 37,
   "metadata": {},
   "outputs": [
    {
     "name": "stdout",
     "output_type": "stream",
     "text": [
      "(9, 12, 1)\n"
     ]
    },
    {
     "data": {
      "image/png": "[encoded data removed]",
      "text/plain": [
       "<Figure size 432x288 with 1 Axes>"
      ]
     },
     "metadata": {
      "needs_background": "light"
     },
     "output_type": "display_data"
    },
    {
     "data": {
      "image/png": "[encoded data removed]",
      "text/plain": [
       "<Figure size 432x288 with 1 Axes>"
      ]
     },
     "metadata": {
      "needs_background": "light"
     },
     "output_type": "display_data"
    },
    {
     "name": "stdout",
     "output_type": "stream",
     "text": [
      "RMSPE: 95.47118118913284\n",
      "R2: 0.9620053022290957\n"
     ]
    }
   ],
   "source": [
    "# define the total days to use as input\n",
    "n_input = n_length * n_steps\n",
    "rmspe_LSTM, rsq_LSTM, predictions = evaluate_model(train, test, n_steps, n_length, n_input)\n",
    "print('RMSPE: '+str(rmspe_LSTM))\n",
    "print('R2: '+ str(rsq_LSTM))"
   ]
  },
  {
   "cell_type": "code",
   "execution_count": 38,
   "metadata": {},
   "outputs": [
    {
     "data": {
      "image/png": "[encoded data removed]",
      "text/plain": [
       "<Figure size 432x288 with 1 Axes>"
      ]
     },
     "metadata": {
      "needs_background": "light"
     },
     "output_type": "display_data"
    }
   ],
   "source": [
    "full_graph(predictions)"
   ]
  },
  {
   "cell_type": "markdown",
   "metadata": {},
   "source": [
    "### Normale polynomiale regressie"
   ]
  },
  {
   "cell_type": "code",
   "execution_count": 39,
   "metadata": {},
   "outputs": [],
   "source": [
    "tspr = ts.reset_index().reset_index()"
   ]
  },
  {
   "cell_type": "code",
   "execution_count": 40,
   "metadata": {},
   "outputs": [],
   "source": [
    "tspr = tspr.sort_values('Date')"
   ]
  },
  {
   "cell_type": "code",
   "execution_count": 41,
   "metadata": {},
   "outputs": [],
   "source": [
    "X = tspr.index.values\n",
    "y = tspr.iloc[:, 2].values"
   ]
  },
  {
   "cell_type": "code",
   "execution_count": 44,
   "metadata": {},
   "outputs": [],
   "source": [
    "tspred = ts"
   ]
  },
  {
   "cell_type": "code",
   "execution_count": 45,
   "metadata": {},
   "outputs": [],
   "source": [
    "degree = 5"
   ]
  },
  {
   "cell_type": "code",
   "execution_count": 50,
   "metadata": {},
   "outputs": [
    {
     "data": {
      "text/plain": [
       "array([  0,   1,   2,   3,   4,   5,   6,   7,   8,   9,  10,  11,  12,\n",
       "        13,  14,  15,  16,  17,  18,  19,  20,  21,  22,  23,  24,  25,\n",
       "        26,  27,  28,  29,  30,  31,  32,  33,  34,  35,  36,  37,  38,\n",
       "        39,  40,  41,  42,  43,  44,  45,  46,  47,  48,  49,  50,  51,\n",
       "        52,  53,  54,  55,  56,  57,  58,  59,  60,  61,  62,  63,  64,\n",
       "        65,  66,  67,  68,  69,  70,  71,  72,  73,  74,  75,  76,  77,\n",
       "        78,  79,  80,  81,  82,  83,  84,  85,  86,  87,  88,  89,  90,\n",
       "        91,  92,  93,  94,  95,  96,  97,  98,  99, 100, 101, 102, 103,\n",
       "       104, 105, 106, 107, 108, 109, 110, 111, 112, 113, 114, 115, 116,\n",
       "       117, 118, 119, 120, 121, 122, 123, 124, 125, 126, 127, 128, 129,\n",
       "       130, 131], dtype=int64)"
      ]
     },
     "execution_count": 50,
     "metadata": {},
     "output_type": "execute_result"
    }
   ],
   "source": [
    "X"
   ]
  },
  {
   "cell_type": "code",
   "execution_count": 58,
   "metadata": {},
   "outputs": [],
   "source": [
    "X_train = X[:-testSize]\n",
    "y_train = y[:-testSize]\n",
    "X_test = X[-testSize:]\n",
    "y_test = y[-testSize:]"
   ]
  },
  {
   "cell_type": "code",
   "execution_count": 59,
   "metadata": {},
   "outputs": [
    {
     "name": "stdout",
     "output_type": "stream",
     "text": [
      "RMSPE for i = 1 is 1217.7156111178756\n",
      "\n",
      "RMSPE for i = 2 is 1239.3367071090183\n",
      "\n",
      "RMSPE for i = 3 is 2060.5818963830507\n",
      "\n",
      "RMSPE for i = 4 is 329.0344532046938\n",
      "\n",
      "RMSPE for i = 5 is 3369.940396923836\n",
      "\n",
      "RMSPE for i = 6 is 19451.914134853363\n",
      "\n",
      "RMSPE for i = 7 is 13287.430142736337\n",
      "\n",
      "RMSPE for i = 8 is 34102.30076532954\n",
      "\n",
      "RMSPE for i = 9 is 198058.559715345\n",
      "\n",
      "Best i value according to RMSPE is 4 with RMSPE: 329.0344532046938\n"
     ]
    }
   ],
   "source": [
    "from sklearn.preprocessing import PolynomialFeatures\n",
    "from sklearn.linear_model import LinearRegression\n",
    "from sklearn import metrics\n",
    "\n",
    "# Prepare variables that keep track of the best fitting polynomial\n",
    "BestR2 = -float('inf')\n",
    "BestRMSPE = float('inf')\n",
    "BestIR2 = 1\n",
    "BestIRMSPE = 1\n",
    "\n",
    "\n",
    "\n",
    "# Loop over polynomials from degrees 1 to 10 and use polynomial that fits best according to the \n",
    "for i in range(1,10):\n",
    "    \n",
    "    # Create PolynomialFeatures from the first degree\n",
    "    poly = PolynomialFeatures(degree=i)\n",
    "    \n",
    "    # Fit the inputdata from your trainingsset to the polynomial\n",
    "    X_train_transform = poly.fit_transform(X_train.reshape(X_train.size,1))\n",
    "    \n",
    "    # Create the model and fit it to the transformed inputdata and your expected outputdata from the trainingsdata\n",
    "    model = LinearRegression()\n",
    "    model.fit(X_train_transform,y_train)\n",
    "    \n",
    "    # Transform the inputdata from your \n",
    "    X_test_transform = poly.fit_transform(X_test.reshape(X_test.size,1))\n",
    "    y_predict_test = model.predict(X_test_transform)    \n",
    "    \n",
    "    # Calculate errors\n",
    "    RMSPE_test = calc_rmspe(y_test, y_predict_test)\n",
    "\n",
    "    # Print errors\n",
    "    print('RMSPE for i = ' + str(i) + ' is ' + str(RMSPE_test) )\n",
    "    print()\n",
    "    \n",
    "    # Update best fit\n",
    "    if BestRMSPE > RMSPE_test:\n",
    "        BestRMSPE = RMSPE_test\n",
    "        BestRMSPEi = i\n",
    "        \n",
    "# Conclude best results\n",
    "# print('Best i value according to r2 is '+str(BestR2i)+' with r2: '+str(BestR2))\n",
    "print('Best i value according to RMSPE is '+str(BestRMSPEi)+' with RMSPE: '+str(BestRMSPE))"
   ]
  },
  {
   "cell_type": "code",
   "execution_count": 60,
   "metadata": {},
   "outputs": [
    {
     "data": {
      "text/plain": [
       "array([ 1.26899642,  0.70436508,  4.84641577,  8.30407407, 14.40860215,\n",
       "       16.79444444, 19.37795699, 19.51003584, 16.01537037,  8.44982079,\n",
       "        4.42925926,  2.16308244, -1.24157706,  4.42337165,  5.10985663,\n",
       "       10.66203704, 13.15734767, 17.97203704, 19.10017921, 18.36397849,\n",
       "       15.08777778,  8.48799283,  3.75981481,  0.17670251])"
      ]
     },
     "execution_count": 60,
     "metadata": {},
     "output_type": "execute_result"
    }
   ],
   "source": [
    "y_test"
   ]
  },
  {
   "cell_type": "code",
   "execution_count": 61,
   "metadata": {},
   "outputs": [
    {
     "data": {
      "image/png": "[encoded data removed]",
      "text/plain": [
       "<Figure size 432x288 with 1 Axes>"
      ]
     },
     "metadata": {
      "needs_background": "light"
     },
     "output_type": "display_data"
    }
   ],
   "source": [
    "# Fitting Polynomial Regression to the dataset\n",
    "from sklearn.preprocessing import PolynomialFeatures\n",
    "from sklearn.linear_model import LinearRegression\n",
    "\n",
    "\n",
    "poly_reg = PolynomialFeatures(degree=degree)\n",
    "\n",
    "X_poly = poly_reg.fit_transform(X.reshape(-1,1))\n",
    "pol_reg = LinearRegression()\n",
    "pol_reg.fit(X_poly\n",
    ", y)\n",
    "# Visualizing the Polymonial Regression results\n",
    "def viz_polymonial():\n",
    "    plt.scatter(X, y, color='red')\n",
    "    plt.plot(X, pol_reg.predict(poly_reg.fit_transform(X.reshape(-1,1))), color='blue')\n",
    "    plt.title('')\n",
    "    plt.xlabel('Day')\n",
    "    plt.ylabel('New Cases')\n",
    "    plt.ylim(bottom=0)\n",
    "    plt.xlim(right=150)\n",
    "    plt.show()\n",
    "    return\n",
    "viz_polymonial()"
   ]
  },
  {
   "cell_type": "code",
   "execution_count": 62,
   "metadata": {},
   "outputs": [],
   "source": [
    "testsize = int(ts.shape[0]/3)\n",
    "\n",
    "tspred = tspred[:-testsize]"
   ]
  },
  {
   "cell_type": "code",
   "execution_count": 63,
   "metadata": {},
   "outputs": [],
   "source": [
    "# Fitting Polynomial Regression to the dataset\n",
    "from sklearn.preprocessing import PolynomialFeatures\n",
    "from sklearn.linear_model import LinearRegression\n",
    "\n",
    "\n",
    "poly_reg = PolynomialFeatures(degree=degree)\n",
    "\n",
    "X_poly = poly_reg.fit_transform(X.reshape(-1,1))\n",
    "pol_reg = LinearRegression(fit_intercept=True)\n",
    "pol_reg.fit(X_poly, y)\n",
    "\n",
    "i = ts.shape[0] - (ts.shape[0]/3)\n",
    "\n",
    "while i <= tsuv.shape[0] :\n",
    "    tspred = tspred.append({'Temperature': pol_reg.predict(poly_reg.fit_transform([[i]]))[0]}, ignore_index=True)\n",
    "    i += 1"
   ]
  },
  {
   "cell_type": "code",
   "execution_count": 66,
   "metadata": {},
   "outputs": [
    {
     "data": {
      "image/png": "[encoded data removed]",
      "text/plain": [
       "<Figure size 432x288 with 1 Axes>"
      ]
     },
     "metadata": {
      "needs_background": "light"
     },
     "output_type": "display_data"
    }
   ],
   "source": [
    "plt.scatter(X, y, color='red')\n",
    "plt.plot(X, pol_reg.predict(poly_reg.fit_transform(X.reshape(-1,1))), color='blue')\n",
    "plt.title('')\n",
    "plt.xlabel('Month')\n",
    "plt.ylabel('Stock')\n",
    "plt.ylim(bottom=0)\n",
    "plt.show()"
   ]
  },
  {
   "cell_type": "code",
   "execution_count": 67,
   "metadata": {},
   "outputs": [
    {
     "data": {
      "text/html": [
       "<div>\n",
       "<style scoped>\n",
       "    .dataframe tbody tr th:only-of-type {\n",
       "        vertical-align: middle;\n",
       "    }\n",
       "\n",
       "    .dataframe tbody tr th {\n",
       "        vertical-align: top;\n",
       "    }\n",
       "\n",
       "    .dataframe thead th {\n",
       "        text-align: right;\n",
       "    }\n",
       "</style>\n",
       "<table border=\"1\" class=\"dataframe\">\n",
       "  <thead>\n",
       "    <tr style=\"text-align: right;\">\n",
       "      <th></th>\n",
       "      <th>Temperature</th>\n",
       "    </tr>\n",
       "  </thead>\n",
       "  <tbody>\n",
       "    <tr>\n",
       "      <th>0</th>\n",
       "      <td>-2.549821</td>\n",
       "    </tr>\n",
       "    <tr>\n",
       "      <th>1</th>\n",
       "      <td>-1.337103</td>\n",
       "    </tr>\n",
       "    <tr>\n",
       "      <th>2</th>\n",
       "      <td>2.932079</td>\n",
       "    </tr>\n",
       "    <tr>\n",
       "      <th>3</th>\n",
       "      <td>10.229815</td>\n",
       "    </tr>\n",
       "    <tr>\n",
       "      <th>4</th>\n",
       "      <td>12.796774</td>\n",
       "    </tr>\n",
       "    <tr>\n",
       "      <th>...</th>\n",
       "      <td>...</td>\n",
       "    </tr>\n",
       "    <tr>\n",
       "      <th>128</th>\n",
       "      <td>9.665146</td>\n",
       "    </tr>\n",
       "    <tr>\n",
       "      <th>129</th>\n",
       "      <td>9.662532</td>\n",
       "    </tr>\n",
       "    <tr>\n",
       "      <th>130</th>\n",
       "      <td>9.665745</td>\n",
       "    </tr>\n",
       "    <tr>\n",
       "      <th>131</th>\n",
       "      <td>9.675541</td>\n",
       "    </tr>\n",
       "    <tr>\n",
       "      <th>132</th>\n",
       "      <td>9.692717</td>\n",
       "    </tr>\n",
       "  </tbody>\n",
       "</table>\n",
       "<p>133 rows × 1 columns</p>\n",
       "</div>"
      ],
      "text/plain": [
       "     Temperature\n",
       "0      -2.549821\n",
       "1      -1.337103\n",
       "2       2.932079\n",
       "3      10.229815\n",
       "4      12.796774\n",
       "..           ...\n",
       "128     9.665146\n",
       "129     9.662532\n",
       "130     9.665745\n",
       "131     9.675541\n",
       "132     9.692717\n",
       "\n",
       "[133 rows x 1 columns]"
      ]
     },
     "execution_count": 67,
     "metadata": {},
     "output_type": "execute_result"
    }
   ],
   "source": [
    "tspred"
   ]
  },
  {
   "cell_type": "code",
   "execution_count": 81,
   "metadata": {},
   "outputs": [
    {
     "data": {
      "text/plain": [
       "array([10.0677759 , 10.05316045, 10.03623378, 10.01716946,  9.99616521,\n",
       "        9.97344362,  9.94925287,  9.92386748,  9.89758903,  9.87074692,\n",
       "        9.84369909,  9.81683274,  9.79056511,  9.76534417,  9.74164938,\n",
       "        9.71999244,  9.70091798,  9.68500433,  9.67286426,  9.66514569,\n",
       "        9.66253245,  9.665745  ,  9.67554116,  9.6927169 ])"
      ]
     },
     "execution_count": 81,
     "metadata": {},
     "output_type": "execute_result"
    }
   ],
   "source": []
  },
  {
   "cell_type": "code",
   "execution_count": 83,
   "metadata": {},
   "outputs": [],
   "source": [
    "y_pred = tspred[-testSize:].values.flatten()"
   ]
  },
  {
   "cell_type": "code",
   "execution_count": 84,
   "metadata": {},
   "outputs": [
    {
     "name": "stdout",
     "output_type": "stream",
     "text": [
      "RMSPE_PR 1159.2288378677908\n",
      "RSQ_PR -0.0063831454516967145\n"
     ]
    }
   ],
   "source": [
    "rmspe_PR = calc_rmspe(y_test, y_pred)\n",
    "rsq_PR =  r2_score(y_test, y_pred)\n",
    "print('RMSPE_PR '+str(rmspe_PR))\n",
    "print('RSQ_PR '+str(rsq_PR))"
   ]
  },
  {
   "cell_type": "markdown",
   "metadata": {},
   "source": [
    "### Fit to sin function"
   ]
  },
  {
   "cell_type": "code",
   "execution_count": 106,
   "metadata": {},
   "outputs": [],
   "source": [
    "# testing\n",
    "# https://towardsdatascience.com/fitting-cosine-sine-functions-with-machine-learning-in-python-610605d9b057"
   ]
  },
  {
   "cell_type": "code",
   "execution_count": 107,
   "metadata": {},
   "outputs": [],
   "source": [
    "import numpy as np\n",
    "seed = 12345512\n",
    "np.random.seed(seed)\n",
    "\n",
    "n = 100\n",
    "x_data = np.linspace(-5, 5, num=n)\n",
    "y_data = 10 + 5 * np.cos(3 * x_data + 2) + 1.5 * np.random.normal(size=n)"
   ]
  },
  {
   "cell_type": "code",
   "execution_count": 108,
   "metadata": {},
   "outputs": [],
   "source": [
    "values_scaledup =tsuv.values.flatten().astype(int)*1000\n",
    "x_data = np.array(range(tsuv.values.size))\n",
    "y_data = values_scaledup"
   ]
  },
  {
   "cell_type": "code",
   "execution_count": 109,
   "metadata": {},
   "outputs": [],
   "source": [
    "# random split the data into train and test\n",
    "from sklearn.model_selection import train_test_split\n",
    "X_train, X_test, y_train, y_test = x_data[:-24], x_data[-24:], y_data[:-24], y_data[-24:]"
   ]
  },
  {
   "cell_type": "code",
   "execution_count": null,
   "metadata": {},
   "outputs": [],
   "source": []
  },
  {
   "cell_type": "code",
   "execution_count": 110,
   "metadata": {},
   "outputs": [
    {
     "name": "stdout",
     "output_type": "stream",
     "text": [
      "Fitted parameters:\n"
     ]
    },
    {
     "data": {
      "text/latex": [
       "$\\displaystyle a_0=9069.35, a_1=-335.80, \\omega=-3.56, \\phi=547.89$"
      ],
      "text/plain": [
       "<IPython.core.display.Math object>"
      ]
     },
     "metadata": {},
     "output_type": "display_data"
    },
    {
     "name": "stdout",
     "output_type": "stream",
     "text": [
      "Original parameters:\n"
     ]
    },
    {
     "data": {
      "text/latex": [
       "$\\displaystyle a_0=10.00, a_1=5.00, \\omega=3.00, \\phi=2.00$"
      ],
      "text/plain": [
       "<IPython.core.display.Math object>"
      ]
     },
     "metadata": {},
     "output_type": "display_data"
    }
   ],
   "source": [
    "from scipy import optimize\n",
    "from IPython.display import display, Math\n",
    "\n",
    "def test_func(x, dist, amp, omega, phi):\n",
    "    return dist + amp * np.cos(omega * x + phi)\n",
    "\n",
    "params, params_covariance = optimize.curve_fit(test_func, x_data, y_data, p0=[1, 1, 2, 1])\n",
    "\n",
    "print('Fitted parameters:')\n",
    "display(Math('a_0={:.2f}, a_1={:.2f}, \\\\omega={:.2f}, \\\\phi={:.2f}'.format(*params)))\n",
    "print('Original parameters:')\n",
    "display(Math('a_0={:.2f}, a_1={:.2f}, \\\\omega={:.2f}, \\\\phi={:.2f}'.format(*[10.0, 5.0, 3.0, 2.0])))"
   ]
  },
  {
   "cell_type": "code",
   "execution_count": 111,
   "metadata": {},
   "outputs": [],
   "source": [
    "def objective(a0, a1, w, f):\n",
    "    \"\"\"Objective function to minimize\"\"\"\n",
    "    return np.mean((a0+ a1 * np.cos(w*X_train + f) - y_train)**2)\n",
    "\n",
    "def objective2(args):\n",
    "    return objective(*args)"
   ]
  },
  {
   "cell_type": "code",
   "execution_count": 112,
   "metadata": {},
   "outputs": [],
   "source": [
    "# ! pip install hyperopt"
   ]
  },
  {
   "cell_type": "code",
   "execution_count": 113,
   "metadata": {},
   "outputs": [
    {
     "name": "stdout",
     "output_type": "stream",
     "text": [
      "100%|█████████████████████████████████████████████| 500/500 [00:03<00:00, 134.27trial/s, best loss: 129240774.82530499]\n",
      "Fitted parameters:\n"
     ]
    },
    {
     "data": {
      "text/latex": [
       "$\\displaystyle a_0=12.22, a_1=9.73, \\omega=0.00, \\phi=-0.50$"
      ],
      "text/plain": [
       "<IPython.core.display.Math object>"
      ]
     },
     "metadata": {},
     "output_type": "display_data"
    },
    {
     "name": "stdout",
     "output_type": "stream",
     "text": [
      "Original parameters:\n"
     ]
    },
    {
     "data": {
      "text/latex": [
       "$\\displaystyle a_0=10.00, a_1=5.00, \\omega=3.00, \\phi=2.00$"
      ],
      "text/plain": [
       "<IPython.core.display.Math object>"
      ]
     },
     "metadata": {},
     "output_type": "display_data"
    }
   ],
   "source": [
    "from hyperopt import hp, tpe, Trials, fmin\n",
    "from IPython.display import display, Math\n",
    "\n",
    "space = [hp.uniform('a0', 5, 15),\n",
    "         hp.uniform('a1', 0, 10), \n",
    "         hp.uniform('w', 0, 10), \n",
    "         hp.uniform('f', -np.pi, np.pi)]\n",
    "\n",
    "tpe_algo = tpe.suggest\n",
    "tpe_trials = Trials()\n",
    "\n",
    "tpe_best = fmin(fn=objective2, space=space, algo=tpe_algo, trials=tpe_trials, max_evals=500, rstate=np.random.RandomState(seed))\n",
    "\n",
    "print('Fitted parameters:')\n",
    "display(Math('a_0={a0:.2f}, a_1={a1:.2f}, \\\\omega={w:.2f}, \\\\phi={f:.2f}'.format(**tpe_best)))\n",
    "print('Original parameters:')\n",
    "display(Math('a_0={:.2f}, a_1={:.2f}, \\\\omega={:.2f}, \\\\phi={:.2f}'.format(*[10.0, 5.0, 3.0, 2.0])))\n"
   ]
  },
  {
   "cell_type": "code",
   "execution_count": 114,
   "metadata": {},
   "outputs": [
    {
     "name": "stdout",
     "output_type": "stream",
     "text": [
      "Requirement already satisfied: HOBBIT in c:\\users\\emiel\\anaconda3\\lib\\site-packages (0.0.1a0)\n",
      "Requirement already satisfied: beautifulsoup4 in c:\\users\\emiel\\anaconda3\\lib\\site-packages (from HOBBIT) (4.8.0)\n",
      "Requirement already satisfied: soupsieve>=1.2 in c:\\users\\emiel\\anaconda3\\lib\\site-packages (from beautifulsoup4->HOBBIT) (1.9.3)\n"
     ]
    }
   ],
   "source": [
    "! pip install HOBBIT"
   ]
  },
  {
   "cell_type": "code",
   "execution_count": 115,
   "metadata": {},
   "outputs": [],
   "source": [
    "# https://github.com/Harmonic-Oscillator-hyBrid-fIT/HOBIT"
   ]
  },
  {
   "cell_type": "code",
   "execution_count": 116,
   "metadata": {},
   "outputs": [
    {
     "name": "stdout",
     "output_type": "stream",
     "text": [
      "100%|█████████████████████████████████████████████| 500/500 [00:03<00:00, 163.99trial/s, best loss: 14284937.445426818]\n",
      "Fitted parameters:\n"
     ]
    },
    {
     "data": {
      "text/latex": [
       "$\\displaystyle a_0=8886.59, a_1=9295.27, \\omega=0.52, \\phi=-2.61$"
      ],
      "text/plain": [
       "<IPython.core.display.Math object>"
      ]
     },
     "metadata": {},
     "output_type": "display_data"
    },
    {
     "name": "stdout",
     "output_type": "stream",
     "text": [
      "Original parameters:\n"
     ]
    },
    {
     "data": {
      "text/latex": [
       "$\\displaystyle a_0=10.00, a_1=5.00, \\omega=3.00, \\phi=2.00$"
      ],
      "text/plain": [
       "<IPython.core.display.Math object>"
      ]
     },
     "metadata": {},
     "output_type": "display_data"
    }
   ],
   "source": [
    "from HOBIT import RegressionForTrigonometric\n",
    "from IPython.display import display, Math\n",
    "\n",
    "trig_reg = RegressionForTrigonometric()\n",
    "trig_reg.fit_cos(X_train, y_train, max_evals=500, rstate=np.random.RandomState(seed))\n",
    "\n",
    "print('Fitted parameters:')\n",
    "display(Math('a_0={intercept:.2f}, a_1={amplitude:.2f}, \\\\omega={omega:.2f}, \\\\phi={phi:.2f}'.format(**trig_reg.best_parameters)))\n",
    "print('Original parameters:')\n",
    "display(Math('a_0={:.2f}, a_1={:.2f}, \\\\omega={:.2f}, \\\\phi={:.2f}'.format(*[10.0, 5.0, 3.0, 2.0])))\n"
   ]
  },
  {
   "cell_type": "code",
   "execution_count": 117,
   "metadata": {},
   "outputs": [
    {
     "data": {
      "text/plain": [
       "array([ 0.14177273, -0.2752886 ,  1.68880729,  5.52359501, 10.23241932,\n",
       "       14.59146427, 17.46782102, 18.11392902, 16.36186584, 12.66698989,\n",
       "        7.98959358,  3.54532475,  0.48924181, -0.38438415,  1.15150088,\n",
       "        4.69772281,  9.3326242 , 13.85160157, 17.08017986, 18.17925673,\n",
       "       16.86318384, 13.47400645,  8.89256636,  4.30957257])"
      ]
     },
     "execution_count": 117,
     "metadata": {},
     "output_type": "execute_result"
    }
   ],
   "source": [
    "y_pred"
   ]
  },
  {
   "cell_type": "code",
   "execution_count": 129,
   "metadata": {},
   "outputs": [
    {
     "data": {
      "text/plain": [
       "array([ 1.26899642,  0.70436508,  4.84641577,  8.30407407, 14.40860215,\n",
       "       16.79444444, 19.37795699, 19.51003584, 16.01537037,  8.44982079,\n",
       "        4.42925926,  2.16308244, -1.24157706,  4.42337165,  5.10985663,\n",
       "       10.66203704, 13.15734767, 17.97203704, 19.10017921, 18.36397849,\n",
       "       15.08777778,  8.48799283,  3.75981481,  0.17670251])"
      ]
     },
     "execution_count": 129,
     "metadata": {},
     "output_type": "execute_result"
    }
   ],
   "source": []
  },
  {
   "cell_type": "code",
   "execution_count": 130,
   "metadata": {},
   "outputs": [
    {
     "name": "stdout",
     "output_type": "stream",
     "text": [
      "rmspe: 482.237629623344\n",
      "r2: 0.7668160754594008\n"
     ]
    }
   ],
   "source": [
    "from sklearn.metrics import mean_squared_error, r2_score\n",
    "\n",
    "scaled_ypred = trig_reg.predict(X_test)\n",
    "\n",
    "y_pred = scaled_ypred/1000\n",
    "y_test = ts[-testSize:].values.flatten()\n",
    "\n",
    "rmspe_PR2 = calc_rmspe(y_test, y_pred)\n",
    "rsq_PR2 = r2_score(y_test,ypred)\n",
    "print('rmspe:', rmspe_PR2)\n",
    "print('r2:',rsq_PR2)"
   ]
  },
  {
   "cell_type": "code",
   "execution_count": 132,
   "metadata": {},
   "outputs": [
    {
     "data": {
      "image/png": "[encoded data removed]",
      "text/plain": [
       "<Figure size 432x288 with 1 Axes>"
      ]
     },
     "metadata": {
      "needs_background": "light"
     },
     "output_type": "display_data"
    }
   ],
   "source": [
    "full_graph(ypred)"
   ]
  },
  {
   "cell_type": "markdown",
   "metadata": {},
   "source": [
    "### Evaluation"
   ]
  },
  {
   "cell_type": "code",
   "execution_count": 133,
   "metadata": {},
   "outputs": [
    {
     "name": "stdout",
     "output_type": "stream",
     "text": [
      "ARIMA RMSE:\t 102.451\n",
      "ARIMA r2:\t 0.972\n",
      "\n",
      "SARIMAX RMSE:\t 154.524\n",
      "SARIMAX r2:\t 0.969\n",
      "\n",
      "LSTM RMSE:\t 95.471\n",
      "LSTM r2:\t 0.962\n",
      "\n",
      "PR RMSE:\t 1159.229\n",
      "PR r2:\t\t -0.006\n",
      "\n",
      "PR Sin RMSE:\t 482.238\n",
      "PR Sin r2:\t 0.767\n"
     ]
    }
   ],
   "source": [
    "print('ARIMA RMSE:\\t %.3f' % rmspe_ARIMA)\n",
    "print('ARIMA r2:\\t %.3f' % rsq_ARIMA)\n",
    "print()\n",
    "print('SARIMAX RMSE:\\t %.3f' % rmspe_SARIMAX)\n",
    "print('SARIMAX r2:\\t %.3f' % rsq_SARIMAX)\n",
    "print()\n",
    "print('LSTM RMSE:\\t %.3f' % rmspe_LSTM)\n",
    "print('LSTM r2:\\t %.3f' % rsq_LSTM)\n",
    "print()\n",
    "print('PR RMSE:\\t %.3f' % rmspe_PR)\n",
    "print('PR r2:\\t\\t %.3f' % rsq_PR)\n",
    "print()\n",
    "print('PR Sin RMSE:\\t %.3f' % rmspe_PR2)\n",
    "print('PR Sin r2:\\t %.3f' % rsq_PR2)"
   ]
  }
 ],
 "metadata": {
  "kernelspec": {
   "display_name": "Python 3",
   "language": "python",
   "name": "python3"
  },
  "language_info": {
   "codemirror_mode": {
    "name": "ipython",
    "version": 3
   },
   "file_extension": ".py",
   "mimetype": "text/x-python",
   "name": "python",
   "nbconvert_exporter": "python",
   "pygments_lexer": "ipython3",
   "version": "3.7.4"
  }
 },
 "nbformat": 4,
 "nbformat_minor": 2
}
