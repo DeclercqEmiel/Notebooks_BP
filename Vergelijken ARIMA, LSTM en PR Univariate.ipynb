{
 "cells": [
  {
   "cell_type": "raw",
   "metadata": {},
   "source": [
    "-testset\n",
    "    -1 year?\n",
    "    -3 years in one testset?\n",
    "    -3 years in several testsets and calculate average"
   ]
  },
  {
   "cell_type": "code",
   "execution_count": 1,
   "metadata": {},
   "outputs": [
    {
     "name": "stdout",
     "output_type": "stream",
     "text": [
      "2.3.0\n"
     ]
    }
   ],
   "source": [
    "import tensorflow as tf\n",
    "print(tf.__version__)"
   ]
  },
  {
   "cell_type": "code",
   "execution_count": 2,
   "metadata": {},
   "outputs": [],
   "source": [
    "import pandas as pd\n",
    "import numpy as np\n",
    "# matplotlib is the Python library for drawing diagrams\n",
    "import matplotlib.pylab as plt\n",
    "%matplotlib inline\n",
    "# set the size of the diagrams\n",
    "from matplotlib.pylab import rcParams\n",
    "rcParams['figure.figsize'] = 15,5"
   ]
  },
  {
   "cell_type": "markdown",
   "metadata": {},
   "source": [
    "## Dataprep"
   ]
  },
  {
   "cell_type": "raw",
   "metadata": {},
   "source": [
    "Prepare raw stockdata to usable stockdata for univariate forecasting"
   ]
  },
  {
   "cell_type": "code",
   "execution_count": 3,
   "metadata": {},
   "outputs": [],
   "source": [
    "# url = 'https://raw.githubusercontent.com/DeclercqEmiel/BP-csvs/master/googleStock.csv'\n",
    "# ts = pd.read_csv(url)"
   ]
  },
  {
   "cell_type": "code",
   "execution_count": 4,
   "metadata": {},
   "outputs": [],
   "source": [
    "# ts = ts[['Date','Open']]\n",
    "# ts = ts.rename(columns={\"Open\": \"Stock\"})\n",
    "# # tsuv['Date'] = pd.to_datetime(tsuv['Date'])"
   ]
  },
  {
   "cell_type": "code",
   "execution_count": 5,
   "metadata": {},
   "outputs": [],
   "source": [
    "# ts['Date'] = ts['Date'].str[:10]\n",
    "# ts = ts.drop_duplicates('Date')\n",
    "# ts['Date'] = ts['Date'].str[:7]\n",
    "# ts = ts.groupby('Date').mean()"
   ]
  },
  {
   "cell_type": "code",
   "execution_count": 6,
   "metadata": {},
   "outputs": [],
   "source": [
    "# ts.to_csv('tsuv.csv')"
   ]
  },
  {
   "cell_type": "code",
   "execution_count": 7,
   "metadata": {},
   "outputs": [
    {
     "name": "stdout",
     "output_type": "stream",
     "text": [
      "                Stock\n",
      "Date                 \n",
      "2004-08-01  52.502651\n",
      "2004-09-01  55.779496\n",
      "2004-10-01  75.960519\n",
      "2004-11-01  88.750200\n",
      "2004-12-01  90.359719\n"
     ]
    },
    {
     "name": "stderr",
     "output_type": "stream",
     "text": [
      "C:\\Users\\Emiel\\Anaconda3\\lib\\site-packages\\ipykernel_launcher.py:3: FutureWarning: The pandas.datetime class is deprecated and will be removed from pandas in a future version. Import from datetime module instead.\n",
      "  This is separate from the ipykernel package so we can avoid doing imports until\n"
     ]
    }
   ],
   "source": [
    "# convert the month-string to a date and use that date as an index\n",
    "url = 'https://raw.githubusercontent.com/DeclercqEmiel/BP-csvs/master/tsuv.csv'\n",
    "parser = lambda x: pd.datetime.strptime(x,'%Y-%m')\n",
    "tsuv = pd.read_csv(url, parse_dates=['Date'], index_col='Date',date_parser=parser)\n",
    "print(tsuv.head())"
   ]
  },
  {
   "cell_type": "code",
   "execution_count": 8,
   "metadata": {},
   "outputs": [
    {
     "data": {
      "text/html": [
       "<div>\n",
       "<style scoped>\n",
       "    .dataframe tbody tr th:only-of-type {\n",
       "        vertical-align: middle;\n",
       "    }\n",
       "\n",
       "    .dataframe tbody tr th {\n",
       "        vertical-align: top;\n",
       "    }\n",
       "\n",
       "    .dataframe thead th {\n",
       "        text-align: right;\n",
       "    }\n",
       "</style>\n",
       "<table border=\"1\" class=\"dataframe\">\n",
       "  <thead>\n",
       "    <tr style=\"text-align: right;\">\n",
       "      <th></th>\n",
       "      <th>Stock</th>\n",
       "    </tr>\n",
       "    <tr>\n",
       "      <th>Date</th>\n",
       "      <th></th>\n",
       "    </tr>\n",
       "  </thead>\n",
       "  <tbody>\n",
       "    <tr>\n",
       "      <th>2004-08-01</th>\n",
       "      <td>52.502651</td>\n",
       "    </tr>\n",
       "    <tr>\n",
       "      <th>2004-09-01</th>\n",
       "      <td>55.779496</td>\n",
       "    </tr>\n",
       "    <tr>\n",
       "      <th>2004-10-01</th>\n",
       "      <td>75.960519</td>\n",
       "    </tr>\n",
       "    <tr>\n",
       "      <th>2004-11-01</th>\n",
       "      <td>88.750200</td>\n",
       "    </tr>\n",
       "    <tr>\n",
       "      <th>2004-12-01</th>\n",
       "      <td>90.359719</td>\n",
       "    </tr>\n",
       "    <tr>\n",
       "      <th>...</th>\n",
       "      <td>...</td>\n",
       "    </tr>\n",
       "    <tr>\n",
       "      <th>2020-03-01</th>\n",
       "      <td>1183.330916</td>\n",
       "    </tr>\n",
       "    <tr>\n",
       "      <th>2020-04-01</th>\n",
       "      <td>1234.962623</td>\n",
       "    </tr>\n",
       "    <tr>\n",
       "      <th>2020-05-01</th>\n",
       "      <td>1377.211841</td>\n",
       "    </tr>\n",
       "    <tr>\n",
       "      <th>2020-06-01</th>\n",
       "      <td>1430.064559</td>\n",
       "    </tr>\n",
       "    <tr>\n",
       "      <th>2020-07-01</th>\n",
       "      <td>1493.339996</td>\n",
       "    </tr>\n",
       "  </tbody>\n",
       "</table>\n",
       "<p>192 rows × 1 columns</p>\n",
       "</div>"
      ],
      "text/plain": [
       "                  Stock\n",
       "Date                   \n",
       "2004-08-01    52.502651\n",
       "2004-09-01    55.779496\n",
       "2004-10-01    75.960519\n",
       "2004-11-01    88.750200\n",
       "2004-12-01    90.359719\n",
       "...                 ...\n",
       "2020-03-01  1183.330916\n",
       "2020-04-01  1234.962623\n",
       "2020-05-01  1377.211841\n",
       "2020-06-01  1430.064559\n",
       "2020-07-01  1493.339996\n",
       "\n",
       "[192 rows x 1 columns]"
      ]
     },
     "execution_count": 8,
     "metadata": {},
     "output_type": "execute_result"
    }
   ],
   "source": [
    "tsuv"
   ]
  },
  {
   "cell_type": "code",
   "execution_count": 9,
   "metadata": {},
   "outputs": [],
   "source": [
    "tsuv = tsuv.sort_values('Date')"
   ]
  },
  {
   "cell_type": "code",
   "execution_count": 10,
   "metadata": {},
   "outputs": [
    {
     "data": {
      "text/plain": [
       "[<matplotlib.lines.Line2D at 0x2559729e408>]"
      ]
     },
     "execution_count": 10,
     "metadata": {},
     "output_type": "execute_result"
    },
    {
     "data": {
      "image/png": "[encoded data removed]",
      "text/plain": [
       "<Figure size 432x288 with 1 Axes>"
      ]
     },
     "metadata": {
      "needs_background": "light"
     },
     "output_type": "display_data"
    }
   ],
   "source": [
    "plt.plot(tsuv)"
   ]
  },
  {
   "cell_type": "code",
   "execution_count": 11,
   "metadata": {},
   "outputs": [],
   "source": [
    "# Define train and testset\n",
    "X = tsuv.values\n",
    "testSize = 24\n",
    "size = len(tsuv.values)\n",
    "train, test = X[:-testSize], X[-testSize:]  # first 2/3 = training set, remaining 1/3 = test set"
   ]
  },
  {
   "cell_type": "code",
   "execution_count": 12,
   "metadata": {},
   "outputs": [
    {
     "data": {
      "text/plain": [
       "array([[  52.50265122],\n",
       "       [  55.77949648],\n",
       "       [  75.96051933],\n",
       "       [  88.75019976],\n",
       "       [  90.35971868],\n",
       "       [  96.3595707 ],\n",
       "       [  97.52419274],\n",
       "       [  90.50893232],\n",
       "       [  99.0888291 ],\n",
       "       [ 118.35826948],\n",
       "       [ 143.19486168],\n",
       "       [ 148.73600235],\n",
       "       [ 142.7871897 ],\n",
       "       [ 151.1494089 ],\n",
       "       [ 160.731111  ],\n",
       "       [ 198.60368057],\n",
       "       [ 209.35575938],\n",
       "       [ 222.63202135],\n",
       "       [ 184.99448984],\n",
       "       [ 179.15197361],\n",
       "       [ 206.58960037],\n",
       "       [ 192.55824491],\n",
       "       [ 195.52734173],\n",
       "       [ 201.80807405],\n",
       "       [ 188.21885752],\n",
       "       [ 197.60159145],\n",
       "       [ 218.75958186],\n",
       "       [ 241.91372467],\n",
       "       [ 236.9496049 ],\n",
       "       [ 244.2310615 ],\n",
       "       [ 234.05297374],\n",
       "       [ 225.41916455],\n",
       "       [ 235.5769981 ],\n",
       "       [ 235.31480136],\n",
       "       [ 256.34653367],\n",
       "       [ 265.14497952],\n",
       "       [ 254.05404796],\n",
       "       [ 267.98211516],\n",
       "       [ 315.33067261],\n",
       "       [ 338.64922943],\n",
       "       [ 347.0297485 ],\n",
       "       [ 306.72247029],\n",
       "       [ 251.5735388 ],\n",
       "       [ 219.60212625],\n",
       "       [ 247.46494023],\n",
       "       [ 287.77373681],\n",
       "       [ 278.11659905],\n",
       "       [ 254.79949459],\n",
       "       [ 242.05581005],\n",
       "       [ 217.31260252],\n",
       "       [ 180.25154591],\n",
       "       [ 152.747989  ],\n",
       "       [ 148.65258518],\n",
       "       [ 158.17362525],\n",
       "       [ 173.67035632],\n",
       "       [ 163.7104645 ],\n",
       "       [ 187.02588543],\n",
       "       [ 199.2028397 ],\n",
       "       [ 210.98644268],\n",
       "       [ 212.37306286],\n",
       "       [ 228.05543014],\n",
       "       [ 239.11777671],\n",
       "       [ 264.00476209],\n",
       "       [ 281.30683905],\n",
       "       [ 298.56884623],\n",
       "       [ 289.99617895],\n",
       "       [ 266.68041347],\n",
       "       [ 278.54377817],\n",
       "       [ 278.10236462],\n",
       "       [ 249.227835  ],\n",
       "       [ 242.34232405],\n",
       "       [ 235.07910286],\n",
       "       [ 239.03449464],\n",
       "       [ 245.55981814],\n",
       "       [ 286.6202001 ],\n",
       "       [ 301.06415676],\n",
       "       [ 294.99179627],\n",
       "       [ 307.13926845],\n",
       "       [ 306.53314521],\n",
       "       [ 290.82946257],\n",
       "       [ 276.97233585],\n",
       "       [ 263.9224229 ],\n",
       "       [ 251.10017673],\n",
       "       [ 284.3763398 ],\n",
       "       [ 274.20265457],\n",
       "       [ 265.14830167],\n",
       "       [ 278.88063986],\n",
       "       [ 295.97964048],\n",
       "       [ 311.97374467],\n",
       "       [ 307.3542129 ],\n",
       "       [ 301.3529556 ],\n",
       "       [ 312.1033435 ],\n",
       "       [ 309.49867545],\n",
       "       [ 301.88346732],\n",
       "       [ 284.5818889 ],\n",
       "       [ 296.09089581],\n",
       "       [ 328.42983357],\n",
       "       [ 356.25414574],\n",
       "       [ 363.96979776],\n",
       "       [ 333.63991143],\n",
       "       [ 350.5146851 ],\n",
       "       [ 365.39232819],\n",
       "       [ 390.51205758],\n",
       "       [ 407.79872435],\n",
       "       [ 396.12816959],\n",
       "       [ 435.65659959],\n",
       "       [ 437.53152305],\n",
       "       [ 449.12158064],\n",
       "       [ 436.98412123],\n",
       "       [ 440.61297925],\n",
       "       [ 466.11311535],\n",
       "       [ 513.1052491 ],\n",
       "       [ 539.63137086],\n",
       "       [ 567.65300648],\n",
       "       [ 592.47268826],\n",
       "       [ 593.04930181],\n",
       "       [ 542.48109367],\n",
       "       [ 531.67647152],\n",
       "       [ 556.31644114],\n",
       "       [ 582.54743545],\n",
       "       [ 572.58178129],\n",
       "       [ 579.9705519 ],\n",
       "       [ 546.83474991],\n",
       "       [ 542.76877642],\n",
       "       [ 523.53173964],\n",
       "       [ 511.8193008 ],\n",
       "       [ 534.44845421],\n",
       "       [ 558.82528959],\n",
       "       [ 539.96681143],\n",
       "       [ 535.4705017 ],\n",
       "       [ 533.83477241],\n",
       "       [ 588.20045614],\n",
       "       [ 639.42724019],\n",
       "       [ 618.796192  ],\n",
       "       [ 662.28591077],\n",
       "       [ 733.6360016 ],\n",
       "       [ 756.09954009],\n",
       "       [ 719.50315142],\n",
       "       [ 706.34900205],\n",
       "       [ 725.265453  ],\n",
       "       [ 738.44571081],\n",
       "       [ 709.89333086],\n",
       "       [ 707.73590923],\n",
       "       [ 724.1904998 ],\n",
       "       [ 774.4826103 ],\n",
       "       [ 772.89476086],\n",
       "       [ 790.29428252],\n",
       "       [ 768.06856857],\n",
       "       [ 782.31286319],\n",
       "       [ 807.5259979 ],\n",
       "       [ 815.31630984],\n",
       "       [ 834.15217657],\n",
       "       [ 842.56052442],\n",
       "       [ 936.69454391],\n",
       "       [ 956.55954541],\n",
       "       [ 941.703     ],\n",
       "       [ 921.66130004],\n",
       "       [ 930.870996  ],\n",
       "       [ 981.91999677],\n",
       "       [1028.79238467],\n",
       "       [1042.87898555],\n",
       "       [1127.20094514],\n",
       "       [1088.62947158],\n",
       "       [1096.10808457],\n",
       "       [1038.41523667],\n",
       "       [1064.02137627],\n",
       "       [1136.39618219],\n",
       "       [1183.46427995]])"
      ]
     },
     "execution_count": 12,
     "metadata": {},
     "output_type": "execute_result"
    }
   ],
   "source": [
    "train"
   ]
  },
  {
   "cell_type": "code",
   "execution_count": 13,
   "metadata": {},
   "outputs": [],
   "source": [
    "ts = tsuv.squeeze()"
   ]
  },
  {
   "cell_type": "code",
   "execution_count": 14,
   "metadata": {},
   "outputs": [
    {
     "data": {
      "text/html": [
       "<div>\n",
       "<style scoped>\n",
       "    .dataframe tbody tr th:only-of-type {\n",
       "        vertical-align: middle;\n",
       "    }\n",
       "\n",
       "    .dataframe tbody tr th {\n",
       "        vertical-align: top;\n",
       "    }\n",
       "\n",
       "    .dataframe thead th {\n",
       "        text-align: right;\n",
       "    }\n",
       "</style>\n",
       "<table border=\"1\" class=\"dataframe\">\n",
       "  <thead>\n",
       "    <tr style=\"text-align: right;\">\n",
       "      <th></th>\n",
       "      <th>Stock</th>\n",
       "    </tr>\n",
       "    <tr>\n",
       "      <th>Date</th>\n",
       "      <th></th>\n",
       "    </tr>\n",
       "  </thead>\n",
       "  <tbody>\n",
       "    <tr>\n",
       "      <th>2004-08-01</th>\n",
       "      <td>52.502651</td>\n",
       "    </tr>\n",
       "    <tr>\n",
       "      <th>2004-09-01</th>\n",
       "      <td>55.779496</td>\n",
       "    </tr>\n",
       "    <tr>\n",
       "      <th>2004-10-01</th>\n",
       "      <td>75.960519</td>\n",
       "    </tr>\n",
       "    <tr>\n",
       "      <th>2004-11-01</th>\n",
       "      <td>88.750200</td>\n",
       "    </tr>\n",
       "    <tr>\n",
       "      <th>2004-12-01</th>\n",
       "      <td>90.359719</td>\n",
       "    </tr>\n",
       "    <tr>\n",
       "      <th>...</th>\n",
       "      <td>...</td>\n",
       "    </tr>\n",
       "    <tr>\n",
       "      <th>2020-03-01</th>\n",
       "      <td>1183.330916</td>\n",
       "    </tr>\n",
       "    <tr>\n",
       "      <th>2020-04-01</th>\n",
       "      <td>1234.962623</td>\n",
       "    </tr>\n",
       "    <tr>\n",
       "      <th>2020-05-01</th>\n",
       "      <td>1377.211841</td>\n",
       "    </tr>\n",
       "    <tr>\n",
       "      <th>2020-06-01</th>\n",
       "      <td>1430.064559</td>\n",
       "    </tr>\n",
       "    <tr>\n",
       "      <th>2020-07-01</th>\n",
       "      <td>1493.339996</td>\n",
       "    </tr>\n",
       "  </tbody>\n",
       "</table>\n",
       "<p>192 rows × 1 columns</p>\n",
       "</div>"
      ],
      "text/plain": [
       "                  Stock\n",
       "Date                   \n",
       "2004-08-01    52.502651\n",
       "2004-09-01    55.779496\n",
       "2004-10-01    75.960519\n",
       "2004-11-01    88.750200\n",
       "2004-12-01    90.359719\n",
       "...                 ...\n",
       "2020-03-01  1183.330916\n",
       "2020-04-01  1234.962623\n",
       "2020-05-01  1377.211841\n",
       "2020-06-01  1430.064559\n",
       "2020-07-01  1493.339996\n",
       "\n",
       "[192 rows x 1 columns]"
      ]
     },
     "execution_count": 14,
     "metadata": {},
     "output_type": "execute_result"
    }
   ],
   "source": [
    "tsuv"
   ]
  },
  {
   "cell_type": "markdown",
   "metadata": {},
   "source": [
    "### Define testing methods"
   ]
  },
  {
   "cell_type": "code",
   "execution_count": 15,
   "metadata": {},
   "outputs": [],
   "source": [
    "def calc_rmspe(y_true, y_pred):\n",
    "    return np.sqrt(np.mean(np.square(((y_true - y_pred) / y_true)), axis=0)) * 100"
   ]
  },
  {
   "cell_type": "markdown",
   "metadata": {},
   "source": [
    "### ARIMA"
   ]
  },
  {
   "cell_type": "code",
   "execution_count": 16,
   "metadata": {},
   "outputs": [
    {
     "data": {
      "image/png": "[encoded data removed]",
      "text/plain": [
       "<Figure size 432x288 with 1 Axes>"
      ]
     },
     "metadata": {
      "needs_background": "light"
     },
     "output_type": "display_data"
    }
   ],
   "source": [
    "# We check how stationary a dataset is first because most models assume that datasets are stationary\n",
    "# Stationarity is very strictly defined but for this practical example we can assume the time series is stationary\n",
    "# if we have a constant mean and variance\n",
    "\n",
    "def test_stationarity(timeseries):\n",
    "    \n",
    "    # Determing rolling statistics\n",
    "    rolmean = timeseries.rolling(12).mean()\n",
    "    rolstd = timeseries.rolling(12).std()\n",
    "\n",
    "    # Plot rolling statistics:\n",
    "    orig = plt.plot(timeseries, color='blue',label='Original')\n",
    "    mean = plt.plot(rolmean, color='red', label='Rolling Mean')\n",
    "    std = plt.plot(rolstd, color='black', label = 'Rolling Std')\n",
    "    plt.legend(loc='best')\n",
    "    plt.title('Rolling Mean & Standard Deviation')\n",
    "    plt.show(block=False)\n",
    "    \n",
    "test_stationarity(tsuv)"
   ]
  },
  {
   "cell_type": "markdown",
   "metadata": {},
   "source": [
    "The variance seems to be pretty constant but the mean is heavily rising so we can conclude this data is not stationary"
   ]
  },
  {
   "cell_type": "code",
   "execution_count": 17,
   "metadata": {},
   "outputs": [
    {
     "data": {
      "text/html": [
       "<div>\n",
       "<style scoped>\n",
       "    .dataframe tbody tr th:only-of-type {\n",
       "        vertical-align: middle;\n",
       "    }\n",
       "\n",
       "    .dataframe tbody tr th {\n",
       "        vertical-align: top;\n",
       "    }\n",
       "\n",
       "    .dataframe thead th {\n",
       "        text-align: right;\n",
       "    }\n",
       "</style>\n",
       "<table border=\"1\" class=\"dataframe\">\n",
       "  <thead>\n",
       "    <tr style=\"text-align: right;\">\n",
       "      <th></th>\n",
       "      <th>Stock</th>\n",
       "    </tr>\n",
       "    <tr>\n",
       "      <th>Date</th>\n",
       "      <th></th>\n",
       "    </tr>\n",
       "  </thead>\n",
       "  <tbody>\n",
       "    <tr>\n",
       "      <th>2004-08-01</th>\n",
       "      <td>NaN</td>\n",
       "    </tr>\n",
       "    <tr>\n",
       "      <th>2004-09-01</th>\n",
       "      <td>NaN</td>\n",
       "    </tr>\n",
       "    <tr>\n",
       "      <th>2004-10-01</th>\n",
       "      <td>NaN</td>\n",
       "    </tr>\n",
       "    <tr>\n",
       "      <th>2004-11-01</th>\n",
       "      <td>NaN</td>\n",
       "    </tr>\n",
       "    <tr>\n",
       "      <th>2004-12-01</th>\n",
       "      <td>NaN</td>\n",
       "    </tr>\n",
       "    <tr>\n",
       "      <th>2005-01-01</th>\n",
       "      <td>NaN</td>\n",
       "    </tr>\n",
       "    <tr>\n",
       "      <th>2005-02-01</th>\n",
       "      <td>NaN</td>\n",
       "    </tr>\n",
       "    <tr>\n",
       "      <th>2005-03-01</th>\n",
       "      <td>NaN</td>\n",
       "    </tr>\n",
       "    <tr>\n",
       "      <th>2005-04-01</th>\n",
       "      <td>NaN</td>\n",
       "    </tr>\n",
       "    <tr>\n",
       "      <th>2005-05-01</th>\n",
       "      <td>NaN</td>\n",
       "    </tr>\n",
       "    <tr>\n",
       "      <th>2005-06-01</th>\n",
       "      <td>NaN</td>\n",
       "    </tr>\n",
       "    <tr>\n",
       "      <th>2005-07-01</th>\n",
       "      <td>52.309065</td>\n",
       "    </tr>\n",
       "    <tr>\n",
       "      <th>2005-08-01</th>\n",
       "      <td>38.836541</td>\n",
       "    </tr>\n",
       "    <tr>\n",
       "      <th>2005-09-01</th>\n",
       "      <td>39.251268</td>\n",
       "    </tr>\n",
       "    <tr>\n",
       "      <th>2005-10-01</th>\n",
       "      <td>41.768754</td>\n",
       "    </tr>\n",
       "    <tr>\n",
       "      <th>2005-11-01</th>\n",
       "      <td>70.486867</td>\n",
       "    </tr>\n",
       "    <tr>\n",
       "      <th>2005-12-01</th>\n",
       "      <td>71.322609</td>\n",
       "    </tr>\n",
       "    <tr>\n",
       "      <th>2006-01-01</th>\n",
       "      <td>74.076166</td>\n",
       "    </tr>\n",
       "    <tr>\n",
       "      <th>2006-02-01</th>\n",
       "      <td>29.149444</td>\n",
       "    </tr>\n",
       "    <tr>\n",
       "      <th>2006-03-01</th>\n",
       "      <td>15.920007</td>\n",
       "    </tr>\n",
       "    <tr>\n",
       "      <th>2006-04-01</th>\n",
       "      <td>34.399236</td>\n",
       "    </tr>\n",
       "    <tr>\n",
       "      <th>2006-05-01</th>\n",
       "      <td>14.184550</td>\n",
       "    </tr>\n",
       "    <tr>\n",
       "      <th>2006-06-01</th>\n",
       "      <td>12.792606</td>\n",
       "    </tr>\n",
       "    <tr>\n",
       "      <th>2006-07-01</th>\n",
       "      <td>14.650666</td>\n",
       "    </tr>\n",
       "  </tbody>\n",
       "</table>\n",
       "</div>"
      ],
      "text/plain": [
       "                Stock\n",
       "Date                 \n",
       "2004-08-01        NaN\n",
       "2004-09-01        NaN\n",
       "2004-10-01        NaN\n",
       "2004-11-01        NaN\n",
       "2004-12-01        NaN\n",
       "2005-01-01        NaN\n",
       "2005-02-01        NaN\n",
       "2005-03-01        NaN\n",
       "2005-04-01        NaN\n",
       "2005-05-01        NaN\n",
       "2005-06-01        NaN\n",
       "2005-07-01  52.309065\n",
       "2005-08-01  38.836541\n",
       "2005-09-01  39.251268\n",
       "2005-10-01  41.768754\n",
       "2005-11-01  70.486867\n",
       "2005-12-01  71.322609\n",
       "2006-01-01  74.076166\n",
       "2006-02-01  29.149444\n",
       "2006-03-01  15.920007\n",
       "2006-04-01  34.399236\n",
       "2006-05-01  14.184550\n",
       "2006-06-01  12.792606\n",
       "2006-07-01  14.650666"
      ]
     },
     "execution_count": 17,
     "metadata": {},
     "output_type": "execute_result"
    }
   ],
   "source": [
    "# We can calculate the difference between the original values and the moving average to make the data more stationary\n",
    "moving_avg = tsuv.rolling(12).mean()\n",
    "ts_moving_avg_diff = tsuv - moving_avg\n",
    "ts_moving_avg_diff.head(24)"
   ]
  },
  {
   "cell_type": "code",
   "execution_count": 18,
   "metadata": {},
   "outputs": [
    {
     "data": {
      "image/png": "[encoded data removed]",
      "text/plain": [
       "<Figure size 432x288 with 1 Axes>"
      ]
     },
     "metadata": {
      "needs_background": "light"
     },
     "output_type": "display_data"
    }
   ],
   "source": [
    "# Lets drop these NaN values and check the plots to test stationarity by \n",
    "# using the function \"test_stationarity\" we defined earlier\n",
    "ts_moving_avg_diff.dropna(inplace=True)\n",
    "test_stationarity(ts_moving_avg_diff)"
   ]
  },
  {
   "cell_type": "markdown",
   "metadata": {},
   "source": [
    "Even though this still varies quite a bit its a way better dataset then the previous one so using differencing on the rolling average will increase the stationarity of the dataset "
   ]
  },
  {
   "cell_type": "markdown",
   "metadata": {},
   "source": [
    "We can reduce the stationarity even futher by **differencing**, which means subtracting each value from a timestep from the value of a subsequent timestep"
   ]
  },
  {
   "cell_type": "code",
   "execution_count": 19,
   "metadata": {},
   "outputs": [
    {
     "data": {
      "text/plain": [
       "Date\n",
       "2004-08-01      52.502651\n",
       "2004-09-01      55.779496\n",
       "2004-10-01      75.960519\n",
       "2004-11-01      88.750200\n",
       "2004-12-01      90.359719\n",
       "                 ...     \n",
       "2020-03-01    1183.330916\n",
       "2020-04-01    1234.962623\n",
       "2020-05-01    1377.211841\n",
       "2020-06-01    1430.064559\n",
       "2020-07-01    1493.339996\n",
       "Name: Stock, Length: 192, dtype: float64"
      ]
     },
     "execution_count": 19,
     "metadata": {},
     "output_type": "execute_result"
    }
   ],
   "source": [
    "ts"
   ]
  },
  {
   "cell_type": "code",
   "execution_count": 20,
   "metadata": {},
   "outputs": [
    {
     "name": "stdout",
     "output_type": "stream",
     "text": [
      "Date\n",
      "2004-08-01    52.502651\n",
      "2004-09-01    55.779496\n",
      "2004-10-01    75.960519\n",
      "2004-11-01    88.750200\n",
      "2004-12-01    90.359719\n",
      "Name: Stock, dtype: float64\n",
      "\n",
      "Date\n",
      "2004-08-01          NaN\n",
      "2004-09-01    52.502651\n",
      "2004-10-01    55.779496\n",
      "2004-11-01    75.960519\n",
      "2004-12-01    88.750200\n",
      "Name: Stock, dtype: float64\n",
      "\n",
      "Date\n",
      "2004-08-01          NaN\n",
      "2004-09-01     3.276845\n",
      "2004-10-01    20.181023\n",
      "2004-11-01    12.789680\n",
      "2004-12-01     1.609519\n",
      "Name: Stock, dtype: float64\n"
     ]
    },
    {
     "data": {
      "text/plain": [
       "[<matplotlib.lines.Line2D at 0x25597418f08>]"
      ]
     },
     "execution_count": 20,
     "metadata": {},
     "output_type": "execute_result"
    },
    {
     "data": {
      "image/png": "[encoded data removed]",
      "text/plain": [
       "<Figure size 432x288 with 1 Axes>"
      ]
     },
     "metadata": {
      "needs_background": "light"
     },
     "output_type": "display_data"
    }
   ],
   "source": [
    "print(ts.head(5))\n",
    "print()\n",
    "print(ts.shift(1).head(5))\n",
    "\n",
    "# ts.shift(1) return the previous value in the series\n",
    "ts_diff = ts - ts.shift(1)  \n",
    "print()\n",
    "print(ts_diff.head(5))\n",
    "plt.plot(ts_diff)"
   ]
  },
  {
   "cell_type": "code",
   "execution_count": 21,
   "metadata": {},
   "outputs": [
    {
     "data": {
      "image/png": "[encoded data removed]",
      "text/plain": [
       "<Figure size 432x288 with 1 Axes>"
      ]
     },
     "metadata": {
      "needs_background": "light"
     },
     "output_type": "display_data"
    }
   ],
   "source": [
    "# subtracting from previous values causes NaN-values at the beginning\n",
    "ts_diff.dropna(inplace=True)  \n",
    "test_stationarity(ts_diff)"
   ]
  },
  {
   "cell_type": "markdown",
   "metadata": {},
   "source": [
    "Now we can consider this a stationary timeseries"
   ]
  },
  {
   "cell_type": "markdown",
   "metadata": {},
   "source": [
    "Now we can fit the time series to our ARIMA model"
   ]
  },
  {
   "cell_type": "code",
   "execution_count": 22,
   "metadata": {},
   "outputs": [
    {
     "name": "stderr",
     "output_type": "stream",
     "text": [
      "C:\\Users\\Emiel\\Anaconda3\\lib\\site-packages\\statsmodels\\tools\\_testing.py:19: FutureWarning: pandas.util.testing is deprecated. Use the functions in the public API at pandas.testing instead.\n",
      "  import pandas.util.testing as tm\n",
      "C:\\Users\\Emiel\\Anaconda3\\lib\\site-packages\\statsmodels\\tsa\\base\\tsa_model.py:165: ValueWarning: No frequency information was provided, so inferred frequency MS will be used.\n",
      "  % freq, ValueWarning)\n",
      "C:\\Users\\Emiel\\Anaconda3\\lib\\site-packages\\statsmodels\\tsa\\base\\tsa_model.py:165: ValueWarning: No frequency information was provided, so inferred frequency MS will be used.\n",
      "  % freq, ValueWarning)\n"
     ]
    },
    {
     "data": {
      "image/png": "[encoded data removed]",
      "text/plain": [
       "<Figure size 432x288 with 1 Axes>"
      ]
     },
     "metadata": {
      "needs_background": "light"
     },
     "output_type": "display_data"
    },
    {
     "name": "stdout",
     "output_type": "stream",
     "text": [
      "                0\n",
      "count  191.000000\n",
      "mean     0.028884\n",
      "std     33.875604\n",
      "min   -240.704146\n",
      "25%    -15.864535\n",
      "50%      0.248791\n",
      "75%     12.774970\n",
      "max    114.537591\n"
     ]
    }
   ],
   "source": [
    "from statsmodels.tsa.arima_model import ARIMA\n",
    "\n",
    "# fit model\n",
    "model = ARIMA(tsuv, order=(6,1,1))  # MS = month start\n",
    "model_fit = model.fit(disp=0)\n",
    "# plot residual errors\n",
    "residuals = pd.DataFrame(model_fit.resid)\n",
    "plt.plot(residuals)\n",
    "plt.show()\n",
    "print(residuals.describe())"
   ]
  },
  {
   "cell_type": "code",
   "execution_count": 66,
   "metadata": {},
   "outputs": [
    {
     "name": "stdout",
     "output_type": "stream",
     "text": [
      "\n",
      "Test RMSPE: 8.151\n",
      "R square: 0.4103283236152291\n"
     ]
    }
   ],
   "source": [
    "from math import sqrt\n",
    "import math\n",
    "from sklearn.metrics import mean_squared_error,r2_score\n",
    "\n",
    "history = [x for x in train]\n",
    "trainAndPredictions = train\n",
    "predictions = list()\n",
    "\n",
    "# test extra parameter in forecast\n",
    "model = ARIMA(history, order=(3,1,1))\n",
    "model_fit = model.fit(disp=0)\n",
    "predictions = model_fit.forecast(steps = len(test))[0]\n",
    "\n",
    "print()\n",
    "rmspe_ARIMA = calc_rmspe(test.flatten(), predictions)\n",
    "print('Test RMSPE: %.3f' % rmspe_ARIMA)\n",
    "r2_ARIMA = r2_score(test,predictions)\n",
    "print('R square: ' + str(r2_ARIMA))  "
   ]
  },
  {
   "cell_type": "code",
   "execution_count": 67,
   "metadata": {},
   "outputs": [
    {
     "data": {
      "image/png": "[encoded data removed]",
      "text/plain": [
       "<Figure size 432x288 with 1 Axes>"
      ]
     },
     "metadata": {
      "needs_background": "light"
     },
     "output_type": "display_data"
    }
   ],
   "source": [
    "# plot\n",
    "plt.plot(test,color='blue')\n",
    "plt.plot(predictions, color='red')\n",
    "plt.show()"
   ]
  },
  {
   "cell_type": "code",
   "execution_count": 68,
   "metadata": {},
   "outputs": [],
   "source": [
    "# from sklearn.metrics import mean_squared_error,r2_score\n",
    "# import itertools\n",
    "# import warnings\n",
    "# import sys\n",
    "\n",
    "\n",
    "# # Define the p, d and q parameters to take any value between 0 and 2\n",
    "# p = d = q = range(0, 6)\n",
    "\n",
    "# # Generate all different combinations of p, q and q triplets\n",
    "# pdq = list(itertools.product(p, d, q))\n",
    "# best_pdq = pdq\n",
    "# best_r2 = -2\n",
    "# warnings.filterwarnings(\"ignore\") # specify to ignore warning messages\n",
    "# for param in pdq:\n",
    "#     history = [x for x in train]\n",
    "#     predictions = list()\n",
    "#     print(param)\n",
    "#     try:   # some parametercombinations might lead to crash, so catch exceptions and continue\n",
    "#         for t in range(len(test)):\n",
    "#             model = ARIMA(history, order=param)\n",
    "#             model_fit = model.fit(disp=0)\n",
    "#             output = model_fit.forecast()\n",
    "#             yt = output[0]\n",
    "#             predictions.append(yt)\n",
    "#             obs = test[t]\n",
    "#             history.append(yt)\n",
    "#         r2 = r2_score(test,predictions)\n",
    "        \n",
    "#         print('R square: ' + str(r2))    \n",
    "#         if r2 > best_r2:\n",
    "#             best_r2 = r2\n",
    "#             best_pdq = param\n",
    "#             best_predictions = predictions\n",
    "#             best_rmse = sqrt(mean_squared_error(test, predictions))\n",
    "            \n",
    "#     except Exception as e:\n",
    "#         print(e)\n",
    "#         continue\n",
    "   \n",
    "# # plot\n",
    "# print('Best R2 = ' + str(best_r2))\n",
    "# print('Best rmse = ' + str(best_rmse))\n",
    "# print(best_pdq)\n",
    "# plt.plot(test,color='blue')\n",
    "# plt.plot(best_predictions, color='red')\n",
    "# plt.show()"
   ]
  },
  {
   "cell_type": "code",
   "execution_count": 69,
   "metadata": {},
   "outputs": [],
   "source": [
    "# Negative r2 means its a bad model and fits the data worse than a horizonal line"
   ]
  },
  {
   "cell_type": "code",
   "execution_count": 70,
   "metadata": {},
   "outputs": [],
   "source": [
    "# Test possible parameter combinations with try catch"
   ]
  },
  {
   "cell_type": "code",
   "execution_count": 71,
   "metadata": {},
   "outputs": [
    {
     "data": {
      "image/png": "[encoded data removed]",
      "text/plain": [
       "<Figure size 432x288 with 1 Axes>"
      ]
     },
     "metadata": {
      "needs_background": "light"
     },
     "output_type": "display_data"
    }
   ],
   "source": [
    "def full_graph(predicted):\n",
    "    predictionsArray = np.asarray(predicted).reshape(testSize) \n",
    "    zerosArray = np.zeros(tsuv.values.size-len(predictionsArray.flatten()))\n",
    "    cleanPrediction = pd.Series(np.concatenate((zerosArray,predictionsArray))).replace(0,np.NaN)\n",
    "\n",
    "    # plot\n",
    "    plt.plot(tsuv.values,color='blue',label='Actual values')\n",
    "    plt.plot(cleanPrediction, color='red',label='Predicted values')\n",
    "    plt.legend()\n",
    "\n",
    "    plt.show()\n",
    "full_graph(predictions)"
   ]
  },
  {
   "cell_type": "markdown",
   "metadata": {},
   "source": [
    "### LSTM"
   ]
  },
  {
   "cell_type": "code",
   "execution_count": 72,
   "metadata": {},
   "outputs": [],
   "source": [
    "# Fit data to LSTM multi step prediction because this is a chained one step prediction"
   ]
  },
  {
   "cell_type": "code",
   "execution_count": 73,
   "metadata": {},
   "outputs": [],
   "source": [
    "import numpy as np\n",
    "\n",
    "# univariate multi-step encoder-decoder convlstm\n",
    "from math import sqrt\n",
    "from numpy import split\n",
    "from numpy import array\n",
    "from pandas import read_csv\n",
    "from sklearn.metrics import mean_squared_error\n",
    "from matplotlib import pyplot\n",
    "from keras.models import Sequential\n",
    "from keras.layers import Dense\n",
    "from keras.layers import Flatten\n",
    "from keras.layers import LSTM\n",
    "from keras.layers import RepeatVector\n",
    "from keras.layers import TimeDistributed\n",
    "from keras.layers import ConvLSTM2D\n",
    "\n",
    "def calc_rmspe(y_true, y_pred):\n",
    "    return np.sqrt(np.mean(np.square(((y_true - y_pred) / y_true)), axis=0)) * 100\n",
    "\n",
    "def monitor(name, variable):\n",
    "    print(name)\n",
    "    print(type(variable))\n",
    "    print(variable)\n",
    "    print()\n",
    "\n",
    "# split a univariate dataset into train/test sets\n",
    "def split_dataset(data):\n",
    "    n_test_entries = 24\n",
    "    # split into standard years\n",
    "    train, test = data[:-n_test_entries], data[-n_test_entries:]\n",
    "    # restructure into windows of yearly data\n",
    "    train = array(split(train, len(train)/12))\n",
    "    test = array(split(test, len(test)/12))\n",
    "    return train, test\n",
    "\n",
    "# evaluate one or more weekly forecasts against expected values\n",
    "# MABEY?\n",
    "# def evaluate_forecasts(actual, predicted):\n",
    "#     monitor(\"Actual\", actual)\n",
    "#     monitor(\"Predicted\",predicted)\n",
    "#     print()\n",
    "    \n",
    "    \n",
    "#     scores = list()\n",
    "#     # calculate an RMSE score for each day\n",
    "#     for i in range(actual.shape[1]):\n",
    "#         # calculate rmspe\n",
    "#         rmspe = calc_rmspe(actual[:, i], predicted[:, i])\n",
    "#         # store\n",
    "#         scores.append(rmspe)\n",
    "        \n",
    "# #     # calculate overall RMSE\n",
    "# #     s = 0\n",
    "# #     for row in range(actual.shape[0]):\n",
    "# #         for col in range(actual.shape[1]):\n",
    "# #             s += (actual[row, col] - predicted[row, col])**2\n",
    "#     score = calc_rmspe(actual.flatten(),predicted.flatten())\n",
    "#     return score, scores\n",
    "\n",
    "# summarize scores\n",
    "def summarize_scores(name, score, scores):\n",
    "    s_scores = ', '.join(['%.1f' % s for s in scores])\n",
    "    print('%s: [%.3f] %s' % (name, score, s_scores))\n",
    "\n",
    "# convert history into inputs and outputs\n",
    "def to_supervised(train, n_input, n_out=12):\n",
    "    # flatten data\n",
    "    print(train.shape)\n",
    "    data = train.reshape((train.shape[0]*train.shape[1]))\n",
    "    X, y = list(), list()\n",
    "    in_start = 0\n",
    "    # step over the entire history one time step at a time\n",
    "    for _ in range(len(data)):\n",
    "        # define the end of the input sequence\n",
    "        in_end = in_start + n_input\n",
    "        out_end = in_end + n_out\n",
    "        # ensure we have enough data for this instance\n",
    "        if out_end <= len(data):\n",
    "            x_input = data[in_start:in_end]\n",
    "            x_input = x_input.reshape((len(x_input), 1))\n",
    "            X.append(x_input)\n",
    "            y.append(data[in_end:out_end])\n",
    "        # move along one time step\n",
    "        in_start += 1\n",
    "    return array(X), array(y)\n",
    "\n",
    "# train the model\n",
    "def build_model(train, n_steps, n_length, n_input):\n",
    "    # prepare data\n",
    "    train_x, train_y = to_supervised(train, n_input)\n",
    "    # define parameters\n",
    "    verbose, epochs, batch_size = 0, 20, 16\n",
    "    n_timesteps, n_features, n_outputs = train_x.shape[1], train_x.shape[2], train_y.shape[1]\n",
    "    # reshape into subsequences [samples, time steps, rows, cols, channels]\n",
    "    train_x = train_x.reshape((train_x.shape[0], n_steps, 1, n_length, n_features))\n",
    "    # reshape output into [samples, timesteps, features]\n",
    "    train_y = train_y.reshape((train_y.shape[0], train_y.shape[1], 1))\n",
    "\n",
    "    # define model\n",
    "    model = Sequential()\n",
    "    model.add(ConvLSTM2D(filters=64, kernel_size=(1,3), activation='relu', input_shape=(n_steps, 1, n_length, n_features)))\n",
    "    model.add(Flatten())\n",
    "    model.add(RepeatVector(n_outputs))\n",
    "    model.add(LSTM(200, activation='relu', return_sequences=True))\n",
    "    model.add(TimeDistributed(Dense(100, activation='relu')))\n",
    "    model.add(TimeDistributed(Dense(1)))\n",
    "    model.compile(loss='mse', optimizer='adam')\n",
    "    # fit network\n",
    "    history = model.fit(train_x, train_y, epochs=epochs, batch_size=batch_size, verbose=verbose)\n",
    "    # plot history\n",
    "    pyplot.title('Error per epoch')\n",
    "    pyplot.plot(history.history['loss'], label='train')\n",
    "    pyplot.legend()\n",
    "    pyplot.show()\n",
    "    return model\n",
    "\n",
    "# make a forecast\n",
    "def forecast(model, history, n_steps, n_length, n_input):\n",
    "    # flatten data\n",
    "    data = array(history)\n",
    "    data = data.reshape((data.shape[0]*data.shape[1]))\n",
    "    # retrieve last observations for input data\n",
    "    input_x = data[-n_input:]\n",
    "    # reshape into [samples, time steps, rows, cols, channels]\n",
    "    input_x = input_x.reshape((1, n_steps, 1, n_length, 1))\n",
    "    # forecast the next week\n",
    "    yhat = model.predict(input_x, verbose=0)\n",
    "    # we only want the vector forecast\n",
    "    yhat = yhat[0]\n",
    "    return yhat\n",
    "\n",
    "# evaluate a single model\n",
    "def evaluate_model(train, test, n_steps, n_length, n_input):\n",
    "    # fit model\n",
    "    model = build_model(train, n_steps, n_length, n_input)\n",
    "    # history is a list of weekly data\n",
    "    history = [x for x in train]\n",
    "    # walk-forward validation over each week\n",
    "    predictions = list()\n",
    "    for i in range(len(test)):\n",
    "        # predict the week\n",
    "        yhat_sequence = forecast(model, history, n_steps, n_length, n_input)\n",
    "        # store the predictions\n",
    "        predictions.append(yhat_sequence)\n",
    "        # get real observation and add to history for predicting the next week\n",
    "        history.append(test[i, :])\n",
    "    # evaluate predictions days for each week\n",
    "    predictions = array(predictions)\n",
    "    score = calc_rmspe(test[:, :].flatten(), predictions.flatten()) #evaluate_forecasts(test[:, :, 0], predictions)\n",
    "    X = range(0,24)\n",
    "    pyplot.title('Comparing actual results with predictions')\n",
    "    pyplot.plot(X, test[:, :].flatten(), marker='o', label='Actual')\n",
    "    pyplot.plot(X, predictions.flatten(), marker='o', label='Predictions')\n",
    "    pyplot.legend()\n",
    "    pyplot.show()\n",
    "    return score, r2_score(test[:, :].flatten(), predictions.flatten()), predictions"
   ]
  },
  {
   "cell_type": "code",
   "execution_count": 74,
   "metadata": {},
   "outputs": [],
   "source": [
    "# load the new file\n",
    "dataset = ts\n",
    "data = dataset.values"
   ]
  },
  {
   "cell_type": "code",
   "execution_count": 75,
   "metadata": {},
   "outputs": [],
   "source": [
    "# split into train and test\n",
    "train, test = split_dataset(data)"
   ]
  },
  {
   "cell_type": "code",
   "execution_count": 76,
   "metadata": {},
   "outputs": [
    {
     "data": {
      "text/plain": [
       "(192,)"
      ]
     },
     "execution_count": 76,
     "metadata": {},
     "output_type": "execute_result"
    }
   ],
   "source": [
    "dataset.values.shape"
   ]
  },
  {
   "cell_type": "code",
   "execution_count": 77,
   "metadata": {},
   "outputs": [],
   "source": [
    "# define the number of subsequences and the length of subsequences\n",
    "n_steps, n_length = 2, 12"
   ]
  },
  {
   "cell_type": "code",
   "execution_count": 78,
   "metadata": {},
   "outputs": [
    {
     "name": "stdout",
     "output_type": "stream",
     "text": [
      "(14, 12)\n"
     ]
    },
    {
     "data": {
      "image/png": "[encoded data removed]",
      "text/plain": [
       "<Figure size 432x288 with 1 Axes>"
      ]
     },
     "metadata": {
      "needs_background": "light"
     },
     "output_type": "display_data"
    },
    {
     "data": {
      "image/png": "[encoded data removed]",
      "text/plain": [
       "<Figure size 432x288 with 1 Axes>"
      ]
     },
     "metadata": {
      "needs_background": "light"
     },
     "output_type": "display_data"
    }
   ],
   "source": [
    "# define the total days to use as input\n",
    "n_input = n_length * n_steps\n",
    "rmspe_LSTM, r2_LSTM, predictions = evaluate_model(train, test, n_steps, n_length, n_input)"
   ]
  },
  {
   "cell_type": "code",
   "execution_count": 90,
   "metadata": {},
   "outputs": [
    {
     "name": "stdout",
     "output_type": "stream",
     "text": [
      "\n",
      "Test RMSPE: 14.866\n",
      "R square: -0.8030838785570944\n"
     ]
    }
   ],
   "source": [
    "print()\n",
    "rmspe_LSTM = calc_rmspe(test.flatten(), predictions.flatten())\n",
    "print('Test RMSPE: %.3f' % rmspe_LSTM)\n",
    "r2_LSTM = r2_score(test.flatten(),predictions.flatten())\n",
    "print('R square: ' + str(r2_LSTM))  "
   ]
  },
  {
   "cell_type": "code",
   "execution_count": 91,
   "metadata": {},
   "outputs": [
    {
     "data": {
      "image/png": "[encoded data removed]",
      "text/plain": [
       "<Figure size 432x288 with 1 Axes>"
      ]
     },
     "metadata": {
      "needs_background": "light"
     },
     "output_type": "display_data"
    }
   ],
   "source": [
    "full_graph(predictions)"
   ]
  },
  {
   "cell_type": "markdown",
   "metadata": {},
   "source": [
    "### Polynomiale Regressie"
   ]
  },
  {
   "cell_type": "code",
   "execution_count": 92,
   "metadata": {},
   "outputs": [],
   "source": [
    "# Create an array with ints to provide index/y values\n",
    "\n",
    "X_train = pd.DataFrame(range(0,ts.shape[0]))[:-testSize]\n",
    "X_test = pd.DataFrame(range(0,ts.shape[0]))[-testSize:]\n",
    "\n",
    "y_train = ts.reset_index().drop(columns='Date').squeeze()[:-testSize]\n",
    "y_test = ts.reset_index().drop(columns='Date').squeeze()[-testSize:]"
   ]
  },
  {
   "cell_type": "code",
   "execution_count": 93,
   "metadata": {},
   "outputs": [
    {
     "name": "stdout",
     "output_type": "stream",
     "text": [
      "RMSPE for i = 1 is 26.093983452526892\n",
      "\n",
      "RMSPE for i = 2 is 6.684135141555307\n",
      "\n",
      "RMSPE for i = 3 is 20.32066452652928\n",
      "\n",
      "RMSPE for i = 4 is 10.205784633354162\n",
      "\n",
      "RMSPE for i = 5 is 30.24748900535556\n",
      "\n",
      "RMSPE for i = 6 is 52.78362103025883\n",
      "\n",
      "RMSPE for i = 7 is 18.65914087855028\n",
      "\n",
      "RMSPE for i = 8 is 86.8089016538248\n",
      "\n",
      "RMSPE for i = 9 is 199.95330568553456\n",
      "\n",
      "Best i value according to RMSPE is 2 with RMSPE: 6.684135141555307\n"
     ]
    }
   ],
   "source": [
    "from sklearn.preprocessing import PolynomialFeatures\n",
    "from sklearn.linear_model import LinearRegression\n",
    "from sklearn import metrics\n",
    "\n",
    "# Prepare variables that keep track of the best fitting polynomial\n",
    "BestR2 = -float('inf')\n",
    "BestRMSPE = float('inf')\n",
    "BestIR2 = 1\n",
    "BestIRMSPE = 1\n",
    "\n",
    "\n",
    "\n",
    "# Loop over polynomials from degrees 1 to 10 and use polynomial that fits best according to the \n",
    "for i in range(1,10):\n",
    "    \n",
    "    # Create PolynomialFeatures from the first degree\n",
    "    poly = PolynomialFeatures(degree=i)\n",
    "    \n",
    "    # Fit the inputdata from your trainingsset to the polynomial\n",
    "    X_train_transform = poly.fit_transform(X_train)\n",
    "    \n",
    "    # Create the model and fit it to the transformed inputdata and your expected outputdata from the trainingsdata\n",
    "    model = LinearRegression()\n",
    "    model.fit(X_train_transform,y_train)\n",
    "    \n",
    "    # Transform the inputdata from your \n",
    "    X_test_transform = poly.fit_transform(X_test)\n",
    "    y_predict_test = model.predict(X_test_transform)    \n",
    "    \n",
    "    # Calculate errors\n",
    "    RMSPE_test = calc_rmspe(y_test, y_predict_test)\n",
    "\n",
    "    # Print errors\n",
    "    print('RMSPE for i = ' + str(i) + ' is ' + str(RMSPE_test) )\n",
    "    print()\n",
    "    \n",
    "    # Update best fit\n",
    "    if BestRMSPE > RMSPE_test:\n",
    "        BestRMSPE = RMSPE_test\n",
    "        BestRMSPEi = i\n",
    "        \n",
    "# Conclude best results\n",
    "# print('Best i value according to r2 is '+str(BestR2i)+' with r2: '+str(BestR2))\n",
    "print('Best i value according to RMSPE is '+str(BestRMSPEi)+' with RMSPE: '+str(BestRMSPE))"
   ]
  },
  {
   "cell_type": "code",
   "execution_count": 94,
   "metadata": {},
   "outputs": [],
   "source": [
    "# Recreate best model\n",
    "poly = PolynomialFeatures(degree=BestRMSPEi)\n",
    "X_train_transform = poly.fit_transform(X_train)   \n",
    "X_test_transform = poly.fit_transform(X_test)\n",
    "model = LinearRegression()\n",
    "model.fit(X_train_transform,y_train)\n",
    "y_predict = model.predict(X_test_transform)"
   ]
  },
  {
   "cell_type": "code",
   "execution_count": 95,
   "metadata": {},
   "outputs": [
    {
     "data": {
      "text/plain": [
       "(168, 3)"
      ]
     },
     "execution_count": 95,
     "metadata": {},
     "output_type": "execute_result"
    }
   ],
   "source": [
    "X_train_transform.shape"
   ]
  },
  {
   "cell_type": "code",
   "execution_count": 96,
   "metadata": {},
   "outputs": [],
   "source": [
    "# Calculate the result of the polynomial for a specific value of x\n",
    "def p(x):\n",
    "    result = model.intercept_\n",
    "    for i in range(0, len(model.coef_)):\n",
    "        result += model.coef_[i] * x**i \n",
    "    return result"
   ]
  },
  {
   "cell_type": "code",
   "execution_count": 97,
   "metadata": {},
   "outputs": [],
   "source": [
    "rmspe_PR = calc_rmspe(y_test, y_predict)\n",
    "r2_PR = r2_score(y_test, y_predict)"
   ]
  },
  {
   "cell_type": "code",
   "execution_count": 98,
   "metadata": {},
   "outputs": [
    {
     "data": {
      "image/png": "[encoded data removed]",
      "text/plain": [
       "<Figure size 432x288 with 1 Axes>"
      ]
     },
     "metadata": {
      "needs_background": "light"
     },
     "output_type": "display_data"
    }
   ],
   "source": [
    "# Plot the dataset\n",
    "plt.scatter(X_test, y_test)\n",
    "plt.scatter(X_train, y_train, color='red')\n",
    "plt.xlim([0, 200])\n",
    "plt.xlabel('Day')\n",
    "plt.ylabel('Stock')\n",
    "\n",
    "# Plot the polynomial\n",
    "t1 = np.arange(0, 200, 1)\n",
    "plt.plot(t1, p(t1), color='blue')\n",
    "plt.show()\n"
   ]
  },
  {
   "cell_type": "code",
   "execution_count": 99,
   "metadata": {},
   "outputs": [
    {
     "data": {
      "image/png": "[encoded data removed]",
      "text/plain": [
       "<Figure size 432x288 with 1 Axes>"
      ]
     },
     "metadata": {
      "needs_background": "light"
     },
     "output_type": "display_data"
    }
   ],
   "source": [
    "full_graph(y_predict)"
   ]
  },
  {
   "cell_type": "markdown",
   "metadata": {},
   "source": [
    "### Evaluation"
   ]
  },
  {
   "cell_type": "code",
   "execution_count": 100,
   "metadata": {},
   "outputs": [
    {
     "name": "stdout",
     "output_type": "stream",
     "text": [
      "ARIMA rmspe:\t 8.151\n",
      "ARIMA r2:\t 0.410\n",
      "\n",
      "LSTM rmspe:\t 14.866\n",
      "LSTM r2:\t -0.803\n",
      "\n",
      "PR rmspe:\t 6.684\n",
      "PR r2:\t\t 0.592\n"
     ]
    }
   ],
   "source": [
    "print('ARIMA rmspe:\\t %.3f' % rmspe_ARIMA)\n",
    "print('ARIMA r2:\\t %.3f' % r2_ARIMA)\n",
    "print()\n",
    "print('LSTM rmspe:\\t %.3f' % rmspe_LSTM)\n",
    "print('LSTM r2:\\t %.3f' % r2_LSTM)\n",
    "print()\n",
    "print('PR rmspe:\\t %.3f' % rmspe_PR)\n",
    "print('PR r2:\\t\\t %.3f' % r2_PR)"
   ]
  }
 ],
 "metadata": {
  "kernelspec": {
   "display_name": "Python 3",
   "language": "python",
   "name": "python3"
  },
  "language_info": {
   "codemirror_mode": {
    "name": "ipython",
    "version": 3
   },
   "file_extension": ".py",
   "mimetype": "text/x-python",
   "name": "python",
   "nbconvert_exporter": "python",
   "pygments_lexer": "ipython3",
   "version": "3.7.4"
  }
 },
 "nbformat": 4,
 "nbformat_minor": 2
}
