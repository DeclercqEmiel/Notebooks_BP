{
 "cells": [
  {
   "cell_type": "raw",
   "metadata": {},
   "source": [
    "-Crossvalidate\n",
    "-Predict ARIMA function\n",
    "-Predict LSTM function\n",
    "-Predict Prophet function"
   ]
  },
  {
   "cell_type": "code",
   "execution_count": 95,
   "metadata": {},
   "outputs": [
    {
     "name": "stdout",
     "output_type": "stream",
     "text": [
      "2.3.0\n"
     ]
    }
   ],
   "source": [
    "import tensorflow as tf\n",
    "print(tf.__version__)"
   ]
  },
  {
   "cell_type": "code",
   "execution_count": 96,
   "metadata": {},
   "outputs": [],
   "source": [
    "import pandas as pd\n",
    "import numpy as np\n",
    "# matplotlib is the Python library for drawing diagrams\n",
    "import matplotlib.pylab as plt\n",
    "%matplotlib inline\n",
    "# set the size of the diagrams\n",
    "from matplotlib.pylab import rcParams\n",
    "rcParams['figure.figsize'] = 15,5\n",
    "from sklearn.model_selection import TimeSeriesSplit"
   ]
  },
  {
   "cell_type": "markdown",
   "metadata": {},
   "source": [
    "## Dataprep"
   ]
  },
  {
   "cell_type": "code",
   "execution_count": 97,
   "metadata": {},
   "outputs": [],
   "source": [
    "ts = pd.read_csv('./data/dataframe_yearly.csv', index_col=0, usecols=[0,2])\n"
   ]
  },
  {
   "cell_type": "code",
   "execution_count": 98,
   "metadata": {},
   "outputs": [
    {
     "data": {
      "text/html": [
       "<div>\n",
       "<style scoped>\n",
       "    .dataframe tbody tr th:only-of-type {\n",
       "        vertical-align: middle;\n",
       "    }\n",
       "\n",
       "    .dataframe tbody tr th {\n",
       "        vertical-align: top;\n",
       "    }\n",
       "\n",
       "    .dataframe thead th {\n",
       "        text-align: right;\n",
       "    }\n",
       "</style>\n",
       "<table border=\"1\" class=\"dataframe\">\n",
       "  <thead>\n",
       "    <tr style=\"text-align: right;\">\n",
       "      <th></th>\n",
       "      <th>ice_extent</th>\n",
       "    </tr>\n",
       "    <tr>\n",
       "      <th>Year</th>\n",
       "      <th></th>\n",
       "    </tr>\n",
       "  </thead>\n",
       "  <tbody>\n",
       "    <tr>\n",
       "      <th>1979</th>\n",
       "      <td>12.349634</td>\n",
       "    </tr>\n",
       "    <tr>\n",
       "      <th>1980</th>\n",
       "      <td>12.349545</td>\n",
       "    </tr>\n",
       "    <tr>\n",
       "      <th>1981</th>\n",
       "      <td>12.147230</td>\n",
       "    </tr>\n",
       "    <tr>\n",
       "      <th>1982</th>\n",
       "      <td>12.467336</td>\n",
       "    </tr>\n",
       "    <tr>\n",
       "      <th>1983</th>\n",
       "      <td>12.353095</td>\n",
       "    </tr>\n",
       "  </tbody>\n",
       "</table>\n",
       "</div>"
      ],
      "text/plain": [
       "      ice_extent\n",
       "Year            \n",
       "1979   12.349634\n",
       "1980   12.349545\n",
       "1981   12.147230\n",
       "1982   12.467336\n",
       "1983   12.353095"
      ]
     },
     "execution_count": 98,
     "metadata": {},
     "output_type": "execute_result"
    }
   ],
   "source": [
    "ts.head()"
   ]
  },
  {
   "cell_type": "code",
   "execution_count": 99,
   "metadata": {},
   "outputs": [
    {
     "data": {
      "text/plain": [
       "[<matplotlib.lines.Line2D at 0x1bce0fa9988>]"
      ]
     },
     "execution_count": 99,
     "metadata": {},
     "output_type": "execute_result"
    },
    {
     "data": {
      "image/png": "[encoded data removed]",
      "text/plain": [
       "<Figure size 1080x360 with 1 Axes>"
      ]
     },
     "metadata": {
      "needs_background": "light"
     },
     "output_type": "display_data"
    }
   ],
   "source": [
    "plt.plot(ts)"
   ]
  },
  {
   "cell_type": "code",
   "execution_count": null,
   "metadata": {},
   "outputs": [],
   "source": []
  },
  {
   "cell_type": "code",
   "execution_count": 100,
   "metadata": {},
   "outputs": [],
   "source": [
    "# Define train and testset\n",
    "X = ts.index.values\n",
    "y = ts.values\n",
    "testsize = 3\n",
    "size = len(ts.values)\n",
    "X_train, X_test, y_train, y_test = X[:-testsize], X[-testsize:], y[:-testsize], y[-testsize:]"
   ]
  },
  {
   "cell_type": "markdown",
   "metadata": {},
   "source": [
    "### Cross validation setup"
   ]
  },
  {
   "cell_type": "code",
   "execution_count": 116,
   "metadata": {},
   "outputs": [],
   "source": [
    "tscv = TimeSeriesSplit(max_train_size=40, n_splits=20)"
   ]
  },
  {
   "cell_type": "code",
   "execution_count": 117,
   "metadata": {},
   "outputs": [
    {
     "data": {
      "text/plain": [
       "<generator object TimeSeriesSplit.split at 0x000001BCDCFAEDC8>"
      ]
     },
     "execution_count": 117,
     "metadata": {},
     "output_type": "execute_result"
    }
   ],
   "source": [
    "tscv.split(X)"
   ]
  },
  {
   "cell_type": "code",
   "execution_count": 118,
   "metadata": {},
   "outputs": [
    {
     "name": "stdout",
     "output_type": "stream",
     "text": [
      "[ 0  1  2  3  4  5  6  7  8  9 10 11 12 13 14 15 16 17 18 19]\n",
      "[ 0  1  2  3  4  5  6  7  8  9 10 11 12 13 14 15 16 17 18 19 20]\n",
      "[ 0  1  2  3  4  5  6  7  8  9 10 11 12 13 14 15 16 17 18 19 20 21]\n",
      "[ 0  1  2  3  4  5  6  7  8  9 10 11 12 13 14 15 16 17 18 19 20 21 22]\n",
      "[ 0  1  2  3  4  5  6  7  8  9 10 11 12 13 14 15 16 17 18 19 20 21 22 23]\n",
      "[ 0  1  2  3  4  5  6  7  8  9 10 11 12 13 14 15 16 17 18 19 20 21 22 23\n",
      " 24]\n",
      "[ 0  1  2  3  4  5  6  7  8  9 10 11 12 13 14 15 16 17 18 19 20 21 22 23\n",
      " 24 25]\n",
      "[ 0  1  2  3  4  5  6  7  8  9 10 11 12 13 14 15 16 17 18 19 20 21 22 23\n",
      " 24 25 26]\n",
      "[ 0  1  2  3  4  5  6  7  8  9 10 11 12 13 14 15 16 17 18 19 20 21 22 23\n",
      " 24 25 26 27]\n",
      "[ 0  1  2  3  4  5  6  7  8  9 10 11 12 13 14 15 16 17 18 19 20 21 22 23\n",
      " 24 25 26 27 28]\n",
      "[ 0  1  2  3  4  5  6  7  8  9 10 11 12 13 14 15 16 17 18 19 20 21 22 23\n",
      " 24 25 26 27 28 29]\n",
      "[ 0  1  2  3  4  5  6  7  8  9 10 11 12 13 14 15 16 17 18 19 20 21 22 23\n",
      " 24 25 26 27 28 29 30]\n",
      "[ 0  1  2  3  4  5  6  7  8  9 10 11 12 13 14 15 16 17 18 19 20 21 22 23\n",
      " 24 25 26 27 28 29 30 31]\n",
      "[ 0  1  2  3  4  5  6  7  8  9 10 11 12 13 14 15 16 17 18 19 20 21 22 23\n",
      " 24 25 26 27 28 29 30 31 32]\n",
      "[ 0  1  2  3  4  5  6  7  8  9 10 11 12 13 14 15 16 17 18 19 20 21 22 23\n",
      " 24 25 26 27 28 29 30 31 32 33]\n",
      "[ 0  1  2  3  4  5  6  7  8  9 10 11 12 13 14 15 16 17 18 19 20 21 22 23\n",
      " 24 25 26 27 28 29 30 31 32 33 34]\n",
      "[ 0  1  2  3  4  5  6  7  8  9 10 11 12 13 14 15 16 17 18 19 20 21 22 23\n",
      " 24 25 26 27 28 29 30 31 32 33 34 35]\n",
      "[ 0  1  2  3  4  5  6  7  8  9 10 11 12 13 14 15 16 17 18 19 20 21 22 23\n",
      " 24 25 26 27 28 29 30 31 32 33 34 35 36]\n",
      "[ 0  1  2  3  4  5  6  7  8  9 10 11 12 13 14 15 16 17 18 19 20 21 22 23\n",
      " 24 25 26 27 28 29 30 31 32 33 34 35 36 37]\n",
      "[ 0  1  2  3  4  5  6  7  8  9 10 11 12 13 14 15 16 17 18 19 20 21 22 23\n",
      " 24 25 26 27 28 29 30 31 32 33 34 35 36 37 38]\n"
     ]
    }
   ],
   "source": [
    "for train_index, test_index in tscv.split(X):\n",
    "    print(train_index)"
   ]
  },
  {
   "cell_type": "code",
   "execution_count": 119,
   "metadata": {},
   "outputs": [],
   "source": [
    "# cross_val_score(knn, X_train, y_train, cv=tss , scoring='accuracy')"
   ]
  },
  {
   "cell_type": "code",
   "execution_count": 120,
   "metadata": {},
   "outputs": [],
   "source": [
    "ts = ts.squeeze()"
   ]
  },
  {
   "cell_type": "code",
   "execution_count": 121,
   "metadata": {},
   "outputs": [
    {
     "data": {
      "text/plain": [
       "Year\n",
       "1979    12.349634\n",
       "1980    12.349545\n",
       "1981    12.147230\n",
       "1982    12.467336\n",
       "1983    12.353095\n",
       "1984    11.920382\n",
       "1985    12.015835\n",
       "1986    12.224548\n",
       "1987    12.183318\n",
       "1988    12.201616\n",
       "1989    11.986788\n",
       "1990    11.716385\n",
       "1991    11.770302\n",
       "1992    12.121065\n",
       "1993    11.945254\n",
       "1994    12.032209\n",
       "1995    11.437963\n",
       "1996    11.850327\n",
       "1997    11.689949\n",
       "1998    11.780257\n",
       "1999    11.712603\n",
       "2000    11.518993\n",
       "2001    11.621888\n",
       "2002    11.385820\n",
       "2003    11.419148\n",
       "2004    11.251586\n",
       "2005    10.927786\n",
       "2006    10.793886\n",
       "2007    10.499133\n",
       "2008    10.990294\n",
       "2009    10.955518\n",
       "2010    10.734207\n",
       "2011    10.507405\n",
       "2012    10.419335\n",
       "2013    10.920494\n",
       "2014    10.812470\n",
       "2015    10.588599\n",
       "2016    10.176126\n",
       "2017    10.415373\n",
       "2018    10.377886\n",
       "Name: ice_extent, dtype: float64"
      ]
     },
     "execution_count": 121,
     "metadata": {},
     "output_type": "execute_result"
    }
   ],
   "source": [
    "ts"
   ]
  },
  {
   "cell_type": "markdown",
   "metadata": {},
   "source": [
    "### Define testing methods"
   ]
  },
  {
   "cell_type": "code",
   "execution_count": 122,
   "metadata": {},
   "outputs": [],
   "source": [
    "def calc_rmspe(y_true, y_pred):\n",
    "    return np.sqrt(np.mean(np.square(((y_true - y_pred) / y_true)), axis=0)) * 100"
   ]
  },
  {
   "cell_type": "markdown",
   "metadata": {},
   "source": [
    "### ARIMA"
   ]
  },
  {
   "cell_type": "code",
   "execution_count": 123,
   "metadata": {},
   "outputs": [],
   "source": [
    "ts_clean = ts.dropna().reset_index().drop(columns=['Year']).squeeze()"
   ]
  },
  {
   "cell_type": "code",
   "execution_count": 230,
   "metadata": {},
   "outputs": [],
   "source": [
    "tscv = TimeSeriesSplit(n_splits = 10, max_train_size=35)"
   ]
  },
  {
   "cell_type": "code",
   "execution_count": 207,
   "metadata": {},
   "outputs": [
    {
     "data": {
      "image/png": "[encoded data removed]",
      "text/plain": [
       "<Figure size 1080x360 with 1 Axes>"
      ]
     },
     "metadata": {
      "needs_background": "light"
     },
     "output_type": "display_data"
    }
   ],
   "source": [
    "def test_stationarity(timeseries):\n",
    "    \n",
    "    #Determing rolling statistics\n",
    "    rolmean = timeseries.rolling(12).mean()\n",
    "    rolstd = timeseries.rolling(12).std()\n",
    "\n",
    "    #Plot rolling statistics:\n",
    "    orig = plt.plot(timeseries, color='blue',label='Original')\n",
    "    mean = plt.plot(rolmean, color='red', label='Rolling Mean')\n",
    "    std = plt.plot(rolstd, color='black', label = 'Rolling Std')\n",
    "    plt.legend(loc='best')\n",
    "    plt.title('Rolling Mean & Standard Deviation')\n",
    "    plt.show(block=False)\n",
    "    \n",
    "test_stationarity(ts)"
   ]
  },
  {
   "cell_type": "markdown",
   "metadata": {},
   "source": [
    "Duidelijk dalende trend dus passen we differentiatie toe"
   ]
  },
  {
   "cell_type": "code",
   "execution_count": 208,
   "metadata": {},
   "outputs": [
    {
     "data": {
      "text/plain": [
       "Year\n",
       "1979         NaN\n",
       "1980         NaN\n",
       "1981   -0.134907\n",
       "1982    0.145966\n",
       "1983    0.030541\n",
       "1984   -0.326555\n",
       "1985   -0.080602\n",
       "1986    0.170960\n",
       "1987    0.042085\n",
       "1988   -0.001545\n",
       "1989   -0.137119\n",
       "1990   -0.251878\n",
       "1991   -0.054190\n",
       "1992    0.251814\n",
       "1993   -0.000287\n",
       "1994   -0.000633\n",
       "1995   -0.367179\n",
       "1996    0.076827\n",
       "1997    0.030536\n",
       "1998    0.006746\n",
       "1999   -0.015000\n",
       "2000   -0.151624\n",
       "2001    0.004060\n",
       "2002   -0.123081\n",
       "2003   -0.056471\n",
       "2004   -0.100599\n",
       "2005   -0.271720\n",
       "2006   -0.197200\n",
       "2007   -0.241135\n",
       "2008    0.229190\n",
       "2009    0.140537\n",
       "2010   -0.159133\n",
       "2011   -0.224972\n",
       "2012   -0.134314\n",
       "2013    0.304749\n",
       "2014    0.095037\n",
       "2015   -0.185255\n",
       "2016   -0.349606\n",
       "2017    0.022007\n",
       "2018    0.054758\n",
       "Name: ice_extent, dtype: float64"
      ]
     },
     "execution_count": 208,
     "metadata": {},
     "output_type": "execute_result"
    }
   ],
   "source": [
    "moving_avg = ts.rolling(3).mean()\n",
    "ts_moving_avg_diff = ts - moving_avg\n",
    "ts_moving_avg_diff"
   ]
  },
  {
   "cell_type": "code",
   "execution_count": 209,
   "metadata": {},
   "outputs": [],
   "source": [
    "ts_moving_avg_diff.dropna(inplace=True)"
   ]
  },
  {
   "cell_type": "code",
   "execution_count": 210,
   "metadata": {},
   "outputs": [
    {
     "data": {
      "image/png": "[encoded data removed]",
      "text/plain": [
       "<Figure size 1080x360 with 1 Axes>"
      ]
     },
     "metadata": {
      "needs_background": "light"
     },
     "output_type": "display_data"
    }
   ],
   "source": [
    "test_stationarity(ts_moving_avg_diff)"
   ]
  },
  {
   "cell_type": "markdown",
   "metadata": {},
   "source": [
    "Deze data is stationair dus kunnen we het model beginnen opbouwen"
   ]
  },
  {
   "cell_type": "code",
   "execution_count": 211,
   "metadata": {},
   "outputs": [],
   "source": [
    "pdq = (3,0,0)"
   ]
  },
  {
   "cell_type": "code",
   "execution_count": 225,
   "metadata": {},
   "outputs": [
    {
     "name": "stdout",
     "output_type": "stream",
     "text": [
      "TRAIN: [0 1 2 3 4] TEST: [5 6 7]\n",
      "TRAIN: [0 1 2 3 4 5 6 7] TEST: [ 8  9 10]\n",
      "TRAIN: [ 0  1  2  3  4  5  6  7  8  9 10] TEST: [11 12 13]\n",
      "TRAIN: [ 0  1  2  3  4  5  6  7  8  9 10 11 12 13] TEST: [14 15 16]\n",
      "TRAIN: [ 0  1  2  3  4  5  6  7  8  9 10 11 12 13 14 15 16] TEST: [17 18 19]\n",
      "TRAIN: [ 0  1  2  3  4  5  6  7  8  9 10 11 12 13 14 15 16 17 18 19] TEST: [20 21 22]\n",
      "TRAIN: [ 0  1  2  3  4  5  6  7  8  9 10 11 12 13 14 15 16 17 18 19 20 21 22] TEST: [23 24 25]\n",
      "TRAIN: [ 0  1  2  3  4  5  6  7  8  9 10 11 12 13 14 15 16 17 18 19 20 21 22 23\n",
      " 24 25] TEST: [26 27 28]\n",
      "TRAIN: [ 0  1  2  3  4  5  6  7  8  9 10 11 12 13 14 15 16 17 18 19 20 21 22 23\n",
      " 24 25 26 27 28] TEST: [29 30 31]\n",
      "TRAIN: [ 0  1  2  3  4  5  6  7  8  9 10 11 12 13 14 15 16 17 18 19 20 21 22 23\n",
      " 24 25 26 27 28 29 30 31] TEST: [32 33 34]\n",
      "TRAIN: [ 0  1  2  3  4  5  6  7  8  9 10 11 12 13 14 15 16 17 18 19 20 21 22 23\n",
      " 24 25 26 27 28 29 30 31 32 33 34] TEST: [35 36 37]\n",
      "\n",
      "Mean MAE: 0.12082775800917994\n"
     ]
    }
   ],
   "source": [
    "from sklearn.metrics import mean_absolute_error\n",
    "import itertools\n",
    "import warnings\n",
    "import sys\n",
    "from statsmodels.tsa.arima_model import ARIMA\n",
    "\n",
    "warnings.filterwarnings(\"ignore\") # specify to ignore warning messages\n",
    "\n",
    "\n",
    "maes = []\n",
    "\n",
    "for train_index, test_index in tscv.split(ts_moving_avg_diff):\n",
    "    \n",
    "    # initialize cross validation train and test sets\n",
    "    cv_train, cv_test = ts_moving_avg_diff.iloc[train_index], ts_moving_avg_diff.iloc[test_index]\n",
    "   \n",
    "    print(\"TRAIN:\", train_index, \"TEST:\", test_index) # visiualize cross_validation structure for reference\n",
    "\n",
    "    # build model\n",
    "    arima = ARIMA(cv_train, pdq).fit(start_ar_lags=1,disp=False)\n",
    "\n",
    "    # make predictions\n",
    "    predictions = arima.forecast(steps=3)\n",
    "    prediction_values = predictions[0]\n",
    "    true_values = cv_test.values\n",
    "    \n",
    "    # error calc\n",
    "    maes.append(mean_absolute_error(true_values, prediction_values))\n",
    "    \n",
    "    # last actual prediction \n",
    "    last_prediction = prediction_values + moving_avg.dropna().iloc[test_index]\n",
    "\n",
    "mae_mean = np.mean(maes)\n",
    "print()\n",
    "print(\"Mean MAE: {}\".format(mae_mean))\n",
    "MAE_ARIMA = mae_mean"
   ]
  },
  {
   "cell_type": "code",
   "execution_count": 214,
   "metadata": {},
   "outputs": [
    {
     "data": {
      "image/png": "[encoded data removed]",
      "text/plain": [
       "<Figure size 1080x360 with 1 Axes>"
      ]
     },
     "metadata": {
      "needs_background": "light"
     },
     "output_type": "display_data"
    }
   ],
   "source": [
    "def full_graph(predicted):\n",
    "    predictionsArray = np.asarray(predicted)\n",
    "    zerosArray = np.zeros(ts.values.size-len(predictionsArray.flatten()))\n",
    "    cleanPrediction = pd.Series(np.concatenate((zerosArray,predictionsArray))).replace(0,np.NaN)\n",
    "\n",
    "    # plot\n",
    "    plt.plot(ts.values,marker='o', color='blue',label='Actual values')\n",
    "    plt.plot(cleanPrediction,marker='o', color='red',label='Predicted values')\n",
    "    plt.ylim([0,15])\n",
    "    plt.legend()\n",
    "\n",
    "    plt.show()\n",
    "full_graph(last_prediction)"
   ]
  },
  {
   "cell_type": "markdown",
   "metadata": {},
   "source": [
    "Dit is de grafische weergaven van de laatste waarden van de cross validation"
   ]
  },
  {
   "cell_type": "markdown",
   "metadata": {},
   "source": [
    "### LSTM"
   ]
  },
  {
   "cell_type": "code",
   "execution_count": 215,
   "metadata": {},
   "outputs": [],
   "source": [
    "import traceback\n",
    "import contextlib\n",
    "\n",
    "# Some helper code to demonstrate the kinds of errors you might encounter.\n",
    "@contextlib.contextmanager\n",
    "def assert_raises(error_class):\n",
    "  try:\n",
    "    yield\n",
    "  except error_class as e:\n",
    "    print('Caught expected exception \\n  {}:'.format(error_class))\n",
    "    traceback.print_exc(limit=2)\n",
    "  except Exception as e:\n",
    "    raise e\n",
    "  else:\n",
    "    raise Exception('Expected {} to be raised but no error was raised!'.format(\n",
    "        error_class))"
   ]
  },
  {
   "cell_type": "code",
   "execution_count": 216,
   "metadata": {},
   "outputs": [
    {
     "name": "stdout",
     "output_type": "stream",
     "text": [
      "[[332.18088 373.59674]]\n"
     ]
    }
   ],
   "source": [
    "# univariate multi-step vector-output stacked lstm example\n",
    "from numpy import array\n",
    "from keras.models import Sequential\n",
    "from keras.layers import LSTM\n",
    "from keras.layers import Dense\n",
    "\n",
    "# split a univariate sequence into samples\n",
    "def split_sequence(sequence, n_steps_in, n_steps_out):\n",
    "\tX, y = list(), list()\n",
    "\tfor i in range(len(sequence)):\n",
    "\t\t# find the end of this pattern\n",
    "\t\tend_ix = i + n_steps_in\n",
    "\t\tout_end_ix = end_ix + n_steps_out\n",
    "\t\t# check if we are beyond the sequence\n",
    "\t\tif out_end_ix > len(sequence):\n",
    "\t\t\tbreak\n",
    "\t\t# gather input and output parts of the pattern\n",
    "\t\tseq_x, seq_y = sequence[i:end_ix], sequence[end_ix:out_end_ix]\n",
    "\t\tX.append(seq_x)\n",
    "\t\ty.append(seq_y)\n",
    "\treturn array(X), array(y)\n",
    "\n",
    "# define input sequence\n",
    "raw_seq = [10, 20, 30, 40, 50, 60, 70, 80, 90]\n",
    "# choose a number of time steps\n",
    "n_steps_in, n_steps_out = 3, 2\n",
    "# split into samples\n",
    "X, y = split_sequence(raw_seq, n_steps_in, n_steps_out)\n",
    "# reshape from [samples, timesteps] into [samples, timesteps, features]\n",
    "n_features = 1\n",
    "X = X.reshape((X.shape[0], X.shape[1], n_features))\n",
    "# define model\n",
    "model = Sequential()\n",
    "model.add(LSTM(100, activation='relu', return_sequences=True, input_shape=(n_steps_in, n_features)))\n",
    "model.add(LSTM(100, activation='relu'))\n",
    "model.add(Dense(n_steps_out))\n",
    "model.compile(optimizer='adam', loss='mse')\n",
    "# fit model\n",
    "model.fit(X, y, epochs=50, verbose=0)\n",
    "# demonstrate prediction\n",
    "x_input = array([200, 210, 220])\n",
    "x_input = x_input.reshape((1, n_steps_in, n_features))\n",
    "yhat = model.predict(x_input, verbose=0)\n",
    "print(yhat)"
   ]
  },
  {
   "cell_type": "code",
   "execution_count": 217,
   "metadata": {},
   "outputs": [],
   "source": [
    "# split a univariate dataset into train/test sets\n",
    "def split_dataset(train,test):\n",
    "    # restructure into windows of yearly data\n",
    "    train = array(split(train, len(train)))\n",
    "    test = array(split(test, len(test)))\n",
    "    return train, test"
   ]
  },
  {
   "cell_type": "code",
   "execution_count": 226,
   "metadata": {},
   "outputs": [
    {
     "name": "stdout",
     "output_type": "stream",
     "text": [
      "[[ 88.223015 111.142586 125.62134 ]]\n"
     ]
    }
   ],
   "source": [
    "# univariate multi-step vector-output stacked lstm example\n",
    "from numpy import array\n",
    "from keras.models import Sequential\n",
    "from keras.layers import LSTM\n",
    "from keras.layers import Dense\n",
    "import tensorflow as tf\n",
    " \n",
    "# split a univariate sequence into samples\n",
    "def split_sequence(sequence, n_steps_in, n_steps_out):\n",
    "    X, y = list(), list()\n",
    "    for i in range(len(sequence)):\n",
    "        # find the end of this pattern\n",
    "        end_ix = i + n_steps_in\n",
    "        out_end_ix = end_ix + n_steps_out\n",
    "        \n",
    "        # check if we are beyond the sequence\n",
    "        if out_end_ix > len(sequence):\n",
    "            break\n",
    "            \n",
    "        # gather input and output parts of the pattern\n",
    "        seq_x, seq_y = sequence[i:end_ix], sequence[end_ix:out_end_ix]\n",
    "        X.append(seq_x)\n",
    "        y.append(seq_y)\n",
    "    return array(X), array(y)\n",
    " \n",
    "def build_model(raw_seq, n_steps_in, n_steps_out, n_features):\n",
    "    # split into samples\n",
    "    X, y = split_sequence(raw_seq, n_steps_in, n_steps_out)\n",
    "    \n",
    "    # reshape from [samples, timesteps] into [samples, timesteps, features]\n",
    "    X = X.reshape((X.shape[0], X.shape[1], n_features))\n",
    "    \n",
    "    # define model\n",
    "    model = Sequential()\n",
    "    model.add(LSTM(100, activation='relu', return_sequences=True, input_shape=(n_steps_in, n_features)))\n",
    "    model.add(LSTM(100, activation='relu'))\n",
    "    model.add(Dense(n_steps_out))\n",
    "    model.compile(optimizer='adam', loss='mse')\n",
    "    \n",
    "    # fit model\n",
    "    model.fit(X, y, epochs=50, verbose=0)\n",
    "    \n",
    "    return model\n",
    "\n",
    "\n",
    "def predict(x_input, model, n_features):\n",
    "    n_features = 1\n",
    "    x_input = x_input.reshape((1, n_steps_in, n_features))\n",
    "    yhat = model.predict(x_input, verbose=0)\n",
    "    return yhat\n",
    "    \n",
    "\n",
    "# define input sequence\n",
    "y_train = [10, 20, 30, 40, 50, 60, 70, 80]\n",
    "y_test = [40, 50, 60]\n",
    "\n",
    "# choose a number of time steps\n",
    "n_steps_in  = 3\n",
    "n_steps_out = 3\n",
    "n_features  = 1\n",
    "\n",
    "lstm_model = build_model(y_train, n_steps_in, n_steps_out, n_features)\n",
    "\n",
    "# demonstrate prediction\n",
    "x_input = array(y_test)\n",
    "y_predicted = predict(x_input, lstm_model, n_features)\n",
    "\n",
    "print(y_predicted)"
   ]
  },
  {
   "cell_type": "code",
   "execution_count": 231,
   "metadata": {},
   "outputs": [
    {
     "name": "stdout",
     "output_type": "stream",
     "text": [
      "TRAIN: [0 1 2 3 4 5 6 7] TEST: [ 8  9 10]\n",
      "TRAIN: [ 0  1  2  3  4  5  6  7  8  9 10] TEST: [11 12 13]\n",
      "TRAIN: [ 0  1  2  3  4  5  6  7  8  9 10 11 12 13] TEST: [14 15 16]\n",
      "TRAIN: [ 0  1  2  3  4  5  6  7  8  9 10 11 12 13 14 15 16] TEST: [17 18 19]\n",
      "TRAIN: [ 0  1  2  3  4  5  6  7  8  9 10 11 12 13 14 15 16 17 18 19] TEST: [20 21 22]\n",
      "TRAIN: [ 0  1  2  3  4  5  6  7  8  9 10 11 12 13 14 15 16 17 18 19 20 21 22] TEST: [23 24 25]\n",
      "TRAIN: [ 0  1  2  3  4  5  6  7  8  9 10 11 12 13 14 15 16 17 18 19 20 21 22 23\n",
      " 24 25] TEST: [26 27 28]\n",
      "TRAIN: [ 0  1  2  3  4  5  6  7  8  9 10 11 12 13 14 15 16 17 18 19 20 21 22 23\n",
      " 24 25 26 27 28] TEST: [29 30 31]\n",
      "TRAIN: [ 0  1  2  3  4  5  6  7  8  9 10 11 12 13 14 15 16 17 18 19 20 21 22 23\n",
      " 24 25 26 27 28 29 30 31] TEST: [32 33 34]\n",
      "TRAIN: [ 0  1  2  3  4  5  6  7  8  9 10 11 12 13 14 15 16 17 18 19 20 21 22 23\n",
      " 24 25 26 27 28 29 30 31 32 33 34] TEST: [35 36 37]\n",
      "\n",
      "Mean MAE: 0.18476028259003113\n"
     ]
    }
   ],
   "source": [
    "from sklearn.metrics import mean_absolute_error\n",
    "import itertools\n",
    "import warnings\n",
    "import sys\n",
    "\n",
    "maes = []\n",
    "\n",
    "for train_index, test_index in tscv.split(ts_moving_avg_diff):\n",
    "    # variables\n",
    "    n_steps_in = 3\n",
    "    n_steps_out = 3\n",
    "    n_features  = 1\n",
    "\n",
    "    # initialize cross validation train and test sets\n",
    "    y_train, y_test = ts_moving_avg_diff.iloc[train_index], ts_moving_avg_diff.iloc[test_index]\n",
    "       \n",
    "    print(\"TRAIN:\", train_index, \"TEST:\", test_index) # visiualize cross_validation structure for reference\n",
    "\n",
    "    # build model\n",
    "    lstm_model = build_model(y_train, n_steps_in, n_steps_out, n_features)\n",
    "\n",
    "    # make predictions\n",
    "    x_input = array(y_test)\n",
    "    y_predicted = predict(x_input, lstm_model, n_features).flatten()\n",
    "    y_actual = y_test.values\n",
    "    \n",
    "    # error calc\n",
    "    maes.append(mean_absolute_error(y_actual, y_predicted))\n",
    "    \n",
    "    # last actual prediction \n",
    "    last_prediction = y_predicted + moving_avg.dropna().iloc[test_index]\n",
    "\n",
    "mae_mean = np.mean(maes)\n",
    "print()\n",
    "print(\"Mean MAE: {}\".format(mae_mean))\n",
    "MAE_ARIMA = mae_mean"
   ]
  },
  {
   "cell_type": "code",
   "execution_count": null,
   "metadata": {},
   "outputs": [],
   "source": [
    "def full_graph(predicted):\n",
    "    predictionsArray = np.asarray(predicted)\n",
    "    zerosArray = np.zeros(ts.values.size-len(predictionsArray.flatten()))\n",
    "    cleanPrediction = pd.Series(np.concatenate((zerosArray,predictionsArray))).replace(0,np.NaN)\n",
    "\n",
    "    # plot\n",
    "    plt.plot(ts.values,marker='o', color='blue',label='Actual values')\n",
    "    plt.plot(cleanPrediction,marker='o', color='red',label='Last 3 year prediction from cross-validation')\n",
    "    plt.ylim([0,15])\n",
    "    plt.legend()\n",
    "\n",
    "    plt.show()\n",
    "full_graph(last_prediction)"
   ]
  },
  {
   "cell_type": "markdown",
   "metadata": {},
   "source": [
    "### Prophet"
   ]
  },
  {
   "cell_type": "markdown",
   "metadata": {},
   "source": [
    "### Polynomiale Regressie"
   ]
  },
  {
   "cell_type": "code",
   "execution_count": null,
   "metadata": {},
   "outputs": [],
   "source": [
    "ts"
   ]
  },
  {
   "cell_type": "code",
   "execution_count": null,
   "metadata": {},
   "outputs": [],
   "source": [
    "X_train = ts.index.values[:-testsize]\n",
    "X_test = ts.index.values[-testsize:]"
   ]
  },
  {
   "cell_type": "code",
   "execution_count": null,
   "metadata": {},
   "outputs": [],
   "source": [
    "y_train = train\n",
    "y_test = test"
   ]
  },
  {
   "cell_type": "code",
   "execution_count": null,
   "metadata": {},
   "outputs": [],
   "source": [
    "ts.values"
   ]
  },
  {
   "cell_type": "code",
   "execution_count": null,
   "metadata": {},
   "outputs": [],
   "source": [
    "# Create an array with ints to provide index/y values\n",
    "\n",
    "X_train = pd.DataFrame(range(0,ts.shape[0]))[:-testsize]\n",
    "X_test = pd.DataFrame(range(0,ts.shape[0]))[-testsize:]\n",
    "\n",
    "# y_train = ts.reset_index().drop(columns='Date').squeeze()[:-testsize]\n",
    "# y_test = ts.reset_index().drop(columns='Date').squeeze()[-testsize:]"
   ]
  },
  {
   "cell_type": "code",
   "execution_count": null,
   "metadata": {},
   "outputs": [],
   "source": [
    "X_test"
   ]
  },
  {
   "cell_type": "code",
   "execution_count": null,
   "metadata": {},
   "outputs": [],
   "source": [
    "from sklearn.preprocessing import PolynomialFeatures\n",
    "from sklearn.linear_model import LinearRegression\n",
    "from sklearn import metrics\n",
    "\n",
    "# Prepare variables that keep track of the best fitting polynomial\n",
    "BestR2 = -float('inf')\n",
    "BestRMSPE = float('inf')\n",
    "BestIR2 = 1\n",
    "BestIRMSPE = 1\n",
    "\n",
    "\n",
    "\n",
    "# Loop over polynomials from degrees 1 to 10 and use polynomial that fits best according to the \n",
    "for i in range(1,10):\n",
    "    \n",
    "    # Create PolynomialFeatures from the first degree\n",
    "    poly = PolynomialFeatures(degree=i)\n",
    "    \n",
    "    # Fit the inputdata from your trainingsset to the polynomial\n",
    "    X_train_transform = poly.fit_transform(X_train)\n",
    "    \n",
    "    # Create the model and fit it to the transformed inputdata and your expected outputdata from the trainingsdata\n",
    "    model = LinearRegression()\n",
    "    model.fit(X_train_transform,y_train)\n",
    "    \n",
    "    # Transform the inputdata from your \n",
    "    X_test_transform = poly.fit_transform(X_test)\n",
    "    y_predict_test = model.predict(X_test_transform)    \n",
    "    \n",
    "    # Calculate errors\n",
    "    RMSPE_test = calc_rmspe(y_test, y_predict_test)\n",
    "\n",
    "    # Print errors\n",
    "    print('RMSPE for i = ' + str(i) + ' is ' + str(RMSPE_test) )\n",
    "    print()\n",
    "    \n",
    "    # Update best fit\n",
    "    if BestRMSPE > RMSPE_test:\n",
    "        BestRMSPE = RMSPE_test\n",
    "        BestRMSPEi = i\n",
    "        \n",
    "# Conclude best results\n",
    "# print('Best i value according to r2 is '+str(BestR2i)+' with r2: '+str(BestR2))\n",
    "print('Best i value according to RMSPE is '+str(BestRMSPEi)+' with RMSPE: '+str(BestRMSPE))"
   ]
  },
  {
   "cell_type": "code",
   "execution_count": null,
   "metadata": {},
   "outputs": [],
   "source": [
    "# Recreate best model\n",
    "poly = PolynomialFeatures(degree=BestRMSPEi)\n",
    "X_train_transform = poly.fit_transform(X_train)   \n",
    "X_test_transform = poly.fit_transform(X_test)\n",
    "model = LinearRegression()\n",
    "model.fit(X_train_transform,y_train)\n",
    "y_predict = model.predict(X_test_transform)"
   ]
  },
  {
   "cell_type": "code",
   "execution_count": null,
   "metadata": {},
   "outputs": [],
   "source": [
    "# Calculate the result of the polynomial for a specific value of x\n",
    "def p(x):\n",
    "    result = model.intercept_ + model.coef_[0][1] * x \n",
    "#     for i in range(0, len(model.coef_)):\n",
    "#         result += model.coef_[i] * x \n",
    "    return result"
   ]
  },
  {
   "cell_type": "code",
   "execution_count": null,
   "metadata": {},
   "outputs": [],
   "source": []
  },
  {
   "cell_type": "code",
   "execution_count": null,
   "metadata": {},
   "outputs": [],
   "source": [
    "t1"
   ]
  },
  {
   "cell_type": "code",
   "execution_count": null,
   "metadata": {},
   "outputs": [],
   "source": [
    "model.coef_"
   ]
  },
  {
   "cell_type": "code",
   "execution_count": null,
   "metadata": {},
   "outputs": [],
   "source": [
    "p(t1)"
   ]
  },
  {
   "cell_type": "code",
   "execution_count": null,
   "metadata": {},
   "outputs": [],
   "source": [
    "# Plot the dataset\n",
    "plt.scatter(X_test, y_test)\n",
    "plt.scatter(X_train, y_train, color='red')\n",
    "plt.xlabel('Day')\n",
    "plt.ylabel('Stock')\n",
    "\n",
    "# Plot the polynomial\n",
    "t1 = np.arange(0, 40, 1)\n",
    "plt.plot(t1, p(t1.flatten()), color='blue')\n",
    "plt.show()\n"
   ]
  },
  {
   "cell_type": "code",
   "execution_count": null,
   "metadata": {},
   "outputs": [],
   "source": [
    "full_graph(y_predict)\n",
    "rmspe_PR[0]"
   ]
  },
  {
   "cell_type": "markdown",
   "metadata": {},
   "source": [
    "### Evaluation"
   ]
  },
  {
   "cell_type": "code",
   "execution_count": null,
   "metadata": {},
   "outputs": [],
   "source": [
    "print('ARIMA rmspe:\\t %.3f' % rmspe_ARIMA)\n",
    "print('ARIMA r2:\\t %.3f' % r2_ARIMA)\n",
    "print()\n",
    "print('LSTM rmspe:\\t %.3f' % rmspe_LSTM)\n",
    "print('LSTM r2:\\t %.3f' % r2_LSTM)\n",
    "print()\n",
    "print('PR rmspe:\\t %.3f' % rmspe_PR)\n",
    "print('PR r2:\\t\\t %.3f' % r2_PR)"
   ]
  }
 ],
 "metadata": {
  "kernelspec": {
   "display_name": "Python 3",
   "language": "python",
   "name": "python3"
  },
  "language_info": {
   "codemirror_mode": {
    "name": "ipython",
    "version": 3
   },
   "file_extension": ".py",
   "mimetype": "text/x-python",
   "name": "python",
   "nbconvert_exporter": "python",
   "pygments_lexer": "ipython3",
   "version": "3.7.4"
  }
 },
 "nbformat": 4,
 "nbformat_minor": 2
}
