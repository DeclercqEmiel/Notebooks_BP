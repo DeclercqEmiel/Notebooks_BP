{
 "cells": [
  {
   "cell_type": "code",
   "execution_count": 1,
   "metadata": {},
   "outputs": [],
   "source": [
    "import numpy as np\n",
    "import pandas as pd\n",
    "# matplotlib is the Python library for drawing diagrams\n",
    "import matplotlib.pylab as plt\n",
    "%matplotlib inline\n",
    "# set the size of the diagrams\n",
    "from matplotlib.pylab import rcParams\n",
    "rcParams['figure.figsize'] = 15,5\n",
    "from math import sqrt\n",
    "from sklearn.metrics import mean_squared_error"
   ]
  },
  {
   "cell_type": "markdown",
   "metadata": {},
   "source": [
    "## Dataprep"
   ]
  },
  {
   "cell_type": "code",
   "execution_count": 2,
   "metadata": {},
   "outputs": [],
   "source": [
    "url = 'https://raw.githubusercontent.com/DeclercqEmiel/BP-csvs/master/pollution.csv'\n",
    "ts = pd.read_csv(url)"
   ]
  },
  {
   "cell_type": "code",
   "execution_count": 3,
   "metadata": {},
   "outputs": [],
   "source": [
    "# ts['date'] = pd.to_datetime(ts['date'])"
   ]
  },
  {
   "cell_type": "code",
   "execution_count": 4,
   "metadata": {},
   "outputs": [],
   "source": [
    "ts['date'] = ts['date'].str[:10]\n",
    "ts = ts.drop_duplicates('date')\n",
    "tsmvd = ts.groupby('date').mean()\n",
    "ts['date'] = ts['date'].str[:7]\n",
    "tsmvm = ts.groupby('date').mean()\n",
    "\n",
    "# Change volume to sum? because its the amount of stocks traded\n",
    "# Change others to last?"
   ]
  },
  {
   "cell_type": "code",
   "execution_count": 5,
   "metadata": {},
   "outputs": [
    {
     "data": {
      "text/plain": [
       "[<matplotlib.lines.Line2D at 0x1e464b31888>]"
      ]
     },
     "execution_count": 5,
     "metadata": {},
     "output_type": "execute_result"
    },
    {
     "data": {
      "image/png": "[encoded data removed]",
      "text/plain": [
       "<Figure size 432x288 with 1 Axes>"
      ]
     },
     "metadata": {
      "needs_background": "light"
     },
     "output_type": "display_data"
    }
   ],
   "source": [
    "tsmvm[['pollution']]\n",
    "\n",
    "plt.plot(tsmvm[['pollution']])"
   ]
  },
  {
   "cell_type": "code",
   "execution_count": 6,
   "metadata": {},
   "outputs": [],
   "source": [
    "url = 'https://raw.githubusercontent.com/DeclercqEmiel/BP-csvs/master/googleStock.csv'\n",
    "ts = pd.read_csv(url)"
   ]
  },
  {
   "cell_type": "code",
   "execution_count": 7,
   "metadata": {},
   "outputs": [],
   "source": [
    "ts['Date'] = ts['Date'].str[:10]\n",
    "ts = ts.drop_duplicates('Date')\n",
    "tsmvd = ts.groupby('Date').mean()\n",
    "ts['Date'] = ts['Date'].str[:7]\n",
    "tsmvm = ts.groupby('Date').mean()\n",
    "\n",
    "# Change volume to sum? because its the amount of stocks traded\n",
    "# Change others to last?"
   ]
  },
  {
   "cell_type": "code",
   "execution_count": 8,
   "metadata": {},
   "outputs": [],
   "source": [
    "# columnNames = ts.columns[1:5]\n",
    "\n",
    "# # define the size of the testset\n",
    "# test_size = 12\n",
    "\n",
    "# dataset = tsmvm.iloc[:,[0,1,2,3]].values\n",
    "\n",
    "# y_train = dataset[:-test_size]\n",
    "# y_test = dataset[-test_size:]\n",
    "# X_train = tsmvm.index[:-test_size]\n",
    "# X_test = tsmvm.index[-test_size:]"
   ]
  },
  {
   "cell_type": "code",
   "execution_count": 9,
   "metadata": {},
   "outputs": [],
   "source": [
    "# load dataset\n",
    "dataset = pd.read_csv('https://raw.githubusercontent.com/DeclercqEmiel/BP-csvs/master/pollution.csv', header=0, index_col=0)\n",
    "values = dataset.values"
   ]
  },
  {
   "cell_type": "code",
   "execution_count": 10,
   "metadata": {},
   "outputs": [],
   "source": [
    "from sklearn.preprocessing import LabelEncoder\n",
    "\n",
    "\n",
    "# integer encode wind direction\n",
    "encoder = LabelEncoder()\n",
    "values[:,4] = encoder.fit_transform(values[:,4])"
   ]
  },
  {
   "cell_type": "code",
   "execution_count": 11,
   "metadata": {},
   "outputs": [],
   "source": [
    "# save index and columns from dataset\n",
    "index = dataset.index\n",
    "df_columns = dataset.columns"
   ]
  },
  {
   "cell_type": "code",
   "execution_count": 12,
   "metadata": {},
   "outputs": [],
   "source": [
    "dataset = pd.DataFrame(values)\n",
    "dataset.columns = df_columns"
   ]
  },
  {
   "cell_type": "code",
   "execution_count": 13,
   "metadata": {},
   "outputs": [],
   "source": [
    "index = index.str[:10]"
   ]
  },
  {
   "cell_type": "code",
   "execution_count": 14,
   "metadata": {},
   "outputs": [],
   "source": [
    "dataset.index = index"
   ]
  },
  {
   "cell_type": "code",
   "execution_count": 15,
   "metadata": {},
   "outputs": [],
   "source": [
    "dataset = dataset[~dataset.index.duplicated(keep='first')]"
   ]
  },
  {
   "cell_type": "markdown",
   "metadata": {},
   "source": [
    "### Testset for comming year, if scores are to low go to testset for 1 week"
   ]
  },
  {
   "cell_type": "code",
   "execution_count": 16,
   "metadata": {},
   "outputs": [
    {
     "data": {
      "text/html": [
       "<div>\n",
       "<style scoped>\n",
       "    .dataframe tbody tr th:only-of-type {\n",
       "        vertical-align: middle;\n",
       "    }\n",
       "\n",
       "    .dataframe tbody tr th {\n",
       "        vertical-align: top;\n",
       "    }\n",
       "\n",
       "    .dataframe thead th {\n",
       "        text-align: right;\n",
       "    }\n",
       "</style>\n",
       "<table border=\"1\" class=\"dataframe\">\n",
       "  <thead>\n",
       "    <tr style=\"text-align: right;\">\n",
       "      <th></th>\n",
       "      <th>pollution</th>\n",
       "      <th>dew</th>\n",
       "      <th>temp</th>\n",
       "      <th>press</th>\n",
       "      <th>wnd_dir</th>\n",
       "      <th>wnd_spd</th>\n",
       "      <th>snow</th>\n",
       "      <th>rain</th>\n",
       "    </tr>\n",
       "    <tr>\n",
       "      <th>date</th>\n",
       "      <th></th>\n",
       "      <th></th>\n",
       "      <th></th>\n",
       "      <th></th>\n",
       "      <th></th>\n",
       "      <th></th>\n",
       "      <th></th>\n",
       "      <th></th>\n",
       "    </tr>\n",
       "  </thead>\n",
       "  <tbody>\n",
       "    <tr>\n",
       "      <th>2014-12-25</th>\n",
       "      <td>20</td>\n",
       "      <td>-14</td>\n",
       "      <td>2</td>\n",
       "      <td>1033</td>\n",
       "      <td>1</td>\n",
       "      <td>75.55</td>\n",
       "      <td>0</td>\n",
       "      <td>0</td>\n",
       "    </tr>\n",
       "    <tr>\n",
       "      <th>2014-12-26</th>\n",
       "      <td>93</td>\n",
       "      <td>-11</td>\n",
       "      <td>-3</td>\n",
       "      <td>1033</td>\n",
       "      <td>2</td>\n",
       "      <td>4.47</td>\n",
       "      <td>0</td>\n",
       "      <td>0</td>\n",
       "    </tr>\n",
       "    <tr>\n",
       "      <th>2014-12-27</th>\n",
       "      <td>163</td>\n",
       "      <td>-10</td>\n",
       "      <td>-5</td>\n",
       "      <td>1030</td>\n",
       "      <td>1</td>\n",
       "      <td>1.79</td>\n",
       "      <td>0</td>\n",
       "      <td>0</td>\n",
       "    </tr>\n",
       "    <tr>\n",
       "      <th>2014-12-28</th>\n",
       "      <td>385</td>\n",
       "      <td>-9</td>\n",
       "      <td>-6</td>\n",
       "      <td>1025</td>\n",
       "      <td>3</td>\n",
       "      <td>6.69</td>\n",
       "      <td>0</td>\n",
       "      <td>0</td>\n",
       "    </tr>\n",
       "    <tr>\n",
       "      <th>2014-12-29</th>\n",
       "      <td>362</td>\n",
       "      <td>-10</td>\n",
       "      <td>-4</td>\n",
       "      <td>1016</td>\n",
       "      <td>3</td>\n",
       "      <td>4.01</td>\n",
       "      <td>0</td>\n",
       "      <td>0</td>\n",
       "    </tr>\n",
       "    <tr>\n",
       "      <th>2014-12-30</th>\n",
       "      <td>189</td>\n",
       "      <td>-12</td>\n",
       "      <td>-2</td>\n",
       "      <td>1016</td>\n",
       "      <td>3</td>\n",
       "      <td>0.89</td>\n",
       "      <td>0</td>\n",
       "      <td>0</td>\n",
       "    </tr>\n",
       "    <tr>\n",
       "      <th>2014-12-31</th>\n",
       "      <td>10</td>\n",
       "      <td>-19</td>\n",
       "      <td>-1</td>\n",
       "      <td>1027</td>\n",
       "      <td>1</td>\n",
       "      <td>51.84</td>\n",
       "      <td>0</td>\n",
       "      <td>0</td>\n",
       "    </tr>\n",
       "  </tbody>\n",
       "</table>\n",
       "</div>"
      ],
      "text/plain": [
       "           pollution  dew temp press wnd_dir wnd_spd snow rain\n",
       "date                                                          \n",
       "2014-12-25        20  -14    2  1033       1   75.55    0    0\n",
       "2014-12-26        93  -11   -3  1033       2    4.47    0    0\n",
       "2014-12-27       163  -10   -5  1030       1    1.79    0    0\n",
       "2014-12-28       385   -9   -6  1025       3    6.69    0    0\n",
       "2014-12-29       362  -10   -4  1016       3    4.01    0    0\n",
       "2014-12-30       189  -12   -2  1016       3    0.89    0    0\n",
       "2014-12-31        10  -19   -1  1027       1   51.84    0    0"
      ]
     },
     "execution_count": 16,
     "metadata": {},
     "output_type": "execute_result"
    }
   ],
   "source": [
    "# testsize : predict pollution for a year\n",
    "n_test_entries = 7\n",
    "dataset[-n_test_entries:]"
   ]
  },
  {
   "cell_type": "code",
   "execution_count": null,
   "metadata": {},
   "outputs": [],
   "source": []
  },
  {
   "cell_type": "code",
   "execution_count": 17,
   "metadata": {},
   "outputs": [],
   "source": [
    "train, test = dataset[:-n_test_entries], dataset[-n_test_entries:]\n",
    "test_y = test[['pollution']].values.flatten()\n",
    "test_X = test.drop('pollution',axis=1).values\n",
    "train_y = train[['pollution']].values.flatten()\n",
    "train_X = train.drop('pollution',axis=1).values"
   ]
  },
  {
   "cell_type": "code",
   "execution_count": 18,
   "metadata": {},
   "outputs": [],
   "source": [
    "# dataset = dataset.reset_index()\n",
    "# dataset.sort_values('date')"
   ]
  },
  {
   "cell_type": "code",
   "execution_count": 19,
   "metadata": {},
   "outputs": [],
   "source": [
    "# ts = dataset\n",
    "\n",
    "# # ts['date'] = ts['date'].str[:10]\n",
    "# # ts = ts.drop_duplicates('date')\n",
    "# ts['date'] = ts['date'].str[:7]\n",
    "# ts"
   ]
  },
  {
   "cell_type": "code",
   "execution_count": 20,
   "metadata": {},
   "outputs": [],
   "source": [
    "# dataset.groupby('date').mean()\n",
    "# dataset.drop_duplicates(subset='date')\n",
    "# ts = dataset\n",
    "# ts['date'].str[:7]"
   ]
  },
  {
   "cell_type": "code",
   "execution_count": 21,
   "metadata": {},
   "outputs": [],
   "source": [
    "# # Define train and testset\n",
    "# X = values\n",
    "# testSize = 24\n",
    "# size = len(values)\n",
    "# train, test = X[:-testSize], X[-testSize:]  # first 2/3 = training set, remaining 1/3 = test set\n",
    "# values.shape"
   ]
  },
  {
   "cell_type": "markdown",
   "metadata": {},
   "source": [
    "### testing methods"
   ]
  },
  {
   "cell_type": "code",
   "execution_count": 22,
   "metadata": {},
   "outputs": [],
   "source": [
    "from sklearn.metrics import r2_score\n",
    "\n",
    "\n",
    "def calc_rmspe(y_true, y_pred):\n",
    "    return np.sqrt(np.mean(np.square(((y_true - y_pred) / y_true)), axis=0)) * 100"
   ]
  },
  {
   "cell_type": "markdown",
   "metadata": {},
   "source": [
    "### VARMAX"
   ]
  },
  {
   "cell_type": "raw",
   "metadata": {},
   "source": [
    "Do i need differencing? / how\n",
    "Smaller testset, constructing 1 model took 2< hours"
   ]
  },
  {
   "cell_type": "markdown",
   "metadata": {},
   "source": [
    "#### Code for retrieving optimal values for pq parameters (20 min per permutation)"
   ]
  },
  {
   "cell_type": "code",
   "execution_count": 23,
   "metadata": {},
   "outputs": [],
   "source": [
    "# # VARMA example\n",
    "# from statsmodels.tsa.statespace.varmax import VARMAX\n",
    "# from sklearn.metrics import mean_squared_error,r2_score\n",
    "# import itertools\n",
    "# # import warnings\n",
    "# # import sys\n",
    "\n",
    "# import warnings\n",
    "# warnings.filterwarnings(\"ignore\")\n",
    "\n",
    "\n",
    "# p = q = range(0, 3)\n",
    "# # Permutation with 0 0 is invalid\n",
    "# pq = list(itertools.product(p, q))[1:]\n",
    "# best_pq = pq\n",
    "\n",
    "# for param in pq:\n",
    "#     history = [x for x in y_train]\n",
    "#     predictions = pd.DataFrame()\n",
    "#     print(param)\n",
    "#     try:   # some parametercombinations might lead to crash, so catch exceptions and continue\n",
    "#         for t in range(len(y_test)):\n",
    "#             # fit model\n",
    "#             model = VARMAX(history, order=(param))\n",
    "#             model_fit = model.fit(disp=0)\n",
    "\n",
    "#             output = model_fit.forecast()[0]\n",
    "#             predictions = predictions.append(pd.Series(output),ignore_index=True)\n",
    "#             obs = y_test[t]\n",
    "#             history.append(output)\n",
    "#             print(output)\n",
    "            \n",
    "#         rmse_sum = 0\n",
    "#         for v in range(predictions.shape[1]):\n",
    "#             rmse_sum += sqrt(mean_squared_error(y_test[:,v], predictions.values[:,v]))\n",
    "#         print(rmse_sum)\n",
    "\n",
    "#         result = pd.DataFrame([[str(param),str(rmse_sum)]])\n",
    "#         result.columns=['pq','result']\n",
    "#         result.to_csv('MultivariateParameters.csv', mode='a', header=False)\n",
    "\n",
    "\n",
    "#     except Exception as e:\n",
    "#         print(e)\n",
    "#         continue\n",
    "\n",
    "# # fit model\n",
    "# model = VARMAX(tsmvm.iloc[:,[0,1,2,3]].values, order=(1, 3))\n",
    "# model_fit = model.fit(disp=False)\n",
    "\n",
    "# # make prediction\n",
    "# yhat = model_fit.forecast()\n",
    "# print(yhat)"
   ]
  },
  {
   "cell_type": "markdown",
   "metadata": {},
   "source": [
    "#### Inverse values to neutralize seasonality"
   ]
  },
  {
   "cell_type": "code",
   "execution_count": 24,
   "metadata": {},
   "outputs": [],
   "source": [
    "train_diff = train.diff()\n",
    "\n",
    "# revert differencing\n",
    "diff_revert = pd.concat([pd.DataFrame().append(train.iloc[0]), train_diff.iloc[1:]])\n",
    "diff_revert = diff_revert.cumsum()\n",
    "\n",
    "# rearange columns\n",
    "diff_revert = diff_revert[['pollution', 'dew', 'temp', 'press', 'wnd_dir', 'wnd_spd', 'snow', 'rain']]\n",
    "\n",
    "# create a differenced series\n",
    "def difference(dataset, interval=1):\n",
    "    diff = list()\n",
    "    for i in range(interval, len(dataset)):\n",
    "        value = dataset[i] - dataset[i - interval]\n",
    "        diff.append(value)\n",
    "    return np.array(diff)\n",
    "\n",
    "# invert differenced value\n",
    "def inverse_difference(history, yhat, interval=1):\n",
    "\treturn yhat + history[-interval]\n",
    "\n",
    "seasonal_interval = 365\n",
    "differenced = difference(train.values[:1000,2])"
   ]
  },
  {
   "cell_type": "markdown",
   "metadata": {},
   "source": [
    "#### Optimize parameters"
   ]
  },
  {
   "cell_type": "code",
   "execution_count": 27,
   "metadata": {},
   "outputs": [
    {
     "data": {
      "text/plain": [
       "array([[ 6.27274545e+01, -2.97739545e+00,  6.34253603e+00,\n",
       "         1.02256879e+03,  1.71159092e+00,  6.43941084e+00,\n",
       "        -2.49300630e-01,  2.54645447e-01],\n",
       "       [ 9.42537483e+01, -2.11561970e+00,  2.66897177e+00,\n",
       "         1.01926354e+03,  1.83062085e+00,  1.95841076e+01,\n",
       "         2.26011758e-01, -3.00804749e-01],\n",
       "       [ 1.16628502e+02,  3.96413460e+00,  1.14461020e+01,\n",
       "         1.01667543e+03,  1.61393713e+00,  2.31258301e+01,\n",
       "        -4.09606029e-03,  4.86709109e-01],\n",
       "       [ 1.07541276e+02,  2.65611683e+00,  1.01436002e+01,\n",
       "         1.01686202e+03,  1.62335658e+00,  2.51070475e+01,\n",
       "         4.13389930e-02,  2.10211908e-01],\n",
       "       [ 1.07541276e+02,  2.65611683e+00,  1.01436002e+01,\n",
       "         1.01686202e+03,  1.62335658e+00,  2.51070475e+01,\n",
       "         4.13389930e-02,  2.10211908e-01],\n",
       "       [ 1.07541276e+02,  2.65611683e+00,  1.01436002e+01,\n",
       "         1.01686202e+03,  1.62335658e+00,  2.51070475e+01,\n",
       "         4.13389930e-02,  2.10211908e-01],\n",
       "       [ 1.07541276e+02,  2.65611683e+00,  1.01436002e+01,\n",
       "         1.01686202e+03,  1.62335658e+00,  2.51070475e+01,\n",
       "         4.13389930e-02,  2.10211908e-01]])"
      ]
     },
     "execution_count": 27,
     "metadata": {},
     "output_type": "execute_result"
    }
   ],
   "source": [
    "output"
   ]
  },
  {
   "cell_type": "code",
   "execution_count": 29,
   "metadata": {},
   "outputs": [
    {
     "data": {
      "text/plain": [
       "array([[ 6.27274545e+01, -2.97739545e+00,  6.34253603e+00,\n",
       "         1.02256879e+03,  1.71159092e+00,  6.43941084e+00,\n",
       "        -2.49300630e-01,  2.54645447e-01],\n",
       "       [ 9.42537483e+01, -2.11561970e+00,  2.66897177e+00,\n",
       "         1.01926354e+03,  1.83062085e+00,  1.95841076e+01,\n",
       "         2.26011758e-01, -3.00804749e-01],\n",
       "       [ 1.16628502e+02,  3.96413460e+00,  1.14461020e+01,\n",
       "         1.01667543e+03,  1.61393713e+00,  2.31258301e+01,\n",
       "        -4.09606029e-03,  4.86709109e-01],\n",
       "       [ 1.07541276e+02,  2.65611683e+00,  1.01436002e+01,\n",
       "         1.01686202e+03,  1.62335658e+00,  2.51070475e+01,\n",
       "         4.13389930e-02,  2.10211908e-01],\n",
       "       [ 1.07541276e+02,  2.65611683e+00,  1.01436002e+01,\n",
       "         1.01686202e+03,  1.62335658e+00,  2.51070475e+01,\n",
       "         4.13389930e-02,  2.10211908e-01],\n",
       "       [ 1.07541276e+02,  2.65611683e+00,  1.01436002e+01,\n",
       "         1.01686202e+03,  1.62335658e+00,  2.51070475e+01,\n",
       "         4.13389930e-02,  2.10211908e-01],\n",
       "       [ 1.07541276e+02,  2.65611683e+00,  1.01436002e+01,\n",
       "         1.01686202e+03,  1.62335658e+00,  2.51070475e+01,\n",
       "         4.13389930e-02,  2.10211908e-01]])"
      ]
     },
     "execution_count": 29,
     "metadata": {},
     "output_type": "execute_result"
    }
   ],
   "source": [
    "output"
   ]
  },
  {
   "cell_type": "code",
   "execution_count": 25,
   "metadata": {},
   "outputs": [
    {
     "name": "stderr",
     "output_type": "stream",
     "text": [
      "C:\\Users\\Emiel\\Anaconda3\\lib\\site-packages\\statsmodels\\tools\\_testing.py:19: FutureWarning: pandas.util.testing is deprecated. Use the functions in the public API at pandas.testing instead.\n",
      "  import pandas.util.testing as tm\n"
     ]
    },
    {
     "name": "stdout",
     "output_type": "stream",
     "text": [
      "(0, 0)\n",
      "Invalid VARMAX(p,q) specification; at least one p,q must be greater than zero.\n",
      "(0, 1)\n",
      "y_true and y_pred have different number of output (1!=8)\n",
      "(0, 2)\n",
      "y_true and y_pred have different number of output (1!=8)\n",
      "(0, 3)\n",
      "y_true and y_pred have different number of output (1!=8)\n",
      "(0, 4)\n"
     ]
    },
    {
     "name": "stderr",
     "output_type": "stream",
     "text": [
      "ERROR:root:Internal Python error in the inspect module.\n",
      "Below is the traceback from this internal error.\n",
      "\n"
     ]
    },
    {
     "name": "stdout",
     "output_type": "stream",
     "text": [
      "Traceback (most recent call last):\n",
      "  File \"C:\\Users\\Emiel\\Anaconda3\\lib\\site-packages\\IPython\\core\\interactiveshell.py\", line 3326, in run_code\n",
      "    exec(code_obj, self.user_global_ns, self.user_ns)\n",
      "  File \"<ipython-input-25-77cea8ff7135>\", line 23, in <module>\n",
      "    model_fit = model.fit(disp=False)\n",
      "  File \"C:\\Users\\Emiel\\Anaconda3\\lib\\site-packages\\statsmodels\\tsa\\statespace\\mlemodel.py\", line 482, in fit\n",
      "    skip_hessian=True, **kwargs)\n",
      "  File \"C:\\Users\\Emiel\\Anaconda3\\lib\\site-packages\\statsmodels\\base\\model.py\", line 470, in fit\n",
      "    full_output=full_output)\n",
      "  File \"C:\\Users\\Emiel\\Anaconda3\\lib\\site-packages\\statsmodels\\base\\optimizer.py\", line 219, in _fit\n",
      "    hess=hessian)\n",
      "  File \"C:\\Users\\Emiel\\Anaconda3\\lib\\site-packages\\statsmodels\\base\\optimizer.py\", line 439, in _fit_lbfgs\n",
      "    **extra_kwargs)\n",
      "  File \"C:\\Users\\Emiel\\Anaconda3\\lib\\site-packages\\scipy\\optimize\\lbfgsb.py\", line 199, in fmin_l_bfgs_b\n",
      "    **opts)\n",
      "  File \"C:\\Users\\Emiel\\Anaconda3\\lib\\site-packages\\scipy\\optimize\\lbfgsb.py\", line 345, in _minimize_lbfgsb\n",
      "    f, g = func_and_grad(x)\n",
      "  File \"C:\\Users\\Emiel\\Anaconda3\\lib\\site-packages\\scipy\\optimize\\lbfgsb.py\", line 291, in func_and_grad\n",
      "    g = _approx_fprime_helper(x, fun, epsilon, args=args, f0=f)\n",
      "  File \"C:\\Users\\Emiel\\Anaconda3\\lib\\site-packages\\scipy\\optimize\\optimize.py\", line 697, in _approx_fprime_helper\n",
      "    df = (f(*((xk + d,) + args)) - f0) / d[k]\n",
      "  File \"C:\\Users\\Emiel\\Anaconda3\\lib\\site-packages\\scipy\\optimize\\optimize.py\", line 327, in function_wrapper\n",
      "    return function(*(wrapper_args + args))\n",
      "  File \"C:\\Users\\Emiel\\Anaconda3\\lib\\site-packages\\statsmodels\\base\\model.py\", line 444, in f\n",
      "    return -self.loglike(params, *args) / nobs\n",
      "  File \"C:\\Users\\Emiel\\Anaconda3\\lib\\site-packages\\statsmodels\\tsa\\statespace\\mlemodel.py\", line 659, in loglike\n",
      "    loglike = self.ssm.loglike(complex_step=complex_step, **kwargs)\n",
      "  File \"C:\\Users\\Emiel\\Anaconda3\\lib\\site-packages\\statsmodels\\tsa\\statespace\\kalman_filter.py\", line 875, in loglike\n",
      "    kfilter = self._filter(**kwargs)\n",
      "KeyboardInterrupt\n",
      "\n",
      "During handling of the above exception, another exception occurred:\n",
      "\n",
      "Traceback (most recent call last):\n",
      "  File \"C:\\Users\\Emiel\\Anaconda3\\lib\\site-packages\\IPython\\core\\interactiveshell.py\", line 2040, in showtraceback\n",
      "    stb = value._render_traceback_()\n",
      "AttributeError: 'KeyboardInterrupt' object has no attribute '_render_traceback_'\n",
      "\n",
      "During handling of the above exception, another exception occurred:\n",
      "\n",
      "Traceback (most recent call last):\n",
      "  File \"C:\\Users\\Emiel\\Anaconda3\\lib\\site-packages\\IPython\\core\\ultratb.py\", line 1101, in get_records\n",
      "    return _fixed_getinnerframes(etb, number_of_lines_of_context, tb_offset)\n",
      "  File \"C:\\Users\\Emiel\\Anaconda3\\lib\\site-packages\\IPython\\core\\ultratb.py\", line 319, in wrapped\n",
      "    return f(*args, **kwargs)\n",
      "  File \"C:\\Users\\Emiel\\Anaconda3\\lib\\site-packages\\IPython\\core\\ultratb.py\", line 353, in _fixed_getinnerframes\n",
      "    records = fix_frame_records_filenames(inspect.getinnerframes(etb, context))\n",
      "  File \"C:\\Users\\Emiel\\Anaconda3\\lib\\inspect.py\", line 1502, in getinnerframes\n",
      "    frameinfo = (tb.tb_frame,) + getframeinfo(tb, context)\n",
      "  File \"C:\\Users\\Emiel\\Anaconda3\\lib\\inspect.py\", line 1460, in getframeinfo\n",
      "    filename = getsourcefile(frame) or getfile(frame)\n",
      "  File \"C:\\Users\\Emiel\\Anaconda3\\lib\\inspect.py\", line 696, in getsourcefile\n",
      "    if getattr(getmodule(object, filename), '__loader__', None) is not None:\n",
      "  File \"C:\\Users\\Emiel\\Anaconda3\\lib\\inspect.py\", line 739, in getmodule\n",
      "    f = getabsfile(module)\n",
      "  File \"C:\\Users\\Emiel\\Anaconda3\\lib\\inspect.py\", line 708, in getabsfile\n",
      "    _filename = getsourcefile(object) or getfile(object)\n",
      "  File \"C:\\Users\\Emiel\\Anaconda3\\lib\\inspect.py\", line 693, in getsourcefile\n",
      "    if os.path.exists(filename):\n",
      "  File \"C:\\Users\\Emiel\\Anaconda3\\lib\\genericpath.py\", line 19, in exists\n",
      "    os.stat(path)\n",
      "KeyboardInterrupt\n"
     ]
    },
    {
     "ename": "KeyboardInterrupt",
     "evalue": "",
     "output_type": "error",
     "traceback": [
      "\u001b[1;31m---------------------------------------------------------------------------\u001b[0m"
     ]
    }
   ],
   "source": [
    "from sklearn.metrics import mean_squared_error,r2_score\n",
    "import itertools\n",
    "import warnings\n",
    "import sys\n",
    "from statsmodels.tsa.statespace.varmax import VARMAX\n",
    "\n",
    "\n",
    "# Define the p, d and q parameters to take any value between 0 and 2\n",
    "a = b = range(0, 6)\n",
    "\n",
    "# Generate all different combinations of p, q and q triplets\n",
    "ab = list(itertools.product(a, b))\n",
    "best_ab = ab\n",
    "best_r2 = -2\n",
    "warnings.filterwarnings(\"ignore\") # specify to ignore warning messages\n",
    "for param in ab:\n",
    "    history = [x for x in train]\n",
    "    predictions = list()\n",
    "    print(param)\n",
    "    try:   # some parametercombinations might lead to crash, so catch exceptions and continue\n",
    "        # fit model\n",
    "        model = VARMAX(train.values, order=param)\n",
    "        model_fit = model.fit(disp=False)\n",
    "        # make prediction\n",
    "        output = model_fit.forecast(steps=n_test_entries)\n",
    "#         yt = output[0]\n",
    "#         predictions.append(yt)\n",
    "#         obs = test[t]\n",
    "#         history.append(yt)\n",
    "        r2 = r2_score(test_y,output)\n",
    "        \n",
    "        print('R square: ' + str(r2))    \n",
    "        if r2 > best_r2:\n",
    "            best_r2 = r2\n",
    "            best_ab = param\n",
    "            best_predictions = output\n",
    "            \n",
    "    except Exception as e:\n",
    "        print(e)\n",
    "        continue\n",
    "   \n",
    "# plot\n",
    "print('Best R2 = ' + str(best_r2))\n",
    "print(best_ab)\n",
    "plt.plot(test,color='blue')\n",
    "plt.plot(best_predictions, color='red')\n",
    "plt.show()"
   ]
  },
  {
   "cell_type": "markdown",
   "metadata": {},
   "source": [
    "#### Model building"
   ]
  },
  {
   "cell_type": "code",
   "execution_count": 1,
   "metadata": {},
   "outputs": [
    {
     "name": "stderr",
     "output_type": "stream",
     "text": [
      "C:\\Users\\Emiel\\Anaconda3\\lib\\site-packages\\statsmodels\\tools\\_testing.py:19: FutureWarning: pandas.util.testing is deprecated. Use the functions in the public API at pandas.testing instead.\n",
      "  import pandas.util.testing as tm\n"
     ]
    },
    {
     "ename": "NameError",
     "evalue": "name 'train' is not defined",
     "output_type": "error",
     "traceback": [
      "\u001b[1;31m---------------------------------------------------------------------------\u001b[0m",
      "\u001b[1;31mNameError\u001b[0m                                 Traceback (most recent call last)",
      "\u001b[1;32m<timed exec>\u001b[0m in \u001b[0;36m<module>\u001b[1;34m\u001b[0m\n",
      "\u001b[1;31mNameError\u001b[0m: name 'train' is not defined"
     ]
    }
   ],
   "source": [
    "%%time\n",
    "\n",
    "from statsmodels.tsa.statespace.varmax import VARMAX\n",
    "    \n",
    "# fit model\n",
    "model = VARMAX(train.values, order=(1, 1))\n",
    "model_fit = model.fit(disp=False)\n",
    "# make prediction\n",
    "yhat = model_fit.forecast(steps=n_test_entries)\n",
    "predictions_y = yhat[:,0]"
   ]
  },
  {
   "cell_type": "markdown",
   "metadata": {},
   "source": [
    "#### Evaluation"
   ]
  },
  {
   "cell_type": "code",
   "execution_count": 2,
   "metadata": {},
   "outputs": [
    {
     "name": "stdout",
     "output_type": "stream",
     "text": [
      "\n"
     ]
    },
    {
     "ename": "NameError",
     "evalue": "name 'calc_rmspe' is not defined",
     "output_type": "error",
     "traceback": [
      "\u001b[1;31m---------------------------------------------------------------------------\u001b[0m",
      "\u001b[1;31mNameError\u001b[0m                                 Traceback (most recent call last)",
      "\u001b[1;32m<ipython-input-2-570f35488349>\u001b[0m in \u001b[0;36m<module>\u001b[1;34m\u001b[0m\n\u001b[0;32m      1\u001b[0m \u001b[0mprint\u001b[0m\u001b[1;33m(\u001b[0m\u001b[1;33m)\u001b[0m\u001b[1;33m\u001b[0m\u001b[1;33m\u001b[0m\u001b[0m\n\u001b[1;32m----> 2\u001b[1;33m \u001b[0mrmspe_VARMAX\u001b[0m \u001b[1;33m=\u001b[0m \u001b[0mcalc_rmspe\u001b[0m\u001b[1;33m(\u001b[0m\u001b[0mtest_y\u001b[0m\u001b[1;33m,\u001b[0m \u001b[0mpredictions_y\u001b[0m\u001b[1;33m)\u001b[0m\u001b[1;33m\u001b[0m\u001b[1;33m\u001b[0m\u001b[0m\n\u001b[0m\u001b[0;32m      3\u001b[0m \u001b[0mprint\u001b[0m\u001b[1;33m(\u001b[0m\u001b[1;34m'Test RMSPE: %.3f'\u001b[0m \u001b[1;33m%\u001b[0m \u001b[0mrmspe_VARMAX\u001b[0m\u001b[1;33m)\u001b[0m\u001b[1;33m\u001b[0m\u001b[1;33m\u001b[0m\u001b[0m\n\u001b[0;32m      4\u001b[0m \u001b[0mr2_VARMAX\u001b[0m \u001b[1;33m=\u001b[0m \u001b[0mr2_score\u001b[0m\u001b[1;33m(\u001b[0m\u001b[0mtest_y\u001b[0m\u001b[1;33m,\u001b[0m\u001b[0mpredictions_y\u001b[0m\u001b[1;33m)\u001b[0m\u001b[1;33m\u001b[0m\u001b[1;33m\u001b[0m\u001b[0m\n\u001b[0;32m      5\u001b[0m \u001b[0mprint\u001b[0m\u001b[1;33m(\u001b[0m\u001b[1;34m'R square: '\u001b[0m \u001b[1;33m+\u001b[0m \u001b[0mstr\u001b[0m\u001b[1;33m(\u001b[0m\u001b[0mr2_VARMAX\u001b[0m\u001b[1;33m)\u001b[0m\u001b[1;33m)\u001b[0m\u001b[1;33m\u001b[0m\u001b[1;33m\u001b[0m\u001b[0m\n",
      "\u001b[1;31mNameError\u001b[0m: name 'calc_rmspe' is not defined"
     ]
    }
   ],
   "source": [
    "print()\n",
    "rmspe_VARMAX = calc_rmspe(test_y, predictions_y)\n",
    "print('Test RMSPE: %.3f' % rmspe_VARMAX)\n",
    "r2_VARMAX = r2_score(test_y,predictions_y)\n",
    "print('R square: ' + str(r2_VARMAX))  "
   ]
  },
  {
   "cell_type": "markdown",
   "metadata": {},
   "source": [
    "### LSTM"
   ]
  },
  {
   "cell_type": "code",
   "execution_count": null,
   "metadata": {},
   "outputs": [],
   "source": [
    "values = reframed.values\n",
    "n_train_hours = 365\n",
    "train = values[:n_train_hours, :]"
   ]
  },
  {
   "cell_type": "code",
   "execution_count": null,
   "metadata": {},
   "outputs": [],
   "source": [
    "from math import sqrt\n",
    "from numpy import concatenate\n",
    "from matplotlib import pyplot\n",
    "from pandas import read_csv\n",
    "from pandas import DataFrame\n",
    "from pandas import concat\n",
    "from sklearn.preprocessing import MinMaxScaler\n",
    "from sklearn.preprocessing import LabelEncoder\n",
    "from sklearn.metrics import mean_squared_error\n",
    "from keras.models import Sequential\n",
    "from keras.layers import Dense\n",
    "from keras.layers import LSTM\n",
    "\n",
    "# convert series to supervised learning\n",
    "def series_to_supervised(data, n_in=1, n_out=1, dropnan=True):\n",
    "\tn_vars = 1 if type(data) is list else data.shape[1]\n",
    "\tdf = DataFrame(data)\n",
    "\tcols, names = list(), list()\n",
    "\t# input sequence (t-n, ... t-1)\n",
    "\tfor i in range(n_in, 0, -1):\n",
    "\t\tcols.append(df.shift(i))\n",
    "\t\tnames += [('var%d(t-%d)' % (j+1, i)) for j in range(n_vars)]\n",
    "\t# forecast sequence (t, t+1, ... t+n)\n",
    "\tfor i in range(0, n_out):\n",
    "\t\tcols.append(df.shift(-i))\n",
    "\t\tif i == 0:\n",
    "\t\t\tnames += [('var%d(t)' % (j+1)) for j in range(n_vars)]\n",
    "\t\telse:\n",
    "\t\t\tnames += [('var%d(t+%d)' % (j+1, i)) for j in range(n_vars)]\n",
    "\t# put it all together\n",
    "\tagg = concat(cols, axis=1)\n",
    "\tagg.columns = names\n",
    "\t# drop rows with NaN values\n",
    "\tif dropnan:\n",
    "\t\tagg.dropna(inplace=True)\n",
    "\treturn agg\n",
    "\n",
    "# load dataset\n",
    "values = dataset.values\n",
    "# integer encode direction\n",
    "encoder = LabelEncoder()\n",
    "values[:,4] = encoder.fit_transform(values[:,4])\n",
    "# ensure all data is float\n",
    "values = values.astype('float32')\n",
    "# normalize features\n",
    "scaler = MinMaxScaler(feature_range=(0, 1))\n",
    "scaled = scaler.fit_transform(values)\n",
    "n_features = 8\n",
    "# frame as supervised learning\n",
    "reframed = series_to_supervised(scaled, n_hours, 1)\n",
    "print(reframed.shape)\n",
    "\n",
    "# split into train and test sets\n",
    "values = reframed.values\n",
    "n_test_rows = 7\n",
    "train = values[:-n_test_rows, :]\n",
    "test = values[-n_test_rows:, :]\n",
    "# split into input and outputs\n",
    "n_obs = n_hours * n_features\n",
    "train_X, train_y = train[:, :n_obs], train[:, -n_features]\n",
    "test_X, test_y = test[:, :n_obs], test[:, -n_features]\n",
    "print(train_X.shape, len(train_X), train_y.shape)\n",
    "# reshape input to be 3D [samples, timesteps, features]\n",
    "train_X = train_X.reshape((train_X.shape[0], n_hours, n_features))\n",
    "test_X = test_X.reshape((test_X.shape[0], n_hours, n_features))\n",
    "print(train_X.shape, train_y.shape, test_X.shape, test_y.shape)\n",
    "\n",
    "# design network\n",
    "model = Sequential()\n",
    "model.add(LSTM(50, input_shape=(train_X.shape[1], train_X.shape[2])))\n",
    "model.add(Dense(1))\n",
    "model.compile(loss='mae', optimizer='adam')\n",
    "# fit network\n",
    "history = model.fit(train_X, train_y, epochs=10, batch_size=72, validation_data=(test_X, test_y), verbose=2, shuffle=False)\n",
    "# plot history\n",
    "pyplot.plot(history.history['loss'], label='train')\n",
    "pyplot.plot(history.history['val_loss'], label='test')\n",
    "pyplot.legend()\n",
    "pyplot.show()\n",
    "\n",
    "# make a prediction\n",
    "yhat = model.predict(test_X)\n",
    "test_X = test_X.reshape((test_X.shape[0], n_hours*n_features))\n",
    "# invert scaling for forecast\n",
    "inv_yhat = concatenate((yhat, test_X[:, -7:]), axis=1)\n",
    "inv_yhat = scaler.inverse_transform(inv_yhat)\n",
    "inv_yhat = inv_yhat[:,0]\n",
    "# invert scaling for actual\n",
    "test_y = test_y.reshape((len(test_y), 1))\n",
    "inv_y = concatenate((test_y, test_X[:, -7:]), axis=1)\n",
    "inv_y = scaler.inverse_transform(inv_y)\n",
    "inv_y = inv_y[:,0]"
   ]
  },
  {
   "cell_type": "code",
   "execution_count": null,
   "metadata": {},
   "outputs": [],
   "source": [
    "print()\n",
    "rmspe_LSTM = calc_rmspe(inv_y, inv_yhat)\n",
    "print('Test RMSPE: %.3f' % rmspe_LSTM)\n",
    "r2_LSTM = r2_score(inv_y, inv_yhat)\n",
    "print('R square: ' + str(r2_LSTM))  "
   ]
  },
  {
   "cell_type": "markdown",
   "metadata": {},
   "source": [
    "### Polynomial"
   ]
  },
  {
   "cell_type": "raw",
   "metadata": {},
   "source": [
    "https://stackoverflow.com/questions/54891965/multivariate-polynomial-regression-with-python"
   ]
  },
  {
   "cell_type": "code",
   "execution_count": 3,
   "metadata": {},
   "outputs": [
    {
     "ename": "NameError",
     "evalue": "name 'train_X' is not defined",
     "output_type": "error",
     "traceback": [
      "\u001b[1;31m---------------------------------------------------------------------------\u001b[0m",
      "\u001b[1;31mNameError\u001b[0m                                 Traceback (most recent call last)",
      "\u001b[1;32m<ipython-input-3-3b9fb9e6b564>\u001b[0m in \u001b[0;36m<module>\u001b[1;34m\u001b[0m\n\u001b[0;32m     13\u001b[0m \u001b[1;33m\u001b[0m\u001b[0m\n\u001b[0;32m     14\u001b[0m     \u001b[1;31m# Fit the inputdata from your trainingsset to the polynomial\u001b[0m\u001b[1;33m\u001b[0m\u001b[1;33m\u001b[0m\u001b[1;33m\u001b[0m\u001b[0m\n\u001b[1;32m---> 15\u001b[1;33m     \u001b[0mpoly_variables\u001b[0m \u001b[1;33m=\u001b[0m \u001b[0mpoly\u001b[0m\u001b[1;33m.\u001b[0m\u001b[0mfit_transform\u001b[0m\u001b[1;33m(\u001b[0m\u001b[0mtrain_X\u001b[0m\u001b[1;33m)\u001b[0m\u001b[1;33m\u001b[0m\u001b[1;33m\u001b[0m\u001b[0m\n\u001b[0m\u001b[0;32m     16\u001b[0m \u001b[1;33m\u001b[0m\u001b[0m\n\u001b[0;32m     17\u001b[0m     \u001b[1;31m# Create the model and fit it to the transformed inputdata and your expected outputdata from the trainingsdata\u001b[0m\u001b[1;33m\u001b[0m\u001b[1;33m\u001b[0m\u001b[1;33m\u001b[0m\u001b[0m\n",
      "\u001b[1;31mNameError\u001b[0m: name 'train_X' is not defined"
     ]
    }
   ],
   "source": [
    "from sklearn.preprocessing import PolynomialFeatures\n",
    "from sklearn import linear_model\n",
    "\n",
    "# Prepare variables that keep track of the best fitting polynomial\n",
    "BestRMSPE = float('inf')\n",
    "BestIRMSPE = 1\n",
    "\n",
    "for i in range(1,10):\n",
    "    poly = PolynomialFeatures(degree=i)   \n",
    "    \n",
    "    # Create PolynomialFeatures with the i'th degree\n",
    "    poly = PolynomialFeatures(degree=i)\n",
    "\n",
    "    # Fit the inputdata from your trainingsset to the polynomial\n",
    "    poly_variables = poly.fit_transform(train_X)\n",
    "    \n",
    "    # Create the model and fit it to the transformed inputdata and your expected outputdata from the trainingsdata\n",
    "    regression = linear_model.LinearRegression()\n",
    "    model = regression.fit(train_X, train_y)\n",
    "    \n",
    "    \n",
    "    test_X_transform = poly.fit_transform(test_X)\n",
    "    pred_y = model.predict(test_X_transform)\n",
    "    \n",
    "    RMSPE_test = calc_rmspe(test_y, pred_y)\n",
    "    print(i)\n",
    "    print(RMSPE_test)\n",
    "    \n",
    "    # Update best fit\n",
    "    if BestRMSPE > RMSPE_test:\n",
    "        BestRMSPE = RMSPE_test\n",
    "        BestRMSPEi = i"
   ]
  },
  {
   "cell_type": "code",
   "execution_count": null,
   "metadata": {},
   "outputs": [],
   "source": [
    "rmspe_LSTM"
   ]
  },
  {
   "cell_type": "code",
   "execution_count": null,
   "metadata": {},
   "outputs": [],
   "source": [
    "plt.plot(pred_y)\n",
    "plt.plot(test_y)"
   ]
  },
  {
   "cell_type": "raw",
   "metadata": {},
   "source": [
    "https://machinelearningmastery.com/how-to-develop-machine-learning-models-for-multivariate-multi-step-air-pollution-time-series-forecasting/"
   ]
  },
  {
   "cell_type": "code",
   "execution_count": 4,
   "metadata": {},
   "outputs": [],
   "source": [
    "# prepare a list of ml models\n",
    "def get_models(models=dict()):\n",
    "\t# linear models\n",
    "\tmodels['lr'] = LinearRegression()\n",
    "\tmodels['lasso'] = Lasso()\n",
    "\tmodels['ridge'] = Ridge()\n",
    "\tmodels['en'] = ElasticNet()\n",
    "\tmodels['huber'] = HuberRegressor()\n",
    "\tmodels['llars'] = LassoLars()\n",
    "\tmodels['pa'] = PassiveAggressiveRegressor(max_iter=1000, tol=1e-3)\n",
    "\tmodels['sgd'] = SGDRegressor(max_iter=1000, tol=1e-3)\n",
    "\tprint('Defined %d models' % len(models))\n",
    "\treturn models"
   ]
  },
  {
   "cell_type": "code",
   "execution_count": 5,
   "metadata": {},
   "outputs": [
    {
     "ename": "FileNotFoundError",
     "evalue": "[Errno 2] No such file or directory: 'AirQualityPrediction/supervised_train.npy'",
     "output_type": "error",
     "traceback": [
      "\u001b[1;31m---------------------------------------------------------------------------\u001b[0m",
      "\u001b[1;31mFileNotFoundError\u001b[0m                         Traceback (most recent call last)",
      "\u001b[1;32m<ipython-input-5-9ce89400e71a>\u001b[0m in \u001b[0;36m<module>\u001b[1;34m\u001b[0m\n\u001b[0;32m    171\u001b[0m \u001b[1;33m\u001b[0m\u001b[0m\n\u001b[0;32m    172\u001b[0m \u001b[1;31m# load supervised datasets\u001b[0m\u001b[1;33m\u001b[0m\u001b[1;33m\u001b[0m\u001b[1;33m\u001b[0m\u001b[0m\n\u001b[1;32m--> 173\u001b[1;33m \u001b[0mtrain\u001b[0m \u001b[1;33m=\u001b[0m \u001b[0mload\u001b[0m\u001b[1;33m(\u001b[0m\u001b[1;34m'AirQualityPrediction/supervised_train.npy'\u001b[0m\u001b[1;33m,\u001b[0m \u001b[0mallow_pickle\u001b[0m\u001b[1;33m=\u001b[0m\u001b[1;32mTrue\u001b[0m\u001b[1;33m)\u001b[0m\u001b[1;33m\u001b[0m\u001b[1;33m\u001b[0m\u001b[0m\n\u001b[0m\u001b[0;32m    174\u001b[0m \u001b[0mtest\u001b[0m \u001b[1;33m=\u001b[0m \u001b[0mload\u001b[0m\u001b[1;33m(\u001b[0m\u001b[1;34m'AirQualityPrediction/supervised_test.npy'\u001b[0m\u001b[1;33m,\u001b[0m \u001b[0mallow_pickle\u001b[0m\u001b[1;33m=\u001b[0m\u001b[1;32mTrue\u001b[0m\u001b[1;33m)\u001b[0m\u001b[1;33m\u001b[0m\u001b[1;33m\u001b[0m\u001b[0m\n\u001b[0;32m    175\u001b[0m \u001b[0mprint\u001b[0m\u001b[1;33m(\u001b[0m\u001b[0mtrain\u001b[0m\u001b[1;33m.\u001b[0m\u001b[0mshape\u001b[0m\u001b[1;33m,\u001b[0m \u001b[0mtest\u001b[0m\u001b[1;33m.\u001b[0m\u001b[0mshape\u001b[0m\u001b[1;33m)\u001b[0m\u001b[1;33m\u001b[0m\u001b[1;33m\u001b[0m\u001b[0m\n",
      "\u001b[1;32m~\\Anaconda3\\lib\\site-packages\\numpy\\lib\\npyio.py\u001b[0m in \u001b[0;36mload\u001b[1;34m(file, mmap_mode, allow_pickle, fix_imports, encoding)\u001b[0m\n\u001b[0;32m    420\u001b[0m         \u001b[0mown_fid\u001b[0m \u001b[1;33m=\u001b[0m \u001b[1;32mFalse\u001b[0m\u001b[1;33m\u001b[0m\u001b[1;33m\u001b[0m\u001b[0m\n\u001b[0;32m    421\u001b[0m     \u001b[1;32melse\u001b[0m\u001b[1;33m:\u001b[0m\u001b[1;33m\u001b[0m\u001b[1;33m\u001b[0m\u001b[0m\n\u001b[1;32m--> 422\u001b[1;33m         \u001b[0mfid\u001b[0m \u001b[1;33m=\u001b[0m \u001b[0mopen\u001b[0m\u001b[1;33m(\u001b[0m\u001b[0mos_fspath\u001b[0m\u001b[1;33m(\u001b[0m\u001b[0mfile\u001b[0m\u001b[1;33m)\u001b[0m\u001b[1;33m,\u001b[0m \u001b[1;34m\"rb\"\u001b[0m\u001b[1;33m)\u001b[0m\u001b[1;33m\u001b[0m\u001b[1;33m\u001b[0m\u001b[0m\n\u001b[0m\u001b[0;32m    423\u001b[0m         \u001b[0mown_fid\u001b[0m \u001b[1;33m=\u001b[0m \u001b[1;32mTrue\u001b[0m\u001b[1;33m\u001b[0m\u001b[1;33m\u001b[0m\u001b[0m\n\u001b[0;32m    424\u001b[0m \u001b[1;33m\u001b[0m\u001b[0m\n",
      "\u001b[1;31mFileNotFoundError\u001b[0m: [Errno 2] No such file or directory: 'AirQualityPrediction/supervised_train.npy'"
     ]
    }
   ],
   "source": [
    "# evaluate linear algorithms\n",
    "from numpy import load\n",
    "from numpy import loadtxt\n",
    "from numpy import nan\n",
    "from numpy import isnan\n",
    "from numpy import count_nonzero\n",
    "from numpy import unique\n",
    "from numpy import array\n",
    "from sklearn.base import clone\n",
    "from sklearn.linear_model import LinearRegression\n",
    "from sklearn.linear_model import Lasso\n",
    "from sklearn.linear_model import Ridge\n",
    "from sklearn.linear_model import ElasticNet\n",
    "from sklearn.linear_model import HuberRegressor\n",
    "from sklearn.linear_model import LassoLars\n",
    "from sklearn.linear_model import PassiveAggressiveRegressor\n",
    "from sklearn.linear_model import SGDRegressor\n",
    "\n",
    "# split the dataset by 'chunkID', return a list of chunks\n",
    "def to_chunks(values, chunk_ix=0):\n",
    "\tchunks = list()\n",
    "\t# get the unique chunk ids\n",
    "\tchunk_ids = unique(values[:, chunk_ix])\n",
    "\t# group rows by chunk id\n",
    "\tfor chunk_id in chunk_ids:\n",
    "\t\tselection = values[:, chunk_ix] == chunk_id\n",
    "\t\tchunks.append(values[selection, :])\n",
    "\treturn chunks\n",
    "\n",
    "# return true if the array has any non-nan values\n",
    "def has_data(data):\n",
    "\treturn count_nonzero(isnan(data)) < len(data)\n",
    "\n",
    "# return a list of relative forecast lead times\n",
    "def get_lead_times():\n",
    "\treturn [1, 2, 3, 4, 5, 10, 17, 24, 48, 72]\n",
    "\n",
    "# fit a single model\n",
    "def fit_model(model, X, y):\n",
    "\t# clone the model configuration\n",
    "\tlocal_model = clone(model)\n",
    "\t# fit the model\n",
    "\tlocal_model.fit(X, y)\n",
    "\treturn local_model\n",
    "\n",
    "# fit one model for each variable and each forecast lead time [var][time][model]\n",
    "def fit_models(model, train):\n",
    "\t# prepare structure for saving models\n",
    "\tmodels = [[list() for _ in range(train.shape[1])] for _ in range(train.shape[0])]\n",
    "\t# enumerate vars\n",
    "\tfor i in range(train.shape[0]):\n",
    "\t\t# enumerate lead times\n",
    "\t\tfor j in range(train.shape[1]):\n",
    "\t\t\t# get data\n",
    "\t\t\tdata = train[i, j]\n",
    "\t\t\tX, y = data[:, :-1], data[:, -1]\n",
    "\t\t\t# fit model\n",
    "\t\t\tlocal_model = fit_model(model, X, y)\n",
    "\t\t\tmodels[i][j].append(local_model)\n",
    "\treturn models\n",
    "\n",
    "# return forecasts as [chunks][var][time]\n",
    "def make_predictions(models, test):\n",
    "\tlead_times = get_lead_times()\n",
    "\tpredictions = list()\n",
    "\t# enumerate chunks\n",
    "\tfor i in range(test.shape[0]):\n",
    "\t\t# enumerate variables\n",
    "\t\tchunk_predictions = list()\n",
    "\t\tfor j in range(test.shape[1]):\n",
    "\t\t\t# get the input pattern for this chunk and target\n",
    "\t\t\tpattern = test[i,j]\n",
    "\t\t\t# assume a nan forecast\n",
    "\t\t\tforecasts = array([nan for _ in range(len(lead_times))])\n",
    "\t\t\t# check we can make a forecast\n",
    "\t\t\tif has_data(pattern):\n",
    "\t\t\t\tpattern = pattern.reshape((1, len(pattern)))\n",
    "\t\t\t\t# forecast each lead time\n",
    "\t\t\t\tforecasts = list()\n",
    "\t\t\t\tfor k in range(len(lead_times)):\n",
    "\t\t\t\t\tyhat = models[j][k][0].predict(pattern)\n",
    "\t\t\t\t\tforecasts.append(yhat[0])\n",
    "\t\t\t\tforecasts = array(forecasts)\n",
    "\t\t\t# save forecasts for each lead time for this variable\n",
    "\t\t\tchunk_predictions.append(forecasts)\n",
    "\t\t# save forecasts for this chunk\n",
    "\t\tchunk_predictions = array(chunk_predictions)\n",
    "\t\tpredictions.append(chunk_predictions)\n",
    "\treturn array(predictions)\n",
    "\n",
    "# convert the test dataset in chunks to [chunk][variable][time] format\n",
    "def prepare_test_forecasts(test_chunks):\n",
    "\tpredictions = list()\n",
    "\t# enumerate chunks to forecast\n",
    "\tfor rows in test_chunks:\n",
    "\t\t# enumerate targets for chunk\n",
    "\t\tchunk_predictions = list()\n",
    "\t\tfor j in range(3, rows.shape[1]):\n",
    "\t\t\tyhat = rows[:, j]\n",
    "\t\t\tchunk_predictions.append(yhat)\n",
    "\t\tchunk_predictions = array(chunk_predictions)\n",
    "\t\tpredictions.append(chunk_predictions)\n",
    "\treturn array(predictions)\n",
    "\n",
    "# calculate the error between an actual and predicted value\n",
    "def calculate_error(actual, predicted):\n",
    "\t# give the full actual value if predicted is nan\n",
    "\tif isnan(predicted):\n",
    "\t\treturn abs(actual)\n",
    "\t# calculate abs difference\n",
    "\treturn abs(actual - predicted)\n",
    "\n",
    "# evaluate a forecast in the format [chunk][variable][time]\n",
    "def evaluate_forecasts(predictions, testset):\n",
    "\tlead_times = get_lead_times()\n",
    "\ttotal_mae, times_mae = 0.0, [0.0 for _ in range(len(lead_times))]\n",
    "\ttotal_c, times_c = 0, [0 for _ in range(len(lead_times))]\n",
    "\t# enumerate test chunks\n",
    "\tfor i in range(len(test_chunks)):\n",
    "\t\t# convert to forecasts\n",
    "\t\tactual = testset[i]\n",
    "\t\tpredicted = predictions[i]\n",
    "\t\t# enumerate target variables\n",
    "\t\tfor j in range(predicted.shape[0]):\n",
    "\t\t\t# enumerate lead times\n",
    "\t\t\tfor k in range(len(lead_times)):\n",
    "\t\t\t\t# skip if actual in nan\n",
    "\t\t\t\tif isnan(actual[j, k]):\n",
    "\t\t\t\t\tcontinue\n",
    "\t\t\t\t# calculate error\n",
    "\t\t\t\terror = calculate_error(actual[j, k], predicted[j, k])\n",
    "\t\t\t\t# update statistics\n",
    "\t\t\t\ttotal_mae += error\n",
    "\t\t\t\ttimes_mae[k] += error\n",
    "\t\t\t\ttotal_c += 1\n",
    "\t\t\t\ttimes_c[k] += 1\n",
    "\t# normalize summed absolute errors\n",
    "\ttotal_mae /= total_c\n",
    "\ttimes_mae = [times_mae[i]/times_c[i] for i in range(len(times_mae))]\n",
    "\treturn total_mae, times_mae\n",
    "\n",
    "# summarize scores\n",
    "def summarize_error(name, total_mae):\n",
    "\tprint('%s: %.3f MAE' % (name, total_mae))\n",
    "\n",
    "# prepare a list of ml models\n",
    "def get_models(models=dict()):\n",
    "\t# linear models\n",
    "\tmodels['lr'] = LinearRegression()\n",
    "\tmodels['lasso'] = Lasso()\n",
    "\tmodels['ridge'] = Ridge()\n",
    "\tmodels['en'] = ElasticNet()\n",
    "\tmodels['huber'] = HuberRegressor()\n",
    "\tmodels['llars'] = LassoLars()\n",
    "\tmodels['pa'] = PassiveAggressiveRegressor(max_iter=1000, tol=1e-3)\n",
    "\tmodels['sgd'] = SGDRegressor(max_iter=1000, tol=1e-3)\n",
    "\tprint('Defined %d models' % len(models))\n",
    "\treturn models\n",
    "\n",
    "# evaluate a suite of models\n",
    "def evaluate_models(models, train, test, actual):\n",
    "\tfor name, model in models.items():\n",
    "\t\t# fit models\n",
    "\t\tfits = fit_models(model, train)\n",
    "\t\t# make predictions\n",
    "\t\tpredictions = make_predictions(fits, test)\n",
    "\t\t# evaluate forecast\n",
    "\t\ttotal_mae, _ = evaluate_forecasts(predictions, actual)\n",
    "\t\t# summarize forecast\n",
    "\t\tsummarize_error(name, total_mae)\n",
    "\n",
    "# load supervised datasets\n",
    "train = load('AirQualityPrediction/supervised_train.npy', allow_pickle=True)\n",
    "test = load('AirQualityPrediction/supervised_test.npy', allow_pickle=True)\n",
    "print(train.shape, test.shape)\n",
    "# load test chunks for validation\n",
    "testset = loadtxt('AirQualityPrediction/naive_test.csv', delimiter=',')\n",
    "test_chunks = to_chunks(testset)\n",
    "actual = prepare_test_forecasts(test_chunks)\n",
    "# prepare list of models\n",
    "models = get_models()\n",
    "# evaluate models\n",
    "evaluate_models(models, train, test, actual)"
   ]
  },
  {
   "cell_type": "markdown",
   "metadata": {},
   "source": [
    "### Evaluation"
   ]
  },
  {
   "cell_type": "code",
   "execution_count": 6,
   "metadata": {},
   "outputs": [
    {
     "name": "stdout",
     "output_type": "stream",
     "text": [
      "VARMAX\n"
     ]
    },
    {
     "ename": "NameError",
     "evalue": "name 'rmspe_VARMAX' is not defined",
     "output_type": "error",
     "traceback": [
      "\u001b[1;31m---------------------------------------------------------------------------\u001b[0m",
      "\u001b[1;31mNameError\u001b[0m                                 Traceback (most recent call last)",
      "\u001b[1;32m<ipython-input-6-ae742d60e18f>\u001b[0m in \u001b[0;36m<module>\u001b[1;34m\u001b[0m\n\u001b[0;32m      1\u001b[0m \u001b[0mprint\u001b[0m\u001b[1;33m(\u001b[0m\u001b[1;34m'VARMAX'\u001b[0m\u001b[1;33m)\u001b[0m\u001b[1;33m\u001b[0m\u001b[1;33m\u001b[0m\u001b[0m\n\u001b[1;32m----> 2\u001b[1;33m \u001b[0mprint\u001b[0m\u001b[1;33m(\u001b[0m\u001b[1;34m'Test RMSPE: %.3f'\u001b[0m \u001b[1;33m%\u001b[0m \u001b[0mrmspe_VARMAX\u001b[0m\u001b[1;33m)\u001b[0m\u001b[1;33m\u001b[0m\u001b[1;33m\u001b[0m\u001b[0m\n\u001b[0m\u001b[0;32m      3\u001b[0m \u001b[0mprint\u001b[0m\u001b[1;33m(\u001b[0m\u001b[1;34m'R square: '\u001b[0m \u001b[1;33m+\u001b[0m \u001b[0mstr\u001b[0m\u001b[1;33m(\u001b[0m\u001b[0mr2_VARMAX\u001b[0m\u001b[1;33m)\u001b[0m\u001b[1;33m)\u001b[0m\u001b[1;33m\u001b[0m\u001b[1;33m\u001b[0m\u001b[0m\n\u001b[0;32m      4\u001b[0m \u001b[0mprint\u001b[0m\u001b[1;33m(\u001b[0m\u001b[1;33m)\u001b[0m\u001b[1;33m\u001b[0m\u001b[1;33m\u001b[0m\u001b[0m\n\u001b[0;32m      5\u001b[0m \u001b[1;33m\u001b[0m\u001b[0m\n",
      "\u001b[1;31mNameError\u001b[0m: name 'rmspe_VARMAX' is not defined"
     ]
    }
   ],
   "source": [
    "print('VARMAX')\n",
    "print('Test RMSPE: %.3f' % rmspe_VARMAX)\n",
    "print('R square: ' + str(r2_VARMAX))  \n",
    "print()\n",
    "\n",
    "print('LSTM')\n",
    "print('Test RMSPE: %.3f' % rmspe_LSTM)\n",
    "print('R square: ' + str(r2_LSTM))  \n",
    "print()"
   ]
  },
  {
   "cell_type": "code",
   "execution_count": null,
   "metadata": {},
   "outputs": [],
   "source": []
  }
 ],
 "metadata": {
  "kernelspec": {
   "display_name": "Python 3",
   "language": "python",
   "name": "python3"
  },
  "language_info": {
   "codemirror_mode": {
    "name": "ipython",
    "version": 3
   },
   "file_extension": ".py",
   "mimetype": "text/x-python",
   "name": "python",
   "nbconvert_exporter": "python",
   "pygments_lexer": "ipython3",
   "version": "3.7.4"
  }
 },
 "nbformat": 4,
 "nbformat_minor": 2
}
