{
 "cells": [
  {
   "cell_type": "markdown",
   "metadata": {},
   "source": [
    "# Imports"
   ]
  },
  {
   "cell_type": "code",
   "execution_count": 48,
   "metadata": {},
   "outputs": [],
   "source": [
    "import numpy as np\n",
    "import pandas as pd\n",
    "# matplotlib is the Python library for drawing diagrams\n",
    "import matplotlib.pylab as plt\n",
    "%matplotlib inline\n",
    "# set the size of the diagrams\n",
    "from matplotlib.pylab import rcParams\n",
    "rcParams['figure.figsize'] = 15,5\n",
    "from math import sqrt\n",
    "from sklearn.metrics import mean_squared_error\n",
    "from sklearn.model_selection import TimeSeriesSplit"
   ]
  },
  {
   "cell_type": "code",
   "execution_count": 64,
   "metadata": {},
   "outputs": [],
   "source": [
    "def test_stationarity(timeseries, title):\n",
    "    \n",
    "    #Determing rolling statistics\n",
    "    rolmean = timeseries.rolling(12).mean()\n",
    "#     rolstd = timeseries.rolling(24).std()\n",
    "\n",
    "    #Plot rolling statistics:\n",
    "    orig = plt.plot(timeseries, color='blue',label='Original')\n",
    "    mean = plt.plot(rolmean, color='red', label='Rolling Mean')\n",
    "#     std = plt.plot(rolstd, color='black', label = 'Rolling Std')\n",
    "    plt.legend(loc='best')\n",
    "    plt.title('Rolling Mean & Standard Deviation from column: ' + title)\n",
    "    plt.show(block=False)\n",
    "    \n",
    "def full_graph(predicted_diff, title):\n",
    "    predictionsArray = np.asarray(revert_diff(predicted_diff, ts_ie))\n",
    "    zerosArray = np.zeros(ts_ie.values.size-len(predictionsArray.flatten()))\n",
    "    cleanPrediction = pd.Series(np.concatenate((zerosArray,predictionsArray))).replace(0,np.NaN)\n",
    "    \n",
    "    # plot\n",
    "    plt.title(title)\n",
    "    plt.plot(ts_ie.values,marker='o', color='blue',label='Actual values')\n",
    "    plt.plot(cleanPrediction,marker='o', color='red',label='Last 4 year prediction')\n",
    "    plt.ylim([0,15])\n",
    "    plt.legend()\n",
    "\n",
    "    plt.show()\n",
    "    \n",
    "def revert_diff(predicted_diff, og_data):\n",
    "    last_value = og_data.iloc[-predicted_diff.size-1][0]\n",
    "    predicted_actual = np.array([])\n",
    "    for value_diff in predicted_diff:\n",
    "        actual_value = last_value + value_diff\n",
    "        predicted_actual = np.append(predicted_actual, actual_value)\n",
    "        last_value = actual_value\n",
    "    return predicted_actual"
   ]
  },
  {
   "cell_type": "markdown",
   "metadata": {},
   "source": [
    "## Dataprep"
   ]
  },
  {
   "cell_type": "code",
   "execution_count": 50,
   "metadata": {},
   "outputs": [],
   "source": [
    "ts = pd.read_csv('./data/dataframe_yearly.csv', index_col=0).reset_index()\n",
    "ts.rename(columns={'Year':'year'}, inplace=True)\n",
    "ts.set_index('year', inplace=True)"
   ]
  },
  {
   "cell_type": "code",
   "execution_count": 51,
   "metadata": {},
   "outputs": [],
   "source": [
    "ts_ie = ts[['ice_extent']]"
   ]
  },
  {
   "cell_type": "code",
   "execution_count": 52,
   "metadata": {},
   "outputs": [
    {
     "data": {
      "text/html": [
       "<div>\n",
       "<style scoped>\n",
       "    .dataframe tbody tr th:only-of-type {\n",
       "        vertical-align: middle;\n",
       "    }\n",
       "\n",
       "    .dataframe tbody tr th {\n",
       "        vertical-align: top;\n",
       "    }\n",
       "\n",
       "    .dataframe thead th {\n",
       "        text-align: right;\n",
       "    }\n",
       "</style>\n",
       "<table border=\"1\" class=\"dataframe\">\n",
       "  <thead>\n",
       "    <tr style=\"text-align: right;\">\n",
       "      <th></th>\n",
       "      <th>mean_temp</th>\n",
       "      <th>ice_extent</th>\n",
       "    </tr>\n",
       "    <tr>\n",
       "      <th>year</th>\n",
       "      <th></th>\n",
       "      <th></th>\n",
       "    </tr>\n",
       "  </thead>\n",
       "  <tbody>\n",
       "    <tr>\n",
       "      <th>1979</th>\n",
       "      <td>6.841667</td>\n",
       "      <td>12.349634</td>\n",
       "    </tr>\n",
       "    <tr>\n",
       "      <th>1980</th>\n",
       "      <td>6.625000</td>\n",
       "      <td>12.349545</td>\n",
       "    </tr>\n",
       "    <tr>\n",
       "      <th>1981</th>\n",
       "      <td>7.141667</td>\n",
       "      <td>12.147230</td>\n",
       "    </tr>\n",
       "    <tr>\n",
       "      <th>1982</th>\n",
       "      <td>6.816667</td>\n",
       "      <td>12.467336</td>\n",
       "    </tr>\n",
       "    <tr>\n",
       "      <th>1983</th>\n",
       "      <td>7.766667</td>\n",
       "      <td>12.353095</td>\n",
       "    </tr>\n",
       "    <tr>\n",
       "      <th>1984</th>\n",
       "      <td>7.291667</td>\n",
       "      <td>11.920382</td>\n",
       "    </tr>\n",
       "    <tr>\n",
       "      <th>1985</th>\n",
       "      <td>7.200000</td>\n",
       "      <td>12.015835</td>\n",
       "    </tr>\n",
       "    <tr>\n",
       "      <th>1986</th>\n",
       "      <td>7.533333</td>\n",
       "      <td>12.224548</td>\n",
       "    </tr>\n",
       "    <tr>\n",
       "      <th>1987</th>\n",
       "      <td>8.516667</td>\n",
       "      <td>12.183318</td>\n",
       "    </tr>\n",
       "    <tr>\n",
       "      <th>1988</th>\n",
       "      <td>7.841667</td>\n",
       "      <td>12.201616</td>\n",
       "    </tr>\n",
       "    <tr>\n",
       "      <th>1989</th>\n",
       "      <td>7.016667</td>\n",
       "      <td>11.986788</td>\n",
       "    </tr>\n",
       "    <tr>\n",
       "      <th>1990</th>\n",
       "      <td>8.716667</td>\n",
       "      <td>11.716385</td>\n",
       "    </tr>\n",
       "    <tr>\n",
       "      <th>1991</th>\n",
       "      <td>8.883333</td>\n",
       "      <td>11.770302</td>\n",
       "    </tr>\n",
       "    <tr>\n",
       "      <th>1992</th>\n",
       "      <td>7.025000</td>\n",
       "      <td>12.121065</td>\n",
       "    </tr>\n",
       "    <tr>\n",
       "      <th>1993</th>\n",
       "      <td>7.175000</td>\n",
       "      <td>11.945254</td>\n",
       "    </tr>\n",
       "    <tr>\n",
       "      <th>1994</th>\n",
       "      <td>7.341667</td>\n",
       "      <td>12.032209</td>\n",
       "    </tr>\n",
       "    <tr>\n",
       "      <th>1995</th>\n",
       "      <td>7.783333</td>\n",
       "      <td>11.437963</td>\n",
       "    </tr>\n",
       "    <tr>\n",
       "      <th>1996</th>\n",
       "      <td>7.150000</td>\n",
       "      <td>11.850327</td>\n",
       "    </tr>\n",
       "    <tr>\n",
       "      <th>1997</th>\n",
       "      <td>7.558333</td>\n",
       "      <td>11.689949</td>\n",
       "    </tr>\n",
       "    <tr>\n",
       "      <th>1998</th>\n",
       "      <td>10.133333</td>\n",
       "      <td>11.780257</td>\n",
       "    </tr>\n",
       "    <tr>\n",
       "      <th>1999</th>\n",
       "      <td>9.458333</td>\n",
       "      <td>11.712603</td>\n",
       "    </tr>\n",
       "    <tr>\n",
       "      <th>2000</th>\n",
       "      <td>8.250000</td>\n",
       "      <td>11.518993</td>\n",
       "    </tr>\n",
       "    <tr>\n",
       "      <th>2001</th>\n",
       "      <td>9.641667</td>\n",
       "      <td>11.621888</td>\n",
       "    </tr>\n",
       "    <tr>\n",
       "      <th>2002</th>\n",
       "      <td>9.416667</td>\n",
       "      <td>11.385820</td>\n",
       "    </tr>\n",
       "    <tr>\n",
       "      <th>2003</th>\n",
       "      <td>7.908333</td>\n",
       "      <td>11.419148</td>\n",
       "    </tr>\n",
       "    <tr>\n",
       "      <th>2004</th>\n",
       "      <td>8.233333</td>\n",
       "      <td>11.251586</td>\n",
       "    </tr>\n",
       "    <tr>\n",
       "      <th>2005</th>\n",
       "      <td>9.016667</td>\n",
       "      <td>10.927786</td>\n",
       "    </tr>\n",
       "    <tr>\n",
       "      <th>2006</th>\n",
       "      <td>9.700000</td>\n",
       "      <td>10.793886</td>\n",
       "    </tr>\n",
       "    <tr>\n",
       "      <th>2007</th>\n",
       "      <td>8.908333</td>\n",
       "      <td>10.499133</td>\n",
       "    </tr>\n",
       "    <tr>\n",
       "      <th>2008</th>\n",
       "      <td>8.225000</td>\n",
       "      <td>10.990294</td>\n",
       "    </tr>\n",
       "    <tr>\n",
       "      <th>2009</th>\n",
       "      <td>7.975000</td>\n",
       "      <td>10.955518</td>\n",
       "    </tr>\n",
       "    <tr>\n",
       "      <th>2010</th>\n",
       "      <td>9.541667</td>\n",
       "      <td>10.734207</td>\n",
       "    </tr>\n",
       "    <tr>\n",
       "      <th>2011</th>\n",
       "      <td>9.091667</td>\n",
       "      <td>10.507405</td>\n",
       "    </tr>\n",
       "    <tr>\n",
       "      <th>2012</th>\n",
       "      <td>10.500000</td>\n",
       "      <td>10.419335</td>\n",
       "    </tr>\n",
       "    <tr>\n",
       "      <th>2013</th>\n",
       "      <td>10.508333</td>\n",
       "      <td>10.920494</td>\n",
       "    </tr>\n",
       "    <tr>\n",
       "      <th>2014</th>\n",
       "      <td>8.083333</td>\n",
       "      <td>10.812470</td>\n",
       "    </tr>\n",
       "    <tr>\n",
       "      <th>2015</th>\n",
       "      <td>8.083333</td>\n",
       "      <td>10.588599</td>\n",
       "    </tr>\n",
       "    <tr>\n",
       "      <th>2016</th>\n",
       "      <td>9.916667</td>\n",
       "      <td>10.176126</td>\n",
       "    </tr>\n",
       "    <tr>\n",
       "      <th>2017</th>\n",
       "      <td>9.416667</td>\n",
       "      <td>10.415373</td>\n",
       "    </tr>\n",
       "    <tr>\n",
       "      <th>2018</th>\n",
       "      <td>9.546296</td>\n",
       "      <td>10.377886</td>\n",
       "    </tr>\n",
       "  </tbody>\n",
       "</table>\n",
       "</div>"
      ],
      "text/plain": [
       "      mean_temp  ice_extent\n",
       "year                       \n",
       "1979   6.841667   12.349634\n",
       "1980   6.625000   12.349545\n",
       "1981   7.141667   12.147230\n",
       "1982   6.816667   12.467336\n",
       "1983   7.766667   12.353095\n",
       "1984   7.291667   11.920382\n",
       "1985   7.200000   12.015835\n",
       "1986   7.533333   12.224548\n",
       "1987   8.516667   12.183318\n",
       "1988   7.841667   12.201616\n",
       "1989   7.016667   11.986788\n",
       "1990   8.716667   11.716385\n",
       "1991   8.883333   11.770302\n",
       "1992   7.025000   12.121065\n",
       "1993   7.175000   11.945254\n",
       "1994   7.341667   12.032209\n",
       "1995   7.783333   11.437963\n",
       "1996   7.150000   11.850327\n",
       "1997   7.558333   11.689949\n",
       "1998  10.133333   11.780257\n",
       "1999   9.458333   11.712603\n",
       "2000   8.250000   11.518993\n",
       "2001   9.641667   11.621888\n",
       "2002   9.416667   11.385820\n",
       "2003   7.908333   11.419148\n",
       "2004   8.233333   11.251586\n",
       "2005   9.016667   10.927786\n",
       "2006   9.700000   10.793886\n",
       "2007   8.908333   10.499133\n",
       "2008   8.225000   10.990294\n",
       "2009   7.975000   10.955518\n",
       "2010   9.541667   10.734207\n",
       "2011   9.091667   10.507405\n",
       "2012  10.500000   10.419335\n",
       "2013  10.508333   10.920494\n",
       "2014   8.083333   10.812470\n",
       "2015   8.083333   10.588599\n",
       "2016   9.916667   10.176126\n",
       "2017   9.416667   10.415373\n",
       "2018   9.546296   10.377886"
      ]
     },
     "execution_count": 52,
     "metadata": {},
     "output_type": "execute_result"
    }
   ],
   "source": [
    "ts"
   ]
  },
  {
   "cell_type": "code",
   "execution_count": 53,
   "metadata": {},
   "outputs": [
    {
     "data": {
      "image/png": "[encoded data removed]",
      "text/plain": [
       "<Figure size 1080x360 with 1 Axes>"
      ]
     },
     "metadata": {
      "needs_background": "light"
     },
     "output_type": "display_data"
    },
    {
     "data": {
      "text/plain": [
       "[<matplotlib.lines.Line2D at 0x1b4c5bd7648>]"
      ]
     },
     "execution_count": 53,
     "metadata": {},
     "output_type": "execute_result"
    },
    {
     "data": {
      "image/png": "[encoded data removed]",
      "text/plain": [
       "<Figure size 1080x360 with 1 Axes>"
      ]
     },
     "metadata": {
      "needs_background": "light"
     },
     "output_type": "display_data"
    }
   ],
   "source": [
    "plt.title('Temperature')\n",
    "plt.plot(ts.iloc[:,0], label='temperature')\n",
    "plt.ylabel('°C')\n",
    "plt.show()\n",
    "plt.title('Ice extent')\n",
    "plt.ylabel('x 1 000 000 km\\u00b2')\n",
    "plt.plot(ts.iloc[:,1], label='ice extent')"
   ]
  },
  {
   "cell_type": "code",
   "execution_count": 54,
   "metadata": {},
   "outputs": [
    {
     "data": {
      "image/png": "[encoded data removed]",
      "text/plain": [
       "<Figure size 1080x360 with 1 Axes>"
      ]
     },
     "metadata": {
      "needs_background": "light"
     },
     "output_type": "display_data"
    }
   ],
   "source": [
    "test_stationarity(ts[['ice_extent']], 'ice_extent')"
   ]
  },
  {
   "cell_type": "markdown",
   "metadata": {},
   "source": [
    "### Differencing"
   ]
  },
  {
   "cell_type": "code",
   "execution_count": 55,
   "metadata": {},
   "outputs": [
    {
     "data": {
      "image/png": "[encoded data removed]",
      "text/plain": [
       "<Figure size 1080x360 with 1 Axes>"
      ]
     },
     "metadata": {
      "needs_background": "light"
     },
     "output_type": "display_data"
    },
    {
     "data": {
      "image/png": "[encoded data removed]",
      "text/plain": [
       "<Figure size 1080x360 with 1 Axes>"
      ]
     },
     "metadata": {
      "needs_background": "light"
     },
     "output_type": "display_data"
    }
   ],
   "source": [
    "ts_diff = ts - ts.shift(1)\n",
    "ts_diff = ts_diff.dropna()\n",
    "test_stationarity(ts_diff[['ice_extent']], 'ice_extent')\n",
    "test_stationarity(ts_diff[['mean_temp']], 'mean_temp')"
   ]
  },
  {
   "cell_type": "markdown",
   "metadata": {},
   "source": [
    "Datasets are stationary now"
   ]
  },
  {
   "cell_type": "markdown",
   "metadata": {},
   "source": [
    "# Cross validation setup"
   ]
  },
  {
   "cell_type": "code",
   "execution_count": 56,
   "metadata": {},
   "outputs": [
    {
     "name": "stdout",
     "output_type": "stream",
     "text": [
      "TRAIN: 23\n",
      "TEST: 4\n",
      "\n",
      "TRAIN: 27\n",
      "TEST: 4\n",
      "\n",
      "TRAIN: 31\n",
      "TEST: 4\n",
      "\n",
      "TRAIN: 35\n",
      "TEST: 4\n",
      "\n"
     ]
    }
   ],
   "source": [
    "tscv = TimeSeriesSplit(n_splits = 8)\n",
    "dataset = ts_diff\n",
    "\n",
    "for train_index, test_index in tscv.split(dataset):\n",
    "    if train_index.size > 20:\n",
    "\n",
    "        # initialize cross validation train and test sets\n",
    "        cv_train, cv_test = dataset.iloc[train_index], dataset.iloc[test_index]\n",
    "\n",
    "        print(\"TRAIN:\", train_index.size) # visiualize cross_validation structure for reference\n",
    "        print(\"TEST:\", test_index.size)\n",
    "        print()"
   ]
  },
  {
   "cell_type": "markdown",
   "metadata": {},
   "source": [
    "# VARMAX"
   ]
  },
  {
   "cell_type": "code",
   "execution_count": 86,
   "metadata": {},
   "outputs": [],
   "source": [
    "# %%time\n",
    "# from statsmodels.tsa.statespace.varmax import VARMAX\n",
    "# import itertools\n",
    "# import warnings\n",
    "# import sys\n",
    "# from sklearn.metrics import mean_absolute_error\n",
    "\n",
    "\n",
    "\n",
    "# # Define the p, d and q parameters to take any value between 0 and 2\n",
    "# p = q = range(0, 5)\n",
    "\n",
    "# # Generate all different combinations of p, q and q triplets\n",
    "# pq = list(itertools.product(p, q))\n",
    "# best_pq = pq\n",
    "# best_mean_mae = np.inf\n",
    "# warnings.filterwarnings(\"ignore\") # specify to ignore warning messages\n",
    "# for param in pq:\n",
    "#     print(param)\n",
    "#     try:   # some parametercombinations might lead to crash, so catch exceptions and continue\n",
    "#         maes = []\n",
    "#         for train_index, test_index in tscv.split(dataset):\n",
    "#             if train_index.size > 20:\n",
    "#                 # initialize cross validation train and test sets\n",
    "#                 cv_train, cv_test = dataset.iloc[train_index], dataset.iloc[test_index]\n",
    "\n",
    "#                 # build model\n",
    "#                 model = VARMAX(cv_train, order=(param))\n",
    "#                 model_fit = model.fit()\n",
    "\n",
    "#                 # make predictions\n",
    "#                 predictions =  model_fit.forecast(steps=4, dynamic=False)\n",
    "#                 prediction_values = predictions[['ice_extent']].values\n",
    "#                 true_values = cv_test[['ice_extent']].values\n",
    "#                 # error calc\n",
    "#                 maes.append(mean_absolute_error(true_values, prediction_values))\n",
    "\n",
    "        \n",
    "#         mean_mae = np.mean(maes)\n",
    "#         print('MAE: ' + str(mean_mae))    \n",
    "\n",
    "#         if mean_mae < best_mean_mae:\n",
    "#             best_mean_mae = mean_mae\n",
    "#             best_maes = maes\n",
    "#             best_pq = param\n",
    "#             best_predictions = prediction_values\n",
    "#     except Exception as e:\n",
    "#         print(e)\n",
    "#         continue\n",
    "   \n",
    "# # plot\n",
    "# print()\n",
    "# print('Best MAE = ' + str(best_mean_mae))\n",
    "# print(best_pq)\n",
    "\n",
    "# # # best range(0,5)\n",
    "# # Best MAE = 0.15358394799986985\n",
    "# # (3, 3)\n",
    "# # Wall time: 9min 27s"
   ]
  },
  {
   "cell_type": "code",
   "execution_count": 57,
   "metadata": {},
   "outputs": [],
   "source": [
    "best_pq = (3,3)"
   ]
  },
  {
   "cell_type": "code",
   "execution_count": 58,
   "metadata": {},
   "outputs": [
    {
     "name": "stdout",
     "output_type": "stream",
     "text": [
      "----\n",
      "IIII\n",
      "Mean MAE: 0.154 x 1 000 000 km²\n",
      "MAE of last prediction: 0.134 x 1 000 000 km²\n",
      "Execution time: 25.685 seconds\n"
     ]
    },
    {
     "data": {
      "image/png": "[encoded data removed]",
      "text/plain": [
       "<Figure size 1080x360 with 1 Axes>"
      ]
     },
     "metadata": {
      "needs_background": "light"
     },
     "output_type": "display_data"
    },
    {
     "name": "stdout",
     "output_type": "stream",
     "text": [
      "[0.13250395150566072, 0.255018330608453, 0.09309881825606907, 0.13371550021338208]\n"
     ]
    }
   ],
   "source": [
    "from statsmodels.tsa.statespace.varmax import VARMAX\n",
    "from sklearn.metrics import mean_absolute_error\n",
    "import timeit\n",
    "import warnings\n",
    "\n",
    "\n",
    "start_time = timeit.default_timer()\n",
    "\n",
    "warnings.filterwarnings(\"ignore\") # specify to ignore warning messages\n",
    "\n",
    "print(\"----\")\n",
    "\n",
    "maes = []\n",
    "\n",
    "for train_index, test_index in tscv.split(dataset):\n",
    "    if train_index.size > 20:\n",
    "        # initialize cross validation train and test sets\n",
    "        cv_train, cv_test = dataset.iloc[train_index], dataset.iloc[test_index]\n",
    "\n",
    "        # build model\n",
    "        model = VARMAX(cv_train, order=(best_pq))\n",
    "        model_fit = model.fit()\n",
    "\n",
    "        # make predictions\n",
    "        predictions =  model_fit.forecast(steps=4, dynamic=False)\n",
    "        prediction_values = predictions[['ice_extent']].values\n",
    "        true_values = cv_test[['ice_extent']].values\n",
    "        # error calc\n",
    "        maes.append(mean_absolute_error(true_values, prediction_values))\n",
    "\n",
    "        print(\"I\",end=\"\")\n",
    "    \n",
    "\n",
    "time_VARMAX = timeit.default_timer() - start_time\n",
    "mae_mean = np.mean(maes)\n",
    "MAE_VARMAX = mae_mean\n",
    "last_MAE_VARMAX = maes[-1]\n",
    "last_predictions_VARMAX = prediction_values\n",
    "\n",
    "print()\n",
    "print('Mean MAE: %.3f x 1 000 000 km\\u00b2' % MAE_VARMAX)\n",
    "print('MAE of last prediction: %.3f x 1 000 000 km\\u00b2' % last_MAE_VARMAX)\n",
    "print('Execution time: %.3f seconds' % time_VARMAX)\n",
    "full_graph(last_predictions_VARMAX, 'Last prediction VARMAX')\n",
    "print(maes)"
   ]
  },
  {
   "cell_type": "markdown",
   "metadata": {},
   "source": [
    "# LSTM"
   ]
  },
  {
   "cell_type": "code",
   "execution_count": 107,
   "metadata": {},
   "outputs": [
    {
     "name": "stdout",
     "output_type": "stream",
     "text": [
      "[[[ 90.38895  95.74378 185.77428]\n",
      "  [100.6565  105.83141 205.80453]]]\n"
     ]
    }
   ],
   "source": [
    "# # multivariate multi-step encoder-decoder lstm example\n",
    "# from numpy import array\n",
    "# from numpy import hstack\n",
    "# from keras.models import Sequential\n",
    "# from keras.layers import LSTM\n",
    "# from keras.layers import Dense\n",
    "# from keras.layers import RepeatVector\n",
    "# from keras.layers import TimeDistributed\n",
    "\n",
    "# # split a multivariate sequence into samples\n",
    "# def split_sequences(sequences, n_steps_in, n_steps_out):\n",
    "# \tX, y = list(), list()\n",
    "# \tfor i in range(len(sequences)):\n",
    "# \t\t# find the end of this pattern\n",
    "# \t\tend_ix = i + n_steps_in\n",
    "# \t\tout_end_ix = end_ix + n_steps_out\n",
    "# \t\t# check if we are beyond the dataset\n",
    "# \t\tif out_end_ix > len(sequences):\n",
    "# \t\t\tbreak\n",
    "# \t\t# gather input and output parts of the pattern\n",
    "# \t\tseq_x, seq_y = sequences[i:end_ix, :], sequences[end_ix:out_end_ix, :]\n",
    "# \t\tX.append(seq_x)\n",
    "# \t\ty.append(seq_y)\n",
    "# \treturn array(X), array(y)\n",
    "\n",
    "# # define input sequence\n",
    "# in_seq1 = array([10, 20, 30, 40, 50, 60, 70, 80, 90])\n",
    "# in_seq2 = array([15, 25, 35, 45, 55, 65, 75, 85, 95])\n",
    "# out_seq = array([in_seq1[i]+in_seq2[i] for i in range(len(in_seq1))])\n",
    "# # convert to [rows, columns] structure\n",
    "# in_seq1 = in_seq1.reshape((len(in_seq1), 1))\n",
    "# in_seq2 = in_seq2.reshape((len(in_seq2), 1))\n",
    "# out_seq = out_seq.reshape((len(out_seq), 1))\n",
    "# # horizontally stack columns\n",
    "# dataset = hstack((in_seq1, in_seq2, out_seq))\n",
    "# # choose a number of time steps\n",
    "# n_steps_in, n_steps_out = 3, 2\n",
    "# # covert into input/output\n",
    "# X, y = split_sequences(dataset, n_steps_in, n_steps_out)\n",
    "# # the dataset knows the number of features, e.g. 2\n",
    "# n_features = X.shape[2]\n",
    "# # define model\n",
    "# model = Sequential()\n",
    "# model.add(LSTM(200, activation='relu', input_shape=(n_steps_in, n_features)))\n",
    "# model.add(RepeatVector(n_steps_out))\n",
    "# model.add(LSTM(200, activation='relu', return_sequences=True))\n",
    "# model.add(TimeDistributed(Dense(n_features)))\n",
    "# model.compile(optimizer='adam', loss='mse')\n",
    "# # fit model\n",
    "# model.fit(X, y, epochs=300, verbose=0)\n",
    "# # demonstrate prediction\n",
    "# x_input = array([[60, 65, 125], [70, 75, 145], [80, 85, 165]])\n",
    "# x_input = x_input.reshape((1, n_steps_in, n_features))\n",
    "# yhat = model.predict(x_input, verbose=0)\n",
    "# print(yhat)"
   ]
  },
  {
   "cell_type": "code",
   "execution_count": 39,
   "metadata": {},
   "outputs": [],
   "source": [
    "# multivariate multi-step encoder-decoder lstm example\n",
    "from numpy import array\n",
    "from numpy import hstack\n",
    "from keras.models import Sequential\n",
    "from keras.layers import LSTM\n",
    "from keras.layers import Dense\n",
    "from keras.layers import RepeatVector\n",
    "from keras.layers import TimeDistributed\n",
    "import warnings\n",
    "\n",
    "warnings.filterwarnings(\"ignore\") # specify to ignore warning messages\n",
    "\n",
    "\n",
    "# split a multivariate sequence into samples\n",
    "def split_sequences(sequences, n_steps_in, n_steps_out):\n",
    "\tX, y = list(), list()\n",
    "\tfor i in range(len(sequences)):\n",
    "\t\t# find the end of this pattern\n",
    "\t\tend_ix = i + n_steps_in\n",
    "\t\tout_end_ix = end_ix + n_steps_out\n",
    "\t\t# check if we are beyond the dataset\n",
    "\t\tif out_end_ix > len(sequences):\n",
    "\t\t\tbreak\n",
    "\t\t# gather input and output parts of the pattern\n",
    "\t\tseq_x, seq_y = sequences[i:end_ix, :], sequences[end_ix:out_end_ix, :]\n",
    "\t\tX.append(seq_x)\n",
    "\t\ty.append(seq_y)\n",
    "\treturn array(X), array(y)\n",
    "\n",
    "def predict_LSTM(train, test, n_neurons, n_epochs):\n",
    "    test['sum'] = test['mean_temp'] + test['ice_extent']\n",
    "\n",
    "\n",
    "    # define input sequence\n",
    "    in_seq1 = train.values[:,0]\n",
    "    in_seq2 = train.values[:,1]\n",
    "    out_seq = array([in_seq1[i]+in_seq2[i] for i in range(len(in_seq1))])\n",
    "\n",
    "    # convert to [rows, columns] structure\n",
    "    in_seq1 = in_seq1.reshape((len(in_seq1), 1))\n",
    "    in_seq2 = in_seq2.reshape((len(in_seq2), 1))\n",
    "    out_seq = out_seq.reshape((len(out_seq), 1))\n",
    "    \n",
    "    # horizontally stack columns\n",
    "    dataset = hstack((in_seq1, in_seq2, out_seq))\n",
    "    \n",
    "    # choose a number of time steps\n",
    "    n_steps_in, n_steps_out = 4, 4\n",
    "    \n",
    "    # covert into input/output\n",
    "    X, y = split_sequences(dataset, n_steps_in, n_steps_out)\n",
    "    \n",
    "    # the dataset knows the number of features, e.g. 2\n",
    "    n_features = X.shape[2]\n",
    "    \n",
    "    # define model\n",
    "    model = Sequential()\n",
    "    model.add(LSTM(n_neurons, activation='relu', input_shape=(n_steps_in, n_features)))\n",
    "    model.add(RepeatVector(n_steps_out))\n",
    "    model.add(LSTM(n_neurons, activation='relu', return_sequences=True))\n",
    "    model.add(TimeDistributed(Dense(n_features)))\n",
    "    model.compile(optimizer='adam', loss='mae')\n",
    "    \n",
    "    # fit model\n",
    "    model.fit(X, y, epochs=n_epochs, verbose=0)\n",
    "    \n",
    "    # demonstrate prediction\n",
    "    x_input = test.values\n",
    "    x_input = x_input.reshape((1, n_steps_in, n_features))\n",
    "    yhat = model.predict(x_input, verbose=0)\n",
    "    return yhat\n",
    "    "
   ]
  },
  {
   "cell_type": "code",
   "execution_count": 109,
   "metadata": {},
   "outputs": [],
   "source": [
    "# from statsmodels.tsa.statespace.varmax import VARMAX\n",
    "# from sklearn.metrics import mean_absolute_error\n",
    "# import timeit\n",
    "# import tensorflow as tf\n",
    "\n",
    "# start_time = timeit.default_timer()\n",
    "\n",
    "# # warnings.filterwarnings(\"ignore\") # specify to ignore warning messages\n",
    "# tf.compat.v1.logging.set_verbosity(tf.compat.v1.logging.ERROR)\n",
    "\n",
    "# maes = []\n",
    "# global_maes = []\n",
    "# best_MAE = np.inf\n",
    "\n",
    "\n",
    "# n_neurons_array = [1,5,10,20]\n",
    "# n_epochs_array = [100,200,300]\n",
    "\n",
    "# print(\"----\")\n",
    "\n",
    "# maes = []\n",
    "# for n_neurons in n_neurons_array:\n",
    "#     for n_epochs in n_epochs_array:\n",
    "#         for train_index, test_index in tscv.split(dataset):\n",
    "#             if train_index.size > 20:\n",
    "#                 # initialize cross validation train and test sets\n",
    "#                 cv_train, cv_test = dataset.iloc[train_index], dataset.iloc[test_index]\n",
    "\n",
    "#                 yhat = predict_LSTM(cv_train, cv_test, n_neurons, n_epochs)\n",
    "\n",
    "\n",
    "#                 prediction_values = yhat[0][:,1]\n",
    "#                 true_values = cv_test[['ice_extent']].values\n",
    "\n",
    "#                 # error calc\n",
    "#                 maes.append(mean_absolute_error(true_values, prediction_values))\n",
    "\n",
    "#                 print(\"I\",end=\"\")\n",
    "#         time_LSTM = timeit.default_timer() - start_time\n",
    "#         MAE_LSTM = np.mean(maes)\n",
    "#         last_MAE_LSTM = maes[-1]\n",
    "#         global_maes.append(MAE_LSTM)\n",
    "\n",
    "#         if best_MAE > MAE_LSTM:\n",
    "#             best_n_neurons = n_neurons\n",
    "#             best_n_epochs = n_epochs\n",
    "#             best_MAE = MAE_LSTM\n",
    "\n",
    "#         print()\n",
    "#         print(n_neurons)\n",
    "#         print(n_epochs)\n",
    "#         print(MAE_LSTM)\n",
    "#         print()    \n",
    "\n",
    "# print('Best:')\n",
    "# print('N neurons')\n",
    "# print(best_n_neurons)\n",
    "# print('Epochs size')\n",
    "# print(best_n_epochs)\n",
    "# print('MAE')\n",
    "# print(best_MAE)"
   ]
  },
  {
   "cell_type": "code",
   "execution_count": 41,
   "metadata": {},
   "outputs": [],
   "source": [
    "best_n_neurons, best_n_epochs = 1, 200"
   ]
  },
  {
   "cell_type": "code",
   "execution_count": 42,
   "metadata": {},
   "outputs": [
    {
     "name": "stdout",
     "output_type": "stream",
     "text": [
      "----\n",
      "IIII\n",
      "Mean MAE: 0.200 x 1 000 000 km²\n",
      "MAE of last prediction: 0.210 x 1 000 000 km²\n",
      "Execution time: 41.617 seconds\n"
     ]
    },
    {
     "data": {
      "image/png": "[encoded data removed]",
      "text/plain": [
       "<Figure size 1080x360 with 1 Axes>"
      ]
     },
     "metadata": {
      "needs_background": "light"
     },
     "output_type": "display_data"
    },
    {
     "name": "stdout",
     "output_type": "stream",
     "text": [
      "[0.14411208071264658, 0.24311231278801904, 0.20436435040655798, 0.20952587437320158]\n"
     ]
    }
   ],
   "source": [
    "from sklearn.metrics import mean_absolute_error\n",
    "import timeit\n",
    "import tensorflow as tf\n",
    "\n",
    "start_time = timeit.default_timer()\n",
    "\n",
    "# warnings.filterwarnings(\"ignore\") # specify to ignore warning messages\n",
    "tf.compat.v1.logging.set_verbosity(tf.compat.v1.logging.ERROR)\n",
    "\n",
    "\n",
    "print(\"----\")\n",
    "\n",
    "maes = []\n",
    "\n",
    "for train_index, test_index in tscv.split(ts_diff):\n",
    "    if train_index.size > 20:\n",
    "\n",
    "        # initialize cross validation train and test sets\n",
    "        cv_train, cv_test = ts_diff.iloc[train_index], ts_diff.iloc[test_index]\n",
    "\n",
    "        yhat = predict_LSTM(cv_train, cv_test, best_n_neurons, best_n_epochs)\n",
    "\n",
    "\n",
    "        prediction_values = yhat[0][:,1]\n",
    "        true_values = cv_test[['ice_extent']].values\n",
    "\n",
    "        # error calc\n",
    "        maes.append(mean_absolute_error(true_values, prediction_values))\n",
    "\n",
    "        print(\"I\",end=\"\")\n",
    "    \n",
    "\n",
    "time_LSTM = timeit.default_timer() - start_time\n",
    "mae_mean = np.mean(maes)\n",
    "MAE_LSTM = mae_mean\n",
    "last_MAE_LSTM = maes[-1]\n",
    "last_predictions_LSTM = prediction_values\n",
    "\n",
    "print()\n",
    "print('Mean MAE: %.3f x 1 000 000 km\\u00b2' % MAE_LSTM)\n",
    "print('MAE of last prediction: %.3f x 1 000 000 km\\u00b2' % last_MAE_LSTM)\n",
    "print('Execution time: %.3f seconds' % time_LSTM)\n",
    "full_graph(last_predictions_LSTM, 'Last prediction LSTM')\n",
    "print(maes)"
   ]
  },
  {
   "cell_type": "markdown",
   "metadata": {},
   "source": [
    "# Prophet"
   ]
  },
  {
   "cell_type": "code",
   "execution_count": null,
   "metadata": {},
   "outputs": [],
   "source": [
    "# formatting dataframe\n",
    "ts_formated_prophet = ts_diff.reset_index().rename(columns = {'year' : 'ds', 'ice_extent' : 'y'})\n",
    "ts_formated_prophet['ds'] = pd.DataFrame(pd.to_datetime(ts_formated_prophet['ds'].astype(str), format='%Y'))"
   ]
  },
  {
   "cell_type": "code",
   "execution_count": null,
   "metadata": {},
   "outputs": [],
   "source": [
    "from fbprophet import Prophet\n",
    "m = Prophet()\n",
    "m.add_regressor('mean_temp')\n",
    "m.fit(df_train)"
   ]
  },
  {
   "cell_type": "code",
   "execution_count": null,
   "metadata": {},
   "outputs": [],
   "source": [
    "# # Python\n",
    "# import itertools\n",
    "# import numpy as np\n",
    "# import pandas as pd\n",
    "\n",
    "# warnings.filterwarnings(\"ignore\") # specify to ignore warning messages\n",
    "\n",
    "# # define dataframe\n",
    "# df = ts_formated_prophet\n",
    "\n",
    "# param_grid = {  \n",
    "#     'changepoint_prior_scale': [0.001, 0.01, 0.1, 1, 2, 5, 10, 15, 20, 25],\n",
    "# }\n",
    "\n",
    "# # Generate all combinations of parameters\n",
    "# all_params = [dict(zip(param_grid.keys(), v)) for v in itertools.product(*param_grid.values())]\n",
    "\n",
    "# # initialize variables\n",
    "# maes = []  \n",
    "# global_maes = []\n",
    "# best_MAE_prophet = np.inf\n",
    "\n",
    "# # Use cross validation to evaluate all parameters\n",
    "# for params in all_params:\n",
    "\n",
    "#     # loop trough all split time series that have a trainingsset with more than 20 values\n",
    "#     for train_index, test_index in tscv.split(ts_formated_prophet):    \n",
    "#         if train_index.size > 20:  \n",
    "\n",
    "#             # initialize cross validation train and test sets\n",
    "#             train  = ts_formated_prophet.iloc[train_index]\n",
    "#             y_test = ts_formated_prophet.iloc[test_index][['y']].values.flatten()\n",
    "#             X_test = ts_formated_prophet.iloc[test_index][['ds','mean_temp']]\n",
    "\n",
    "#             # Fit model with given params\n",
    "#             model = Prophet(weekly_seasonality=False, daily_seasonality=False)\n",
    "#             model = model.add_regressor('mean_temp')\n",
    "#             model = model.fit(train)\n",
    "\n",
    "#             # make predictions\n",
    "#             forecast = model.predict(X_test)\n",
    "#             y_pred = forecast['yhat'].values\n",
    "\n",
    "#             # last actual prediction \n",
    "#             last_prediction_prophet = y_pred\n",
    "\n",
    "#             # error calculation this part of the cross validation\n",
    "#             maes.append(mean_absolute_error(y_test, y_pred))\n",
    "    \n",
    "#     # error calculation for this parameter combination\n",
    "#     MAE_prophet = np.mean(maes)\n",
    "#     last_MAE_prophet = maes[-1]\n",
    "#     global_maes.append(MAE_prophet)\n",
    "    \n",
    "#     # logging\n",
    "#     print('changepoint_prior_scale: ' + str(params['changepoint_prior_scale']))\n",
    "    \n",
    "#     # store parameters resulting in the lowest mean MAE\n",
    "#     if best_MAE_prophet > MAE_prophet:\n",
    "#         best_params = params\n",
    "#         best_MAE_prophet = MAE_prophet\n",
    "\n",
    "# # log optimal result          \n",
    "# print('changepoint_prior_scale: ' + str(best_params['changepoint_prior_scale']))\n",
    "# print(best_MAE_prophet)"
   ]
  },
  {
   "cell_type": "code",
   "execution_count": null,
   "metadata": {},
   "outputs": [],
   "source": []
  },
  {
   "cell_type": "code",
   "execution_count": 57,
   "metadata": {},
   "outputs": [
    {
     "name": "stderr",
     "output_type": "stream",
     "text": [
      "INFO:fbprophet:n_changepoints greater than number of observations. Using 17.\n",
      "C:\\Users\\Emiel\\Anaconda3\\lib\\site-packages\\pystan\\misc.py:399: FutureWarning: Conversion of the second argument of issubdtype from `float` to `np.floating` is deprecated. In future, it will be treated as `np.float64 == np.dtype(float).type`.\n",
      "  elif np.issubdtype(np.asarray(v).dtype, float):\n",
      "INFO:fbprophet:n_changepoints greater than number of observations. Using 20.\n",
      "C:\\Users\\Emiel\\Anaconda3\\lib\\site-packages\\pystan\\misc.py:399: FutureWarning: Conversion of the second argument of issubdtype from `float` to `np.floating` is deprecated. In future, it will be treated as `np.float64 == np.dtype(float).type`.\n",
      "  elif np.issubdtype(np.asarray(v).dtype, float):\n",
      "INFO:fbprophet:n_changepoints greater than number of observations. Using 23.\n",
      "C:\\Users\\Emiel\\Anaconda3\\lib\\site-packages\\pystan\\misc.py:399: FutureWarning: Conversion of the second argument of issubdtype from `float` to `np.floating` is deprecated. In future, it will be treated as `np.float64 == np.dtype(float).type`.\n",
      "  elif np.issubdtype(np.asarray(v).dtype, float):\n",
      "C:\\Users\\Emiel\\Anaconda3\\lib\\site-packages\\pystan\\misc.py:399: FutureWarning: Conversion of the second argument of issubdtype from `float` to `np.floating` is deprecated. In future, it will be treated as `np.float64 == np.dtype(float).type`.\n",
      "  elif np.issubdtype(np.asarray(v).dtype, float):\n"
     ]
    },
    {
     "name": "stdout",
     "output_type": "stream",
     "text": [
      "0.1888094057693068\n"
     ]
    }
   ],
   "source": [
    "maes = []\n",
    "global_maes = []\n",
    "\n",
    "from sklearn.metrics import mean_absolute_error\n",
    "\n",
    "# loop trough all split time series that have a trainingsset with more than 20 values\n",
    "for train_index, test_index in tscv.split(ts_formated_prophet):    \n",
    "    if train_index.size > 20:  \n",
    "\n",
    "        # initialize cross validation train and test sets\n",
    "        train  = ts_formated_prophet.iloc[train_index]\n",
    "        y_test = ts_formated_prophet.iloc[test_index][['y']].values.flatten()\n",
    "        X_test = ts_formated_prophet.iloc[test_index][['ds','mean_temp']]\n",
    "\n",
    "        # Fit model with given params\n",
    "        model = Prophet(weekly_seasonality=False, daily_seasonality=False)\n",
    "        model = model.add_regressor('mean_temp')\n",
    "        model = model.fit(train)\n",
    "\n",
    "        # make predictions\n",
    "        forecast = model.predict(X_test)\n",
    "        y_pred = forecast['yhat'].values\n",
    "\n",
    "        # last actual prediction \n",
    "        last_prediction_prophet = y_pred\n",
    "\n",
    "        # error calculation this part of the cross validation\n",
    "        maes.append(mean_absolute_error(y_test, y_pred))\n",
    "\n",
    "# error calculation for this parameter combination\n",
    "MAE_prophet = np.mean(maes)\n",
    "last_MAE_prophet = maes[-1]\n",
    "global_maes.append(MAE_prophet)\n",
    "print(np.mean(maes))"
   ]
  },
  {
   "cell_type": "code",
   "execution_count": 34,
   "metadata": {},
   "outputs": [],
   "source": [
    "# formatting dataframe\n",
    "ts_formated_prophet = ts_diff.reset_index().rename(columns = {'year' : 'ds', 'ice_extent' : 'y'})\n",
    "ts_formated_prophet['ds'] = pd.DataFrame(pd.to_datetime(ts_formated_prophet['ds'].astype(str), format='%Y'))"
   ]
  },
  {
   "cell_type": "code",
   "execution_count": 39,
   "metadata": {},
   "outputs": [],
   "source": [
    "df_train = ts_formated_prophet.iloc[:-4]\n",
    "df_test  = ts_formated_prophet.iloc[-4:]"
   ]
  },
  {
   "cell_type": "code",
   "execution_count": 40,
   "metadata": {},
   "outputs": [
    {
     "data": {
      "text/html": [
       "<div>\n",
       "<style scoped>\n",
       "    .dataframe tbody tr th:only-of-type {\n",
       "        vertical-align: middle;\n",
       "    }\n",
       "\n",
       "    .dataframe tbody tr th {\n",
       "        vertical-align: top;\n",
       "    }\n",
       "\n",
       "    .dataframe thead th {\n",
       "        text-align: right;\n",
       "    }\n",
       "</style>\n",
       "<table border=\"1\" class=\"dataframe\">\n",
       "  <thead>\n",
       "    <tr style=\"text-align: right;\">\n",
       "      <th></th>\n",
       "      <th>ds</th>\n",
       "      <th>mean_temp</th>\n",
       "      <th>y</th>\n",
       "    </tr>\n",
       "  </thead>\n",
       "  <tbody>\n",
       "    <tr>\n",
       "      <th>0</th>\n",
       "      <td>1980-01-01</td>\n",
       "      <td>-0.216667</td>\n",
       "      <td>-0.000089</td>\n",
       "    </tr>\n",
       "    <tr>\n",
       "      <th>1</th>\n",
       "      <td>1981-01-01</td>\n",
       "      <td>0.516667</td>\n",
       "      <td>-0.202316</td>\n",
       "    </tr>\n",
       "    <tr>\n",
       "      <th>2</th>\n",
       "      <td>1982-01-01</td>\n",
       "      <td>-0.325000</td>\n",
       "      <td>0.320107</td>\n",
       "    </tr>\n",
       "    <tr>\n",
       "      <th>3</th>\n",
       "      <td>1983-01-01</td>\n",
       "      <td>0.950000</td>\n",
       "      <td>-0.114241</td>\n",
       "    </tr>\n",
       "    <tr>\n",
       "      <th>4</th>\n",
       "      <td>1984-01-01</td>\n",
       "      <td>-0.475000</td>\n",
       "      <td>-0.432713</td>\n",
       "    </tr>\n",
       "  </tbody>\n",
       "</table>\n",
       "</div>"
      ],
      "text/plain": [
       "          ds  mean_temp         y\n",
       "0 1980-01-01  -0.216667 -0.000089\n",
       "1 1981-01-01   0.516667 -0.202316\n",
       "2 1982-01-01  -0.325000  0.320107\n",
       "3 1983-01-01   0.950000 -0.114241\n",
       "4 1984-01-01  -0.475000 -0.432713"
      ]
     },
     "execution_count": 40,
     "metadata": {},
     "output_type": "execute_result"
    }
   ],
   "source": [
    "df_train.head()"
   ]
  },
  {
   "cell_type": "code",
   "execution_count": 41,
   "metadata": {},
   "outputs": [
    {
     "name": "stderr",
     "output_type": "stream",
     "text": [
      "INFO:fbprophet:Disabling weekly seasonality. Run prophet with weekly_seasonality=True to override this.\n",
      "INFO:fbprophet:Disabling daily seasonality. Run prophet with daily_seasonality=True to override this.\n",
      "C:\\Users\\Emiel\\Anaconda3\\lib\\site-packages\\pystan\\misc.py:399: FutureWarning: Conversion of the second argument of issubdtype from `float` to `np.floating` is deprecated. In future, it will be treated as `np.float64 == np.dtype(float).type`.\n",
      "  elif np.issubdtype(np.asarray(v).dtype, float):\n"
     ]
    },
    {
     "data": {
      "text/plain": [
       "<fbprophet.forecaster.Prophet at 0x1d285a682c8>"
      ]
     },
     "execution_count": 41,
     "metadata": {},
     "output_type": "execute_result"
    }
   ],
   "source": [
    "from fbprophet import Prophet\n",
    "m = Prophet()\n",
    "m.add_regressor('mean_temp')\n",
    "m.fit(df_train)"
   ]
  },
  {
   "cell_type": "code",
   "execution_count": 43,
   "metadata": {},
   "outputs": [
    {
     "data": {
      "text/html": [
       "<div>\n",
       "<style scoped>\n",
       "    .dataframe tbody tr th:only-of-type {\n",
       "        vertical-align: middle;\n",
       "    }\n",
       "\n",
       "    .dataframe tbody tr th {\n",
       "        vertical-align: top;\n",
       "    }\n",
       "\n",
       "    .dataframe thead th {\n",
       "        text-align: right;\n",
       "    }\n",
       "</style>\n",
       "<table border=\"1\" class=\"dataframe\">\n",
       "  <thead>\n",
       "    <tr style=\"text-align: right;\">\n",
       "      <th></th>\n",
       "      <th>yhat</th>\n",
       "    </tr>\n",
       "    <tr>\n",
       "      <th>ds</th>\n",
       "      <th></th>\n",
       "    </tr>\n",
       "  </thead>\n",
       "  <tbody>\n",
       "    <tr>\n",
       "      <th>2015-01-01</th>\n",
       "      <td>-0.046999</td>\n",
       "    </tr>\n",
       "    <tr>\n",
       "      <th>2016-01-01</th>\n",
       "      <td>-0.113558</td>\n",
       "    </tr>\n",
       "    <tr>\n",
       "      <th>2017-01-01</th>\n",
       "      <td>-0.036017</td>\n",
       "    </tr>\n",
       "    <tr>\n",
       "      <th>2018-01-01</th>\n",
       "      <td>-0.057954</td>\n",
       "    </tr>\n",
       "  </tbody>\n",
       "</table>\n",
       "</div>"
      ],
      "text/plain": [
       "                yhat\n",
       "ds                  \n",
       "2015-01-01 -0.046999\n",
       "2016-01-01 -0.113558\n",
       "2017-01-01 -0.036017\n",
       "2018-01-01 -0.057954"
      ]
     },
     "execution_count": 43,
     "metadata": {},
     "output_type": "execute_result"
    }
   ],
   "source": [
    "forecast = m.predict(df_test.drop(columns=\"y\"))\n",
    "forecast.set_index('ds')[['yhat']]"
   ]
  },
  {
   "cell_type": "code",
   "execution_count": null,
   "metadata": {},
   "outputs": [],
   "source": [
    "# example"
   ]
  },
  {
   "cell_type": "code",
   "execution_count": 2,
   "metadata": {},
   "outputs": [
    {
     "data": {
      "text/html": [
       "<div>\n",
       "<style scoped>\n",
       "    .dataframe tbody tr th:only-of-type {\n",
       "        vertical-align: middle;\n",
       "    }\n",
       "\n",
       "    .dataframe tbody tr th {\n",
       "        vertical-align: top;\n",
       "    }\n",
       "\n",
       "    .dataframe thead th {\n",
       "        text-align: right;\n",
       "    }\n",
       "</style>\n",
       "<table border=\"1\" class=\"dataframe\">\n",
       "  <thead>\n",
       "    <tr style=\"text-align: right;\">\n",
       "      <th></th>\n",
       "      <th>ds</th>\n",
       "      <th>y</th>\n",
       "      <th>add1</th>\n",
       "      <th>add2</th>\n",
       "    </tr>\n",
       "  </thead>\n",
       "  <tbody>\n",
       "    <tr>\n",
       "      <th>0</th>\n",
       "      <td>2019-09-01</td>\n",
       "      <td>1</td>\n",
       "      <td>101</td>\n",
       "      <td>201</td>\n",
       "    </tr>\n",
       "    <tr>\n",
       "      <th>1</th>\n",
       "      <td>2019-09-02</td>\n",
       "      <td>2</td>\n",
       "      <td>102</td>\n",
       "      <td>202</td>\n",
       "    </tr>\n",
       "    <tr>\n",
       "      <th>2</th>\n",
       "      <td>2019-09-03</td>\n",
       "      <td>3</td>\n",
       "      <td>103</td>\n",
       "      <td>203</td>\n",
       "    </tr>\n",
       "    <tr>\n",
       "      <th>3</th>\n",
       "      <td>2019-09-04</td>\n",
       "      <td>4</td>\n",
       "      <td>104</td>\n",
       "      <td>204</td>\n",
       "    </tr>\n",
       "    <tr>\n",
       "      <th>4</th>\n",
       "      <td>2019-09-05</td>\n",
       "      <td>5</td>\n",
       "      <td>105</td>\n",
       "      <td>205</td>\n",
       "    </tr>\n",
       "  </tbody>\n",
       "</table>\n",
       "</div>"
      ],
      "text/plain": [
       "          ds  y  add1  add2\n",
       "0 2019-09-01  1   101   201\n",
       "1 2019-09-02  2   102   202\n",
       "2 2019-09-03  3   103   203\n",
       "3 2019-09-04  4   104   204\n",
       "4 2019-09-05  5   105   205"
      ]
     },
     "execution_count": 2,
     "metadata": {},
     "output_type": "execute_result"
    }
   ],
   "source": [
    "import pandas as pd\n",
    "df = pd.DataFrame(pd.date_range(start=\"2019-09-01\", end=\"2019-09-30\", freq='D', name='ds'))\n",
    "df[\"y\"] = range(1,31)\n",
    "df[\"add1\"] = range(101,131)\n",
    "df[\"add2\"] = range(201,231)\n",
    "df.head()"
   ]
  },
  {
   "cell_type": "code",
   "execution_count": 3,
   "metadata": {},
   "outputs": [],
   "source": [
    "df_train = df.loc[df[\"ds\"]<\"2019-09-21\"]\n",
    "df_test  = df.loc[df[\"ds\"]>=\"2019-09-21\"]"
   ]
  },
  {
   "cell_type": "code",
   "execution_count": 4,
   "metadata": {},
   "outputs": [
    {
     "name": "stderr",
     "output_type": "stream",
     "text": [
      "INFO:numexpr.utils:NumExpr defaulting to 8 threads.\n",
      "INFO:fbprophet:Disabling yearly seasonality. Run prophet with yearly_seasonality=True to override this.\n",
      "INFO:fbprophet:Disabling daily seasonality. Run prophet with daily_seasonality=True to override this.\n",
      "INFO:fbprophet:n_changepoints greater than number of observations. Using 15.\n",
      "C:\\Users\\Emiel\\Anaconda3\\lib\\site-packages\\pystan\\misc.py:399: FutureWarning: Conversion of the second argument of issubdtype from `float` to `np.floating` is deprecated. In future, it will be treated as `np.float64 == np.dtype(float).type`.\n",
      "  elif np.issubdtype(np.asarray(v).dtype, float):\n"
     ]
    },
    {
     "data": {
      "text/plain": [
       "<fbprophet.forecaster.Prophet at 0x1d2f3f13688>"
      ]
     },
     "execution_count": 4,
     "metadata": {},
     "output_type": "execute_result"
    }
   ],
   "source": [
    "from fbprophet import Prophet\n",
    "m = Prophet()\n",
    "m.add_regressor('add1')\n",
    "m.add_regressor('add2')\n",
    "m.fit(df_train)"
   ]
  },
  {
   "cell_type": "code",
   "execution_count": 10,
   "metadata": {},
   "outputs": [
    {
     "data": {
      "text/html": [
       "<div>\n",
       "<style scoped>\n",
       "    .dataframe tbody tr th:only-of-type {\n",
       "        vertical-align: middle;\n",
       "    }\n",
       "\n",
       "    .dataframe tbody tr th {\n",
       "        vertical-align: top;\n",
       "    }\n",
       "\n",
       "    .dataframe thead th {\n",
       "        text-align: right;\n",
       "    }\n",
       "</style>\n",
       "<table border=\"1\" class=\"dataframe\">\n",
       "  <thead>\n",
       "    <tr style=\"text-align: right;\">\n",
       "      <th></th>\n",
       "      <th>yhat</th>\n",
       "    </tr>\n",
       "    <tr>\n",
       "      <th>ds</th>\n",
       "      <th></th>\n",
       "    </tr>\n",
       "  </thead>\n",
       "  <tbody>\n",
       "    <tr>\n",
       "      <th>2019-09-21</th>\n",
       "      <td>21.005198</td>\n",
       "    </tr>\n",
       "    <tr>\n",
       "      <th>2019-09-22</th>\n",
       "      <td>22.013949</td>\n",
       "    </tr>\n",
       "    <tr>\n",
       "      <th>2019-09-23</th>\n",
       "      <td>23.026550</td>\n",
       "    </tr>\n",
       "    <tr>\n",
       "      <th>2019-09-24</th>\n",
       "      <td>24.026550</td>\n",
       "    </tr>\n",
       "    <tr>\n",
       "      <th>2019-09-25</th>\n",
       "      <td>25.026550</td>\n",
       "    </tr>\n",
       "    <tr>\n",
       "      <th>2019-09-26</th>\n",
       "      <td>26.026550</td>\n",
       "    </tr>\n",
       "    <tr>\n",
       "      <th>2019-09-27</th>\n",
       "      <td>27.026550</td>\n",
       "    </tr>\n",
       "    <tr>\n",
       "      <th>2019-09-28</th>\n",
       "      <td>28.031748</td>\n",
       "    </tr>\n",
       "    <tr>\n",
       "      <th>2019-09-29</th>\n",
       "      <td>29.040499</td>\n",
       "    </tr>\n",
       "    <tr>\n",
       "      <th>2019-09-30</th>\n",
       "      <td>30.053100</td>\n",
       "    </tr>\n",
       "  </tbody>\n",
       "</table>\n",
       "</div>"
      ],
      "text/plain": [
       "                 yhat\n",
       "ds                   \n",
       "2019-09-21  21.005198\n",
       "2019-09-22  22.013949\n",
       "2019-09-23  23.026550\n",
       "2019-09-24  24.026550\n",
       "2019-09-25  25.026550\n",
       "2019-09-26  26.026550\n",
       "2019-09-27  27.026550\n",
       "2019-09-28  28.031748\n",
       "2019-09-29  29.040499\n",
       "2019-09-30  30.053100"
      ]
     },
     "execution_count": 10,
     "metadata": {},
     "output_type": "execute_result"
    }
   ],
   "source": [
    "forecast = m.predict(df_test.drop(columns=\"y\"))\n",
    "forecast.set_index('ds')[['yhat']]"
   ]
  },
  {
   "cell_type": "markdown",
   "metadata": {},
   "source": [
    "### Evaluation"
   ]
  },
  {
   "cell_type": "code",
   "execution_count": 112,
   "metadata": {},
   "outputs": [
    {
     "data": {
      "text/html": [
       "<div>\n",
       "<style scoped>\n",
       "    .dataframe tbody tr th:only-of-type {\n",
       "        vertical-align: middle;\n",
       "    }\n",
       "\n",
       "    .dataframe tbody tr th {\n",
       "        vertical-align: top;\n",
       "    }\n",
       "\n",
       "    .dataframe thead th {\n",
       "        text-align: right;\n",
       "    }\n",
       "</style>\n",
       "<table border=\"1\" class=\"dataframe\">\n",
       "  <thead>\n",
       "    <tr style=\"text-align: right;\">\n",
       "      <th></th>\n",
       "      <th>Mean MAE (x 1 000 000 km²)</th>\n",
       "      <th>Execution time (s)</th>\n",
       "      <th>Last MAE (x 1 000 000 km²)</th>\n",
       "    </tr>\n",
       "  </thead>\n",
       "  <tbody>\n",
       "    <tr>\n",
       "      <th>VARMAX</th>\n",
       "      <td>0.154</td>\n",
       "      <td>49.062</td>\n",
       "      <td>0.134</td>\n",
       "    </tr>\n",
       "    <tr>\n",
       "      <th>LSTM</th>\n",
       "      <td>0.198</td>\n",
       "      <td>26.708</td>\n",
       "      <td>0.210</td>\n",
       "    </tr>\n",
       "  </tbody>\n",
       "</table>\n",
       "</div>"
      ],
      "text/plain": [
       "        Mean MAE (x 1 000 000 km²)  Execution time (s)  \\\n",
       "VARMAX                       0.154              49.062   \n",
       "LSTM                         0.198              26.708   \n",
       "\n",
       "        Last MAE (x 1 000 000 km²)  \n",
       "VARMAX                       0.134  \n",
       "LSTM                         0.210  "
      ]
     },
     "execution_count": 112,
     "metadata": {},
     "output_type": "execute_result"
    }
   ],
   "source": [
    "# formatting\n",
    "results = [[MAE_VARMAX, time_VARMAX, last_MAE_VARMAX],\n",
    "           [MAE_LSTM, time_LSTM, last_MAE_LSTM]]\n",
    "\n",
    "# display results\n",
    "results = pd.DataFrame(results, columns=['Mean MAE (x 1 000 000 km\\u00b2)','Execution time (s)','Last MAE (x 1 000 000 km\\u00b2)']\n",
    "             ,index=['VARMAX','LSTM']).round(decimals=3)\n",
    "results"
   ]
  },
  {
   "cell_type": "code",
   "execution_count": 65,
   "metadata": {},
   "outputs": [
    {
     "data": {
      "image/png": "[encoded data removed]",
      "text/plain": [
       "<Figure size 1080x360 with 1 Axes>"
      ]
     },
     "metadata": {
      "needs_background": "light"
     },
     "output_type": "display_data"
    },
    {
     "data": {
      "image/png": "[encoded data removed]",
      "text/plain": [
       "<Figure size 1080x360 with 1 Axes>"
      ]
     },
     "metadata": {
      "needs_background": "light"
     },
     "output_type": "display_data"
    }
   ],
   "source": [
    "full_graph(last_predictions_VARMAX, 'Last prediction VARMAX')\n",
    "full_graph(last_predictions_LSTM, 'Last prediction LSTM')"
   ]
  },
  {
   "cell_type": "code",
   "execution_count": null,
   "metadata": {},
   "outputs": [],
   "source": []
  }
 ],
 "metadata": {
  "kernelspec": {
   "display_name": "Python 3",
   "language": "python",
   "name": "python3"
  },
  "language_info": {
   "codemirror_mode": {
    "name": "ipython",
    "version": 3
   },
   "file_extension": ".py",
   "mimetype": "text/x-python",
   "name": "python",
   "nbconvert_exporter": "python",
   "pygments_lexer": "ipython3",
   "version": "3.7.4"
  }
 },
 "nbformat": 4,
 "nbformat_minor": 2
}
