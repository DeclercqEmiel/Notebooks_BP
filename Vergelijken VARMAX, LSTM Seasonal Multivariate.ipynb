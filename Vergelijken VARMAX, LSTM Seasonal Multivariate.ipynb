{
 "cells": [
  {
   "cell_type": "code",
   "execution_count": 1,
   "metadata": {},
   "outputs": [],
   "source": [
    "import pandas as pd\n",
    "import numpy as np\n",
    "# matplotlib is the Python library for drawing diagrams\n",
    "import matplotlib.pylab as plt\n",
    "%matplotlib inline\n",
    "# set the size of the diagrams\n",
    "from matplotlib.pylab import rcParams\n",
    "rcParams['figure.figsize'] = 15,5"
   ]
  },
  {
   "cell_type": "markdown",
   "metadata": {},
   "source": [
    "## Dataprep"
   ]
  },
  {
   "cell_type": "code",
   "execution_count": 2,
   "metadata": {},
   "outputs": [],
   "source": [
    "ts = pd.read_csv('weatherHistory.csv')"
   ]
  },
  {
   "cell_type": "code",
   "execution_count": 3,
   "metadata": {},
   "outputs": [],
   "source": [
    "ts = ts[['Formatted Date','Temperature (C)','Humidity','Wind Speed (km/h)','Pressure (millibars)']]\n",
    "ts = ts.rename(columns={\"Temperature (C)\": \"Temperature\",\"Formatted Date\":\"Date\",\"Wind Speed (km/h)\":\"Wind speed\", \"Pressure (millibars)\":\"Pressure\"})\n",
    "# tsuv['Date'] = pd.to_datetime(tsuv['Date'])"
   ]
  },
  {
   "cell_type": "code",
   "execution_count": 4,
   "metadata": {},
   "outputs": [],
   "source": [
    "ts['Date'] = ts['Date'].str[:10]\n",
    "ts = ts.drop_duplicates('Date')\n",
    "ts['Date'] = ts['Date'].str[:7]\n",
    "ts = ts.groupby('Date').mean()"
   ]
  },
  {
   "cell_type": "code",
   "execution_count": 5,
   "metadata": {},
   "outputs": [],
   "source": [
    "ts.to_csv('../data/SeasonalTimeSeriesMultivariate.csv')"
   ]
  },
  {
   "cell_type": "code",
   "execution_count": 6,
   "metadata": {},
   "outputs": [
    {
     "name": "stdout",
     "output_type": "stream",
     "text": [
      "            Temperature  Humidity  Wind speed     Pressure\n",
      "Date                                                      \n",
      "2006-01-01    -2.549821  0.877419    8.490413  1028.117742\n",
      "2006-02-01    -1.337103  0.882500    9.471975   980.622500\n",
      "2006-03-01     2.932079  0.829677   13.169281  1011.892903\n",
      "2006-04-01    10.229815  0.824333    8.794357  1013.625667\n",
      "2006-05-01    12.796774  0.829032    7.604394  1016.817097\n"
     ]
    },
    {
     "name": "stderr",
     "output_type": "stream",
     "text": [
      "C:\\Users\\Emiel\\Anaconda3\\lib\\site-packages\\ipykernel_launcher.py:2: FutureWarning: The pandas.datetime class is deprecated and will be removed from pandas in a future version. Import from datetime module instead.\n",
      "  \n"
     ]
    }
   ],
   "source": [
    "# convert the month-string to a date and use that date as an index\n",
    "parser = lambda x: pd.datetime.strptime(x,'%Y-%m')\n",
    "tsmv = pd.read_csv('../data/SeasonalTimeSeriesMultivariate.csv', parse_dates=['Date'], index_col='Date',date_parser=parser)\n",
    "print(tsmv.head())"
   ]
  },
  {
   "cell_type": "code",
   "execution_count": 7,
   "metadata": {},
   "outputs": [],
   "source": [
    "tsmv = tsmv.sort_values('Date')"
   ]
  },
  {
   "cell_type": "code",
   "execution_count": 8,
   "metadata": {},
   "outputs": [
    {
     "data": {
      "text/plain": [
       "[<matplotlib.lines.Line2D at 0x1e0808ea588>,\n",
       " <matplotlib.lines.Line2D at 0x1e083fc8548>,\n",
       " <matplotlib.lines.Line2D at 0x1e083fc8048>,\n",
       " <matplotlib.lines.Line2D at 0x1e083fc9e08>]"
      ]
     },
     "execution_count": 8,
     "metadata": {},
     "output_type": "execute_result"
    },
    {
     "data": {
      "image/png": "[encoded data removed]",
      "text/plain": [
       "<Figure size 432x288 with 1 Axes>"
      ]
     },
     "metadata": {
      "needs_background": "light"
     },
     "output_type": "display_data"
    }
   ],
   "source": [
    "plt.plot(tsmv)"
   ]
  },
  {
   "cell_type": "code",
   "execution_count": 9,
   "metadata": {},
   "outputs": [],
   "source": [
    "# Define train and testset\n",
    "dataset = tsmv\n",
    "testDataset = tsmv[100:]"
   ]
  },
  {
   "cell_type": "code",
   "execution_count": 10,
   "metadata": {},
   "outputs": [],
   "source": [
    "n_test_entries = 12\n",
    "train = dataset[:-n_test_entries]\n",
    "test = dataset[-n_test_entries:]"
   ]
  },
  {
   "cell_type": "code",
   "execution_count": 11,
   "metadata": {},
   "outputs": [],
   "source": [
    "test_y = test[['Temperature']].values.flatten()\n",
    "test_X = test.drop('Temperature',axis=1).values\n",
    "train_y = train[['Temperature']].values.flatten()\n",
    "train_X = train.drop('Temperature',axis=1).values"
   ]
  },
  {
   "cell_type": "code",
   "execution_count": 12,
   "metadata": {},
   "outputs": [],
   "source": [
    "# Define scoring methods\n",
    "\n",
    "from sklearn.metrics import r2_score\n",
    "\n",
    "def calc_rmspe(y_true, y_pred):\n",
    "    return np.sqrt(np.mean(np.square(((y_true - y_pred) / y_true)), axis=0)) * 100"
   ]
  },
  {
   "cell_type": "code",
   "execution_count": 13,
   "metadata": {},
   "outputs": [
    {
     "data": {
      "text/html": [
       "<div>\n",
       "<style scoped>\n",
       "    .dataframe tbody tr th:only-of-type {\n",
       "        vertical-align: middle;\n",
       "    }\n",
       "\n",
       "    .dataframe tbody tr th {\n",
       "        vertical-align: top;\n",
       "    }\n",
       "\n",
       "    .dataframe thead th {\n",
       "        text-align: right;\n",
       "    }\n",
       "</style>\n",
       "<table border=\"1\" class=\"dataframe\">\n",
       "  <thead>\n",
       "    <tr style=\"text-align: right;\">\n",
       "      <th></th>\n",
       "      <th>Temperature</th>\n",
       "      <th>Humidity</th>\n",
       "      <th>Wind speed</th>\n",
       "      <th>Pressure</th>\n",
       "    </tr>\n",
       "    <tr>\n",
       "      <th>Date</th>\n",
       "      <th></th>\n",
       "      <th></th>\n",
       "      <th></th>\n",
       "      <th></th>\n",
       "    </tr>\n",
       "  </thead>\n",
       "  <tbody>\n",
       "    <tr>\n",
       "      <th>2006-01-01</th>\n",
       "      <td>-2.549821</td>\n",
       "      <td>0.877419</td>\n",
       "      <td>8.490413</td>\n",
       "      <td>1028.117742</td>\n",
       "    </tr>\n",
       "    <tr>\n",
       "      <th>2006-02-01</th>\n",
       "      <td>-1.337103</td>\n",
       "      <td>0.882500</td>\n",
       "      <td>9.471975</td>\n",
       "      <td>980.622500</td>\n",
       "    </tr>\n",
       "    <tr>\n",
       "      <th>2006-03-01</th>\n",
       "      <td>2.932079</td>\n",
       "      <td>0.829677</td>\n",
       "      <td>13.169281</td>\n",
       "      <td>1011.892903</td>\n",
       "    </tr>\n",
       "    <tr>\n",
       "      <th>2006-04-01</th>\n",
       "      <td>10.229815</td>\n",
       "      <td>0.824333</td>\n",
       "      <td>8.794357</td>\n",
       "      <td>1013.625667</td>\n",
       "    </tr>\n",
       "    <tr>\n",
       "      <th>2006-05-01</th>\n",
       "      <td>12.796774</td>\n",
       "      <td>0.829032</td>\n",
       "      <td>7.604394</td>\n",
       "      <td>1016.817097</td>\n",
       "    </tr>\n",
       "    <tr>\n",
       "      <th>...</th>\n",
       "      <td>...</td>\n",
       "      <td>...</td>\n",
       "      <td>...</td>\n",
       "      <td>...</td>\n",
       "    </tr>\n",
       "    <tr>\n",
       "      <th>2016-08-01</th>\n",
       "      <td>18.363978</td>\n",
       "      <td>0.799355</td>\n",
       "      <td>7.098542</td>\n",
       "      <td>1018.076452</td>\n",
       "    </tr>\n",
       "    <tr>\n",
       "      <th>2016-09-01</th>\n",
       "      <td>15.087778</td>\n",
       "      <td>0.816000</td>\n",
       "      <td>4.617480</td>\n",
       "      <td>1018.349667</td>\n",
       "    </tr>\n",
       "    <tr>\n",
       "      <th>2016-10-01</th>\n",
       "      <td>8.487993</td>\n",
       "      <td>0.851613</td>\n",
       "      <td>10.896584</td>\n",
       "      <td>1020.696129</td>\n",
       "    </tr>\n",
       "    <tr>\n",
       "      <th>2016-11-01</th>\n",
       "      <td>3.759815</td>\n",
       "      <td>0.921000</td>\n",
       "      <td>9.062690</td>\n",
       "      <td>1019.569000</td>\n",
       "    </tr>\n",
       "    <tr>\n",
       "      <th>2016-12-01</th>\n",
       "      <td>0.176703</td>\n",
       "      <td>0.940000</td>\n",
       "      <td>9.521852</td>\n",
       "      <td>1020.188710</td>\n",
       "    </tr>\n",
       "  </tbody>\n",
       "</table>\n",
       "<p>132 rows × 4 columns</p>\n",
       "</div>"
      ],
      "text/plain": [
       "            Temperature  Humidity  Wind speed     Pressure\n",
       "Date                                                      \n",
       "2006-01-01    -2.549821  0.877419    8.490413  1028.117742\n",
       "2006-02-01    -1.337103  0.882500    9.471975   980.622500\n",
       "2006-03-01     2.932079  0.829677   13.169281  1011.892903\n",
       "2006-04-01    10.229815  0.824333    8.794357  1013.625667\n",
       "2006-05-01    12.796774  0.829032    7.604394  1016.817097\n",
       "...                 ...       ...         ...          ...\n",
       "2016-08-01    18.363978  0.799355    7.098542  1018.076452\n",
       "2016-09-01    15.087778  0.816000    4.617480  1018.349667\n",
       "2016-10-01     8.487993  0.851613   10.896584  1020.696129\n",
       "2016-11-01     3.759815  0.921000    9.062690  1019.569000\n",
       "2016-12-01     0.176703  0.940000    9.521852  1020.188710\n",
       "\n",
       "[132 rows x 4 columns]"
      ]
     },
     "execution_count": 13,
     "metadata": {},
     "output_type": "execute_result"
    }
   ],
   "source": [
    "dataset"
   ]
  },
  {
   "cell_type": "markdown",
   "metadata": {},
   "source": [
    "## VARMAX"
   ]
  },
  {
   "cell_type": "code",
   "execution_count": 13,
   "metadata": {},
   "outputs": [
    {
     "name": "stdout",
     "output_type": "stream",
     "text": [
      "(0, 0)\n",
      "Invalid VARMAX(p,q) specification; at least one p,q must be greater than zero.\n",
      "(0, 1)\n",
      "R square: 0.030933900799416603\n",
      "(0, 2)\n",
      "R square: 0.09266041590040064\n",
      "(0, 3)\n",
      "R square: 0.11412763137772963\n",
      "(0, 4)\n",
      "R square: -0.09443827131159721\n",
      "(0, 5)\n",
      "R square: 0.1725238050736374\n",
      "(1, 0)\n",
      "R square: -0.19196405807176098\n",
      "(1, 1)\n",
      "R square: 0.038282751730094655\n",
      "(1, 2)\n",
      "R square: -0.11419246924112603\n",
      "(1, 3)\n",
      "R square: -0.15603492158477272\n",
      "(1, 4)\n",
      "R square: 0.024948351022235915\n",
      "(1, 5)\n",
      "Schur decomposition solver error.\n",
      "(2, 0)\n",
      "R square: 0.5895596390170881\n",
      "(2, 1)\n",
      "R square: 0.5733474968042643\n",
      "(2, 2)\n",
      "R square: 0.5752394821341764\n",
      "(2, 3)\n",
      "R square: 0.6286491604053654\n",
      "(2, 4)\n",
      "R square: 0.5834824595210685\n",
      "(2, 5)\n",
      "Schur decomposition solver error.\n",
      "(3, 0)\n",
      "R square: 0.7634060070812267\n",
      "(3, 1)\n",
      "R square: 0.8424393449346833\n",
      "(3, 2)\n",
      "R square: 0.8159441688426954\n",
      "(3, 3)\n",
      "R square: 0.8379933164648254\n",
      "(3, 4)\n",
      "R square: 0.819701851649197\n",
      "(3, 5)\n",
      "Schur decomposition solver error.\n",
      "(4, 0)\n",
      "R square: 0.8830079284588568\n",
      "(4, 1)\n",
      "R square: 0.9067482338314627\n",
      "(4, 2)\n",
      "R square: 0.8925821395259625\n",
      "(4, 3)\n",
      "R square: 0.8636991059482984\n",
      "(4, 4)\n",
      "R square: 0.9076742535302783\n",
      "(4, 5)\n",
      "R square: 0.8360364882836906\n",
      "(5, 0)\n",
      "R square: 0.9176372372083238\n",
      "(5, 1)\n",
      "R square: 0.9222291694391388\n",
      "(5, 2)\n",
      "R square: 0.9324279287214976\n",
      "(5, 3)\n",
      "R square: 0.9307378784142284\n",
      "(5, 4)\n",
      "R square: 0.9393521861747769\n",
      "(5, 5)\n",
      "Singular forecast error covariance matrix encountered at period 116\n",
      "Best R2 = 0.9393521861747769\n",
      "(5, 4)\n"
     ]
    },
    {
     "ename": "ValueError",
     "evalue": "view limit minimum -36814.950000000004 is less than 1 and is an invalid Matplotlib date value. This often happens if you pass a non-datetime value to an axis that has datetime units",
     "output_type": "error",
     "traceback": [
      "\u001b[1;31m---------------------------------------------------------------------------\u001b[0m",
      "\u001b[1;31mValueError\u001b[0m                                Traceback (most recent call last)",
      "\u001b[1;32m<ipython-input-13-323f2b3e5238>\u001b[0m in \u001b[0;36m<module>\u001b[1;34m\u001b[0m\n\u001b[0;32m     46\u001b[0m \u001b[0mplt\u001b[0m\u001b[1;33m.\u001b[0m\u001b[0mplot\u001b[0m\u001b[1;33m(\u001b[0m\u001b[0mtest\u001b[0m\u001b[1;33m,\u001b[0m\u001b[0mcolor\u001b[0m\u001b[1;33m=\u001b[0m\u001b[1;34m'blue'\u001b[0m\u001b[1;33m)\u001b[0m\u001b[1;33m\u001b[0m\u001b[1;33m\u001b[0m\u001b[0m\n\u001b[0;32m     47\u001b[0m \u001b[0mplt\u001b[0m\u001b[1;33m.\u001b[0m\u001b[0mplot\u001b[0m\u001b[1;33m(\u001b[0m\u001b[0mbest_predictions\u001b[0m\u001b[1;33m,\u001b[0m \u001b[0mcolor\u001b[0m\u001b[1;33m=\u001b[0m\u001b[1;34m'red'\u001b[0m\u001b[1;33m)\u001b[0m\u001b[1;33m\u001b[0m\u001b[1;33m\u001b[0m\u001b[0m\n\u001b[1;32m---> 48\u001b[1;33m \u001b[0mplt\u001b[0m\u001b[1;33m.\u001b[0m\u001b[0mshow\u001b[0m\u001b[1;33m(\u001b[0m\u001b[1;33m)\u001b[0m\u001b[1;33m\u001b[0m\u001b[1;33m\u001b[0m\u001b[0m\n\u001b[0m",
      "\u001b[1;32m~\\Anaconda3\\lib\\site-packages\\matplotlib\\pyplot.py\u001b[0m in \u001b[0;36mshow\u001b[1;34m(*args, **kw)\u001b[0m\n\u001b[0;32m    270\u001b[0m     \"\"\"\n\u001b[0;32m    271\u001b[0m     \u001b[1;32mglobal\u001b[0m \u001b[0m_show\u001b[0m\u001b[1;33m\u001b[0m\u001b[1;33m\u001b[0m\u001b[0m\n\u001b[1;32m--> 272\u001b[1;33m     \u001b[1;32mreturn\u001b[0m \u001b[0m_show\u001b[0m\u001b[1;33m(\u001b[0m\u001b[1;33m*\u001b[0m\u001b[0margs\u001b[0m\u001b[1;33m,\u001b[0m \u001b[1;33m**\u001b[0m\u001b[0mkw\u001b[0m\u001b[1;33m)\u001b[0m\u001b[1;33m\u001b[0m\u001b[1;33m\u001b[0m\u001b[0m\n\u001b[0m\u001b[0;32m    273\u001b[0m \u001b[1;33m\u001b[0m\u001b[0m\n\u001b[0;32m    274\u001b[0m \u001b[1;33m\u001b[0m\u001b[0m\n",
      "\u001b[1;32m~\\Anaconda3\\lib\\site-packages\\ipykernel\\pylab\\backend_inline.py\u001b[0m in \u001b[0;36mshow\u001b[1;34m(close, block)\u001b[0m\n\u001b[0;32m     37\u001b[0m             display(\n\u001b[0;32m     38\u001b[0m                 \u001b[0mfigure_manager\u001b[0m\u001b[1;33m.\u001b[0m\u001b[0mcanvas\u001b[0m\u001b[1;33m.\u001b[0m\u001b[0mfigure\u001b[0m\u001b[1;33m,\u001b[0m\u001b[1;33m\u001b[0m\u001b[1;33m\u001b[0m\u001b[0m\n\u001b[1;32m---> 39\u001b[1;33m                 \u001b[0mmetadata\u001b[0m\u001b[1;33m=\u001b[0m\u001b[0m_fetch_figure_metadata\u001b[0m\u001b[1;33m(\u001b[0m\u001b[0mfigure_manager\u001b[0m\u001b[1;33m.\u001b[0m\u001b[0mcanvas\u001b[0m\u001b[1;33m.\u001b[0m\u001b[0mfigure\u001b[0m\u001b[1;33m)\u001b[0m\u001b[1;33m\u001b[0m\u001b[1;33m\u001b[0m\u001b[0m\n\u001b[0m\u001b[0;32m     40\u001b[0m             )\n\u001b[0;32m     41\u001b[0m     \u001b[1;32mfinally\u001b[0m\u001b[1;33m:\u001b[0m\u001b[1;33m\u001b[0m\u001b[1;33m\u001b[0m\u001b[0m\n",
      "\u001b[1;32m~\\Anaconda3\\lib\\site-packages\\ipykernel\\pylab\\backend_inline.py\u001b[0m in \u001b[0;36m_fetch_figure_metadata\u001b[1;34m(fig)\u001b[0m\n\u001b[0;32m    175\u001b[0m         \u001b[1;31m# the background is transparent\u001b[0m\u001b[1;33m\u001b[0m\u001b[1;33m\u001b[0m\u001b[1;33m\u001b[0m\u001b[0m\n\u001b[0;32m    176\u001b[0m         ticksLight = _is_light([label.get_color()\n\u001b[1;32m--> 177\u001b[1;33m                                 \u001b[1;32mfor\u001b[0m \u001b[0maxes\u001b[0m \u001b[1;32min\u001b[0m \u001b[0mfig\u001b[0m\u001b[1;33m.\u001b[0m\u001b[0maxes\u001b[0m\u001b[1;33m\u001b[0m\u001b[1;33m\u001b[0m\u001b[0m\n\u001b[0m\u001b[0;32m    178\u001b[0m                                 \u001b[1;32mfor\u001b[0m \u001b[0maxis\u001b[0m \u001b[1;32min\u001b[0m \u001b[1;33m(\u001b[0m\u001b[0maxes\u001b[0m\u001b[1;33m.\u001b[0m\u001b[0mxaxis\u001b[0m\u001b[1;33m,\u001b[0m \u001b[0maxes\u001b[0m\u001b[1;33m.\u001b[0m\u001b[0myaxis\u001b[0m\u001b[1;33m)\u001b[0m\u001b[1;33m\u001b[0m\u001b[1;33m\u001b[0m\u001b[0m\n\u001b[0;32m    179\u001b[0m                                 for label in axis.get_ticklabels()])\n",
      "\u001b[1;32m~\\Anaconda3\\lib\\site-packages\\ipykernel\\pylab\\backend_inline.py\u001b[0m in \u001b[0;36m<listcomp>\u001b[1;34m(.0)\u001b[0m\n\u001b[0;32m    177\u001b[0m                                 \u001b[1;32mfor\u001b[0m \u001b[0maxes\u001b[0m \u001b[1;32min\u001b[0m \u001b[0mfig\u001b[0m\u001b[1;33m.\u001b[0m\u001b[0maxes\u001b[0m\u001b[1;33m\u001b[0m\u001b[1;33m\u001b[0m\u001b[0m\n\u001b[0;32m    178\u001b[0m                                 \u001b[1;32mfor\u001b[0m \u001b[0maxis\u001b[0m \u001b[1;32min\u001b[0m \u001b[1;33m(\u001b[0m\u001b[0maxes\u001b[0m\u001b[1;33m.\u001b[0m\u001b[0mxaxis\u001b[0m\u001b[1;33m,\u001b[0m \u001b[0maxes\u001b[0m\u001b[1;33m.\u001b[0m\u001b[0myaxis\u001b[0m\u001b[1;33m)\u001b[0m\u001b[1;33m\u001b[0m\u001b[1;33m\u001b[0m\u001b[0m\n\u001b[1;32m--> 179\u001b[1;33m                                 for label in axis.get_ticklabels()])\n\u001b[0m\u001b[0;32m    180\u001b[0m         \u001b[1;32mif\u001b[0m \u001b[0mticksLight\u001b[0m\u001b[1;33m.\u001b[0m\u001b[0msize\u001b[0m \u001b[1;32mand\u001b[0m \u001b[1;33m(\u001b[0m\u001b[0mticksLight\u001b[0m \u001b[1;33m==\u001b[0m \u001b[0mticksLight\u001b[0m\u001b[1;33m[\u001b[0m\u001b[1;36m0\u001b[0m\u001b[1;33m]\u001b[0m\u001b[1;33m)\u001b[0m\u001b[1;33m.\u001b[0m\u001b[0mall\u001b[0m\u001b[1;33m(\u001b[0m\u001b[1;33m)\u001b[0m\u001b[1;33m:\u001b[0m\u001b[1;33m\u001b[0m\u001b[1;33m\u001b[0m\u001b[0m\n\u001b[0;32m    181\u001b[0m             \u001b[1;31m# there are one or more tick labels, all with the same lightness\u001b[0m\u001b[1;33m\u001b[0m\u001b[1;33m\u001b[0m\u001b[1;33m\u001b[0m\u001b[0m\n",
      "\u001b[1;32m~\\Anaconda3\\lib\\site-packages\\matplotlib\\axis.py\u001b[0m in \u001b[0;36mget_ticklabels\u001b[1;34m(self, minor, which)\u001b[0m\n\u001b[0;32m   1318\u001b[0m         \u001b[1;32mif\u001b[0m \u001b[0mminor\u001b[0m\u001b[1;33m:\u001b[0m\u001b[1;33m\u001b[0m\u001b[1;33m\u001b[0m\u001b[0m\n\u001b[0;32m   1319\u001b[0m             \u001b[1;32mreturn\u001b[0m \u001b[0mself\u001b[0m\u001b[1;33m.\u001b[0m\u001b[0mget_minorticklabels\u001b[0m\u001b[1;33m(\u001b[0m\u001b[1;33m)\u001b[0m\u001b[1;33m\u001b[0m\u001b[1;33m\u001b[0m\u001b[0m\n\u001b[1;32m-> 1320\u001b[1;33m         \u001b[1;32mreturn\u001b[0m \u001b[0mself\u001b[0m\u001b[1;33m.\u001b[0m\u001b[0mget_majorticklabels\u001b[0m\u001b[1;33m(\u001b[0m\u001b[1;33m)\u001b[0m\u001b[1;33m\u001b[0m\u001b[1;33m\u001b[0m\u001b[0m\n\u001b[0m\u001b[0;32m   1321\u001b[0m \u001b[1;33m\u001b[0m\u001b[0m\n\u001b[0;32m   1322\u001b[0m     \u001b[1;32mdef\u001b[0m \u001b[0mget_majorticklines\u001b[0m\u001b[1;33m(\u001b[0m\u001b[0mself\u001b[0m\u001b[1;33m)\u001b[0m\u001b[1;33m:\u001b[0m\u001b[1;33m\u001b[0m\u001b[1;33m\u001b[0m\u001b[0m\n",
      "\u001b[1;32m~\\Anaconda3\\lib\\site-packages\\matplotlib\\axis.py\u001b[0m in \u001b[0;36mget_majorticklabels\u001b[1;34m(self)\u001b[0m\n\u001b[0;32m   1274\u001b[0m     \u001b[1;32mdef\u001b[0m \u001b[0mget_majorticklabels\u001b[0m\u001b[1;33m(\u001b[0m\u001b[0mself\u001b[0m\u001b[1;33m)\u001b[0m\u001b[1;33m:\u001b[0m\u001b[1;33m\u001b[0m\u001b[1;33m\u001b[0m\u001b[0m\n\u001b[0;32m   1275\u001b[0m         \u001b[1;34m'Return a list of Text instances for the major ticklabels.'\u001b[0m\u001b[1;33m\u001b[0m\u001b[1;33m\u001b[0m\u001b[0m\n\u001b[1;32m-> 1276\u001b[1;33m         \u001b[0mticks\u001b[0m \u001b[1;33m=\u001b[0m \u001b[0mself\u001b[0m\u001b[1;33m.\u001b[0m\u001b[0mget_major_ticks\u001b[0m\u001b[1;33m(\u001b[0m\u001b[1;33m)\u001b[0m\u001b[1;33m\u001b[0m\u001b[1;33m\u001b[0m\u001b[0m\n\u001b[0m\u001b[0;32m   1277\u001b[0m         \u001b[0mlabels1\u001b[0m \u001b[1;33m=\u001b[0m \u001b[1;33m[\u001b[0m\u001b[0mtick\u001b[0m\u001b[1;33m.\u001b[0m\u001b[0mlabel1\u001b[0m \u001b[1;32mfor\u001b[0m \u001b[0mtick\u001b[0m \u001b[1;32min\u001b[0m \u001b[0mticks\u001b[0m \u001b[1;32mif\u001b[0m \u001b[0mtick\u001b[0m\u001b[1;33m.\u001b[0m\u001b[0mlabel1\u001b[0m\u001b[1;33m.\u001b[0m\u001b[0mget_visible\u001b[0m\u001b[1;33m(\u001b[0m\u001b[1;33m)\u001b[0m\u001b[1;33m]\u001b[0m\u001b[1;33m\u001b[0m\u001b[1;33m\u001b[0m\u001b[0m\n\u001b[0;32m   1278\u001b[0m         \u001b[0mlabels2\u001b[0m \u001b[1;33m=\u001b[0m \u001b[1;33m[\u001b[0m\u001b[0mtick\u001b[0m\u001b[1;33m.\u001b[0m\u001b[0mlabel2\u001b[0m \u001b[1;32mfor\u001b[0m \u001b[0mtick\u001b[0m \u001b[1;32min\u001b[0m \u001b[0mticks\u001b[0m \u001b[1;32mif\u001b[0m \u001b[0mtick\u001b[0m\u001b[1;33m.\u001b[0m\u001b[0mlabel2\u001b[0m\u001b[1;33m.\u001b[0m\u001b[0mget_visible\u001b[0m\u001b[1;33m(\u001b[0m\u001b[1;33m)\u001b[0m\u001b[1;33m]\u001b[0m\u001b[1;33m\u001b[0m\u001b[1;33m\u001b[0m\u001b[0m\n",
      "\u001b[1;32m~\\Anaconda3\\lib\\site-packages\\matplotlib\\axis.py\u001b[0m in \u001b[0;36mget_major_ticks\u001b[1;34m(self, numticks)\u001b[0m\n\u001b[0;32m   1429\u001b[0m         \u001b[1;34m'Get the tick instances; grow as necessary.'\u001b[0m\u001b[1;33m\u001b[0m\u001b[1;33m\u001b[0m\u001b[0m\n\u001b[0;32m   1430\u001b[0m         \u001b[1;32mif\u001b[0m \u001b[0mnumticks\u001b[0m \u001b[1;32mis\u001b[0m \u001b[1;32mNone\u001b[0m\u001b[1;33m:\u001b[0m\u001b[1;33m\u001b[0m\u001b[1;33m\u001b[0m\u001b[0m\n\u001b[1;32m-> 1431\u001b[1;33m             \u001b[0mnumticks\u001b[0m \u001b[1;33m=\u001b[0m \u001b[0mlen\u001b[0m\u001b[1;33m(\u001b[0m\u001b[0mself\u001b[0m\u001b[1;33m.\u001b[0m\u001b[0mget_majorticklocs\u001b[0m\u001b[1;33m(\u001b[0m\u001b[1;33m)\u001b[0m\u001b[1;33m)\u001b[0m\u001b[1;33m\u001b[0m\u001b[1;33m\u001b[0m\u001b[0m\n\u001b[0m\u001b[0;32m   1432\u001b[0m \u001b[1;33m\u001b[0m\u001b[0m\n\u001b[0;32m   1433\u001b[0m         \u001b[1;32mwhile\u001b[0m \u001b[0mlen\u001b[0m\u001b[1;33m(\u001b[0m\u001b[0mself\u001b[0m\u001b[1;33m.\u001b[0m\u001b[0mmajorTicks\u001b[0m\u001b[1;33m)\u001b[0m \u001b[1;33m<\u001b[0m \u001b[0mnumticks\u001b[0m\u001b[1;33m:\u001b[0m\u001b[1;33m\u001b[0m\u001b[1;33m\u001b[0m\u001b[0m\n",
      "\u001b[1;32m~\\Anaconda3\\lib\\site-packages\\matplotlib\\axis.py\u001b[0m in \u001b[0;36mget_majorticklocs\u001b[1;34m(self)\u001b[0m\n\u001b[0;32m   1346\u001b[0m     \u001b[1;32mdef\u001b[0m \u001b[0mget_majorticklocs\u001b[0m\u001b[1;33m(\u001b[0m\u001b[0mself\u001b[0m\u001b[1;33m)\u001b[0m\u001b[1;33m:\u001b[0m\u001b[1;33m\u001b[0m\u001b[1;33m\u001b[0m\u001b[0m\n\u001b[0;32m   1347\u001b[0m         \u001b[1;34m\"\"\"Get the array of major tick locations in data coordinates.\"\"\"\u001b[0m\u001b[1;33m\u001b[0m\u001b[1;33m\u001b[0m\u001b[0m\n\u001b[1;32m-> 1348\u001b[1;33m         \u001b[1;32mreturn\u001b[0m \u001b[0mself\u001b[0m\u001b[1;33m.\u001b[0m\u001b[0mmajor\u001b[0m\u001b[1;33m.\u001b[0m\u001b[0mlocator\u001b[0m\u001b[1;33m(\u001b[0m\u001b[1;33m)\u001b[0m\u001b[1;33m\u001b[0m\u001b[1;33m\u001b[0m\u001b[0m\n\u001b[0m\u001b[0;32m   1349\u001b[0m \u001b[1;33m\u001b[0m\u001b[0m\n\u001b[0;32m   1350\u001b[0m     \u001b[1;32mdef\u001b[0m \u001b[0mget_minorticklocs\u001b[0m\u001b[1;33m(\u001b[0m\u001b[0mself\u001b[0m\u001b[1;33m)\u001b[0m\u001b[1;33m:\u001b[0m\u001b[1;33m\u001b[0m\u001b[1;33m\u001b[0m\u001b[0m\n",
      "\u001b[1;32m~\\Anaconda3\\lib\\site-packages\\matplotlib\\dates.py\u001b[0m in \u001b[0;36m__call__\u001b[1;34m(self)\u001b[0m\n\u001b[0;32m   1336\u001b[0m     \u001b[1;32mdef\u001b[0m \u001b[0m__call__\u001b[0m\u001b[1;33m(\u001b[0m\u001b[0mself\u001b[0m\u001b[1;33m)\u001b[0m\u001b[1;33m:\u001b[0m\u001b[1;33m\u001b[0m\u001b[1;33m\u001b[0m\u001b[0m\n\u001b[0;32m   1337\u001b[0m         \u001b[1;34m'Return the locations of the ticks'\u001b[0m\u001b[1;33m\u001b[0m\u001b[1;33m\u001b[0m\u001b[0m\n\u001b[1;32m-> 1338\u001b[1;33m         \u001b[0mself\u001b[0m\u001b[1;33m.\u001b[0m\u001b[0mrefresh\u001b[0m\u001b[1;33m(\u001b[0m\u001b[1;33m)\u001b[0m\u001b[1;33m\u001b[0m\u001b[1;33m\u001b[0m\u001b[0m\n\u001b[0m\u001b[0;32m   1339\u001b[0m         \u001b[1;32mreturn\u001b[0m \u001b[0mself\u001b[0m\u001b[1;33m.\u001b[0m\u001b[0m_locator\u001b[0m\u001b[1;33m(\u001b[0m\u001b[1;33m)\u001b[0m\u001b[1;33m\u001b[0m\u001b[1;33m\u001b[0m\u001b[0m\n\u001b[0;32m   1340\u001b[0m \u001b[1;33m\u001b[0m\u001b[0m\n",
      "\u001b[1;32m~\\Anaconda3\\lib\\site-packages\\matplotlib\\dates.py\u001b[0m in \u001b[0;36mrefresh\u001b[1;34m(self)\u001b[0m\n\u001b[0;32m   1362\u001b[0m     \u001b[1;32mdef\u001b[0m \u001b[0mrefresh\u001b[0m\u001b[1;33m(\u001b[0m\u001b[0mself\u001b[0m\u001b[1;33m)\u001b[0m\u001b[1;33m:\u001b[0m\u001b[1;33m\u001b[0m\u001b[1;33m\u001b[0m\u001b[0m\n\u001b[0;32m   1363\u001b[0m         \u001b[1;31m# docstring inherited\u001b[0m\u001b[1;33m\u001b[0m\u001b[1;33m\u001b[0m\u001b[1;33m\u001b[0m\u001b[0m\n\u001b[1;32m-> 1364\u001b[1;33m         \u001b[0mdmin\u001b[0m\u001b[1;33m,\u001b[0m \u001b[0mdmax\u001b[0m \u001b[1;33m=\u001b[0m \u001b[0mself\u001b[0m\u001b[1;33m.\u001b[0m\u001b[0mviewlim_to_dt\u001b[0m\u001b[1;33m(\u001b[0m\u001b[1;33m)\u001b[0m\u001b[1;33m\u001b[0m\u001b[1;33m\u001b[0m\u001b[0m\n\u001b[0m\u001b[0;32m   1365\u001b[0m         \u001b[0mself\u001b[0m\u001b[1;33m.\u001b[0m\u001b[0m_locator\u001b[0m \u001b[1;33m=\u001b[0m \u001b[0mself\u001b[0m\u001b[1;33m.\u001b[0m\u001b[0mget_locator\u001b[0m\u001b[1;33m(\u001b[0m\u001b[0mdmin\u001b[0m\u001b[1;33m,\u001b[0m \u001b[0mdmax\u001b[0m\u001b[1;33m)\u001b[0m\u001b[1;33m\u001b[0m\u001b[1;33m\u001b[0m\u001b[0m\n\u001b[0;32m   1366\u001b[0m \u001b[1;33m\u001b[0m\u001b[0m\n",
      "\u001b[1;32m~\\Anaconda3\\lib\\site-packages\\matplotlib\\dates.py\u001b[0m in \u001b[0;36mviewlim_to_dt\u001b[1;34m(self)\u001b[0m\n\u001b[0;32m   1096\u001b[0m                              \u001b[1;34m'often happens if you pass a non-datetime '\u001b[0m\u001b[1;33m\u001b[0m\u001b[1;33m\u001b[0m\u001b[0m\n\u001b[0;32m   1097\u001b[0m                              \u001b[1;34m'value to an axis that has datetime units'\u001b[0m\u001b[1;33m\u001b[0m\u001b[1;33m\u001b[0m\u001b[0m\n\u001b[1;32m-> 1098\u001b[1;33m                              .format(vmin))\n\u001b[0m\u001b[0;32m   1099\u001b[0m         \u001b[1;32mreturn\u001b[0m \u001b[0mnum2date\u001b[0m\u001b[1;33m(\u001b[0m\u001b[0mvmin\u001b[0m\u001b[1;33m,\u001b[0m \u001b[0mself\u001b[0m\u001b[1;33m.\u001b[0m\u001b[0mtz\u001b[0m\u001b[1;33m)\u001b[0m\u001b[1;33m,\u001b[0m \u001b[0mnum2date\u001b[0m\u001b[1;33m(\u001b[0m\u001b[0mvmax\u001b[0m\u001b[1;33m,\u001b[0m \u001b[0mself\u001b[0m\u001b[1;33m.\u001b[0m\u001b[0mtz\u001b[0m\u001b[1;33m)\u001b[0m\u001b[1;33m\u001b[0m\u001b[1;33m\u001b[0m\u001b[0m\n\u001b[0;32m   1100\u001b[0m \u001b[1;33m\u001b[0m\u001b[0m\n",
      "\u001b[1;31mValueError\u001b[0m: view limit minimum -36814.950000000004 is less than 1 and is an invalid Matplotlib date value. This often happens if you pass a non-datetime value to an axis that has datetime units"
     ]
    }
   ],
   "source": [
    "# from sklearn.metrics import mean_squared_error,r2_score\n",
    "# import itertools\n",
    "# import warnings\n",
    "# import sys\n",
    "# from statsmodels.tsa.statespace.varmax import VARMAX\n",
    "\n",
    "\n",
    "# # Define the p, d and q parameters to take any value between 0 and 2\n",
    "# a = b = range(0, 6)\n",
    "\n",
    "# # Generate all different combinations of p, q and q triplets\n",
    "# ab = list(itertools.product(a, b))\n",
    "# best_ab = ab\n",
    "# best_r2 = -2\n",
    "# warnings.filterwarnings(\"ignore\") # specify to ignore warning messages\n",
    "# for param in ab:\n",
    "#     history = [x for x in train]\n",
    "#     predictions = list()\n",
    "#     print(param)\n",
    "#     try:   # some parametercombinations might lead to crash, so catch exceptions and continue\n",
    "#         # fit model\n",
    "#         model = VARMAX(train.values, order=param)\n",
    "#         model_fit = model.fit(disp=False)\n",
    "#         # make prediction\n",
    "#         output = model_fit.forecast(steps=n_test_entries)\n",
    "#         output_y = output[:,0]\n",
    "# #         yt = output[0]\n",
    "# #         predictions.append(yt)\n",
    "# #         obs = test[t]\n",
    "# #         history.append(yt)\n",
    "#         r2 = r2_score(test_y,output_y)\n",
    "        \n",
    "#         print('R square: ' + str(r2))    \n",
    "#         if r2 > best_r2:\n",
    "#             best_r2 = r2\n",
    "#             best_ab = param\n",
    "#             best_predictions = output_y\n",
    "            \n",
    "#     except Exception as e:\n",
    "#         print(e)\n",
    "#         continue\n",
    "   \n",
    "# # plot\n",
    "# print('Best R2 = ' + str(best_r2))\n",
    "# print(best_ab)\n",
    "# plt.plot(test,color='blue')\n",
    "# plt.plot(best_predictions, color='red')\n",
    "# plt.show()"
   ]
  },
  {
   "cell_type": "code",
   "execution_count": 12,
   "metadata": {},
   "outputs": [
    {
     "name": "stderr",
     "output_type": "stream",
     "text": [
      "C:\\Users\\Emiel\\Anaconda3\\lib\\site-packages\\statsmodels\\tools\\_testing.py:19: FutureWarning: pandas.util.testing is deprecated. Use the functions in the public API at pandas.testing instead.\n",
      "  import pandas.util.testing as tm\n"
     ]
    },
    {
     "name": "stdout",
     "output_type": "stream",
     "text": [
      "(0, 1)\n",
      "R square: 0.030933900799416603\n",
      "(0, 2)\n",
      "R square: 0.09266041590040064\n",
      "(0, 3)\n",
      "R square: 0.11412763137772963\n",
      "(0, 4)\n",
      "R square: -0.09443827131159721\n",
      "(0, 5)\n",
      "R square: 0.1725238050736374\n",
      "(1, 1)\n",
      "R square: 0.038282751730094655\n",
      "(1, 2)\n",
      "R square: -0.11419246924112603\n",
      "(1, 3)\n",
      "R square: -0.15603492158477272\n",
      "(1, 4)\n",
      "R square: 0.024948351022235915\n",
      "(1, 5)\n"
     ]
    },
    {
     "ename": "LinAlgError",
     "evalue": "Schur decomposition solver error.",
     "output_type": "error",
     "traceback": [
      "\u001b[1;31m---------------------------------------------------------------------------\u001b[0m",
      "\u001b[1;31mLinAlgError\u001b[0m                               Traceback (most recent call last)",
      "\u001b[1;32m<ipython-input-12-42bb5302d039>\u001b[0m in \u001b[0;36m<module>\u001b[1;34m\u001b[0m\n\u001b[0;32m     21\u001b[0m     \u001b[1;31m# fit model\u001b[0m\u001b[1;33m\u001b[0m\u001b[1;33m\u001b[0m\u001b[1;33m\u001b[0m\u001b[0m\n\u001b[0;32m     22\u001b[0m     \u001b[0mmodel\u001b[0m \u001b[1;33m=\u001b[0m \u001b[0mVARMAX\u001b[0m\u001b[1;33m(\u001b[0m\u001b[0mtrain\u001b[0m\u001b[1;33m.\u001b[0m\u001b[0mvalues\u001b[0m\u001b[1;33m,\u001b[0m \u001b[0morder\u001b[0m\u001b[1;33m=\u001b[0m\u001b[0mparam\u001b[0m\u001b[1;33m)\u001b[0m\u001b[1;33m\u001b[0m\u001b[1;33m\u001b[0m\u001b[0m\n\u001b[1;32m---> 23\u001b[1;33m     \u001b[0mmodel_fit\u001b[0m \u001b[1;33m=\u001b[0m \u001b[0mmodel\u001b[0m\u001b[1;33m.\u001b[0m\u001b[0mfit\u001b[0m\u001b[1;33m(\u001b[0m\u001b[0mdisp\u001b[0m\u001b[1;33m=\u001b[0m\u001b[1;32mFalse\u001b[0m\u001b[1;33m)\u001b[0m\u001b[1;33m\u001b[0m\u001b[1;33m\u001b[0m\u001b[0m\n\u001b[0m\u001b[0;32m     24\u001b[0m     \u001b[1;31m# make prediction\u001b[0m\u001b[1;33m\u001b[0m\u001b[1;33m\u001b[0m\u001b[1;33m\u001b[0m\u001b[0m\n\u001b[0;32m     25\u001b[0m     \u001b[0moutput\u001b[0m \u001b[1;33m=\u001b[0m \u001b[0mmodel_fit\u001b[0m\u001b[1;33m.\u001b[0m\u001b[0mforecast\u001b[0m\u001b[1;33m(\u001b[0m\u001b[0msteps\u001b[0m\u001b[1;33m=\u001b[0m\u001b[0mn_test_entries\u001b[0m\u001b[1;33m)\u001b[0m\u001b[1;33m\u001b[0m\u001b[1;33m\u001b[0m\u001b[0m\n",
      "\u001b[1;32m~\\Anaconda3\\lib\\site-packages\\statsmodels\\tsa\\statespace\\mlemodel.py\u001b[0m in \u001b[0;36mfit\u001b[1;34m(self, start_params, transformed, cov_type, cov_kwds, method, maxiter, full_output, disp, callback, return_params, optim_score, optim_complex_step, optim_hessian, flags, **kwargs)\u001b[0m\n\u001b[0;32m    480\u001b[0m                                            \u001b[0mfull_output\u001b[0m\u001b[1;33m=\u001b[0m\u001b[0mfull_output\u001b[0m\u001b[1;33m,\u001b[0m\u001b[1;33m\u001b[0m\u001b[1;33m\u001b[0m\u001b[0m\n\u001b[0;32m    481\u001b[0m                                            \u001b[0mdisp\u001b[0m\u001b[1;33m=\u001b[0m\u001b[0mdisp\u001b[0m\u001b[1;33m,\u001b[0m \u001b[0mcallback\u001b[0m\u001b[1;33m=\u001b[0m\u001b[0mcallback\u001b[0m\u001b[1;33m,\u001b[0m\u001b[1;33m\u001b[0m\u001b[1;33m\u001b[0m\u001b[0m\n\u001b[1;32m--> 482\u001b[1;33m                                            skip_hessian=True, **kwargs)\n\u001b[0m\u001b[0;32m    483\u001b[0m \u001b[1;33m\u001b[0m\u001b[0m\n\u001b[0;32m    484\u001b[0m         \u001b[1;31m# Just return the fitted parameters if requested\u001b[0m\u001b[1;33m\u001b[0m\u001b[1;33m\u001b[0m\u001b[1;33m\u001b[0m\u001b[0m\n",
      "\u001b[1;32m~\\Anaconda3\\lib\\site-packages\\statsmodels\\base\\model.py\u001b[0m in \u001b[0;36mfit\u001b[1;34m(self, start_params, method, maxiter, full_output, disp, fargs, callback, retall, skip_hessian, **kwargs)\u001b[0m\n\u001b[0;32m    468\u001b[0m                                                        \u001b[0mcallback\u001b[0m\u001b[1;33m=\u001b[0m\u001b[0mcallback\u001b[0m\u001b[1;33m,\u001b[0m\u001b[1;33m\u001b[0m\u001b[1;33m\u001b[0m\u001b[0m\n\u001b[0;32m    469\u001b[0m                                                        \u001b[0mretall\u001b[0m\u001b[1;33m=\u001b[0m\u001b[0mretall\u001b[0m\u001b[1;33m,\u001b[0m\u001b[1;33m\u001b[0m\u001b[1;33m\u001b[0m\u001b[0m\n\u001b[1;32m--> 470\u001b[1;33m                                                        full_output=full_output)\n\u001b[0m\u001b[0;32m    471\u001b[0m \u001b[1;33m\u001b[0m\u001b[0m\n\u001b[0;32m    472\u001b[0m         \u001b[1;31m# NOTE: this is for fit_regularized and should be generalized\u001b[0m\u001b[1;33m\u001b[0m\u001b[1;33m\u001b[0m\u001b[1;33m\u001b[0m\u001b[0m\n",
      "\u001b[1;32m~\\Anaconda3\\lib\\site-packages\\statsmodels\\base\\optimizer.py\u001b[0m in \u001b[0;36m_fit\u001b[1;34m(self, objective, gradient, start_params, fargs, kwargs, hessian, method, maxiter, full_output, disp, callback, retall)\u001b[0m\n\u001b[0;32m    217\u001b[0m                             \u001b[0mdisp\u001b[0m\u001b[1;33m=\u001b[0m\u001b[0mdisp\u001b[0m\u001b[1;33m,\u001b[0m \u001b[0mmaxiter\u001b[0m\u001b[1;33m=\u001b[0m\u001b[0mmaxiter\u001b[0m\u001b[1;33m,\u001b[0m \u001b[0mcallback\u001b[0m\u001b[1;33m=\u001b[0m\u001b[0mcallback\u001b[0m\u001b[1;33m,\u001b[0m\u001b[1;33m\u001b[0m\u001b[1;33m\u001b[0m\u001b[0m\n\u001b[0;32m    218\u001b[0m                             \u001b[0mretall\u001b[0m\u001b[1;33m=\u001b[0m\u001b[0mretall\u001b[0m\u001b[1;33m,\u001b[0m \u001b[0mfull_output\u001b[0m\u001b[1;33m=\u001b[0m\u001b[0mfull_output\u001b[0m\u001b[1;33m,\u001b[0m\u001b[1;33m\u001b[0m\u001b[1;33m\u001b[0m\u001b[0m\n\u001b[1;32m--> 219\u001b[1;33m                             hess=hessian)\n\u001b[0m\u001b[0;32m    220\u001b[0m \u001b[1;33m\u001b[0m\u001b[0m\n\u001b[0;32m    221\u001b[0m         optim_settings = {'optimizer': method, 'start_params': start_params,\n",
      "\u001b[1;32m~\\Anaconda3\\lib\\site-packages\\statsmodels\\base\\optimizer.py\u001b[0m in \u001b[0;36m_fit_lbfgs\u001b[1;34m(f, score, start_params, fargs, kwargs, disp, maxiter, callback, retall, full_output, hess)\u001b[0m\n\u001b[0;32m    437\u001b[0m                                      \u001b[0mcallback\u001b[0m\u001b[1;33m=\u001b[0m\u001b[0mcallback\u001b[0m\u001b[1;33m,\u001b[0m \u001b[0margs\u001b[0m\u001b[1;33m=\u001b[0m\u001b[0mfargs\u001b[0m\u001b[1;33m,\u001b[0m\u001b[1;33m\u001b[0m\u001b[1;33m\u001b[0m\u001b[0m\n\u001b[0;32m    438\u001b[0m                                      \u001b[0mbounds\u001b[0m\u001b[1;33m=\u001b[0m\u001b[0mbounds\u001b[0m\u001b[1;33m,\u001b[0m \u001b[0mdisp\u001b[0m\u001b[1;33m=\u001b[0m\u001b[0mdisp\u001b[0m\u001b[1;33m,\u001b[0m\u001b[1;33m\u001b[0m\u001b[1;33m\u001b[0m\u001b[0m\n\u001b[1;32m--> 439\u001b[1;33m                                      **extra_kwargs)\n\u001b[0m\u001b[0;32m    440\u001b[0m \u001b[1;33m\u001b[0m\u001b[0m\n\u001b[0;32m    441\u001b[0m     \u001b[1;32mif\u001b[0m \u001b[0mfull_output\u001b[0m\u001b[1;33m:\u001b[0m\u001b[1;33m\u001b[0m\u001b[1;33m\u001b[0m\u001b[0m\n",
      "\u001b[1;32m~\\Anaconda3\\lib\\site-packages\\scipy\\optimize\\lbfgsb.py\u001b[0m in \u001b[0;36mfmin_l_bfgs_b\u001b[1;34m(func, x0, fprime, args, approx_grad, bounds, m, factr, pgtol, epsilon, iprint, maxfun, maxiter, disp, callback, maxls)\u001b[0m\n\u001b[0;32m    197\u001b[0m \u001b[1;33m\u001b[0m\u001b[0m\n\u001b[0;32m    198\u001b[0m     res = _minimize_lbfgsb(fun, x0, args=args, jac=jac, bounds=bounds,\n\u001b[1;32m--> 199\u001b[1;33m                            **opts)\n\u001b[0m\u001b[0;32m    200\u001b[0m     d = {'grad': res['jac'],\n\u001b[0;32m    201\u001b[0m          \u001b[1;34m'task'\u001b[0m\u001b[1;33m:\u001b[0m \u001b[0mres\u001b[0m\u001b[1;33m[\u001b[0m\u001b[1;34m'message'\u001b[0m\u001b[1;33m]\u001b[0m\u001b[1;33m,\u001b[0m\u001b[1;33m\u001b[0m\u001b[1;33m\u001b[0m\u001b[0m\n",
      "\u001b[1;32m~\\Anaconda3\\lib\\site-packages\\scipy\\optimize\\lbfgsb.py\u001b[0m in \u001b[0;36m_minimize_lbfgsb\u001b[1;34m(fun, x0, args, jac, bounds, disp, maxcor, ftol, gtol, eps, maxfun, maxiter, iprint, callback, maxls, **unknown_options)\u001b[0m\n\u001b[0;32m    343\u001b[0m             \u001b[1;31m# until the completion of the current minimization iteration.\u001b[0m\u001b[1;33m\u001b[0m\u001b[1;33m\u001b[0m\u001b[1;33m\u001b[0m\u001b[0m\n\u001b[0;32m    344\u001b[0m             \u001b[1;31m# Overwrite f and g:\u001b[0m\u001b[1;33m\u001b[0m\u001b[1;33m\u001b[0m\u001b[1;33m\u001b[0m\u001b[0m\n\u001b[1;32m--> 345\u001b[1;33m             \u001b[0mf\u001b[0m\u001b[1;33m,\u001b[0m \u001b[0mg\u001b[0m \u001b[1;33m=\u001b[0m \u001b[0mfunc_and_grad\u001b[0m\u001b[1;33m(\u001b[0m\u001b[0mx\u001b[0m\u001b[1;33m)\u001b[0m\u001b[1;33m\u001b[0m\u001b[1;33m\u001b[0m\u001b[0m\n\u001b[0m\u001b[0;32m    346\u001b[0m         \u001b[1;32melif\u001b[0m \u001b[0mtask_str\u001b[0m\u001b[1;33m.\u001b[0m\u001b[0mstartswith\u001b[0m\u001b[1;33m(\u001b[0m\u001b[1;34mb'NEW_X'\u001b[0m\u001b[1;33m)\u001b[0m\u001b[1;33m:\u001b[0m\u001b[1;33m\u001b[0m\u001b[1;33m\u001b[0m\u001b[0m\n\u001b[0;32m    347\u001b[0m             \u001b[1;31m# new iteration\u001b[0m\u001b[1;33m\u001b[0m\u001b[1;33m\u001b[0m\u001b[1;33m\u001b[0m\u001b[0m\n",
      "\u001b[1;32m~\\Anaconda3\\lib\\site-packages\\scipy\\optimize\\lbfgsb.py\u001b[0m in \u001b[0;36mfunc_and_grad\u001b[1;34m(x)\u001b[0m\n\u001b[0;32m    288\u001b[0m     \u001b[1;32mif\u001b[0m \u001b[0mjac\u001b[0m \u001b[1;32mis\u001b[0m \u001b[1;32mNone\u001b[0m\u001b[1;33m:\u001b[0m\u001b[1;33m\u001b[0m\u001b[1;33m\u001b[0m\u001b[0m\n\u001b[0;32m    289\u001b[0m         \u001b[1;32mdef\u001b[0m \u001b[0mfunc_and_grad\u001b[0m\u001b[1;33m(\u001b[0m\u001b[0mx\u001b[0m\u001b[1;33m)\u001b[0m\u001b[1;33m:\u001b[0m\u001b[1;33m\u001b[0m\u001b[1;33m\u001b[0m\u001b[0m\n\u001b[1;32m--> 290\u001b[1;33m             \u001b[0mf\u001b[0m \u001b[1;33m=\u001b[0m \u001b[0mfun\u001b[0m\u001b[1;33m(\u001b[0m\u001b[0mx\u001b[0m\u001b[1;33m,\u001b[0m \u001b[1;33m*\u001b[0m\u001b[0margs\u001b[0m\u001b[1;33m)\u001b[0m\u001b[1;33m\u001b[0m\u001b[1;33m\u001b[0m\u001b[0m\n\u001b[0m\u001b[0;32m    291\u001b[0m             \u001b[0mg\u001b[0m \u001b[1;33m=\u001b[0m \u001b[0m_approx_fprime_helper\u001b[0m\u001b[1;33m(\u001b[0m\u001b[0mx\u001b[0m\u001b[1;33m,\u001b[0m \u001b[0mfun\u001b[0m\u001b[1;33m,\u001b[0m \u001b[0mepsilon\u001b[0m\u001b[1;33m,\u001b[0m \u001b[0margs\u001b[0m\u001b[1;33m=\u001b[0m\u001b[0margs\u001b[0m\u001b[1;33m,\u001b[0m \u001b[0mf0\u001b[0m\u001b[1;33m=\u001b[0m\u001b[0mf\u001b[0m\u001b[1;33m)\u001b[0m\u001b[1;33m\u001b[0m\u001b[1;33m\u001b[0m\u001b[0m\n\u001b[0;32m    292\u001b[0m             \u001b[1;32mreturn\u001b[0m \u001b[0mf\u001b[0m\u001b[1;33m,\u001b[0m \u001b[0mg\u001b[0m\u001b[1;33m\u001b[0m\u001b[1;33m\u001b[0m\u001b[0m\n",
      "\u001b[1;32m~\\Anaconda3\\lib\\site-packages\\scipy\\optimize\\optimize.py\u001b[0m in \u001b[0;36mfunction_wrapper\u001b[1;34m(*wrapper_args)\u001b[0m\n\u001b[0;32m    325\u001b[0m     \u001b[1;32mdef\u001b[0m \u001b[0mfunction_wrapper\u001b[0m\u001b[1;33m(\u001b[0m\u001b[1;33m*\u001b[0m\u001b[0mwrapper_args\u001b[0m\u001b[1;33m)\u001b[0m\u001b[1;33m:\u001b[0m\u001b[1;33m\u001b[0m\u001b[1;33m\u001b[0m\u001b[0m\n\u001b[0;32m    326\u001b[0m         \u001b[0mncalls\u001b[0m\u001b[1;33m[\u001b[0m\u001b[1;36m0\u001b[0m\u001b[1;33m]\u001b[0m \u001b[1;33m+=\u001b[0m \u001b[1;36m1\u001b[0m\u001b[1;33m\u001b[0m\u001b[1;33m\u001b[0m\u001b[0m\n\u001b[1;32m--> 327\u001b[1;33m         \u001b[1;32mreturn\u001b[0m \u001b[0mfunction\u001b[0m\u001b[1;33m(\u001b[0m\u001b[1;33m*\u001b[0m\u001b[1;33m(\u001b[0m\u001b[0mwrapper_args\u001b[0m \u001b[1;33m+\u001b[0m \u001b[0margs\u001b[0m\u001b[1;33m)\u001b[0m\u001b[1;33m)\u001b[0m\u001b[1;33m\u001b[0m\u001b[1;33m\u001b[0m\u001b[0m\n\u001b[0m\u001b[0;32m    328\u001b[0m \u001b[1;33m\u001b[0m\u001b[0m\n\u001b[0;32m    329\u001b[0m     \u001b[1;32mreturn\u001b[0m \u001b[0mncalls\u001b[0m\u001b[1;33m,\u001b[0m \u001b[0mfunction_wrapper\u001b[0m\u001b[1;33m\u001b[0m\u001b[1;33m\u001b[0m\u001b[0m\n",
      "\u001b[1;32m~\\Anaconda3\\lib\\site-packages\\statsmodels\\base\\model.py\u001b[0m in \u001b[0;36mf\u001b[1;34m(params, *args)\u001b[0m\n\u001b[0;32m    442\u001b[0m \u001b[1;33m\u001b[0m\u001b[0m\n\u001b[0;32m    443\u001b[0m         \u001b[1;32mdef\u001b[0m \u001b[0mf\u001b[0m\u001b[1;33m(\u001b[0m\u001b[0mparams\u001b[0m\u001b[1;33m,\u001b[0m \u001b[1;33m*\u001b[0m\u001b[0margs\u001b[0m\u001b[1;33m)\u001b[0m\u001b[1;33m:\u001b[0m\u001b[1;33m\u001b[0m\u001b[1;33m\u001b[0m\u001b[0m\n\u001b[1;32m--> 444\u001b[1;33m             \u001b[1;32mreturn\u001b[0m \u001b[1;33m-\u001b[0m\u001b[0mself\u001b[0m\u001b[1;33m.\u001b[0m\u001b[0mloglike\u001b[0m\u001b[1;33m(\u001b[0m\u001b[0mparams\u001b[0m\u001b[1;33m,\u001b[0m \u001b[1;33m*\u001b[0m\u001b[0margs\u001b[0m\u001b[1;33m)\u001b[0m \u001b[1;33m/\u001b[0m \u001b[0mnobs\u001b[0m\u001b[1;33m\u001b[0m\u001b[1;33m\u001b[0m\u001b[0m\n\u001b[0m\u001b[0;32m    445\u001b[0m \u001b[1;33m\u001b[0m\u001b[0m\n\u001b[0;32m    446\u001b[0m         \u001b[1;32mif\u001b[0m \u001b[0mmethod\u001b[0m \u001b[1;33m==\u001b[0m \u001b[1;34m'newton'\u001b[0m\u001b[1;33m:\u001b[0m\u001b[1;33m\u001b[0m\u001b[1;33m\u001b[0m\u001b[0m\n",
      "\u001b[1;32m~\\Anaconda3\\lib\\site-packages\\statsmodels\\tsa\\statespace\\mlemodel.py\u001b[0m in \u001b[0;36mloglike\u001b[1;34m(self, params, *args, **kwargs)\u001b[0m\n\u001b[0;32m    657\u001b[0m             \u001b[0mkwargs\u001b[0m\u001b[1;33m[\u001b[0m\u001b[1;34m'inversion_method'\u001b[0m\u001b[1;33m]\u001b[0m \u001b[1;33m=\u001b[0m \u001b[0mINVERT_UNIVARIATE\u001b[0m \u001b[1;33m|\u001b[0m \u001b[0mSOLVE_LU\u001b[0m\u001b[1;33m\u001b[0m\u001b[1;33m\u001b[0m\u001b[0m\n\u001b[0;32m    658\u001b[0m \u001b[1;33m\u001b[0m\u001b[0m\n\u001b[1;32m--> 659\u001b[1;33m         \u001b[0mloglike\u001b[0m \u001b[1;33m=\u001b[0m \u001b[0mself\u001b[0m\u001b[1;33m.\u001b[0m\u001b[0mssm\u001b[0m\u001b[1;33m.\u001b[0m\u001b[0mloglike\u001b[0m\u001b[1;33m(\u001b[0m\u001b[0mcomplex_step\u001b[0m\u001b[1;33m=\u001b[0m\u001b[0mcomplex_step\u001b[0m\u001b[1;33m,\u001b[0m \u001b[1;33m**\u001b[0m\u001b[0mkwargs\u001b[0m\u001b[1;33m)\u001b[0m\u001b[1;33m\u001b[0m\u001b[1;33m\u001b[0m\u001b[0m\n\u001b[0m\u001b[0;32m    660\u001b[0m \u001b[1;33m\u001b[0m\u001b[0m\n\u001b[0;32m    661\u001b[0m         \u001b[1;31m# Koopman, Shephard, and Doornik recommend maximizing the average\u001b[0m\u001b[1;33m\u001b[0m\u001b[1;33m\u001b[0m\u001b[1;33m\u001b[0m\u001b[0m\n",
      "\u001b[1;32m~\\Anaconda3\\lib\\site-packages\\statsmodels\\tsa\\statespace\\kalman_filter.py\u001b[0m in \u001b[0;36mloglike\u001b[1;34m(self, **kwargs)\u001b[0m\n\u001b[0;32m    873\u001b[0m                                ' MEMORY_NO_LIKELIHOOD option is selected.')\n\u001b[0;32m    874\u001b[0m         \u001b[0mkwargs\u001b[0m\u001b[1;33m[\u001b[0m\u001b[1;34m'conserve_memory'\u001b[0m\u001b[1;33m]\u001b[0m \u001b[1;33m=\u001b[0m \u001b[0mMEMORY_CONSERVE\u001b[0m \u001b[1;33m^\u001b[0m \u001b[0mMEMORY_NO_LIKELIHOOD\u001b[0m\u001b[1;33m\u001b[0m\u001b[1;33m\u001b[0m\u001b[0m\n\u001b[1;32m--> 875\u001b[1;33m         \u001b[0mkfilter\u001b[0m \u001b[1;33m=\u001b[0m \u001b[0mself\u001b[0m\u001b[1;33m.\u001b[0m\u001b[0m_filter\u001b[0m\u001b[1;33m(\u001b[0m\u001b[1;33m**\u001b[0m\u001b[0mkwargs\u001b[0m\u001b[1;33m)\u001b[0m\u001b[1;33m\u001b[0m\u001b[1;33m\u001b[0m\u001b[0m\n\u001b[0m\u001b[0;32m    876\u001b[0m         loglikelihood_burn = kwargs.get('loglikelihood_burn',\n\u001b[0;32m    877\u001b[0m                                         self.loglikelihood_burn)\n",
      "\u001b[1;32m~\\Anaconda3\\lib\\site-packages\\statsmodels\\tsa\\statespace\\kalman_filter.py\u001b[0m in \u001b[0;36m_filter\u001b[1;34m(self, filter_method, inversion_method, stability_method, conserve_memory, filter_timing, tolerance, loglikelihood_burn, complex_step)\u001b[0m\n\u001b[0;32m    797\u001b[0m \u001b[1;33m\u001b[0m\u001b[0m\n\u001b[0;32m    798\u001b[0m         \u001b[1;31m# Initialize the state\u001b[0m\u001b[1;33m\u001b[0m\u001b[1;33m\u001b[0m\u001b[1;33m\u001b[0m\u001b[0m\n\u001b[1;32m--> 799\u001b[1;33m         \u001b[0mself\u001b[0m\u001b[1;33m.\u001b[0m\u001b[0m_initialize_state\u001b[0m\u001b[1;33m(\u001b[0m\u001b[0mprefix\u001b[0m\u001b[1;33m=\u001b[0m\u001b[0mprefix\u001b[0m\u001b[1;33m,\u001b[0m \u001b[0mcomplex_step\u001b[0m\u001b[1;33m=\u001b[0m\u001b[0mcomplex_step\u001b[0m\u001b[1;33m)\u001b[0m\u001b[1;33m\u001b[0m\u001b[1;33m\u001b[0m\u001b[0m\n\u001b[0m\u001b[0;32m    800\u001b[0m \u001b[1;33m\u001b[0m\u001b[0m\n\u001b[0;32m    801\u001b[0m         \u001b[1;31m# Run the filter\u001b[0m\u001b[1;33m\u001b[0m\u001b[1;33m\u001b[0m\u001b[1;33m\u001b[0m\u001b[0m\n",
      "\u001b[1;32m~\\Anaconda3\\lib\\site-packages\\statsmodels\\tsa\\statespace\\representation.py\u001b[0m in \u001b[0;36m_initialize_state\u001b[1;34m(self, prefix, complex_step)\u001b[0m\n\u001b[0;32m    759\u001b[0m                 \u001b[1;32mraise\u001b[0m \u001b[0mRuntimeError\u001b[0m\u001b[1;33m(\u001b[0m\u001b[1;34m'Initialization is incomplete.'\u001b[0m\u001b[1;33m)\u001b[0m\u001b[1;33m\u001b[0m\u001b[1;33m\u001b[0m\u001b[0m\n\u001b[0;32m    760\u001b[0m             self._statespaces[prefix].initialize(self.initialization,\n\u001b[1;32m--> 761\u001b[1;33m                                                  complex_step=complex_step)\n\u001b[0m\u001b[0;32m    762\u001b[0m         \u001b[1;32melse\u001b[0m\u001b[1;33m:\u001b[0m\u001b[1;33m\u001b[0m\u001b[1;33m\u001b[0m\u001b[0m\n\u001b[0;32m    763\u001b[0m             \u001b[1;32mraise\u001b[0m \u001b[0mRuntimeError\u001b[0m\u001b[1;33m(\u001b[0m\u001b[1;34m'Statespace model not initialized.'\u001b[0m\u001b[1;33m)\u001b[0m\u001b[1;33m\u001b[0m\u001b[1;33m\u001b[0m\u001b[0m\n",
      "\u001b[1;32mstatsmodels\\tsa\\statespace\\_representation.pyx\u001b[0m in \u001b[0;36mstatsmodels.tsa.statespace._representation.dStatespace.initialize\u001b[1;34m()\u001b[0m\n",
      "\u001b[1;32mstatsmodels\\tsa\\statespace\\_initialization.pyx\u001b[0m in \u001b[0;36mstatsmodels.tsa.statespace._initialization.dInitialization.initialize\u001b[1;34m()\u001b[0m\n",
      "\u001b[1;32mstatsmodels\\tsa\\statespace\\_initialization.pyx\u001b[0m in \u001b[0;36mstatsmodels.tsa.statespace._initialization.dInitialization.initialize_stationary_stationary_cov\u001b[1;34m()\u001b[0m\n",
      "\u001b[1;32mstatsmodels\\tsa\\statespace\\_tools.pyx\u001b[0m in \u001b[0;36mstatsmodels.tsa.statespace._tools._dsolve_discrete_lyapunov\u001b[1;34m()\u001b[0m\n",
      "\u001b[1;31mLinAlgError\u001b[0m: Schur decomposition solver error."
     ]
    }
   ],
   "source": [
    "from sklearn.metrics import mean_squared_error,r2_score\n",
    "import itertools\n",
    "import warnings\n",
    "import sys\n",
    "from statsmodels.tsa.statespace.varmax import VARMAX\n",
    "\n",
    "\n",
    "# Define the p, d and q parameters to take any value between 0 and 2\n",
    "a = range(0, 6)\n",
    "b =  range(1, 6)\n",
    "\n",
    "# Generate all different combinations of p, q and q triplets\n",
    "ab = list(itertools.product(a, b))\n",
    "best_ab = ab\n",
    "best_r2 = -2\n",
    "warnings.filterwarnings(\"ignore\") # specify to ignore warning messages\n",
    "for param in ab:\n",
    "    history = [x for x in train]\n",
    "    predictions = list()\n",
    "    print(param)\n",
    "    # fit model\n",
    "    model = VARMAX(train.values, order=param)\n",
    "    model_fit = model.fit(disp=False)\n",
    "    # make prediction\n",
    "    output = model_fit.forecast(steps=n_test_entries)\n",
    "    output_y = output[:,0]\n",
    "#         yt = output[0]\n",
    "#         predictions.append(yt)\n",
    "#         obs = test[t]\n",
    "#         history.append(yt)\n",
    "    r2 = r2_score(test_y,output_y)\n",
    "\n",
    "    print('R square: ' + str(r2))    \n",
    "    if r2 > best_r2:\n",
    "        best_r2 = r2\n",
    "        best_ab = param\n",
    "        best_predictions = output_y\n",
    "\n",
    "#     print(e)\n",
    "#     continue\n",
    "   \n",
    "# plot\n",
    "print('Best R2 = ' + str(best_r2))\n",
    "print(best_ab)\n",
    "plt.plot(test,color='blue')\n",
    "plt.plot(best_predictions, color='red')\n",
    "plt.show()"
   ]
  },
  {
   "cell_type": "code",
   "execution_count": 32,
   "metadata": {},
   "outputs": [
    {
     "name": "stdout",
     "output_type": "stream",
     "text": [
      "Wall time: 25.8 s\n"
     ]
    }
   ],
   "source": [
    "%%time\n",
    "\n",
    "from statsmodels.tsa.statespace.varmax import VARMAX\n",
    "    \n",
    "# fit model\n",
    "model = VARMAX(train.values, order=(0, 1))\n",
    "model_fit = model.fit(disp=False)\n",
    "# make prediction\n",
    "yhat = model_fit.forecast(steps=n_test_entries)\n",
    "predictions_y = yhat[:,0]"
   ]
  },
  {
   "cell_type": "code",
   "execution_count": 29,
   "metadata": {},
   "outputs": [
    {
     "name": "stdout",
     "output_type": "stream",
     "text": [
      "\n",
      "Test RMSPE: 1491.483\n",
      "R square: 0.038282751730094655\n"
     ]
    }
   ],
   "source": [
    "print()\n",
    "rmspe_VARMAX = calc_rmspe(test_y, predictions_y)\n",
    "print('Test RMSPE: %.3f' % rmspe_VARMAX)\n",
    "r2_VARMAX = r2_score(test_y,predictions_y)\n",
    "print('R square: ' + str(r2_VARMAX))  "
   ]
  },
  {
   "cell_type": "code",
   "execution_count": 11,
   "metadata": {},
   "outputs": [
    {
     "ename": "NameError",
     "evalue": "name 'tsuv' is not defined",
     "output_type": "error",
     "traceback": [
      "\u001b[1;31m---------------------------------------------------------------------------\u001b[0m",
      "\u001b[1;31mNameError\u001b[0m                                 Traceback (most recent call last)",
      "\u001b[1;32m<ipython-input-11-306ebd5284d7>\u001b[0m in \u001b[0;36m<module>\u001b[1;34m\u001b[0m\n\u001b[0;32m     13\u001b[0m     \u001b[0mplt\u001b[0m\u001b[1;33m.\u001b[0m\u001b[0mshow\u001b[0m\u001b[1;33m(\u001b[0m\u001b[0mblock\u001b[0m\u001b[1;33m=\u001b[0m\u001b[1;32mFalse\u001b[0m\u001b[1;33m)\u001b[0m\u001b[1;33m\u001b[0m\u001b[1;33m\u001b[0m\u001b[0m\n\u001b[0;32m     14\u001b[0m \u001b[1;33m\u001b[0m\u001b[0m\n\u001b[1;32m---> 15\u001b[1;33m \u001b[0mtest_stationarity\u001b[0m\u001b[1;33m(\u001b[0m\u001b[0mtsuv\u001b[0m\u001b[1;33m)\u001b[0m\u001b[1;33m\u001b[0m\u001b[1;33m\u001b[0m\u001b[0m\n\u001b[0m",
      "\u001b[1;31mNameError\u001b[0m: name 'tsuv' is not defined"
     ]
    }
   ],
   "source": [
    "# def test_stationarity(timeseries):\n",
    "    \n",
    "#     #Determing rolling statistics\n",
    "#     rolmean = timeseries.rolling(12).mean()\n",
    "#     rolstd = timeseries.rolling(12).std()\n",
    "\n",
    "#     #Plot rolling statistics:\n",
    "#     orig = plt.plot(timeseries, color='blue',label='Original')\n",
    "#     mean = plt.plot(rolmean, color='red', label='Rolling Mean')\n",
    "#     std = plt.plot(rolstd, color='black', label = 'Rolling Std')\n",
    "#     plt.legend(loc='best')\n",
    "#     plt.title('Rolling Mean & Standard Deviation')\n",
    "#     plt.show(block=False)\n",
    "    \n",
    "# test_stationarity(tsuv)"
   ]
  },
  {
   "cell_type": "code",
   "execution_count": 12,
   "metadata": {},
   "outputs": [
    {
     "ename": "NameError",
     "evalue": "name 'tsuv' is not defined",
     "output_type": "error",
     "traceback": [
      "\u001b[1;31m---------------------------------------------------------------------------\u001b[0m",
      "\u001b[1;31mNameError\u001b[0m                                 Traceback (most recent call last)",
      "\u001b[1;32m<ipython-input-12-efc7b24d4f19>\u001b[0m in \u001b[0;36m<module>\u001b[1;34m\u001b[0m\n\u001b[1;32m----> 1\u001b[1;33m \u001b[0mmoving_avg\u001b[0m \u001b[1;33m=\u001b[0m \u001b[0mtsuv\u001b[0m\u001b[1;33m.\u001b[0m\u001b[0mrolling\u001b[0m\u001b[1;33m(\u001b[0m\u001b[1;36m12\u001b[0m\u001b[1;33m)\u001b[0m\u001b[1;33m.\u001b[0m\u001b[0mmean\u001b[0m\u001b[1;33m(\u001b[0m\u001b[1;33m)\u001b[0m\u001b[1;33m\u001b[0m\u001b[1;33m\u001b[0m\u001b[0m\n\u001b[0m\u001b[0;32m      2\u001b[0m \u001b[0mts_moving_avg_diff\u001b[0m \u001b[1;33m=\u001b[0m \u001b[0mtsuv\u001b[0m \u001b[1;33m-\u001b[0m \u001b[0mmoving_avg\u001b[0m\u001b[1;33m\u001b[0m\u001b[1;33m\u001b[0m\u001b[0m\n\u001b[0;32m      3\u001b[0m \u001b[0mts_moving_avg_diff\u001b[0m\u001b[1;33m.\u001b[0m\u001b[0mhead\u001b[0m\u001b[1;33m(\u001b[0m\u001b[1;36m12\u001b[0m\u001b[1;33m)\u001b[0m\u001b[1;33m\u001b[0m\u001b[1;33m\u001b[0m\u001b[0m\n",
      "\u001b[1;31mNameError\u001b[0m: name 'tsuv' is not defined"
     ]
    }
   ],
   "source": [
    "# moving_avg = tsuv.rolling(12).mean()\n",
    "# ts_moving_avg_diff = tsuv - moving_avg\n",
    "# ts_moving_avg_diff.head(12)"
   ]
  },
  {
   "cell_type": "code",
   "execution_count": 13,
   "metadata": {},
   "outputs": [
    {
     "ename": "NameError",
     "evalue": "name 'ts_moving_avg_diff' is not defined",
     "output_type": "error",
     "traceback": [
      "\u001b[1;31m---------------------------------------------------------------------------\u001b[0m",
      "\u001b[1;31mNameError\u001b[0m                                 Traceback (most recent call last)",
      "\u001b[1;32m<ipython-input-13-caaac63029b3>\u001b[0m in \u001b[0;36m<module>\u001b[1;34m\u001b[0m\n\u001b[0;32m      1\u001b[0m \u001b[1;31m# Lets drop these NaN values and check the plots to test stationarity by\u001b[0m\u001b[1;33m\u001b[0m\u001b[1;33m\u001b[0m\u001b[1;33m\u001b[0m\u001b[0m\n\u001b[0;32m      2\u001b[0m \u001b[1;31m# using the function \"test_stationarity\" we defined earlier\u001b[0m\u001b[1;33m\u001b[0m\u001b[1;33m\u001b[0m\u001b[1;33m\u001b[0m\u001b[0m\n\u001b[1;32m----> 3\u001b[1;33m \u001b[0mts_moving_avg_diff\u001b[0m\u001b[1;33m.\u001b[0m\u001b[0mdropna\u001b[0m\u001b[1;33m(\u001b[0m\u001b[0minplace\u001b[0m\u001b[1;33m=\u001b[0m\u001b[1;32mTrue\u001b[0m\u001b[1;33m)\u001b[0m\u001b[1;33m\u001b[0m\u001b[1;33m\u001b[0m\u001b[0m\n\u001b[0m\u001b[0;32m      4\u001b[0m \u001b[0mtest_stationarity\u001b[0m\u001b[1;33m(\u001b[0m\u001b[0mts_moving_avg_diff\u001b[0m\u001b[1;33m)\u001b[0m\u001b[1;33m\u001b[0m\u001b[1;33m\u001b[0m\u001b[0m\n",
      "\u001b[1;31mNameError\u001b[0m: name 'ts_moving_avg_diff' is not defined"
     ]
    }
   ],
   "source": [
    "# # Lets drop these NaN values and check the plots to test stationarity by \n",
    "# # using the function \"test_stationarity\" we defined earlier\n",
    "# ts_moving_avg_diff.dropna(inplace=True)\n",
    "# test_stationarity(ts_moving_avg_diff)"
   ]
  },
  {
   "cell_type": "code",
   "execution_count": 16,
   "metadata": {},
   "outputs": [
    {
     "name": "stderr",
     "output_type": "stream",
     "text": [
      "C:\\Users\\Emiel\\Anaconda3\\lib\\site-packages\\statsmodels\\tools\\_testing.py:19: FutureWarning: pandas.util.testing is deprecated. Use the functions in the public API at pandas.testing instead.\n",
      "  import pandas.util.testing as tm\n",
      "C:\\Users\\Emiel\\Anaconda3\\lib\\site-packages\\statsmodels\\tsa\\base\\tsa_model.py:165: ValueWarning: No frequency information was provided, so inferred frequency MS will be used.\n",
      "  % freq, ValueWarning)\n"
     ]
    },
    {
     "data": {
      "image/png": "[encoded data removed]",
      "text/plain": [
       "<Figure size 432x288 with 1 Axes>"
      ]
     },
     "metadata": {
      "needs_background": "light"
     },
     "output_type": "display_data"
    },
    {
     "name": "stdout",
     "output_type": "stream",
     "text": [
      "                0\n",
      "count  132.000000\n",
      "mean     0.232251\n",
      "std      1.749970\n",
      "min     -6.614967\n",
      "25%     -0.832862\n",
      "50%      0.224672\n",
      "75%      1.385530\n",
      "max      4.799466\n"
     ]
    }
   ],
   "source": [
    "# from statsmodels.tsa.arima_model import ARIMA\n",
    "# from statsmodels.tsa.statespace.sarimax import SARIMAX\n",
    "# # fit model\n",
    "# model = SARIMAX(tsuv, order=(6,1,1))  # MS = month start\n",
    "# model_fit = model.fit(disp=0)\n",
    "# # plot residual errors\n",
    "# residuals = pd.DataFrame(model_fit.resid)\n",
    "# plt.plot(residuals)\n",
    "# plt.show()\n",
    "# print(residuals.describe())"
   ]
  },
  {
   "cell_type": "code",
   "execution_count": 17,
   "metadata": {},
   "outputs": [
    {
     "name": "stdout",
     "output_type": "stream",
     "text": [
      "predicted=7.789426, expected=9.654630\n",
      "predicted=13.848624, expected=14.946774\n",
      "predicted=17.624575, expected=16.699074\n",
      "predicted=18.223736, expected=17.908781\n",
      "predicted=17.369609, expected=19.185484\n",
      "predicted=14.572527, expected=12.571667\n",
      "predicted=8.667552, expected=10.231541\n",
      "predicted=5.100899, expected=6.535370\n",
      "predicted=1.820435, expected=0.272222\n",
      "predicted=-0.197526, expected=1.684588\n",
      "predicted=1.734741, expected=3.153175\n",
      "predicted=4.709919, expected=6.491935\n",
      "predicted=9.273721, expected=10.749630\n",
      "predicted=13.930875, expected=13.037097\n",
      "predicted=16.530495, expected=16.138889\n",
      "predicted=16.990500, expected=18.444265\n",
      "predicted=15.617895, expected=17.463082\n",
      "predicted=12.766348, expected=14.917963\n",
      "predicted=9.477940, expected=10.954659\n",
      "predicted=5.818796, expected=6.095370\n",
      "predicted=2.411082, expected=2.595161\n",
      "predicted=0.746894, expected=1.268996\n",
      "predicted=1.375274, expected=0.704365\n",
      "predicted=3.717889, expected=4.846416\n",
      "predicted=8.309645, expected=8.304074\n",
      "predicted=12.425026, expected=14.408602\n",
      "predicted=16.658973, expected=16.794444\n",
      "predicted=18.009876, expected=19.377957\n",
      "predicted=17.804778, expected=19.510036\n",
      "predicted=14.862760, expected=16.015370\n",
      "predicted=10.462012, expected=8.449821\n",
      "predicted=4.884925, expected=4.429259\n",
      "predicted=1.189982, expected=2.163082\n",
      "predicted=-0.750058, expected=-1.241577\n",
      "predicted=-0.086869, expected=4.423372\n",
      "predicted=5.389890, expected=5.109857\n",
      "predicted=9.509433, expected=10.662037\n",
      "predicted=14.792149, expected=13.157348\n",
      "predicted=16.988482, expected=17.972037\n",
      "predicted=18.075702, expected=19.100179\n",
      "predicted=16.379333, expected=18.363978\n",
      "predicted=13.759370, expected=15.087778\n",
      "predicted=9.619402, expected=8.487993\n",
      "predicted=4.623283, expected=3.759815\n",
      "predicted=0.894937, expected=0.176703\n",
      "Test RMSE: 1.463\n",
      "R square: 0.9483160200514136\n"
     ]
    },
    {
     "data": {
      "image/png": "[encoded data removed]",
      "text/plain": [
       "<Figure size 432x288 with 1 Axes>"
      ]
     },
     "metadata": {
      "needs_background": "light"
     },
     "output_type": "display_data"
    }
   ],
   "source": [
    "# import math\n",
    "# from sklearn.metrics import mean_squared_error,r2_score\n",
    "# X = tsuv.values\n",
    "# size = int(len(X) * 0.66)\n",
    "# train, test = X[0:size], X[size:len(X)]  # first 2/3 = training set, remaining 1/3 = test set\n",
    "# history = [x for x in train]\n",
    "# predictions = list()\n",
    "# for t in range(len(test)):\n",
    "#     model = ARIMA(history, order=(6,0,1))\n",
    "#     model_fit = model.fit(disp=0)\n",
    "#     output = model_fit.forecast()\n",
    "#     yt = output[0]\n",
    "#     predictions.append(yt)\n",
    "#     obs = test[t]\n",
    "#     history.append(obs)\n",
    "#     print('predicted=%f, expected=%f' % (yt, obs))\n",
    "# error = mean_squared_error(test, predictions)\n",
    "# print('Test RMSE: %.3f' % math.sqrt(error))\n",
    "\n",
    "# rsmeARIMA = math.sqrt(error)\n",
    "# rsqARIMA =  r2_score(test,predictions)\n",
    "\n",
    "# r2 = r2_score(test,predictions)\n",
    "# print('R square: ' + str(r2))       \n",
    "# # plot\n",
    "# plt.plot(test,color='blue',label='true')\n",
    "# plt.plot(predictions, color='red',label='predicted')\n",
    "\n",
    "# plt.show()"
   ]
  },
  {
   "cell_type": "markdown",
   "metadata": {},
   "source": [
    "## LSTM"
   ]
  },
  {
   "cell_type": "code",
   "execution_count": 22,
   "metadata": {},
   "outputs": [],
   "source": [
    "from math import sqrt\n",
    "from numpy import concatenate\n",
    "from matplotlib import pyplot\n",
    "from pandas import read_csv\n",
    "from pandas import DataFrame\n",
    "from pandas import concat\n",
    "from sklearn.preprocessing import MinMaxScaler\n",
    "from sklearn.preprocessing import LabelEncoder\n",
    "from sklearn.metrics import mean_squared_error,r2_score\n",
    "from keras.models import Sequential\n",
    "from keras.layers import Dense\n",
    "from keras.layers import LSTM\n",
    "import numpy as np\n",
    " \n",
    "# convert series to supervised learning\n",
    "def series_to_supervised(data, n_in=1, n_out=1, dropnan=True):\n",
    "    n_vars = 1 if type(data) is list else data.shape[1]\n",
    "    df = DataFrame(data)\n",
    "    cols, names = list(), list()\n",
    "    # input sequence (t-n, ... t-1)\n",
    "    for i in range(n_in, 0, -1):\n",
    "        cols.append(df.shift(i))\n",
    "        names += [('var%d(t-%d)' % (j+1, i)) for j in range(n_vars)]\n",
    "    # forecast sequence (t, t+1, ... t+n)\n",
    "    for i in range(0, n_out):\n",
    "        cols.append(df.shift(-i))\n",
    "        if i == 0:\n",
    "            names += [('var%d(t)' % (j+1)) for j in range(n_vars)]\n",
    "        else:\n",
    "            names += [('var%d(t+%d)' % (j+1, i)) for j in range(n_vars)]\n",
    "    # put it all together\n",
    "    agg = concat(cols, axis=1)\n",
    "    agg.columns = names\n",
    "    # drop rows with NaN values\n",
    "    if dropnan:\n",
    "        agg.dropna(inplace=True)\n",
    "    return agg"
   ]
  },
  {
   "cell_type": "code",
   "execution_count": 23,
   "metadata": {},
   "outputs": [],
   "source": [
    "# load dataset\n",
    "values = dataset.values\n",
    "# ensure all data is float\n",
    "values = values.astype('float32')\n",
    "# normalize features\n",
    "scaler = MinMaxScaler(feature_range=(0, 1))\n",
    "scaled = scaler.fit_transform(values)\n",
    "# frame as supervised learning\n",
    "reframed = series_to_supervised(scaled, 1, 1)"
   ]
  },
  {
   "cell_type": "code",
   "execution_count": 24,
   "metadata": {},
   "outputs": [
    {
     "data": {
      "text/html": [
       "<div>\n",
       "<style scoped>\n",
       "    .dataframe tbody tr th:only-of-type {\n",
       "        vertical-align: middle;\n",
       "    }\n",
       "\n",
       "    .dataframe tbody tr th {\n",
       "        vertical-align: top;\n",
       "    }\n",
       "\n",
       "    .dataframe thead th {\n",
       "        text-align: right;\n",
       "    }\n",
       "</style>\n",
       "<table border=\"1\" class=\"dataframe\">\n",
       "  <thead>\n",
       "    <tr style=\"text-align: right;\">\n",
       "      <th></th>\n",
       "      <th>var1(t-1)</th>\n",
       "      <th>var2(t-1)</th>\n",
       "      <th>var3(t-1)</th>\n",
       "      <th>var4(t-1)</th>\n",
       "      <th>var1(t)</th>\n",
       "      <th>var2(t)</th>\n",
       "      <th>var3(t)</th>\n",
       "      <th>var4(t)</th>\n",
       "    </tr>\n",
       "  </thead>\n",
       "  <tbody>\n",
       "    <tr>\n",
       "      <th>1</th>\n",
       "      <td>0.142027</td>\n",
       "      <td>0.793825</td>\n",
       "      <td>0.358361</td>\n",
       "      <td>0.990989</td>\n",
       "      <td>0.186121</td>\n",
       "      <td>0.809512</td>\n",
       "      <td>0.449184</td>\n",
       "      <td>0.890624</td>\n",
       "    </tr>\n",
       "    <tr>\n",
       "      <th>2</th>\n",
       "      <td>0.186121</td>\n",
       "      <td>0.809512</td>\n",
       "      <td>0.449184</td>\n",
       "      <td>0.890624</td>\n",
       "      <td>0.341349</td>\n",
       "      <td>0.646414</td>\n",
       "      <td>0.791294</td>\n",
       "      <td>0.956703</td>\n",
       "    </tr>\n",
       "    <tr>\n",
       "      <th>3</th>\n",
       "      <td>0.341349</td>\n",
       "      <td>0.646414</td>\n",
       "      <td>0.791294</td>\n",
       "      <td>0.956703</td>\n",
       "      <td>0.606695</td>\n",
       "      <td>0.629914</td>\n",
       "      <td>0.386484</td>\n",
       "      <td>0.960365</td>\n",
       "    </tr>\n",
       "    <tr>\n",
       "      <th>4</th>\n",
       "      <td>0.606695</td>\n",
       "      <td>0.629914</td>\n",
       "      <td>0.386484</td>\n",
       "      <td>0.960365</td>\n",
       "      <td>0.700030</td>\n",
       "      <td>0.644422</td>\n",
       "      <td>0.276378</td>\n",
       "      <td>0.967109</td>\n",
       "    </tr>\n",
       "    <tr>\n",
       "      <th>5</th>\n",
       "      <td>0.700030</td>\n",
       "      <td>0.644422</td>\n",
       "      <td>0.276378</td>\n",
       "      <td>0.967109</td>\n",
       "      <td>0.817765</td>\n",
       "      <td>0.795618</td>\n",
       "      <td>0.202454</td>\n",
       "      <td>0.969972</td>\n",
       "    </tr>\n",
       "    <tr>\n",
       "      <th>...</th>\n",
       "      <td>...</td>\n",
       "      <td>...</td>\n",
       "      <td>...</td>\n",
       "      <td>...</td>\n",
       "      <td>...</td>\n",
       "      <td>...</td>\n",
       "      <td>...</td>\n",
       "      <td>...</td>\n",
       "    </tr>\n",
       "    <tr>\n",
       "      <th>127</th>\n",
       "      <td>0.929222</td>\n",
       "      <td>0.606574</td>\n",
       "      <td>0.187907</td>\n",
       "      <td>0.964551</td>\n",
       "      <td>0.902454</td>\n",
       "      <td>0.552789</td>\n",
       "      <td>0.229572</td>\n",
       "      <td>0.969770</td>\n",
       "    </tr>\n",
       "    <tr>\n",
       "      <th>128</th>\n",
       "      <td>0.902454</td>\n",
       "      <td>0.552789</td>\n",
       "      <td>0.229572</td>\n",
       "      <td>0.969770</td>\n",
       "      <td>0.783331</td>\n",
       "      <td>0.604183</td>\n",
       "      <td>0.000000</td>\n",
       "      <td>0.970348</td>\n",
       "    </tr>\n",
       "    <tr>\n",
       "      <th>129</th>\n",
       "      <td>0.783331</td>\n",
       "      <td>0.604183</td>\n",
       "      <td>0.000000</td>\n",
       "      <td>0.970348</td>\n",
       "      <td>0.543362</td>\n",
       "      <td>0.714144</td>\n",
       "      <td>0.581003</td>\n",
       "      <td>0.975306</td>\n",
       "    </tr>\n",
       "    <tr>\n",
       "      <th>130</th>\n",
       "      <td>0.543362</td>\n",
       "      <td>0.714144</td>\n",
       "      <td>0.581003</td>\n",
       "      <td>0.975306</td>\n",
       "      <td>0.371445</td>\n",
       "      <td>0.928386</td>\n",
       "      <td>0.411313</td>\n",
       "      <td>0.972924</td>\n",
       "    </tr>\n",
       "    <tr>\n",
       "      <th>131</th>\n",
       "      <td>0.371445</td>\n",
       "      <td>0.928386</td>\n",
       "      <td>0.411313</td>\n",
       "      <td>0.972924</td>\n",
       "      <td>0.241163</td>\n",
       "      <td>0.987052</td>\n",
       "      <td>0.453799</td>\n",
       "      <td>0.974234</td>\n",
       "    </tr>\n",
       "  </tbody>\n",
       "</table>\n",
       "<p>131 rows × 8 columns</p>\n",
       "</div>"
      ],
      "text/plain": [
       "     var1(t-1)  var2(t-1)  var3(t-1)  var4(t-1)   var1(t)   var2(t)   var3(t)  \\\n",
       "1     0.142027   0.793825   0.358361   0.990989  0.186121  0.809512  0.449184   \n",
       "2     0.186121   0.809512   0.449184   0.890624  0.341349  0.646414  0.791294   \n",
       "3     0.341349   0.646414   0.791294   0.956703  0.606695  0.629914  0.386484   \n",
       "4     0.606695   0.629914   0.386484   0.960365  0.700030  0.644422  0.276378   \n",
       "5     0.700030   0.644422   0.276378   0.967109  0.817765  0.795618  0.202454   \n",
       "..         ...        ...        ...        ...       ...       ...       ...   \n",
       "127   0.929222   0.606574   0.187907   0.964551  0.902454  0.552789  0.229572   \n",
       "128   0.902454   0.552789   0.229572   0.969770  0.783331  0.604183  0.000000   \n",
       "129   0.783331   0.604183   0.000000   0.970348  0.543362  0.714144  0.581003   \n",
       "130   0.543362   0.714144   0.581003   0.975306  0.371445  0.928386  0.411313   \n",
       "131   0.371445   0.928386   0.411313   0.972924  0.241163  0.987052  0.453799   \n",
       "\n",
       "      var4(t)  \n",
       "1    0.890624  \n",
       "2    0.956703  \n",
       "3    0.960365  \n",
       "4    0.967109  \n",
       "5    0.969972  \n",
       "..        ...  \n",
       "127  0.969770  \n",
       "128  0.970348  \n",
       "129  0.975306  \n",
       "130  0.972924  \n",
       "131  0.974234  \n",
       "\n",
       "[131 rows x 8 columns]"
      ]
     },
     "execution_count": 24,
     "metadata": {},
     "output_type": "execute_result"
    }
   ],
   "source": [
    "reframed"
   ]
  },
  {
   "cell_type": "code",
   "execution_count": 25,
   "metadata": {},
   "outputs": [
    {
     "data": {
      "text/plain": [
       "array([-2.5498209e+00,  8.7741935e-01,  8.4904127e+00,  1.0281178e+03],\n",
       "      dtype=float32)"
      ]
     },
     "execution_count": 25,
     "metadata": {},
     "output_type": "execute_result"
    }
   ],
   "source": [
    "values[0]"
   ]
  },
  {
   "cell_type": "code",
   "execution_count": 26,
   "metadata": {},
   "outputs": [],
   "source": [
    "# drop columns we don't want to predict\n",
    "reframed.drop(reframed.columns[[5,6,7]], axis=1, inplace=True)\n",
    "# print(reframed.head())"
   ]
  },
  {
   "cell_type": "code",
   "execution_count": 27,
   "metadata": {},
   "outputs": [],
   "source": [
    "# split into train and test sets\n",
    "values = reframed.values\n",
    "n_train_days = 100\n",
    "# n_test_days = values.shape[0] - 3000\n",
    "\n",
    "train = values[:n_train_days, :]\n",
    "test = values[n_train_days:]"
   ]
  },
  {
   "cell_type": "code",
   "execution_count": 28,
   "metadata": {},
   "outputs": [],
   "source": [
    "# split into input and outputs\n",
    "train_X, train_y = train[:, :-1], train[:, -1]\n",
    "test_X, test_y = test[:, :-1], test[:, -1]"
   ]
  },
  {
   "cell_type": "code",
   "execution_count": 29,
   "metadata": {},
   "outputs": [
    {
     "data": {
      "text/plain": [
       "array([[0.7087678 , 0.6444223 , 0.37037462, 0.9592583 ],\n",
       "       [0.82154906, 0.39628148, 0.27917463, 0.9637883 ],\n",
       "       [0.90537274, 0.69721127, 0.29271668, 0.95827603],\n",
       "       [0.86969686, 0.69920325, 0.2274571 , 0.9612262 ],\n",
       "       [0.7771561 , 0.8378155 , 0.2748047 , 0.9665215 ],\n",
       "       [0.6330502 , 0.85159373, 0.3182823 , 0.9734566 ],\n",
       "       [0.45636624, 0.8398738 , 0.37133896, 0.9730356 ],\n",
       "       [0.32909846, 0.7599602 , 0.60046506, 0.        ],\n",
       "       [0.28087902, 0.7141435 , 0.75135994, 0.6198057 ],\n",
       "       [0.260349  , 0.7499645 , 0.46924233, 0.9678147 ],\n",
       "       [0.41095418, 0.44023895, 0.82084835, 0.97568774],\n",
       "       [0.53667486, 0.19249678, 0.6411779 , 0.96925235],\n",
       "       [0.75863576, 0.5418327 , 0.47340596, 0.96276283],\n",
       "       [0.8453852 , 0.5136123 , 0.37287837, 0.9675541 ],\n",
       "       [0.93932176, 0.5129483 , 0.22346848, 0.9641166 ],\n",
       "       [0.9441242 , 0.618526  , 0.08492404, 0.9652617 ],\n",
       "       [0.81705797, 0.5866866 , 0.45943135, 0.7509252 ],\n",
       "       [0.5419742 , 0.89143443, 0.39257634, 0.97406006],\n",
       "       [0.39578635, 0.8028221 , 0.32267457, 0.9758489 ],\n",
       "       [0.31338805, 1.        , 0.3095842 , 1.        ],\n",
       "       [0.18959445, 0.868526  , 0.5705745 , 0.9702823 ],\n",
       "       [0.3955723 , 0.84863997, 0.6882943 , 0.9635527 ],\n",
       "       [0.4205329 , 0.7490041 , 0.46307403, 0.96054196],\n",
       "       [0.6224105 , 0.3921647 , 0.7026042 , 0.9582217 ],\n",
       "       [0.71314013, 0.63346624, 0.26743937, 0.9591007 ],\n",
       "       [0.8882024 , 0.74209833, 0.32515746, 0.95987415],\n",
       "       [0.92922175, 0.6065738 , 0.18790728, 0.96455145],\n",
       "       [0.90245354, 0.552789  , 0.22957152, 0.96977043],\n",
       "       [0.7833307 , 0.6041832 , 0.        , 0.97034764],\n",
       "       [0.54336214, 0.7141435 , 0.5810026 , 0.97530603],\n",
       "       [0.3714453 , 0.92838645, 0.41131324, 0.97292423]], dtype=float32)"
      ]
     },
     "execution_count": 29,
     "metadata": {},
     "output_type": "execute_result"
    }
   ],
   "source": [
    "test_X"
   ]
  },
  {
   "cell_type": "code",
   "execution_count": 30,
   "metadata": {},
   "outputs": [
    {
     "name": "stdout",
     "output_type": "stream",
     "text": [
      "(100, 1, 4) (100,) (31, 1, 4) (31,)\n"
     ]
    }
   ],
   "source": [
    "# reshape input to be 3D [samples, timesteps, features]\n",
    "train_X = train_X.reshape((train_X.shape[0], 1, train_X.shape[1]))\n",
    "test_X = test_X.reshape((test_X.shape[0], 1, test_X.shape[1]))\n",
    "print(train_X.shape, train_y.shape, test_X.shape, test_y.shape)"
   ]
  },
  {
   "cell_type": "code",
   "execution_count": 31,
   "metadata": {},
   "outputs": [
    {
     "name": "stdout",
     "output_type": "stream",
     "text": [
      "Epoch 1/150\n",
      "2/2 - 0s - loss: 0.6336 - val_loss: 0.6489\n",
      "Epoch 2/150\n",
      "2/2 - 0s - loss: 0.6123 - val_loss: 0.6272\n",
      "Epoch 3/150\n",
      "2/2 - 0s - loss: 0.5911 - val_loss: 0.6056\n",
      "Epoch 4/150\n",
      "2/2 - 0s - loss: 0.5699 - val_loss: 0.5840\n",
      "Epoch 5/150\n",
      "2/2 - 0s - loss: 0.5488 - val_loss: 0.5624\n",
      "Epoch 6/150\n",
      "2/2 - 0s - loss: 0.5279 - val_loss: 0.5408\n",
      "Epoch 7/150\n",
      "2/2 - 0s - loss: 0.5071 - val_loss: 0.5191\n",
      "Epoch 8/150\n",
      "2/2 - 0s - loss: 0.4862 - val_loss: 0.4974\n",
      "Epoch 9/150\n",
      "2/2 - 0s - loss: 0.4653 - val_loss: 0.4755\n",
      "Epoch 10/150\n",
      "2/2 - 0s - loss: 0.4443 - val_loss: 0.4534\n",
      "Epoch 11/150\n",
      "2/2 - 0s - loss: 0.4231 - val_loss: 0.4311\n",
      "Epoch 12/150\n",
      "2/2 - 0s - loss: 0.4016 - val_loss: 0.4086\n",
      "Epoch 13/150\n",
      "2/2 - 0s - loss: 0.3801 - val_loss: 0.3864\n",
      "Epoch 14/150\n",
      "2/2 - 0s - loss: 0.3591 - val_loss: 0.3648\n",
      "Epoch 15/150\n",
      "2/2 - 0s - loss: 0.3398 - val_loss: 0.3437\n",
      "Epoch 16/150\n",
      "2/2 - 0s - loss: 0.3216 - val_loss: 0.3236\n",
      "Epoch 17/150\n",
      "2/2 - 0s - loss: 0.3049 - val_loss: 0.3036\n",
      "Epoch 18/150\n",
      "2/2 - 0s - loss: 0.2896 - val_loss: 0.2838\n",
      "Epoch 19/150\n",
      "2/2 - 0s - loss: 0.2754 - val_loss: 0.2674\n",
      "Epoch 20/150\n",
      "2/2 - 0s - loss: 0.2624 - val_loss: 0.2525\n",
      "Epoch 21/150\n",
      "2/2 - 0s - loss: 0.2506 - val_loss: 0.2397\n",
      "Epoch 22/150\n",
      "2/2 - 0s - loss: 0.2406 - val_loss: 0.2276\n",
      "Epoch 23/150\n",
      "2/2 - 0s - loss: 0.2313 - val_loss: 0.2172\n",
      "Epoch 24/150\n",
      "2/2 - 0s - loss: 0.2234 - val_loss: 0.2093\n",
      "Epoch 25/150\n",
      "2/2 - 0s - loss: 0.2177 - val_loss: 0.2031\n",
      "Epoch 26/150\n",
      "2/2 - 0s - loss: 0.2127 - val_loss: 0.1979\n",
      "Epoch 27/150\n",
      "2/2 - 0s - loss: 0.2081 - val_loss: 0.1929\n",
      "Epoch 28/150\n",
      "2/2 - 0s - loss: 0.2048 - val_loss: 0.1892\n",
      "Epoch 29/150\n",
      "2/2 - 0s - loss: 0.2021 - val_loss: 0.1867\n",
      "Epoch 30/150\n",
      "2/2 - 0s - loss: 0.1996 - val_loss: 0.1842\n",
      "Epoch 31/150\n",
      "2/2 - 0s - loss: 0.1972 - val_loss: 0.1818\n",
      "Epoch 32/150\n",
      "2/2 - 0s - loss: 0.1952 - val_loss: 0.1804\n",
      "Epoch 33/150\n",
      "2/2 - 0s - loss: 0.1936 - val_loss: 0.1795\n",
      "Epoch 34/150\n",
      "2/2 - 0s - loss: 0.1924 - val_loss: 0.1785\n",
      "Epoch 35/150\n",
      "2/2 - 0s - loss: 0.1912 - val_loss: 0.1774\n",
      "Epoch 36/150\n",
      "2/2 - 0s - loss: 0.1900 - val_loss: 0.1764\n",
      "Epoch 37/150\n",
      "2/2 - 0s - loss: 0.1889 - val_loss: 0.1753\n",
      "Epoch 38/150\n",
      "2/2 - 0s - loss: 0.1878 - val_loss: 0.1742\n",
      "Epoch 39/150\n",
      "2/2 - 0s - loss: 0.1868 - val_loss: 0.1730\n",
      "Epoch 40/150\n",
      "2/2 - 0s - loss: 0.1858 - val_loss: 0.1719\n",
      "Epoch 41/150\n",
      "2/2 - 0s - loss: 0.1848 - val_loss: 0.1707\n",
      "Epoch 42/150\n",
      "2/2 - 0s - loss: 0.1838 - val_loss: 0.1696\n",
      "Epoch 43/150\n",
      "2/2 - 0s - loss: 0.1828 - val_loss: 0.1684\n",
      "Epoch 44/150\n",
      "2/2 - 0s - loss: 0.1817 - val_loss: 0.1672\n",
      "Epoch 45/150\n",
      "2/2 - 0s - loss: 0.1805 - val_loss: 0.1661\n",
      "Epoch 46/150\n",
      "2/2 - 0s - loss: 0.1794 - val_loss: 0.1649\n",
      "Epoch 47/150\n",
      "2/2 - 0s - loss: 0.1782 - val_loss: 0.1637\n",
      "Epoch 48/150\n",
      "2/2 - 0s - loss: 0.1770 - val_loss: 0.1625\n",
      "Epoch 49/150\n",
      "2/2 - 0s - loss: 0.1758 - val_loss: 0.1613\n",
      "Epoch 50/150\n",
      "2/2 - 0s - loss: 0.1745 - val_loss: 0.1601\n",
      "Epoch 51/150\n",
      "2/2 - 0s - loss: 0.1733 - val_loss: 0.1589\n",
      "Epoch 52/150\n",
      "2/2 - 0s - loss: 0.1720 - val_loss: 0.1576\n",
      "Epoch 53/150\n",
      "2/2 - 0s - loss: 0.1708 - val_loss: 0.1563\n",
      "Epoch 54/150\n",
      "2/2 - 0s - loss: 0.1696 - val_loss: 0.1551\n",
      "Epoch 55/150\n",
      "2/2 - 0s - loss: 0.1684 - val_loss: 0.1539\n",
      "Epoch 56/150\n",
      "2/2 - 0s - loss: 0.1673 - val_loss: 0.1528\n",
      "Epoch 57/150\n",
      "2/2 - 0s - loss: 0.1661 - val_loss: 0.1516\n",
      "Epoch 58/150\n",
      "2/2 - 0s - loss: 0.1650 - val_loss: 0.1505\n",
      "Epoch 59/150\n",
      "2/2 - 0s - loss: 0.1638 - val_loss: 0.1493\n",
      "Epoch 60/150\n",
      "2/2 - 0s - loss: 0.1626 - val_loss: 0.1480\n",
      "Epoch 61/150\n",
      "2/2 - 0s - loss: 0.1614 - val_loss: 0.1468\n",
      "Epoch 62/150\n",
      "2/2 - 0s - loss: 0.1602 - val_loss: 0.1455\n",
      "Epoch 63/150\n",
      "2/2 - 0s - loss: 0.1590 - val_loss: 0.1442\n",
      "Epoch 64/150\n",
      "2/2 - 0s - loss: 0.1577 - val_loss: 0.1428\n",
      "Epoch 65/150\n",
      "2/2 - 0s - loss: 0.1565 - val_loss: 0.1415\n",
      "Epoch 66/150\n",
      "2/2 - 0s - loss: 0.1553 - val_loss: 0.1401\n",
      "Epoch 67/150\n",
      "2/2 - 0s - loss: 0.1540 - val_loss: 0.1389\n",
      "Epoch 68/150\n",
      "2/2 - 0s - loss: 0.1528 - val_loss: 0.1378\n",
      "Epoch 69/150\n",
      "2/2 - 0s - loss: 0.1517 - val_loss: 0.1367\n",
      "Epoch 70/150\n",
      "2/2 - 0s - loss: 0.1505 - val_loss: 0.1355\n",
      "Epoch 71/150\n",
      "2/2 - 0s - loss: 0.1493 - val_loss: 0.1342\n",
      "Epoch 72/150\n",
      "2/2 - 0s - loss: 0.1481 - val_loss: 0.1328\n",
      "Epoch 73/150\n",
      "2/2 - 0s - loss: 0.1469 - val_loss: 0.1313\n",
      "Epoch 74/150\n",
      "2/2 - 0s - loss: 0.1457 - val_loss: 0.1299\n",
      "Epoch 75/150\n",
      "2/2 - 0s - loss: 0.1446 - val_loss: 0.1284\n",
      "Epoch 76/150\n",
      "2/2 - 0s - loss: 0.1434 - val_loss: 0.1269\n",
      "Epoch 77/150\n",
      "2/2 - 0s - loss: 0.1423 - val_loss: 0.1254\n",
      "Epoch 78/150\n",
      "2/2 - 0s - loss: 0.1411 - val_loss: 0.1239\n",
      "Epoch 79/150\n",
      "2/2 - 0s - loss: 0.1400 - val_loss: 0.1224\n",
      "Epoch 80/150\n",
      "2/2 - 0s - loss: 0.1389 - val_loss: 0.1208\n",
      "Epoch 81/150\n",
      "2/2 - 0s - loss: 0.1377 - val_loss: 0.1192\n",
      "Epoch 82/150\n",
      "2/2 - 0s - loss: 0.1365 - val_loss: 0.1176\n",
      "Epoch 83/150\n",
      "2/2 - 0s - loss: 0.1353 - val_loss: 0.1163\n",
      "Epoch 84/150\n",
      "2/2 - 0s - loss: 0.1341 - val_loss: 0.1150\n",
      "Epoch 85/150\n",
      "2/2 - 0s - loss: 0.1329 - val_loss: 0.1136\n",
      "Epoch 86/150\n",
      "2/2 - 0s - loss: 0.1317 - val_loss: 0.1126\n",
      "Epoch 87/150\n",
      "2/2 - 0s - loss: 0.1306 - val_loss: 0.1115\n",
      "Epoch 88/150\n",
      "2/2 - 0s - loss: 0.1296 - val_loss: 0.1108\n",
      "Epoch 89/150\n",
      "2/2 - 0s - loss: 0.1289 - val_loss: 0.1102\n",
      "Epoch 90/150\n",
      "2/2 - 0s - loss: 0.1282 - val_loss: 0.1096\n",
      "Epoch 91/150\n",
      "2/2 - 0s - loss: 0.1276 - val_loss: 0.1091\n",
      "Epoch 92/150\n",
      "2/2 - 0s - loss: 0.1270 - val_loss: 0.1087\n",
      "Epoch 93/150\n",
      "2/2 - 0s - loss: 0.1264 - val_loss: 0.1083\n",
      "Epoch 94/150\n",
      "2/2 - 0s - loss: 0.1259 - val_loss: 0.1079\n",
      "Epoch 95/150\n",
      "2/2 - 0s - loss: 0.1253 - val_loss: 0.1076\n",
      "Epoch 96/150\n",
      "2/2 - 0s - loss: 0.1248 - val_loss: 0.1073\n",
      "Epoch 97/150\n",
      "2/2 - 0s - loss: 0.1242 - val_loss: 0.1070\n",
      "Epoch 98/150\n",
      "2/2 - 0s - loss: 0.1237 - val_loss: 0.1069\n",
      "Epoch 99/150\n",
      "2/2 - 0s - loss: 0.1231 - val_loss: 0.1071\n",
      "Epoch 100/150\n",
      "2/2 - 0s - loss: 0.1229 - val_loss: 0.1074\n",
      "Epoch 101/150\n",
      "2/2 - 0s - loss: 0.1228 - val_loss: 0.1074\n",
      "Epoch 102/150\n",
      "2/2 - 0s - loss: 0.1227 - val_loss: 0.1070\n",
      "Epoch 103/150\n",
      "2/2 - 0s - loss: 0.1224 - val_loss: 0.1063\n",
      "Epoch 104/150\n",
      "2/2 - 0s - loss: 0.1220 - val_loss: 0.1056\n",
      "Epoch 105/150\n",
      "2/2 - 0s - loss: 0.1217 - val_loss: 0.1050\n",
      "Epoch 106/150\n",
      "2/2 - 0s - loss: 0.1213 - val_loss: 0.1044\n",
      "Epoch 107/150\n",
      "2/2 - 0s - loss: 0.1210 - val_loss: 0.1038\n",
      "Epoch 108/150\n",
      "2/2 - 0s - loss: 0.1207 - val_loss: 0.1033\n",
      "Epoch 109/150\n",
      "2/2 - 0s - loss: 0.1204 - val_loss: 0.1030\n",
      "Epoch 110/150\n",
      "2/2 - 0s - loss: 0.1203 - val_loss: 0.1027\n",
      "Epoch 111/150\n",
      "2/2 - 0s - loss: 0.1201 - val_loss: 0.1024\n",
      "Epoch 112/150\n",
      "2/2 - 0s - loss: 0.1200 - val_loss: 0.1021\n",
      "Epoch 113/150\n",
      "2/2 - 0s - loss: 0.1199 - val_loss: 0.1018\n",
      "Epoch 114/150\n",
      "2/2 - 0s - loss: 0.1197 - val_loss: 0.1016\n",
      "Epoch 115/150\n",
      "2/2 - 0s - loss: 0.1195 - val_loss: 0.1013\n",
      "Epoch 116/150\n",
      "2/2 - 0s - loss: 0.1194 - val_loss: 0.1012\n",
      "Epoch 117/150\n",
      "2/2 - 0s - loss: 0.1192 - val_loss: 0.1011\n",
      "Epoch 118/150\n",
      "2/2 - 0s - loss: 0.1190 - val_loss: 0.1011\n",
      "Epoch 119/150\n",
      "2/2 - 0s - loss: 0.1189 - val_loss: 0.1010\n",
      "Epoch 120/150\n",
      "2/2 - 0s - loss: 0.1188 - val_loss: 0.1007\n",
      "Epoch 121/150\n",
      "2/2 - 0s - loss: 0.1187 - val_loss: 0.1004\n",
      "Epoch 122/150\n",
      "2/2 - 0s - loss: 0.1186 - val_loss: 0.1001\n",
      "Epoch 123/150\n",
      "2/2 - 0s - loss: 0.1185 - val_loss: 0.0996\n",
      "Epoch 124/150\n",
      "2/2 - 0s - loss: 0.1184 - val_loss: 0.0992\n",
      "Epoch 125/150\n",
      "2/2 - 0s - loss: 0.1183 - val_loss: 0.0989\n",
      "Epoch 126/150\n",
      "2/2 - 0s - loss: 0.1182 - val_loss: 0.0986\n",
      "Epoch 127/150\n",
      "2/2 - 0s - loss: 0.1181 - val_loss: 0.0985\n",
      "Epoch 128/150\n",
      "2/2 - 0s - loss: 0.1180 - val_loss: 0.0984\n",
      "Epoch 129/150\n",
      "2/2 - 0s - loss: 0.1179 - val_loss: 0.0983\n",
      "Epoch 130/150\n",
      "2/2 - 0s - loss: 0.1178 - val_loss: 0.0981\n",
      "Epoch 131/150\n",
      "2/2 - 0s - loss: 0.1177 - val_loss: 0.0979\n",
      "Epoch 132/150\n",
      "2/2 - 0s - loss: 0.1176 - val_loss: 0.0977\n",
      "Epoch 133/150\n",
      "2/2 - 0s - loss: 0.1175 - val_loss: 0.0974\n",
      "Epoch 134/150\n",
      "2/2 - 0s - loss: 0.1175 - val_loss: 0.0971\n",
      "Epoch 135/150\n",
      "2/2 - 0s - loss: 0.1174 - val_loss: 0.0968\n",
      "Epoch 136/150\n",
      "2/2 - 0s - loss: 0.1173 - val_loss: 0.0966\n",
      "Epoch 137/150\n",
      "2/2 - 0s - loss: 0.1172 - val_loss: 0.0965\n",
      "Epoch 138/150\n",
      "2/2 - 0s - loss: 0.1172 - val_loss: 0.0962\n",
      "Epoch 139/150\n",
      "2/2 - 0s - loss: 0.1171 - val_loss: 0.0961\n",
      "Epoch 140/150\n",
      "2/2 - 0s - loss: 0.1170 - val_loss: 0.0960\n",
      "Epoch 141/150\n",
      "2/2 - 0s - loss: 0.1169 - val_loss: 0.0959\n",
      "Epoch 142/150\n",
      "2/2 - 0s - loss: 0.1168 - val_loss: 0.0958\n",
      "Epoch 143/150\n",
      "2/2 - 0s - loss: 0.1168 - val_loss: 0.0956\n",
      "Epoch 144/150\n",
      "2/2 - 0s - loss: 0.1167 - val_loss: 0.0956\n",
      "Epoch 145/150\n",
      "2/2 - 0s - loss: 0.1167 - val_loss: 0.0956\n",
      "Epoch 146/150\n",
      "2/2 - 0s - loss: 0.1167 - val_loss: 0.0956\n"
     ]
    },
    {
     "name": "stdout",
     "output_type": "stream",
     "text": [
      "Epoch 147/150\n",
      "2/2 - 0s - loss: 0.1166 - val_loss: 0.0954\n",
      "Epoch 148/150\n",
      "2/2 - 0s - loss: 0.1165 - val_loss: 0.0953\n",
      "Epoch 149/150\n",
      "2/2 - 0s - loss: 0.1165 - val_loss: 0.0952\n",
      "Epoch 150/150\n",
      "2/2 - 0s - loss: 0.1164 - val_loss: 0.0952\n"
     ]
    },
    {
     "data": {
      "image/png": "[encoded data removed]",
      "text/plain": [
       "<Figure size 432x288 with 1 Axes>"
      ]
     },
     "metadata": {
      "needs_background": "light"
     },
     "output_type": "display_data"
    }
   ],
   "source": [
    "# design network\n",
    "model = Sequential()\n",
    "model.add(LSTM(50, input_shape=(train_X.shape[1], train_X.shape[2])))\n",
    "model.add(Dense(1))\n",
    "model.compile(loss='mae', optimizer='adam')\n",
    "# fit network\n",
    "history = model.fit(train_X, train_y, epochs=150, batch_size=72, validation_data=(test_X, test_y), verbose=2, shuffle=False)\n",
    "# plot history\n",
    "pyplot.plot(history.history['loss'], label='train')\n",
    "pyplot.plot(history.history['val_loss'], label='test')\n",
    "pyplot.legend()\n",
    "pyplot.show()"
   ]
  },
  {
   "cell_type": "code",
   "execution_count": 32,
   "metadata": {},
   "outputs": [],
   "source": [
    "# make a prediction\n",
    "yhat = model.predict(test_X)\n",
    "test_X = test_X.reshape((test_X.shape[0], test_X.shape[2]))\n",
    "\n",
    "# invert scaling for forecast\n",
    "inv_yhat = concatenate((yhat, test_X[:, 1:]), axis=1)\n",
    "inv_yhat = scaler.inverse_transform(inv_yhat)\n",
    "inv_yhat = inv_yhat[:,0]\n",
    "\n",
    "\n",
    "# invert scaling for actual\n",
    "test_y = test_y.reshape((len(test_y), 1))\n",
    "inv_y = concatenate((test_y, test_X[:, 1:]), axis=1)\n",
    "inv_y = scaler.inverse_transform(inv_y)\n",
    "inv_y = inv_y[:,0]\n"
   ]
  },
  {
   "cell_type": "code",
   "execution_count": 33,
   "metadata": {},
   "outputs": [],
   "source": [
    "zeros = np.zeros(dataset.shape[0]-inv_yhat.shape[0]).astype(np.float32)\n",
    "predictions = np.concatenate((zeros, inv_yhat), axis=None)\n",
    "dataset['Predictions_open'] = predictions\n",
    "dataset[['Predictions_open']] = dataset[['Predictions_open']].replace(0,np.NaN)"
   ]
  },
  {
   "cell_type": "code",
   "execution_count": 34,
   "metadata": {},
   "outputs": [],
   "source": [
    "dataset = dataset.reset_index()"
   ]
  },
  {
   "cell_type": "code",
   "execution_count": 35,
   "metadata": {},
   "outputs": [
    {
     "data": {
      "image/png": "[encoded data removed]",
      "text/plain": [
       "<Figure size 432x288 with 1 Axes>"
      ]
     },
     "metadata": {
      "needs_background": "light"
     },
     "output_type": "display_data"
    }
   ],
   "source": [
    "pyplot.plot(dataset[['Temperature']].values, label='Actual')\n",
    "pyplot.plot(dataset[['Predictions_open']], label='Predicted', color='red')\n",
    "\n",
    "pyplot.legend()\n",
    "pyplot.show()"
   ]
  },
  {
   "cell_type": "code",
   "execution_count": 36,
   "metadata": {},
   "outputs": [
    {
     "name": "stdout",
     "output_type": "stream",
     "text": [
      "Test RMSE: 405.196\n",
      "Test root square error: 0.776\n"
     ]
    }
   ],
   "source": [
    "# calculate RMSE\n",
    "rmspe_LSTM = calc_rmspe(inv_y, inv_yhat)\n",
    "rsq_LSTM = r2_score(inv_y,inv_yhat)\n",
    "print('Test RMSPE: %.3f' % rmspe_LSTM)\n",
    "print('Test root square error: %.3f' % rsq_LSTM)"
   ]
  },
  {
   "cell_type": "markdown",
   "metadata": {},
   "source": [
    "## Polynomial regression"
   ]
  },
  {
   "cell_type": "code",
   "execution_count": null,
   "metadata": {},
   "outputs": [],
   "source": []
  },
  {
   "cell_type": "markdown",
   "metadata": {},
   "source": [
    "### Evaluation"
   ]
  },
  {
   "cell_type": "code",
   "execution_count": 28,
   "metadata": {},
   "outputs": [
    {
     "ename": "NameError",
     "evalue": "name 'rsmeARIMA' is not defined",
     "output_type": "error",
     "traceback": [
      "\u001b[1;31m---------------------------------------------------------------------------\u001b[0m",
      "\u001b[1;31mNameError\u001b[0m                                 Traceback (most recent call last)",
      "\u001b[1;32m<ipython-input-28-9123e1c29b13>\u001b[0m in \u001b[0;36m<module>\u001b[1;34m\u001b[0m\n\u001b[1;32m----> 1\u001b[1;33m \u001b[0mprint\u001b[0m\u001b[1;33m(\u001b[0m\u001b[1;34m'ARIMA RMSE:\\t %.3f'\u001b[0m \u001b[1;33m%\u001b[0m \u001b[0mrsmeARIMA\u001b[0m\u001b[1;33m)\u001b[0m\u001b[1;33m\u001b[0m\u001b[1;33m\u001b[0m\u001b[0m\n\u001b[0m\u001b[0;32m      2\u001b[0m \u001b[0mprint\u001b[0m\u001b[1;33m(\u001b[0m\u001b[1;34m'ARIMA r2:\\t %.3f'\u001b[0m \u001b[1;33m%\u001b[0m \u001b[0mrsqARIMA\u001b[0m\u001b[1;33m)\u001b[0m\u001b[1;33m\u001b[0m\u001b[1;33m\u001b[0m\u001b[0m\n\u001b[0;32m      3\u001b[0m \u001b[0mprint\u001b[0m\u001b[1;33m(\u001b[0m\u001b[1;33m)\u001b[0m\u001b[1;33m\u001b[0m\u001b[1;33m\u001b[0m\u001b[0m\n\u001b[0;32m      4\u001b[0m \u001b[0mprint\u001b[0m\u001b[1;33m(\u001b[0m\u001b[1;34m'LSTM RMSE:\\t %.3f'\u001b[0m \u001b[1;33m%\u001b[0m \u001b[0mrmseLSTM\u001b[0m\u001b[1;33m)\u001b[0m\u001b[1;33m\u001b[0m\u001b[1;33m\u001b[0m\u001b[0m\n\u001b[0;32m      5\u001b[0m \u001b[0mprint\u001b[0m\u001b[1;33m(\u001b[0m\u001b[1;34m'LSTM r2:\\t %.3f'\u001b[0m \u001b[1;33m%\u001b[0m \u001b[0mrsqLSTM\u001b[0m\u001b[1;33m)\u001b[0m\u001b[1;33m\u001b[0m\u001b[1;33m\u001b[0m\u001b[0m\n",
      "\u001b[1;31mNameError\u001b[0m: name 'rsmeARIMA' is not defined"
     ]
    }
   ],
   "source": [
    "print('ARIMA RMSE:\\t %.3f' % rsmeARIMA)\n",
    "print('ARIMA r2:\\t %.3f' % rsqARIMA)\n",
    "print()\n",
    "print('LSTM RMSE:\\t %.3f' % rmspe_LSTM)\n",
    "print('LSTM r2:\\t %.3f' % rsq_LSTM)"
   ]
  },
  {
   "cell_type": "code",
   "execution_count": null,
   "metadata": {},
   "outputs": [],
   "source": []
  }
 ],
 "metadata": {
  "kernelspec": {
   "display_name": "Python 3",
   "language": "python",
   "name": "python3"
  },
  "language_info": {
   "codemirror_mode": {
    "name": "ipython",
    "version": 3
   },
   "file_extension": ".py",
   "mimetype": "text/x-python",
   "name": "python",
   "nbconvert_exporter": "python",
   "pygments_lexer": "ipython3",
   "version": "3.7.4"
  }
 },
 "nbformat": 4,
 "nbformat_minor": 2
}
